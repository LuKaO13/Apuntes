{
 "cells": [
  {
   "cell_type": "markdown",
   "id": "eb06135a",
   "metadata": {},
   "source": [
    "# FUNCIONES"
   ]
  },
  {
   "cell_type": "markdown",
   "id": "cd4475be",
   "metadata": {},
   "source": [
    "### 1 - Programación funcional\n",
    "\n",
    "Según Wikipedia:\n",
    "\n",
    "*“Python es un lenguaje de programación interpretado cuya filosofía hace hincapié en la legibilidad de su código. Se trata de un lenguaje de programación multiparadigma, ya que soporta orientación a objetos, programación imperativa y programación funcional.”*\n",
    "\n",
    "Quiere decir que acepta diversas formar de trabajar con el lenguaje. Básicamente existen 3 paradigmas predominantes, o dicho de otra manera, 3 formas de organizar y escribir tu código.\n",
    "\n",
    "- **Programación imperativa (estructurada)**: el código será ejecutado desde el principio del fichero al final sin seguir ningún tipo de desviación. Su mayor ventaja radica en su simplicidad y poco peso. Su peligrosidad es el código espagueti, archivos con centenares o miles de líneas donde solo unos pocos seres humanos son capaces de modificar y salir victoriosos.\n",
    "\n",
    "- **Programación orientada a objetos (OOP o Object Oriented Programming)**: donde se encapsulan las variables y funciones en pequeños módulos capaces de clonarse y modificarse. Su punto fuerte es la capacidad de re-utilización y aislamiento para evitar problemas con otras funcionalidades. La parte negativa recae en la complejidad de crear buenos objetos y la depuración.\n",
    "\n",
    "- **Programación funcional (FP o Functional programming)**: donde el código se reparte en sencillas funciones capaces de ser invocadas con variables u otras funciones. Su facilidad de uso por atomicidad logra un mantenimiento sólido y compatible con casi cualquier lenguaje. Además su inmutabilidad de variables evita gran parte de los problemas que si sufre la programación orientada a objetos."
   ]
  },
  {
   "cell_type": "markdown",
   "id": "d5b40bf7",
   "metadata": {},
   "source": [
    "## Funciones creadas"
   ]
  },
  {
   "cell_type": "code",
   "execution_count": 34,
   "id": "20a95de8",
   "metadata": {},
   "outputs": [],
   "source": [
    "def primerfuncion(): #Esto es una función def nombre_funcion ():\n",
    "\n",
    "    pass #Esto es lo que hace la función. En este caso nada"
   ]
  },
  {
   "cell_type": "markdown",
   "id": "4b08b26e",
   "metadata": {},
   "source": [
    "## Funciones Built-in "
   ]
  },
  {
   "cell_type": "markdown",
   "id": "7c3d0272",
   "metadata": {},
   "source": [
    "El intérprete de Python tiene una serie de funciones y tipos incluidos en él que están siempre disponibles. Están listados [aquí](https://docs.python.org/es/3/library/functions.html?highlight=built) en orden alfabético."
   ]
  },
  {
   "cell_type": "code",
   "execution_count": 35,
   "id": "8c86feb5",
   "metadata": {},
   "outputs": [
    {
     "name": "stdout",
     "output_type": "stream",
     "text": [
      "['BaseException', 'Ellipsis', 'Exception', 'False', 'GeneratorExit', 'KeyboardInterrupt', 'None', 'NotImplemented', 'StopAsyncIteration', 'StopIteration', 'SystemExit', 'True', 'abs', 'all', 'any', 'ascii', 'bin', 'bool', 'breakpoint', 'bytearray', 'bytes', 'callable', 'chr', 'classmethod', 'compile', 'complex', 'copyright', 'credits', 'delattr', 'dict', 'dir', 'display', 'divmod', 'enumerate', 'eval', 'exec', 'execfile', 'filter', 'float', 'format', 'frozenset', 'get_ipython', 'getattr', 'globals', 'hasattr', 'hash', 'help', 'hex', 'id', 'input', 'int', 'isinstance', 'issubclass', 'iter', 'len', 'license', 'list', 'locals', 'map', 'max', 'memoryview', 'min', 'next', 'object', 'oct', 'open', 'ord', 'pow', 'print', 'property', 'range', 'repr', 'reversed', 'round', 'runfile', 'set', 'setattr', 'slice', 'sorted', 'staticmethod', 'str', 'sum', 'super', 'tuple', 'type', 'vars', 'zip']\n"
     ]
    }
   ],
   "source": [
    "# Consultamos las funciones Built-in disponibles de Python\n",
    "funciones = []\n",
    "for funcion in dir(__builtins__):\n",
    "    #imprimimos solo lo que son funciones\n",
    "    if funcion[0] != '_' and 'Error' not in funcion and 'Warning' not in funcion:\n",
    "        funciones.append(funcion)\n",
    "print(funciones)"
   ]
  },
  {
   "cell_type": "markdown",
   "id": "b4b11e8b",
   "metadata": {},
   "source": [
    "![](https://i.pinimg.com/736x/27/cd/2c/27cd2cdaa4df0e803381bc151ffa5ee8.jpg)"
   ]
  },
  {
   "cell_type": "code",
   "execution_count": 4,
   "id": "8c8dbd80",
   "metadata": {},
   "outputs": [],
   "source": [
    "#help(reversed)"
   ]
  },
  {
   "cell_type": "markdown",
   "id": "d22d9e61",
   "metadata": {},
   "source": [
    "## Extraer el código fuente de una función\n",
    "Ya que hablamos de las built-in, por curiosidad, si necesitamos extraer el código de una función escrita anteriormente podemos hacerlo así a modo de curiosidad:\n"
   ]
  },
  {
   "cell_type": "code",
   "execution_count": 36,
   "id": "76f8cd9b",
   "metadata": {},
   "outputs": [
    {
     "name": "stdout",
     "output_type": "stream",
     "text": [
      "def primerfuncion(): #Esto es una función def nombre_funcion ():\n",
      "\n",
      "    pass #Esto es lo que hace la función. En este caso nada\n",
      "\n"
     ]
    }
   ],
   "source": [
    "import inspect\n",
    "print(inspect.getsource(primerfuncion))"
   ]
  },
  {
   "cell_type": "markdown",
   "id": "035f19f9",
   "metadata": {},
   "source": [
    "En las built-in functions no podemos extraer el código con inspect,😭 ya que Python en sí mismo está escrito en C... la función Print tiene este aspecto 👇🏻"
   ]
  },
  {
   "cell_type": "markdown",
   "id": "f6476bc6",
   "metadata": {},
   "source": [
    "```C\n",
    "static PyObject *\n",
    "builtin_print(PyObject *self, PyObject *args, PyObject *kwds)\n",
    "{\n",
    "    static char *kwlist[] = {\"sep\", \"end\", \"file\", 0};\n",
    "    static PyObject *dummy_args = NULL;\n",
    "    static PyObject *unicode_newline = NULL, *unicode_space = NULL;\n",
    "    static PyObject *str_newline = NULL, *str_space = NULL;\n",
    "    PyObject *newline, *space;\n",
    "    PyObject *sep = NULL, *end = NULL, *file = NULL;\n",
    "    int i, err, use_unicode = 0;\n",
    "\n",
    "    if (dummy_args == NULL) {\n",
    "        if (!(dummy_args = PyTuple_New(0)))\n",
    "            return NULL;\n",
    "    }\n",
    "    if (str_newline == NULL) {\n",
    "        str_newline = PyString_FromString(\"\\n\");\n",
    "        if (str_newline == NULL)\n",
    "            return NULL;\n",
    "        str_space = PyString_FromString(\" \");\n",
    "        if (str_space == NULL) {\n",
    "            Py_CLEAR(str_newline);\n",
    "            return NULL;\n",
    "        }\n",
    "#ifdef Py_USING_UNICODE\n",
    "        unicode_newline = PyUnicode_FromString(\"\\n\");\n",
    "        if (unicode_newline == NULL) {\n",
    "            Py_CLEAR(str_newline);\n",
    "            Py_CLEAR(str_space);\n",
    "            return NULL;\n",
    "        }\n",
    "        unicode_space = PyUnicode_FromString(\" \");\n",
    "        if (unicode_space == NULL) {\n",
    "            Py_CLEAR(str_newline);\n",
    "            Py_CLEAR(str_space);\n",
    "            Py_CLEAR(unicode_space);\n",
    "            return NULL;\n",
    "        }\n",
    "#endif\n",
    "    }\n",
    "    if (!PyArg_ParseTupleAndKeywords(dummy_args, kwds, \"|OOO:print\",\n",
    "                                     kwlist, &sep, &end, &file))\n",
    "        return NULL;\n",
    "    if (file == NULL || file == Py_None) {\n",
    "        file = PySys_GetObject(\"stdout\");\n",
    "        /* sys.stdout may be None when FILE* stdout isn't connected */\n",
    "        if (file == Py_None)\n",
    "            Py_RETURN_NONE;\n",
    "    }\n",
    "    if (sep == Py_None) {\n",
    "        sep = NULL;\n",
    "    }\n",
    "    else if (sep) {\n",
    "        if (PyUnicode_Check(sep)) {\n",
    "            use_unicode = 1;\n",
    "        }\n",
    "        else if (!PyString_Check(sep)) {\n",
    "            PyErr_Format(PyExc_TypeError,\n",
    "                         \"sep must be None, str or unicode, not %.200s\",\n",
    "                         sep->ob_type->tp_name);\n",
    "            return NULL;\n",
    "        }\n",
    "    }\n",
    "    if (end == Py_None)\n",
    "        end = NULL;\n",
    "    else if (end) {\n",
    "        if (PyUnicode_Check(end)) {\n",
    "            use_unicode = 1;\n",
    "        }\n",
    "        else if (!PyString_Check(end)) {\n",
    "            PyErr_Format(PyExc_TypeError,\n",
    "                         \"end must be None, str or unicode, not %.200s\",\n",
    "                         end->ob_type->tp_name);\n",
    "            return NULL;\n",
    "        }\n",
    "    }\n",
    "\n",
    "    if (!use_unicode) {\n",
    "        for (i = 0; i < PyTuple_Size(args); i++) {\n",
    "            if (PyUnicode_Check(PyTuple_GET_ITEM(args, i))) {\n",
    "                use_unicode = 1;\n",
    "                break;\n",
    "            }\n",
    "        }\n",
    "    }\n",
    "    if (use_unicode) {\n",
    "        newline = unicode_newline;\n",
    "        space = unicode_space;\n",
    "    }\n",
    "    else {\n",
    "        newline = str_newline;\n",
    "        space = str_space;\n",
    "    }\n",
    "\n",
    "    for (i = 0; i < PyTuple_Size(args); i++) {\n",
    "        if (i > 0) {\n",
    "            if (sep == NULL)\n",
    "                err = PyFile_WriteObject(space, file,\n",
    "                                         Py_PRINT_RAW);\n",
    "            else\n",
    "                err = PyFile_WriteObject(sep, file,\n",
    "                                         Py_PRINT_RAW);\n",
    "            if (err)\n",
    "                return NULL;\n",
    "        }\n",
    "        err = PyFile_WriteObject(PyTuple_GetItem(args, i), file,\n",
    "                                 Py_PRINT_RAW);\n",
    "        if (err)\n",
    "            return NULL;\n",
    "    }\n",
    "\n",
    "    if (end == NULL)\n",
    "        err = PyFile_WriteObject(newline, file, Py_PRINT_RAW);\n",
    "    else\n",
    "        err = PyFile_WriteObject(end, file, Py_PRINT_RAW);\n",
    "    if (err)\n",
    "        return NULL;\n",
    "\n",
    "    Py_RETURN_NONE;\n",
    "}\n",
    "```"
   ]
  },
  {
   "cell_type": "markdown",
   "id": "a9ab971d",
   "metadata": {},
   "source": [
    "![](https://media.tenor.com/w-PCA2wkMQEAAAAM/mind-blown-shocked.gif)"
   ]
  },
  {
   "cell_type": "markdown",
   "id": "2fca271b",
   "metadata": {},
   "source": [
    "## 2 - Sintaxis de funciones\n",
    "\n",
    "Para definir una función:\n",
    "```python\n",
    "\n",
    "def nombre_funcion(argumento/s de entrada):\n",
    "    # los dos puntos y la indentacion implican estar en la funcion\n",
    "    realiza un accion\n",
    "    return()   # devuelven un/os valor/es\n",
    "\n",
    "```\n",
    "\n",
    "Ejecución de la función: \n",
    "```python\n",
    "nombre_de_la_función(argumento1, argumento2, ...)\n",
    "```\n",
    "o, si quieres guardar el resultado en una variable: 💾\n",
    "```python\n",
    "resultado = nombre_de_la_función(argumento1, argumento2, ...)\n",
    "```"
   ]
  },
  {
   "cell_type": "markdown",
   "id": "813cec58",
   "metadata": {},
   "source": [
    "## 3 - Parámetros vs Argumentos\n",
    "\n",
    "Los parámetros formales para una función se enumeran en la declaración de la función y se utilizan en el cuerpo de la definición de la función.\n",
    "\n",
    "Un argumento es lo que se usa haciendo referencia a los parámetros. Cuando escribe una llamada de función, los argumentos se enumeran entre paréntesis después del nombre de la función. Cuando se ejecuta la llamada a la función, los argumentos se insertan para los parámetros.\n",
    "\n",
    "Digamos entonces que, los parámetros, son esas variables \"imaginarias\" que van a tener el mismo nombre en la definición y en el cuerpo de la función.       \n",
    "Los argumentos son los DATOS REALES que utilizamos cuando llamamos a la función."
   ]
  },
  {
   "cell_type": "code",
   "execution_count": 73,
   "id": "7883d3e6",
   "metadata": {},
   "outputs": [],
   "source": [
    "def suma (num1,num2): #num1 y num2 son los parámetros de la función\n",
    "    return num1 + num2"
   ]
  },
  {
   "cell_type": "code",
   "execution_count": 74,
   "id": "70e85b9f",
   "metadata": {},
   "outputs": [
    {
     "data": {
      "text/plain": [
       "5"
      ]
     },
     "execution_count": 74,
     "metadata": {},
     "output_type": "execute_result"
    }
   ],
   "source": [
    "suma(2,3) #2 y 3 son los argumentos de la función"
   ]
  },
  {
   "cell_type": "markdown",
   "id": "b9d6db88",
   "metadata": {},
   "source": [
    "## 3.1 - Funciones que no tienen parámetros"
   ]
  },
  {
   "cell_type": "code",
   "execution_count": 53,
   "id": "eff9ca78",
   "metadata": {},
   "outputs": [],
   "source": [
    "def saluda():\n",
    "    return \"Cómo están los máquinas??\""
   ]
  },
  {
   "cell_type": "code",
   "execution_count": 69,
   "id": "8658b68c",
   "metadata": {},
   "outputs": [
    {
     "data": {
      "text/plain": [
       "'Cómo están los máquinas??'"
      ]
     },
     "execution_count": 69,
     "metadata": {},
     "output_type": "execute_result"
    }
   ],
   "source": [
    "saluda()"
   ]
  },
  {
   "cell_type": "markdown",
   "id": "fcdff456",
   "metadata": {},
   "source": [
    "## 3.2 -  Funciones que no tienen return\n",
    "Hacen \"cosas\" pero no devuelven nada... y si una función no tiene return, entonces devuelve:         \n",
    "```python\n",
    "None\n",
    "```\n"
   ]
  },
  {
   "cell_type": "code",
   "execution_count": 76,
   "id": "881f5507",
   "metadata": {},
   "outputs": [],
   "source": [
    "def suma (num1,num2):\n",
    "    num1 + num2"
   ]
  },
  {
   "cell_type": "code",
   "execution_count": 77,
   "id": "e561fde3",
   "metadata": {},
   "outputs": [],
   "source": [
    "suma(2,3)"
   ]
  },
  {
   "cell_type": "code",
   "execution_count": 72,
   "id": "f2cb3723",
   "metadata": {},
   "outputs": [
    {
     "data": {
      "text/plain": [
       "NoneType"
      ]
     },
     "execution_count": 72,
     "metadata": {},
     "output_type": "execute_result"
    }
   ],
   "source": [
    "type (suma(2,3))"
   ]
  },
  {
   "cell_type": "code",
   "execution_count": 78,
   "id": "c4cf7631",
   "metadata": {},
   "outputs": [],
   "source": [
    "def alargar_lista(lista, comida1, comida2):\n",
    "    lista.append(comida1)\n",
    "    lista.append(comida2)"
   ]
  },
  {
   "cell_type": "code",
   "execution_count": 80,
   "id": "2bdbaa24",
   "metadata": {},
   "outputs": [
    {
     "name": "stdout",
     "output_type": "stream",
     "text": [
      "lista de la compra antes de hacer nada: ['huevos', 'carne']\n",
      "lista de la compra despues de usar la funcion: ['huevos', 'carne', 'leche', 'manzana']\n"
     ]
    }
   ],
   "source": [
    "compra = ['huevos','carne']\n",
    "print(f'lista de la compra antes de hacer nada: {compra}')\n",
    "alargar_lista(compra, 'leche', 'manzana')\n",
    "print(f'lista de la compra despues de usar la funcion: {compra}')"
   ]
  },
  {
   "cell_type": "code",
   "execution_count": 81,
   "id": "9c48d8ec",
   "metadata": {},
   "outputs": [],
   "source": [
    "def alargar_lista(lista, comidas_list):\n",
    "    for comida in comidas_list:\n",
    "        lista.append(comida)"
   ]
  },
  {
   "cell_type": "code",
   "execution_count": 82,
   "id": "653d79c8",
   "metadata": {},
   "outputs": [
    {
     "name": "stdout",
     "output_type": "stream",
     "text": [
      "lista de la compra antes de hacer nada: ['huevos', 'carne']\n",
      "lista de la compra despues de usar la funcion: ['huevos', 'carne', 'leche', 'manzana']\n"
     ]
    }
   ],
   "source": [
    "compra = ['huevos','carne']\n",
    "print(f'lista de la compra antes de hacer nada: {compra}')\n",
    "alargar_lista(compra, ['leche', 'manzana'])\n",
    "print(f'lista de la compra despues de usar la funcion: {compra}')"
   ]
  },
  {
   "cell_type": "markdown",
   "id": "297cc445",
   "metadata": {},
   "source": [
    "## Vamos a hacer funciones 🤖🐍"
   ]
  },
  {
   "cell_type": "code",
   "execution_count": 83,
   "id": "9831d577",
   "metadata": {},
   "outputs": [],
   "source": [
    "def saludo(name):\n",
    "    return \"Hola \"+name"
   ]
  },
  {
   "cell_type": "code",
   "execution_count": 84,
   "id": "c2bbb968",
   "metadata": {},
   "outputs": [
    {
     "data": {
      "text/plain": [
       "'Hola a los máquinas'"
      ]
     },
     "execution_count": 84,
     "metadata": {},
     "output_type": "execute_result"
    }
   ],
   "source": [
    "saludo(\"a los máquinas\")"
   ]
  },
  {
   "cell_type": "code",
   "execution_count": 98,
   "id": "654c17db",
   "metadata": {},
   "outputs": [
    {
     "data": {
      "text/plain": [
       "'Hola Pepe'"
      ]
     },
     "execution_count": 98,
     "metadata": {},
     "output_type": "execute_result"
    }
   ],
   "source": [
    "nombre = \"Pepe\"\n",
    "saludo(nombre)"
   ]
  },
  {
   "cell_type": "code",
   "execution_count": 92,
   "id": "3dc96e0e",
   "metadata": {},
   "outputs": [],
   "source": [
    "def saludo2(name):\n",
    "    print (\"Hola \"+name)"
   ]
  },
  {
   "cell_type": "code",
   "execution_count": 99,
   "id": "02b21d19",
   "metadata": {},
   "outputs": [
    {
     "name": "stdout",
     "output_type": "stream",
     "text": [
      "Hola Pepe\n"
     ]
    }
   ],
   "source": [
    "saludo2(nombre)"
   ]
  },
  {
   "cell_type": "code",
   "execution_count": 117,
   "id": "e03a3fd8",
   "metadata": {},
   "outputs": [
    {
     "name": "stdout",
     "output_type": "stream",
     "text": [
      "Hola Pepe\n"
     ]
    }
   ],
   "source": [
    "misaludo = saludo2(nombre)"
   ]
  },
  {
   "cell_type": "code",
   "execution_count": 120,
   "id": "4ea594d4",
   "metadata": {},
   "outputs": [],
   "source": [
    "misaludo"
   ]
  },
  {
   "cell_type": "code",
   "execution_count": 106,
   "id": "2bf6f557",
   "metadata": {},
   "outputs": [
    {
     "data": {
      "text/plain": [
       "NoneType"
      ]
     },
     "execution_count": 106,
     "metadata": {},
     "output_type": "execute_result"
    }
   ],
   "source": [
    "type(misaludo)"
   ]
  },
  {
   "cell_type": "markdown",
   "id": "562e127e",
   "metadata": {},
   "source": [
    "***🐍🧠HANDS ON🧠🐍***\n",
    "\n",
    "Me dan una hora con el siguiente formato: \"04:52\", minutos y segundos.Corresponde con un tiempo de un corredor en una carrera y tengo que calcular el número *entero* de segundos.  "
   ]
  },
  {
   "cell_type": "code",
   "execution_count": 127,
   "id": "492184aa",
   "metadata": {},
   "outputs": [],
   "source": [
    "t=\"04:52\""
   ]
  },
  {
   "cell_type": "code",
   "execution_count": 133,
   "id": "627511a5",
   "metadata": {},
   "outputs": [
    {
     "name": "stdout",
     "output_type": "stream",
     "text": [
      "4 min 52 segundos son 292 segundos\n"
     ]
    }
   ],
   "source": [
    "minutes = int(t.split(':')[0])\n",
    "min_to_seg = minutes*60\n",
    "segs =int(t.split(':')[1])\n",
    "segs_tot = min_to_seg + segs\n",
    "print(f'{minutes} min {segs} segundos son {segs_tot} segundos')"
   ]
  },
  {
   "cell_type": "markdown",
   "id": "41bbc905",
   "metadata": {},
   "source": [
    "Tenemos mucho código para UNA sola funcionalidad, que podríamos REUTILIZAR para diferentes casos, que pasa si tenemos que hacer la conversión para todos los tiempos de los corredores?\n",
    "\n",
    "**PARA ESTO ESTÁN LAS FUNCIONES**💣💣\n",
    "\n",
    "Vamos a convertirlo en una función que reciba como argumento el tiempo y devuelva el número de segundos."
   ]
  },
  {
   "cell_type": "code",
   "execution_count": 176,
   "id": "86de4c98",
   "metadata": {},
   "outputs": [],
   "source": [
    "def segundos(marca):\n",
    "    return int(marca.split(\":\")[0])*60 + int(marca.split(\":\")[1])"
   ]
  },
  {
   "cell_type": "code",
   "execution_count": 172,
   "id": "3d53d47f",
   "metadata": {},
   "outputs": [],
   "source": [
    "def segundos(marca):\n",
    "    minutes = int(marca.split(':')[0])\n",
    "    min_to_seg = minutes*60\n",
    "    segs =int(marca.split(':')[1])\n",
    "    segs_tot = min_to_seg + segs\n",
    "    print(f'{minutes} min {segs} segundos son {segs_tot} segundos')\n",
    "    return segs_tot"
   ]
  },
  {
   "cell_type": "markdown",
   "id": "54b34e9e",
   "metadata": {},
   "source": [
    "Vamos a crear una lista de tiempos de manera aleatoria:"
   ]
  },
  {
   "cell_type": "code",
   "execution_count": 141,
   "id": "def0edb6",
   "metadata": {},
   "outputs": [
    {
     "name": "stdout",
     "output_type": "stream",
     "text": [
      "['1:30', '2:13', '5:43', '1:21', '2:37', '4:50', '5:42', '9:24', '4:21', '6:41', '5:59', '3:30', '3:10', '5:29', '10:57', '6:21', '9:41', '10:36', '9:31', '5:31', '6:11', '10:22', '8:35', '6:46', '2:19', '1:37', '1:34', '5:45', '8:53', '8:31']\n"
     ]
    }
   ],
   "source": [
    "import random\n",
    "marcas = []\n",
    "for i in range(30):\n",
    "    marcas.append(str(random.randint(1,10))+\":\"+str(random.randint(10,59)))\n",
    "\n",
    "print(marcas)"
   ]
  },
  {
   "cell_type": "code",
   "execution_count": 178,
   "id": "2cc80ef7",
   "metadata": {},
   "outputs": [
    {
     "name": "stdout",
     "output_type": "stream",
     "text": [
      "90\n",
      "133\n",
      "343\n",
      "81\n",
      "157\n",
      "290\n",
      "342\n",
      "564\n",
      "261\n",
      "401\n",
      "359\n",
      "210\n",
      "190\n",
      "329\n",
      "657\n",
      "381\n",
      "581\n",
      "636\n",
      "571\n",
      "331\n",
      "371\n",
      "622\n",
      "515\n",
      "406\n",
      "139\n",
      "97\n",
      "94\n",
      "345\n",
      "533\n",
      "511\n"
     ]
    }
   ],
   "source": [
    "for marca in marcas:\n",
    "    print(segundos(marca))"
   ]
  },
  {
   "cell_type": "markdown",
   "id": "7232f4a9",
   "metadata": {},
   "source": [
    "## Parámetros por defecto"
   ]
  },
  {
   "cell_type": "code",
   "execution_count": 184,
   "id": "4d0befc7",
   "metadata": {},
   "outputs": [],
   "source": [
    "def saludame(nombre, idioma = \"es\"):\n",
    "    if idioma == \"es\":\n",
    "        return f\"Qué pasa {nombre}!\"\n",
    "    elif idioma == \"en\":\n",
    "        return f\"What's uuuuup {nombre}\"\n",
    "    else:\n",
    "        return f\"No te entiendo\""
   ]
  },
  {
   "cell_type": "code",
   "execution_count": 185,
   "id": "d12a62fd",
   "metadata": {},
   "outputs": [
    {
     "data": {
      "text/plain": [
       "'Qué pasa Rodrigo!'"
      ]
     },
     "execution_count": 185,
     "metadata": {},
     "output_type": "execute_result"
    }
   ],
   "source": [
    "saludame(\"Rodrigo\", \"es\")"
   ]
  },
  {
   "cell_type": "code",
   "execution_count": 186,
   "id": "5d178577",
   "metadata": {},
   "outputs": [
    {
     "data": {
      "text/plain": [
       "\"What's uuuuup Eva\""
      ]
     },
     "execution_count": 186,
     "metadata": {},
     "output_type": "execute_result"
    }
   ],
   "source": [
    "saludame(\"Eva\", \"en\")"
   ]
  },
  {
   "cell_type": "code",
   "execution_count": 187,
   "id": "072fe282",
   "metadata": {},
   "outputs": [
    {
     "data": {
      "text/plain": [
       "'No te entiendo'"
      ]
     },
     "execution_count": 187,
     "metadata": {},
     "output_type": "execute_result"
    }
   ],
   "source": [
    "saludame(\"Juana\", \"fr\")"
   ]
  },
  {
   "cell_type": "code",
   "execution_count": 188,
   "id": "b2dc25fc",
   "metadata": {},
   "outputs": [
    {
     "data": {
      "text/plain": [
       "'Qué pasa Juana!'"
      ]
     },
     "execution_count": 188,
     "metadata": {},
     "output_type": "execute_result"
    }
   ],
   "source": [
    "saludame(\"Juana\")#sin poner argumento idioma"
   ]
  },
  {
   "cell_type": "code",
   "execution_count": 189,
   "id": "02354588",
   "metadata": {},
   "outputs": [
    {
     "ename": "TypeError",
     "evalue": "saludame() missing 1 required positional argument: 'nombre'",
     "output_type": "error",
     "traceback": [
      "\u001b[1;31m---------------------------------------------------------------------------\u001b[0m",
      "\u001b[1;31mTypeError\u001b[0m                                 Traceback (most recent call last)",
      "Input \u001b[1;32mIn [189]\u001b[0m, in \u001b[0;36m<cell line: 1>\u001b[1;34m()\u001b[0m\n\u001b[1;32m----> 1\u001b[0m \u001b[43msaludame\u001b[49m\u001b[43m(\u001b[49m\u001b[43midioma\u001b[49m\u001b[43m \u001b[49m\u001b[38;5;241;43m=\u001b[39;49m\u001b[43m \u001b[49m\u001b[38;5;124;43m\"\u001b[39;49m\u001b[38;5;124;43men\u001b[39;49m\u001b[38;5;124;43m\"\u001b[39;49m\u001b[43m)\u001b[49m\n",
      "\u001b[1;31mTypeError\u001b[0m: saludame() missing 1 required positional argument: 'nombre'"
     ]
    }
   ],
   "source": [
    "saludame(idioma = \"en\")"
   ]
  },
  {
   "cell_type": "code",
   "execution_count": 190,
   "id": "bb8a7af1",
   "metadata": {},
   "outputs": [
    {
     "data": {
      "text/plain": [
       "'No te entiendo'"
      ]
     },
     "execution_count": 190,
     "metadata": {},
     "output_type": "execute_result"
    }
   ],
   "source": [
    "saludame(\"en\", \"Sonia\")"
   ]
  },
  {
   "cell_type": "code",
   "execution_count": 191,
   "id": "87075a3e",
   "metadata": {},
   "outputs": [
    {
     "data": {
      "text/plain": [
       "\"What's uuuuup Sonia\""
      ]
     },
     "execution_count": 191,
     "metadata": {},
     "output_type": "execute_result"
    }
   ],
   "source": [
    "saludame(idioma=\"en\", nombre=\"Sonia\")"
   ]
  },
  {
   "cell_type": "code",
   "execution_count": 193,
   "id": "b8a56eca",
   "metadata": {},
   "outputs": [],
   "source": [
    "def saludame2 (nombre, frase_educada = \"¿Qué tal la familia?\", idioma = \"es\"):\n",
    "    if idioma == \"es\":\n",
    "        return f\"Qué pasa {nombre}!{frase_educada}\"\n",
    "    elif idioma == \"en\":\n",
    "        return f\"What's uuuuup {nombre}\"\n",
    "    else:\n",
    "        return f\"No te entiendo\""
   ]
  },
  {
   "cell_type": "code",
   "execution_count": 194,
   "id": "76c760af",
   "metadata": {},
   "outputs": [
    {
     "data": {
      "text/plain": [
       "\"What's uuuuup Ana\""
      ]
     },
     "execution_count": 194,
     "metadata": {},
     "output_type": "execute_result"
    }
   ],
   "source": [
    "saludame2(\"Ana\",idioma=\"en\")"
   ]
  },
  {
   "cell_type": "code",
   "execution_count": 205,
   "id": "c118bd3a",
   "metadata": {},
   "outputs": [
    {
     "data": {
      "text/plain": [
       "'Qué pasa Ana!¿Qué tal la familia?'"
      ]
     },
     "execution_count": 205,
     "metadata": {},
     "output_type": "execute_result"
    }
   ],
   "source": [
    "saludame2(\"Ana\")"
   ]
  },
  {
   "cell_type": "code",
   "execution_count": 206,
   "id": "44d8bfdd",
   "metadata": {},
   "outputs": [
    {
     "data": {
      "text/plain": [
       "'Qué pasa !¿Qué tal la familia?'"
      ]
     },
     "execution_count": 206,
     "metadata": {},
     "output_type": "execute_result"
    }
   ],
   "source": [
    "saludame2(\"\")"
   ]
  },
  {
   "cell_type": "markdown",
   "id": "501e4382",
   "metadata": {},
   "source": [
    "## No confundamos los PRINT dentro de una función con los RETURN!\n",
    "![](https://www.meme-arsenal.com/memes/fe5bf97fd7c334a13e0b1ed849ca6364.jpg) \n"
   ]
  },
  {
   "cell_type": "code",
   "execution_count": 210,
   "id": "76b19342",
   "metadata": {},
   "outputs": [],
   "source": [
    "def saludame (nombre, idioma = \"es\"):\n",
    "    if idioma == \"es\":\n",
    "        return f\"Qué pasa {nombre}!\"\n",
    "    elif idioma == \"en\":\n",
    "        return f\"What's uuuuup {nombre}\"\n",
    "    else:\n",
    "        return f\"No te entiendo\""
   ]
  },
  {
   "cell_type": "code",
   "execution_count": 215,
   "id": "68dd951b",
   "metadata": {},
   "outputs": [
    {
     "data": {
      "text/plain": [
       "'Qué pasa Pepe!'"
      ]
     },
     "execution_count": 215,
     "metadata": {},
     "output_type": "execute_result"
    }
   ],
   "source": [
    "mi_saludo = saludame(\"Pepe\")\n",
    "mi_saludo"
   ]
  },
  {
   "cell_type": "code",
   "execution_count": 216,
   "id": "07f1a5e9",
   "metadata": {},
   "outputs": [
    {
     "data": {
      "text/plain": [
       "str"
      ]
     },
     "execution_count": 216,
     "metadata": {},
     "output_type": "execute_result"
    }
   ],
   "source": [
    "type(mi_saludo)"
   ]
  },
  {
   "cell_type": "code",
   "execution_count": 222,
   "id": "3c9dca24",
   "metadata": {},
   "outputs": [],
   "source": [
    "#ponemos prints en vez de return\n",
    "def saludame_mal (nombre, idioma = \"es\"):\n",
    "    \n",
    "    if idioma == \"es\":\n",
    "        print( f\"Qué pasa {nombre}!\")\n",
    "    elif idioma == \"en\":\n",
    "        print (f\"What's uuuuup {nombre}\")\n",
    "    else:\n",
    "        print (f\"No te entiendo\")"
   ]
  },
  {
   "cell_type": "code",
   "execution_count": 228,
   "id": "54d24efd",
   "metadata": {},
   "outputs": [],
   "source": [
    "def saludame (nombre, idioma ='es'):\n",
    "    nombre = input('Escribe nombre ')\n",
    "    idioma = input('Idioma ')\n",
    "    if idioma == \"es\":\n",
    "        return f\"Qué pasa {nombre}!\"\n",
    "    elif idioma == \"en\":\n",
    "        return f\"What's uuuuup {nombre}\"\n",
    "    else:\n",
    "        return f\"No te entiendo\""
   ]
  },
  {
   "cell_type": "code",
   "execution_count": 229,
   "id": "e3c90a56",
   "metadata": {},
   "outputs": [
    {
     "name": "stdout",
     "output_type": "stream",
     "text": [
      "Escribe nombre Pepe\n",
      "Idioma es\n"
     ]
    },
    {
     "data": {
      "text/plain": [
       "'Qué pasa Pepe!'"
      ]
     },
     "execution_count": 229,
     "metadata": {},
     "output_type": "execute_result"
    }
   ],
   "source": [
    "saludame('Juan', 'en')"
   ]
  },
  {
   "cell_type": "code",
   "execution_count": 223,
   "id": "a8ec8589",
   "metadata": {},
   "outputs": [
    {
     "name": "stdout",
     "output_type": "stream",
     "text": [
      "Qué pasa Pepe!\n"
     ]
    }
   ],
   "source": [
    "misaludo_2 = saludame_mal(\"Pepe\")\n"
   ]
  },
  {
   "cell_type": "code",
   "execution_count": 225,
   "id": "bd339af2",
   "metadata": {},
   "outputs": [
    {
     "data": {
      "text/plain": [
       "'lol'"
      ]
     },
     "execution_count": 225,
     "metadata": {},
     "output_type": "execute_result"
    }
   ],
   "source": [
    "misaludo_2"
   ]
  },
  {
   "cell_type": "code",
   "execution_count": 224,
   "id": "8db83c7d",
   "metadata": {},
   "outputs": [
    {
     "data": {
      "text/plain": [
       "str"
      ]
     },
     "execution_count": 224,
     "metadata": {},
     "output_type": "execute_result"
    }
   ],
   "source": [
    "type(misaludo_2)"
   ]
  },
  {
   "cell_type": "markdown",
   "id": "00849b97",
   "metadata": {},
   "source": [
    "## Docstring\n",
    "El código se escribe 1 vez.  \n",
    "El código se lee 100 veces.  \n",
    "Ayuda a tus compañeros a entender tu trabajo.  \n",
    "![lafoto](https://res.cloudinary.com/highflyer910/image/upload/v1589577574/1_1_httqnc.jpg)\n",
    "En este ejemplo, hemos definido una función gato que devuelve miau. Hemos declarado un docstring que explica lo que hace la función. Para obtener el docstring de una función, necesitamos mostrar el atributo doc (print(cat.__doc__))     \n",
    "Referencia de la foto, la descripción y más info sobre docstring [aquí](https://techiestuff.netlify.app/blog/what-is-a-python-docstring/)"
   ]
  },
  {
   "cell_type": "code",
   "execution_count": 6,
   "id": "1c6502e0",
   "metadata": {},
   "outputs": [],
   "source": [
    "def funcioncita(saludo:str, edad:int):\n",
    "    '''Una función para ver qué es un docstring'''\n",
    "    pass"
   ]
  },
  {
   "cell_type": "code",
   "execution_count": 8,
   "id": "fdd0f85f",
   "metadata": {},
   "outputs": [
    {
     "data": {
      "text/plain": [
       "'Una función para ver qué es un docstring'"
      ]
     },
     "execution_count": 8,
     "metadata": {},
     "output_type": "execute_result"
    }
   ],
   "source": [
    "funcioncita.__doc__"
   ]
  },
  {
   "cell_type": "code",
   "execution_count": 9,
   "id": "0878ae63",
   "metadata": {},
   "outputs": [
    {
     "data": {
      "text/plain": [
       "\"Return the sum of a 'start' value (default: 0) plus an iterable of numbers\\n\\nWhen the iterable is empty, return the start value.\\nThis function is intended specifically for use with numeric values and may\\nreject non-numeric types.\""
      ]
     },
     "execution_count": 9,
     "metadata": {},
     "output_type": "execute_result"
    }
   ],
   "source": [
    "sum.__doc__"
   ]
  },
  {
   "cell_type": "code",
   "execution_count": 10,
   "id": "eb6a8f6f",
   "metadata": {},
   "outputs": [
    {
     "name": "stdout",
     "output_type": "stream",
     "text": [
      "Help on function funcioncita in module __main__:\n",
      "\n",
      "funcioncita(saludo: str, edad: int)\n",
      "    Una función para ver qué es un docstring\n",
      "\n"
     ]
    }
   ],
   "source": [
    "help(funcioncita)"
   ]
  },
  {
   "cell_type": "code",
   "execution_count": null,
   "id": "d8394cb4",
   "metadata": {},
   "outputs": [],
   "source": [
    "funcioncita() #si situamos el cursor encima de \"funcioncita\" y pulsamos shift+tab podemos ver el docstring"
   ]
  },
  {
   "cell_type": "markdown",
   "id": "d66250a8",
   "metadata": {},
   "source": [
    "## Scope de las funciones"
   ]
  },
  {
   "cell_type": "code",
   "execution_count": 11,
   "id": "b0566560",
   "metadata": {},
   "outputs": [],
   "source": [
    "#Variable global\n",
    "mivariable = 56"
   ]
  },
  {
   "cell_type": "code",
   "execution_count": 12,
   "id": "bb0712ca",
   "metadata": {},
   "outputs": [
    {
     "data": {
      "text/plain": [
       "90"
      ]
     },
     "execution_count": 12,
     "metadata": {},
     "output_type": "execute_result"
    }
   ],
   "source": [
    "34 + mivariable"
   ]
  },
  {
   "cell_type": "code",
   "execution_count": 13,
   "id": "b8f7ae65",
   "metadata": {},
   "outputs": [],
   "source": [
    "def sumar_56(num):\n",
    "    return mivariable+num"
   ]
  },
  {
   "cell_type": "code",
   "execution_count": 14,
   "id": "3dab9c83",
   "metadata": {},
   "outputs": [
    {
     "data": {
      "text/plain": [
       "71"
      ]
     },
     "execution_count": 14,
     "metadata": {},
     "output_type": "execute_result"
    }
   ],
   "source": [
    "sumar_56(15)"
   ]
  },
  {
   "cell_type": "code",
   "execution_count": 26,
   "id": "1c605c26",
   "metadata": {},
   "outputs": [],
   "source": [
    "#variable local\n",
    "def sumar_71(num):\n",
    "    nombre_local = int(input(\"Introduzca un entero\"))\n",
    "    return f\"{nombre_local}, el resultado es {num+nombre_local}\""
   ]
  },
  {
   "cell_type": "code",
   "execution_count": 27,
   "id": "de7c9781",
   "metadata": {},
   "outputs": [
    {
     "ename": "NameError",
     "evalue": "name 'nombre_local' is not defined",
     "output_type": "error",
     "traceback": [
      "\u001b[0;31m---------------------------------------------------------------------------\u001b[0m",
      "\u001b[0;31mNameError\u001b[0m                                 Traceback (most recent call last)",
      "Cell \u001b[0;32mIn[27], line 1\u001b[0m\n\u001b[0;32m----> 1\u001b[0m \u001b[43mnombre_local\u001b[49m \u001b[38;5;66;03m#esta variable es local, solo existe dentro de la función\u001b[39;00m\n",
      "\u001b[0;31mNameError\u001b[0m: name 'nombre_local' is not defined"
     ]
    }
   ],
   "source": [
    "nombre_local #esta variable es local, solo existe dentro de la función"
   ]
  },
  {
   "cell_type": "code",
   "execution_count": 28,
   "id": "b9b1fb6a",
   "metadata": {},
   "outputs": [
    {
     "name": "stdout",
     "output_type": "stream",
     "text": [
      "Introduzca un entero12\n"
     ]
    },
    {
     "data": {
      "text/plain": [
       "'12, el resultado es 21'"
      ]
     },
     "execution_count": 28,
     "metadata": {},
     "output_type": "execute_result"
    }
   ],
   "source": [
    "sumar_71(9)"
   ]
  },
  {
   "cell_type": "code",
   "execution_count": 29,
   "id": "1603754c",
   "metadata": {},
   "outputs": [
    {
     "ename": "NameError",
     "evalue": "name 'nombre_local' is not defined",
     "output_type": "error",
     "traceback": [
      "\u001b[0;31m---------------------------------------------------------------------------\u001b[0m",
      "\u001b[0;31mNameError\u001b[0m                                 Traceback (most recent call last)",
      "Cell \u001b[0;32mIn[29], line 1\u001b[0m\n\u001b[0;32m----> 1\u001b[0m \u001b[43mnombre_local\u001b[49m\n",
      "\u001b[0;31mNameError\u001b[0m: name 'nombre_local' is not defined"
     ]
    }
   ],
   "source": [
    "nombre_local"
   ]
  },
  {
   "cell_type": "code",
   "execution_count": 30,
   "id": "d45024fa",
   "metadata": {},
   "outputs": [],
   "source": [
    "nombre_local = 23"
   ]
  },
  {
   "cell_type": "code",
   "execution_count": 36,
   "id": "8e105d2b",
   "metadata": {},
   "outputs": [
    {
     "name": "stdout",
     "output_type": "stream",
     "text": [
      "Introduzca un entero12\n"
     ]
    },
    {
     "data": {
      "text/plain": [
       "'12, el resultado es 21'"
      ]
     },
     "execution_count": 36,
     "metadata": {},
     "output_type": "execute_result"
    }
   ],
   "source": [
    "sumar_71(9)"
   ]
  },
  {
   "cell_type": "code",
   "execution_count": 37,
   "id": "546de9b8",
   "metadata": {},
   "outputs": [
    {
     "data": {
      "text/plain": [
       "23"
      ]
     },
     "execution_count": 37,
     "metadata": {},
     "output_type": "execute_result"
    }
   ],
   "source": [
    "nombre_local"
   ]
  },
  {
   "cell_type": "code",
   "execution_count": 38,
   "id": "1fc600b1",
   "metadata": {},
   "outputs": [],
   "source": [
    "siglo = 21\n",
    "def mifecha (d,m,a):\n",
    "    \n",
    "    return f\"{d}-{m}-{a}-{siglo}\""
   ]
  },
  {
   "cell_type": "code",
   "execution_count": 39,
   "id": "21d6a620",
   "metadata": {},
   "outputs": [
    {
     "data": {
      "text/plain": [
       "'13-1-1998-21'"
      ]
     },
     "execution_count": 39,
     "metadata": {},
     "output_type": "execute_result"
    }
   ],
   "source": [
    "mifecha(13,1,1998)"
   ]
  },
  {
   "cell_type": "markdown",
   "id": "4b27da0e",
   "metadata": {},
   "source": [
    "## *Args\n",
    "En Python, el parámetro especial *args en una función se usa para pasar, de forma opcional, un número variable de argumentos posicionales."
   ]
  },
  {
   "cell_type": "code",
   "execution_count": null,
   "id": "e8d9b99c",
   "metadata": {},
   "outputs": [],
   "source": [
    "def suma(a,b):\n",
    "    return a+b"
   ]
  },
  {
   "cell_type": "code",
   "execution_count": null,
   "id": "e47f821b",
   "metadata": {},
   "outputs": [],
   "source": [
    "suma(8,2)"
   ]
  },
  {
   "cell_type": "code",
   "execution_count": null,
   "id": "a9302648",
   "metadata": {},
   "outputs": [],
   "source": [
    "suma(1,5,3)"
   ]
  },
  {
   "cell_type": "code",
   "execution_count": 6,
   "id": "687ec15f",
   "metadata": {},
   "outputs": [],
   "source": [
    "def suma(*args):\n",
    "    print(args)\n",
    "    print(type(args))\n",
    "    t=0\n",
    "    for n in args:\n",
    "        t+= n\n",
    "    return t\n",
    "        "
   ]
  },
  {
   "cell_type": "code",
   "execution_count": 7,
   "id": "b42a32bd",
   "metadata": {},
   "outputs": [
    {
     "name": "stdout",
     "output_type": "stream",
     "text": [
      "(4,)\n",
      "<class 'tuple'>\n"
     ]
    },
    {
     "data": {
      "text/plain": [
       "4"
      ]
     },
     "execution_count": 7,
     "metadata": {},
     "output_type": "execute_result"
    }
   ],
   "source": [
    "suma(4)"
   ]
  },
  {
   "cell_type": "code",
   "execution_count": 8,
   "id": "1badf9cf",
   "metadata": {},
   "outputs": [
    {
     "name": "stdout",
     "output_type": "stream",
     "text": [
      "(4, 8, 12)\n",
      "<class 'tuple'>\n"
     ]
    },
    {
     "data": {
      "text/plain": [
       "24"
      ]
     },
     "execution_count": 8,
     "metadata": {},
     "output_type": "execute_result"
    }
   ],
   "source": [
    "suma(4,8,12)"
   ]
  },
  {
   "cell_type": "markdown",
   "id": "73c11bb5",
   "metadata": {},
   "source": [
    "### Otro ejemplo:\n",
    "Jaime vive con dos compañeras de piso, y quieren dividir el alquiler a partes iguales, pero en algún moment oel número de compañeras de piso podría cambiar."
   ]
  },
  {
   "cell_type": "code",
   "execution_count": null,
   "id": "6189939d",
   "metadata": {},
   "outputs": [],
   "source": [
    "def alquiler(precio, *args):\n",
    "    return precio/len(args)"
   ]
  },
  {
   "cell_type": "code",
   "execution_count": null,
   "id": "2e72cd66",
   "metadata": {},
   "outputs": [],
   "source": [
    "alquiler(3000, \"Manolo\", \"Juan\", \"Pepe\")"
   ]
  },
  {
   "cell_type": "markdown",
   "id": "f7161982",
   "metadata": {},
   "source": [
    "Recogen a Kenia, una gata callejera adorable, pero por supuesto ahora Kenia tendrá que pagar el alquiler."
   ]
  },
  {
   "cell_type": "code",
   "execution_count": null,
   "id": "6ad3ef93",
   "metadata": {},
   "outputs": [],
   "source": [
    "#Llega Kenia\n",
    "alquiler(3000, \"Belén\", \"Lore\", \"Sonia\", \"Kenia\")"
   ]
  },
  {
   "cell_type": "markdown",
   "id": "c7b234b9",
   "metadata": {},
   "source": [
    "## **Kwargs"
   ]
  },
  {
   "cell_type": "markdown",
   "id": "e24a1f63",
   "metadata": {},
   "source": [
    "También podemos pasar como argumento un diccionario usando como claves los nombres de los parámetros (* *kwargs).\n",
    "Emplea * *kwargs para pasar de forma opcional a una función un número variable de argumentos con nombre.      \n",
    "Es un diccionario cuyas claves se convierten en parámetros y sus valores en los argumentos de los parámetros.    \n",
    "El parámetro * *kwargs recibe los argumentos como un diccionario.      "
   ]
  },
  {
   "cell_type": "code",
   "execution_count": 9,
   "id": "c197eb55",
   "metadata": {},
   "outputs": [],
   "source": [
    "def otra_mas (**kwargs):\n",
    "    for k,v in kwargs.items():\n",
    "        print(k,v)"
   ]
  },
  {
   "cell_type": "code",
   "execution_count": 10,
   "id": "53c01e41",
   "metadata": {},
   "outputs": [],
   "source": [
    "diccionario = {\"nombre\":\"Rodrigo\", \"edad\":23, \"hermanos\":2}"
   ]
  },
  {
   "cell_type": "code",
   "execution_count": 11,
   "id": "73b93ff9",
   "metadata": {},
   "outputs": [
    {
     "name": "stdout",
     "output_type": "stream",
     "text": [
      "nombre Rodrigo\n",
      "edad 23\n",
      "hermanos 2\n"
     ]
    }
   ],
   "source": [
    "otra_mas(**diccionario)"
   ]
  },
  {
   "cell_type": "code",
   "execution_count": 28,
   "id": "53465493",
   "metadata": {},
   "outputs": [],
   "source": [
    "def otra_mas (*args):\n",
    "    for k in args:\n",
    "        print(k)"
   ]
  },
  {
   "cell_type": "code",
   "execution_count": 29,
   "id": "21184da7",
   "metadata": {},
   "outputs": [
    {
     "name": "stdout",
     "output_type": "stream",
     "text": [
      "nombre\n",
      "edad\n",
      "hermanos\n"
     ]
    }
   ],
   "source": [
    "otra_mas(*diccionario)"
   ]
  },
  {
   "cell_type": "markdown",
   "id": "fe77beae",
   "metadata": {},
   "source": [
    "Los chicos se han dado cuenta de que el reparto de alquiler no es equitativo, porque las habitaciones no tienen el mismo tamaño, asi que deciden dividirlo proporcionalmente al tamaño de los cuartos. El cuarto de Belén ocupa el 50% del espacio, el de Sonia el 30% y el de Lore el 20%"
   ]
  },
  {
   "cell_type": "code",
   "execution_count": 12,
   "id": "179454de",
   "metadata": {},
   "outputs": [],
   "source": [
    "habitaciones = {\"Belén\":0.5 , \"Sonia\":0.3,\"Lore\":0.2}\n",
    "p_alquiler = 3000"
   ]
  },
  {
   "cell_type": "code",
   "execution_count": 13,
   "id": "e4155531",
   "metadata": {},
   "outputs": [],
   "source": [
    "def alquiler (precio,**kwargs):\n",
    "    pago = {k:(v*precio) for k,v in kwargs.items()}\n",
    "    return pago"
   ]
  },
  {
   "cell_type": "code",
   "execution_count": 14,
   "id": "e082b0c5",
   "metadata": {},
   "outputs": [
    {
     "data": {
      "text/plain": [
       "{'Belén': 1500.0, 'Sonia': 900.0, 'Lore': 600.0}"
      ]
     },
     "execution_count": 14,
     "metadata": {},
     "output_type": "execute_result"
    }
   ],
   "source": [
    "cuantopago = alquiler(p_alquiler,**habitaciones)\n",
    "cuantopago"
   ]
  },
  {
   "cell_type": "code",
   "execution_count": 15,
   "id": "c522c77e",
   "metadata": {},
   "outputs": [],
   "source": [
    "def mialquiler (precio,**kwargs):\n",
    "    pago = {}\n",
    "    for key,value in kwargs.items():\n",
    "        pago[key] = value*precio\n",
    "    return pago"
   ]
  },
  {
   "cell_type": "code",
   "execution_count": 16,
   "id": "dc84ebda",
   "metadata": {},
   "outputs": [
    {
     "data": {
      "text/plain": [
       "{'Belén': 1500.0, 'Sonia': 900.0, 'Lore': 600.0}"
      ]
     },
     "execution_count": 16,
     "metadata": {},
     "output_type": "execute_result"
    }
   ],
   "source": [
    "mialquiler(p_alquiler,**habitaciones)"
   ]
  },
  {
   "cell_type": "markdown",
   "id": "42640e73",
   "metadata": {},
   "source": [
    "Ahora lo complicamos un poco, queremos que Jaime pague el doble que Jose, y que Jose pague el triple que Pepe."
   ]
  },
  {
   "cell_type": "code",
   "execution_count": null,
   "id": "dfa49602",
   "metadata": {},
   "outputs": [],
   "source": [
    "habitaciones = {\"Jose\": 3, \"Jaime\":2,\"Pepe\":1}"
   ]
  },
  {
   "cell_type": "code",
   "execution_count": null,
   "id": "ba002f2d",
   "metadata": {},
   "outputs": [],
   "source": [
    "def alq(precio, **kwargs):\n",
    "    \n",
    "    valores = [i for i in kwargs.values()] \n",
    "    nombres = [i for i in kwargs.keys()]\n",
    "    \n",
    "    sum_ud = 0\n",
    "    \n",
    "    for i in valores:\n",
    "        sum_ud += int(i)\n",
    "        \n",
    "    preciototal = precio/sum_ud\n",
    "  \n",
    "    #check1\n",
    "    print(preciototal)\n",
    "    \n",
    "    listapaga = [preciototal*i for i in valores]\n",
    "    \n",
    "    #check2\n",
    "    print(listapaga)\n",
    "    \n",
    "    finaldict = {}\n",
    "    \n",
    "    for i in range(0,len(kwargs)):\n",
    "        finaldict[nombres[i]] = listapaga[i]\n",
    "\n",
    "    #checkf\n",
    "    print(finaldict)\n",
    "    return(finaldict)\n",
    "    "
   ]
  },
  {
   "cell_type": "code",
   "execution_count": null,
   "id": "89767b76",
   "metadata": {},
   "outputs": [],
   "source": [
    "alq(alquiler, **habitaciones)"
   ]
  },
  {
   "cell_type": "markdown",
   "id": "74aa1124",
   "metadata": {},
   "source": [
    "## El orden importa\n",
    "El orden de los parámetros a la hora de definir una función importa...\n",
    "```python\n",
    "def ejemplo(arg1, arg2, *args, **kwargs)\n",
    "```\n"
   ]
  },
  {
   "cell_type": "markdown",
   "id": "329704a7",
   "metadata": {},
   "source": [
    "## 5 - Lambda\n",
    "Una función lambda es una función anónima, sin identificador, que puede declararse in situ. Dado que podemos usar funciones como argumentos y asignarlas a variables, la notación que posibilita la creación de funciones lambda es muy práctica en muchos casos.\n",
    "### Sintaxis de una lambda\n",
    "```python\n",
    "lambda <lista de parámetros>: <expresión de retorno>\n",
    "```\n",
    "### Ejemplos de lambda"
   ]
  },
  {
   "cell_type": "code",
   "execution_count": 40,
   "id": "5e1e6b78",
   "metadata": {},
   "outputs": [
    {
     "data": {
      "text/plain": [
       "<function __main__.<lambda>(x, y)>"
      ]
     },
     "execution_count": 40,
     "metadata": {},
     "output_type": "execute_result"
    }
   ],
   "source": [
    "lambda a,b: a+b # Suma\n",
    "lambda x: x **2 # cuadrado\n",
    "lambda x: x[0] # Devuelve el primer elemento del argumento\n",
    "lambda x, y: x if x>y else y # Devuelve el mayor"
   ]
  },
  {
   "cell_type": "markdown",
   "id": "c396e2cc",
   "metadata": {},
   "source": [
    "### Hagámoslo Fácil 🙃"
   ]
  },
  {
   "cell_type": "code",
   "execution_count": 41,
   "id": "38ca264e",
   "metadata": {},
   "outputs": [],
   "source": [
    "suma = lambda a,b: a+b"
   ]
  },
  {
   "cell_type": "code",
   "execution_count": 43,
   "id": "7dd7703c",
   "metadata": {},
   "outputs": [
    {
     "data": {
      "text/plain": [
       "7"
      ]
     },
     "execution_count": 43,
     "metadata": {},
     "output_type": "execute_result"
    }
   ],
   "source": [
    "suma (1,6)"
   ]
  },
  {
   "cell_type": "code",
   "execution_count": 45,
   "id": "1320f8bf",
   "metadata": {},
   "outputs": [],
   "source": [
    "b=2 #variable global"
   ]
  },
  {
   "cell_type": "code",
   "execution_count": 46,
   "id": "67d7ceeb",
   "metadata": {},
   "outputs": [
    {
     "data": {
      "text/plain": [
       "2"
      ]
     },
     "execution_count": 46,
     "metadata": {},
     "output_type": "execute_result"
    }
   ],
   "source": [
    "b"
   ]
  },
  {
   "cell_type": "code",
   "execution_count": 48,
   "id": "717367b9",
   "metadata": {},
   "outputs": [],
   "source": [
    "sum5 = lambda a,b=5: a+b #aquí b=5 está dentro de lambda, no afecta a nuestra variable global"
   ]
  },
  {
   "cell_type": "code",
   "execution_count": 49,
   "id": "1a87a788",
   "metadata": {},
   "outputs": [
    {
     "data": {
      "text/plain": [
       "6"
      ]
     },
     "execution_count": 49,
     "metadata": {},
     "output_type": "execute_result"
    }
   ],
   "source": [
    "sum5(1)"
   ]
  },
  {
   "cell_type": "code",
   "execution_count": 50,
   "id": "5ea7fb5a",
   "metadata": {},
   "outputs": [
    {
     "data": {
      "text/plain": [
       "2"
      ]
     },
     "execution_count": 50,
     "metadata": {},
     "output_type": "execute_result"
    }
   ],
   "source": [
    "b"
   ]
  },
  {
   "cell_type": "code",
   "execution_count": 51,
   "id": "dc7a3f42",
   "metadata": {},
   "outputs": [
    {
     "data": {
      "text/plain": [
       "13"
      ]
     },
     "execution_count": 51,
     "metadata": {},
     "output_type": "execute_result"
    }
   ],
   "source": [
    "sum5(4,9) #Si especificamos de nuevo el argumento b, nos suma a + el b que acabaos de especificar"
   ]
  },
  {
   "cell_type": "code",
   "execution_count": 52,
   "id": "934e5f32",
   "metadata": {},
   "outputs": [
    {
     "data": {
      "text/plain": [
       "8"
      ]
     },
     "execution_count": 52,
     "metadata": {},
     "output_type": "execute_result"
    }
   ],
   "source": [
    "sum5(3)"
   ]
  },
  {
   "cell_type": "code",
   "execution_count": 55,
   "id": "3af73972",
   "metadata": {},
   "outputs": [],
   "source": [
    "maximo = lambda x, y=0: x if x>y else y"
   ]
  },
  {
   "cell_type": "code",
   "execution_count": 58,
   "id": "998faceb",
   "metadata": {},
   "outputs": [
    {
     "data": {
      "text/plain": [
       "9876796"
      ]
     },
     "execution_count": 58,
     "metadata": {},
     "output_type": "execute_result"
    }
   ],
   "source": [
    "maximo(2341234,9876796)"
   ]
  },
  {
   "cell_type": "code",
   "execution_count": 60,
   "id": "fa684d32",
   "metadata": {},
   "outputs": [
    {
     "data": {
      "text/plain": [
       "0"
      ]
     },
     "execution_count": 60,
     "metadata": {},
     "output_type": "execute_result"
    }
   ],
   "source": [
    "maximo(-2341234)"
   ]
  },
  {
   "cell_type": "markdown",
   "id": "4a256ba8",
   "metadata": {},
   "source": [
    "También es posible usar estas funciones anónimas como argumentos en la llamada a otras funcoines. Por ejemplo, en una llamada a sorted() o list.sort() podemos usar una función lambda como argumento para el parámetro key:"
   ]
  },
  {
   "cell_type": "code",
   "execution_count": 61,
   "id": "f064741a",
   "metadata": {},
   "outputs": [],
   "source": [
    "distancias = [(\"Madrid\", 331), (\"Córdoba\", 117), (\"Barcelona\",798)]"
   ]
  },
  {
   "cell_type": "code",
   "execution_count": 62,
   "id": "81bbabe2",
   "metadata": {},
   "outputs": [
    {
     "data": {
      "text/plain": [
       "[('Barcelona', 798), ('Córdoba', 117), ('Madrid', 331)]"
      ]
     },
     "execution_count": 62,
     "metadata": {},
     "output_type": "execute_result"
    }
   ],
   "source": [
    "sorted(distancias) #Por defecto lo ordena por el primer elemento de cada tupla"
   ]
  },
  {
   "cell_type": "code",
   "execution_count": 63,
   "id": "cff6641a",
   "metadata": {},
   "outputs": [],
   "source": [
    "tupla1 = (\"Madrid\", 331)"
   ]
  },
  {
   "cell_type": "code",
   "execution_count": 65,
   "id": "b09efb4f",
   "metadata": {},
   "outputs": [
    {
     "data": {
      "text/plain": [
       "331"
      ]
     },
     "execution_count": 65,
     "metadata": {},
     "output_type": "execute_result"
    }
   ],
   "source": [
    "tupla1[1]"
   ]
  },
  {
   "cell_type": "code",
   "execution_count": 66,
   "id": "8752d293",
   "metadata": {},
   "outputs": [],
   "source": [
    "orden_tuplas = lambda x: x[1]"
   ]
  },
  {
   "cell_type": "code",
   "execution_count": 67,
   "id": "9b95d117",
   "metadata": {},
   "outputs": [
    {
     "data": {
      "text/plain": [
       "331"
      ]
     },
     "execution_count": 67,
     "metadata": {},
     "output_type": "execute_result"
    }
   ],
   "source": [
    "orden_tuplas(tupla1)"
   ]
  },
  {
   "cell_type": "code",
   "execution_count": 68,
   "id": "5cc07acd",
   "metadata": {},
   "outputs": [
    {
     "data": {
      "text/plain": [
       "[('Córdoba', 117), ('Madrid', 331), ('Barcelona', 798)]"
      ]
     },
     "execution_count": 68,
     "metadata": {},
     "output_type": "execute_result"
    }
   ],
   "source": [
    "#Ordenamos por la distancia, de menor a mayor by default \n",
    "sorted(distancias, key = lambda x: x[1])"
   ]
  },
  {
   "cell_type": "code",
   "execution_count": 69,
   "id": "919de0dc",
   "metadata": {},
   "outputs": [
    {
     "data": {
      "text/plain": [
       "[('Barcelona', 798), ('Madrid', 331), ('Córdoba', 117)]"
      ]
     },
     "execution_count": 69,
     "metadata": {},
     "output_type": "execute_result"
    }
   ],
   "source": [
    "#Ordenamos por distancia pero de mayor a menor, con reverse = True\n",
    "sorted(distancias, key=lambda x: x[1], reverse=True)"
   ]
  },
  {
   "cell_type": "code",
   "execution_count": 70,
   "id": "778dc326",
   "metadata": {},
   "outputs": [
    {
     "data": {
      "text/plain": [
       "[('Barcelona', 798), ('Córdoba', 117), ('Madrid', 331)]"
      ]
     },
     "execution_count": 70,
     "metadata": {},
     "output_type": "execute_result"
    }
   ],
   "source": [
    "#Ordenamos alfabéticamente utilizando el primer elemento x[0]\n",
    "sorted(distancias, key = lambda x: x[0])"
   ]
  },
  {
   "cell_type": "code",
   "execution_count": 71,
   "id": "8b032a7b",
   "metadata": {},
   "outputs": [
    {
     "data": {
      "text/plain": [
       "[('Madrid', 331), ('Córdoba', 117), ('Barcelona', 798)]"
      ]
     },
     "execution_count": 71,
     "metadata": {},
     "output_type": "execute_result"
    }
   ],
   "source": [
    "#Ordenamos alfabéticamente de final a principio utilizando reverse = True\n",
    "sorted(distancias, key=lambda x: x[0], reverse=True)"
   ]
  },
  {
   "cell_type": "code",
   "execution_count": 72,
   "id": "82760b03",
   "metadata": {},
   "outputs": [
    {
     "data": {
      "text/plain": [
       "[('Madrid', 331), ('Córdoba', 117), ('Barcelona', 798)]"
      ]
     },
     "execution_count": 72,
     "metadata": {},
     "output_type": "execute_result"
    }
   ],
   "source": [
    "sorted(distancias, key=lambda x,j=0: x[j], reverse=True)"
   ]
  },
  {
   "cell_type": "markdown",
   "id": "131a3203",
   "metadata": {},
   "source": [
    "Por último, si queremos devolver como resultado de una función a otra función podemos usar cualquier función conocida en el ámbito de la función que realiza el retorno, o usar una función lambda:"
   ]
  },
  {
   "cell_type": "code",
   "execution_count": 88,
   "id": "03a13e70",
   "metadata": {},
   "outputs": [],
   "source": [
    "def suma5_otra (num,num2):\n",
    "    return sum([num,num2])"
   ]
  },
  {
   "cell_type": "code",
   "execution_count": 92,
   "id": "60d22fd4",
   "metadata": {},
   "outputs": [
    {
     "data": {
      "text/plain": [
       "True"
      ]
     },
     "execution_count": 92,
     "metadata": {},
     "output_type": "execute_result"
    }
   ],
   "source": [
    "suma5_otra(3,5) == sum([3,5])"
   ]
  },
  {
   "cell_type": "code",
   "execution_count": 94,
   "id": "f4cd930d",
   "metadata": {},
   "outputs": [],
   "source": [
    "def comparaciones (tipo):\n",
    "    \n",
    "    def mayor (a,b):\n",
    "        if a>b:\n",
    "            return a\n",
    "        else:\n",
    "            return b\n",
    "        \n",
    "        \n",
    "    if tipo == \"mayor\":\n",
    "        return mayor\n",
    "    \n",
    "    \n",
    "    elif tipo == \"menor\":\n",
    "        return lambda a,b:a if a<b else b"
   ]
  },
  {
   "cell_type": "code",
   "execution_count": 95,
   "id": "ec6e3725",
   "metadata": {},
   "outputs": [
    {
     "data": {
      "text/plain": [
       "6"
      ]
     },
     "execution_count": 95,
     "metadata": {},
     "output_type": "execute_result"
    }
   ],
   "source": [
    "comparaciones(\"mayor\")(6,5)"
   ]
  },
  {
   "cell_type": "code",
   "execution_count": 97,
   "id": "88329b6e",
   "metadata": {},
   "outputs": [
    {
     "data": {
      "text/plain": [
       "5"
      ]
     },
     "execution_count": 97,
     "metadata": {},
     "output_type": "execute_result"
    }
   ],
   "source": [
    "comparaciones(\"menor\")(6,5)"
   ]
  },
  {
   "cell_type": "markdown",
   "id": "2c2ad370",
   "metadata": {},
   "source": [
    "## Recursividad\n",
    "Se denomina llamada recursiva (o recursividad), a aquellas funciones que en su algoritmo, hacen referencia sí misma.\n",
    "\n",
    "Las llamadas recursivas suelen ser muy útiles en casos muy puntuales, pero debido a su gran riesgo de caer en iteraciones infinitas, deben extremarse las medidas preventivas adecuadas y, solo utilizarse cuando sea estrictamente necesario y no exista una forma alternativa viable, que resuelva el problema evitando la recursividad.\n",
    "\n",
    "Python admite las llamadas recursivas, permitiendo a una función, llamarse a sí misma, de igual forma que lo hace cuando llama a otra función."
   ]
  },
  {
   "cell_type": "code",
   "execution_count": 98,
   "id": "5bbb7cc8",
   "metadata": {},
   "outputs": [],
   "source": [
    "def jueguito (intento=1):\n",
    "    respuesta = input (\"\\n¿Qué lenguaje es el que más mola?\")\n",
    "    if \"python\" not in respuesta.lower():\n",
    "        if intento < 3:\n",
    "            print (\"\\nFALLASTEEEEE!!!!!. Inténtalo de nuevo\")\n",
    "            intento +=1\n",
    "            jueguito(intento) # Llamada recursiva\n",
    "        else:\n",
    "            print(\"\\n ¡Perdiste!\")\n",
    "    \n",
    "    else:\n",
    "        print (\"Claro que sí!!!🧠\")\n",
    "            "
   ]
  },
  {
   "cell_type": "code",
   "execution_count": 102,
   "id": "96082d45",
   "metadata": {},
   "outputs": [
    {
     "name": "stdout",
     "output_type": "stream",
     "text": [
      "\n",
      "¿Qué lenguaje es que más mola?  python\n",
      "Claro que sí!!!🧠\n"
     ]
    }
   ],
   "source": [
    "jueguito()"
   ]
  },
  {
   "cell_type": "markdown",
   "id": "0b78b7e9",
   "metadata": {},
   "source": [
    "## Ficheros de texto"
   ]
  },
  {
   "cell_type": "markdown",
   "id": "b2bfab1f",
   "metadata": {},
   "source": [
    "### Escritura de ficheros de texto plano"
   ]
  },
  {
   "cell_type": "markdown",
   "id": "5a6bf1fe",
   "metadata": {},
   "source": [
    "A la hora de escribir ficheros, como en otros lenguajes de programación, los puntos clave son: el modo de apertura (\"w\" para sobreescritura y \"a\" para continuación) y el cierre del fichero una vez se ha finalizado el trabajo con el mismo."
   ]
  },
  {
   "cell_type": "code",
   "execution_count": 105,
   "id": "3685f222",
   "metadata": {},
   "outputs": [],
   "source": [
    "fichero = open(\"prueba.txt\", \"w\")\n",
    "fichero.write(\"Esto\\n\")\n",
    "fichero.write(\"es\\n\")\n",
    "fichero.write(\"una\\n\")\n",
    "fichero.write(\"prueba\\n\")\n",
    "fichero.close()"
   ]
  },
  {
   "cell_type": "code",
   "execution_count": 117,
   "id": "f2a67743",
   "metadata": {},
   "outputs": [],
   "source": [
    "fichero2 = open(\"Carpeta/texto2.txt\", \"w\")\n",
    "for i in range (20):\n",
    "    fichero2.write(f\"{i}\\n\")"
   ]
  },
  {
   "cell_type": "code",
   "execution_count": 108,
   "id": "bc27cdca",
   "metadata": {},
   "outputs": [],
   "source": [
    "fichero = open(\"prueba.txt\", \"w\")\n",
    "fichero.write(\"Esto\\n\")\n",
    "fichero.write(\"es\\n\")\n",
    "fichero.write(\"otra\\n\")\n",
    "fichero.write(\"prueba\\n\")\n",
    "fichero.close()"
   ]
  },
  {
   "cell_type": "code",
   "execution_count": 110,
   "id": "b684e8fc",
   "metadata": {},
   "outputs": [],
   "source": [
    "fichero = open(\"prueba.txt\", \"a\",encoding='utf-8')\n",
    "fichero.write(\"esto es lo que hace la a\\n\")\n",
    "fichero.close()"
   ]
  },
  {
   "cell_type": "markdown",
   "id": "4901bdba",
   "metadata": {},
   "source": [
    "### Lectura de ficheros de texto plano"
   ]
  },
  {
   "cell_type": "markdown",
   "id": "e2445166",
   "metadata": {},
   "source": [
    "De nuevo, a la hora de leer ficheros, los puntos clave serán de nuevo: el modo de apertura (\"r\" para lectura y \"r+\" para lectura y escritura) y el cierre del fichero una vez se ha finalizado el trabajo con el mismo."
   ]
  },
  {
   "cell_type": "code",
   "execution_count": 119,
   "id": "18475b78",
   "metadata": {},
   "outputs": [
    {
     "name": "stdout",
     "output_type": "stream",
     "text": [
      "Esto\n",
      "es\n",
      "otra\n",
      "prueba\n",
      "esto es lo que hace la a\n",
      "esto es lo que hace la a\n",
      "\n"
     ]
    }
   ],
   "source": [
    "fichero = open(\"prueba.txt\", \"r+\")\n",
    "contenido = fichero.read()\n",
    "print (contenido)\n",
    "fichero.close()"
   ]
  },
  {
   "cell_type": "code",
   "execution_count": 121,
   "id": "a9d5833b",
   "metadata": {},
   "outputs": [
    {
     "name": "stdout",
     "output_type": "stream",
     "text": [
      "Esto\n",
      "es\n",
      "otra\n",
      "prueba\n",
      "esto es lo que hace la a\n",
      "esto es lo que hace la a\n",
      "\n"
     ]
    }
   ],
   "source": [
    "fichero = open(\"prueba.txt\", \"r\")\n",
    "contenido = fichero.read()\n",
    "print (contenido)\n",
    "fichero.close()"
   ]
  }
 ],
 "metadata": {
  "kernelspec": {
   "display_name": "Python 3 (ipykernel)",
   "language": "python",
   "name": "python3"
  },
  "language_info": {
   "codemirror_mode": {
    "name": "ipython",
    "version": 3
   },
   "file_extension": ".py",
   "mimetype": "text/x-python",
   "name": "python",
   "nbconvert_exporter": "python",
   "pygments_lexer": "ipython3",
   "version": "3.9.16"
  },
  "toc": {
   "base_numbering": 1,
   "nav_menu": {},
   "number_sections": true,
   "sideBar": true,
   "skip_h1_title": true,
   "title_cell": "Table of Contents",
   "title_sidebar": "Contents",
   "toc_cell": true,
   "toc_position": {},
   "toc_section_display": true,
   "toc_window_display": false
  },
  "varInspector": {
   "cols": {
    "lenName": 16,
    "lenType": 16,
    "lenVar": 40
   },
   "kernels_config": {
    "python": {
     "delete_cmd_postfix": "",
     "delete_cmd_prefix": "del ",
     "library": "var_list.py",
     "varRefreshCmd": "print(var_dic_list())"
    },
    "r": {
     "delete_cmd_postfix": ") ",
     "delete_cmd_prefix": "rm(",
     "library": "var_list.r",
     "varRefreshCmd": "cat(var_dic_list()) "
    }
   },
   "types_to_exclude": [
    "module",
    "function",
    "builtin_function_or_method",
    "instance",
    "_Feature"
   ],
   "window_display": false
  }
 },
 "nbformat": 4,
 "nbformat_minor": 5
}
