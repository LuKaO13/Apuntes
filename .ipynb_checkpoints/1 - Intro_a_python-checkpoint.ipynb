{
 "cells": [
  {
   "cell_type": "markdown",
   "id": "1b848cbd",
   "metadata": {},
   "source": [
    "![Python](https://www.icog.es/cursos/wp-content/uploads/2020/09/phyton.png)"
   ]
  },
  {
   "cell_type": "code",
   "execution_count": null,
   "id": "0c42a4f5",
   "metadata": {},
   "outputs": [],
   "source": [
    "import this"
   ]
  },
  {
   "cell_type": "markdown",
   "id": "9aec2fe3",
   "metadata": {},
   "source": [
    "### ZEN THE PYTHON:\n",
    "- Bello es mejor que feo.\n",
    "- Explícito es mejor que implícito.\n",
    "- Simple es mejor que complejo.\n",
    "- Complejo es mejor que complicado.\n",
    "- Plano es mejor que anidado.\n",
    "- Espaciado es mejor que denso.\n",
    "- La legibilidad es importante.\n",
    "- Los casos especiales no son lo suficientemente especiales como para romper las reglas.\n",
    "- Sin embargo la practicidad le gana a la pureza.\n",
    "- Los errores nunca deberían pasar silenciosamente.\n",
    "- A menos que se silencien explícitamente.\n",
    "- Frente a la ambigüedad, evitar la tentación de adivinar.\n",
    "- Debería haber una, y preferiblemente solo una, manera obvia de hacerlo.\n",
    "- A pesar de que eso no sea obvio al principio a menos que seas Holandés.\n",
    "- Ahora es mejor que nunca.\n",
    "- A pesar de que nunca es muchas veces mejor que *ahora* mismo.\n",
    "- Si la implementación es difícil de explicar, es una mala idea.\n",
    "- Si la implementación es fácil de explicar, puede que sea una buena idea.\n",
    "- Los espacios de nombres son una gran idea, ¡tengamos más de esos!"
   ]
  },
  {
   "cell_type": "markdown",
   "id": "3978ab14",
   "metadata": {},
   "source": [
    "### Contenidos:\n",
    "- **Números**:\n",
    "    - Enteros\n",
    "    - Reales\n",
    "    - Complejos\n",
    "    \n",
    "- **Operaciones**\n",
    "\n",
    "- **Booleanos** (True/False)\n",
    "\n",
    "- **Cadenas** (strings)\n",
    "\n",
    "- **NoneType**\n",
    "\n",
    "- **Tipos Compuestos**"
   ]
  },
  {
   "cell_type": "markdown",
   "id": "82e11cf1",
   "metadata": {},
   "source": [
    "### **NÚMEROS ENTEROS (integer)**"
   ]
  },
  {
   "cell_type": "code",
   "execution_count": null,
   "id": "240f0ae5",
   "metadata": {},
   "outputs": [],
   "source": [
    "edad = 25\n",
    "print(edad)"
   ]
  },
  {
   "cell_type": "code",
   "execution_count": null,
   "id": "1ceb0a81",
   "metadata": {},
   "outputs": [],
   "source": [
    "type(edad)"
   ]
  },
  {
   "cell_type": "code",
   "execution_count": null,
   "id": "a11a101d",
   "metadata": {},
   "outputs": [],
   "source": [
    "type(5335505050)"
   ]
  },
  {
   "cell_type": "code",
   "execution_count": null,
   "id": "319a2fff",
   "metadata": {},
   "outputs": [],
   "source": [
    "type(-10)"
   ]
  },
  {
   "cell_type": "markdown",
   "id": "f27aef5a",
   "metadata": {},
   "source": [
    "### **NÚMEROS REALES (float)**"
   ]
  },
  {
   "cell_type": "code",
   "execution_count": null,
   "id": "08848d0e",
   "metadata": {},
   "outputs": [],
   "source": [
    "temperatura = 27.2\n",
    "temperatura"
   ]
  },
  {
   "cell_type": "code",
   "execution_count": null,
   "id": "7823bc30",
   "metadata": {},
   "outputs": [],
   "source": [
    "type(temperatura)"
   ]
  },
  {
   "cell_type": "code",
   "execution_count": null,
   "id": "4ae51761",
   "metadata": {},
   "outputs": [],
   "source": [
    "pi = 3.141592\n",
    "type(pi)"
   ]
  },
  {
   "cell_type": "code",
   "execution_count": null,
   "id": "74e0c415",
   "metadata": {},
   "outputs": [],
   "source": [
    "decimal = .20"
   ]
  },
  {
   "cell_type": "code",
   "execution_count": null,
   "id": "2456171b",
   "metadata": {},
   "outputs": [],
   "source": [
    "type(.20)"
   ]
  },
  {
   "cell_type": "code",
   "execution_count": null,
   "id": "278d7fd5",
   "metadata": {},
   "outputs": [],
   "source": [
    "type(decimal)"
   ]
  },
  {
   "cell_type": "code",
   "execution_count": 1,
   "id": "b3dc1d0e",
   "metadata": {},
   "outputs": [],
   "source": [
    "# Markdown https://docs.github.com/es/get-started/writing-on-github/getting-started-with-writing-and-formatting-on-github/basic-writing-and-formatting-syntax"
   ]
  },
  {
   "cell_type": "markdown",
   "id": "9f0ed798",
   "metadata": {},
   "source": [
    "### **NÚMEROS COMPLEJOS (complex)**"
   ]
  },
  {
   "cell_type": "code",
   "execution_count": 1,
   "id": "ac396b14",
   "metadata": {},
   "outputs": [
    {
     "data": {
      "text/plain": [
       "1j"
      ]
     },
     "execution_count": 1,
     "metadata": {},
     "output_type": "execute_result"
    }
   ],
   "source": [
    "1j"
   ]
  },
  {
   "cell_type": "code",
   "execution_count": 2,
   "id": "b55b3349",
   "metadata": {},
   "outputs": [
    {
     "data": {
      "text/plain": [
       "complex"
      ]
     },
     "execution_count": 2,
     "metadata": {},
     "output_type": "execute_result"
    }
   ],
   "source": [
    "type(1j)"
   ]
  },
  {
   "cell_type": "code",
   "execution_count": 3,
   "id": "794a4b4f",
   "metadata": {},
   "outputs": [
    {
     "data": {
      "text/plain": [
       "complex"
      ]
     },
     "execution_count": 3,
     "metadata": {},
     "output_type": "execute_result"
    }
   ],
   "source": [
    "type(5+0j)"
   ]
  },
  {
   "cell_type": "markdown",
   "id": "b68e9fb0",
   "metadata": {},
   "source": [
    "### **OPERACIONES BÁSICAS EN PYTHON**"
   ]
  },
  {
   "cell_type": "code",
   "execution_count": 5,
   "id": "cbd67077",
   "metadata": {},
   "outputs": [],
   "source": [
    "#Suma"
   ]
  },
  {
   "cell_type": "code",
   "execution_count": 6,
   "id": "c490b62a",
   "metadata": {},
   "outputs": [],
   "source": [
    "#Suma  como variable"
   ]
  },
  {
   "cell_type": "code",
   "execution_count": 7,
   "id": "e2f33b94",
   "metadata": {},
   "outputs": [],
   "source": [
    "#Resta"
   ]
  },
  {
   "cell_type": "code",
   "execution_count": 8,
   "id": "4196b847",
   "metadata": {},
   "outputs": [],
   "source": [
    "#Número - variable"
   ]
  },
  {
   "cell_type": "code",
   "execution_count": 9,
   "id": "0511a711",
   "metadata": {},
   "outputs": [],
   "source": [
    "#Multiplicacion"
   ]
  },
  {
   "cell_type": "code",
   "execution_count": 10,
   "id": "abd1ccc9",
   "metadata": {},
   "outputs": [],
   "source": [
    "#Orden de las operaciones"
   ]
  },
  {
   "cell_type": "code",
   "execution_count": 11,
   "id": "b7ef369b",
   "metadata": {},
   "outputs": [],
   "source": [
    "#División"
   ]
  },
  {
   "cell_type": "code",
   "execution_count": 12,
   "id": "b7e0a2fc",
   "metadata": {},
   "outputs": [],
   "source": [
    "#División por ceros"
   ]
  },
  {
   "cell_type": "code",
   "execution_count": 13,
   "id": "f420737e",
   "metadata": {},
   "outputs": [],
   "source": [
    "#Módulo"
   ]
  },
  {
   "cell_type": "code",
   "execution_count": 14,
   "id": "9ae49512",
   "metadata": {},
   "outputs": [],
   "source": [
    "#Floor"
   ]
  },
  {
   "cell_type": "code",
   "execution_count": 15,
   "id": "469d0563",
   "metadata": {},
   "outputs": [],
   "source": [
    "#Potencia"
   ]
  },
  {
   "cell_type": "code",
   "execution_count": 16,
   "id": "df58d4f9",
   "metadata": {},
   "outputs": [],
   "source": [
    "#raíces"
   ]
  },
  {
   "cell_type": "code",
   "execution_count": 17,
   "id": "ec13a6a7",
   "metadata": {},
   "outputs": [],
   "source": [
    "#Conversiones entre números"
   ]
  },
  {
   "cell_type": "code",
   "execution_count": 18,
   "id": "71f3d49e",
   "metadata": {},
   "outputs": [],
   "source": [
    "#Redondeo (round)"
   ]
  },
  {
   "cell_type": "code",
   "execution_count": null,
   "id": "994d174e",
   "metadata": {},
   "outputs": [],
   "source": []
  },
  {
   "cell_type": "code",
   "execution_count": null,
   "id": "8f5d2c46",
   "metadata": {},
   "outputs": [],
   "source": []
  },
  {
   "cell_type": "markdown",
   "id": "c721cf9c",
   "metadata": {},
   "source": [
    "### **BOOLEANOS**"
   ]
  },
  {
   "cell_type": "markdown",
   "id": "440db63a",
   "metadata": {},
   "source": [
    "#### Ley de De Morgan\n",
    "```python\n",
    "not (a and b) == (not a) or (not b)\n",
    "not (a or b) == (not a) and (not b)\n",
    "```"
   ]
  },
  {
   "cell_type": "code",
   "execution_count": 19,
   "id": "7a26018d",
   "metadata": {},
   "outputs": [],
   "source": [
    "# not (False and True)"
   ]
  },
  {
   "cell_type": "code",
   "execution_count": 20,
   "id": "7edf7dd4",
   "metadata": {},
   "outputs": [],
   "source": [
    "# not (False) or not (True)"
   ]
  },
  {
   "cell_type": "markdown",
   "id": "7a2178c1",
   "metadata": {},
   "source": [
    "### **NoneType**"
   ]
  },
  {
   "cell_type": "markdown",
   "id": "87ea6e30",
   "metadata": {},
   "source": [
    "### **CADENAS / STRINGS**"
   ]
  },
  {
   "cell_type": "markdown",
   "id": "04a08f73",
   "metadata": {},
   "source": [
    "   "
   ]
  },
  {
   "cell_type": "markdown",
   "id": "5a589c3f",
   "metadata": {},
   "source": [
    "## **TIPOS COMPUESTOS**\n",
    "\n",
    "### **Listas**:"
   ]
  },
  {
   "cell_type": "code",
   "execution_count": null,
   "id": "a2388121",
   "metadata": {},
   "outputs": [],
   "source": []
  },
  {
   "cell_type": "code",
   "execution_count": null,
   "id": "7bd22d0d",
   "metadata": {},
   "outputs": [],
   "source": []
  },
  {
   "cell_type": "code",
   "execution_count": null,
   "id": "f2e1b789",
   "metadata": {},
   "outputs": [],
   "source": []
  }
 ],
 "metadata": {
  "kernelspec": {
   "display_name": "Python 3 (ipykernel)",
   "language": "python",
   "name": "python3"
  },
  "language_info": {
   "codemirror_mode": {
    "name": "ipython",
    "version": 3
   },
   "file_extension": ".py",
   "mimetype": "text/x-python",
   "name": "python",
   "nbconvert_exporter": "python",
   "pygments_lexer": "ipython3",
   "version": "3.11.2"
  }
 },
 "nbformat": 4,
 "nbformat_minor": 5
}
