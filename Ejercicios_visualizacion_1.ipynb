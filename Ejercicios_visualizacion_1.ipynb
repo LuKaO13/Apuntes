{
 "cells": [
  {
   "cell_type": "markdown",
   "id": "36653b39",
   "metadata": {},
   "source": [
    "### 1. Carga el conjunto de datos \"student_alcohol.csv\" proporcionado por Seaborn, que contiene información sobre el peso y el consumo de alcohol de estudiantes. Utilizando Seaborn, crea un gráfico de dispersión que muestre la relación entre el peso (variable \"weight\") y el consumo de alcohol (variable \"alcohol\") de los estudiantes. Asegúrate de agregar etiquetas adecuadas a los ejes y un título descriptivo al gráfico."
   ]
  },
  {
   "cell_type": "markdown",
   "id": "35ceb6bd",
   "metadata": {},
   "source": [
    "Pistas:\n",
    "- Los datasets de seaborn se leen con .load_dataset(nombre). ¿Como puedes mirar que datasets tiene seaborn?\n",
    "- Para agregar estas etiquetas, usaremos la libreria matplotlib. Mira al final del cuaderno para tener las ultimas pistas sobre los comandos que hay que usar."
   ]
  },
  {
   "cell_type": "code",
   "execution_count": null,
   "id": "eafb710c",
   "metadata": {},
   "outputs": [],
   "source": []
  },
  {
   "cell_type": "markdown",
   "id": "493406fe",
   "metadata": {},
   "source": [
    "### 2. Carga el conjunto de datos \"student_scores.csv\" proporcionado por Seaborn, que contiene información sobre los puntajes de matemáticas de los estudiantes. Utilizando Seaborn, crea un histograma que muestre la distribución de los puntajes de matemáticas. Asegúrate de agregar etiquetas adecuadas a los ejes y un título descriptivo al gráfico."
   ]
  },
  {
   "cell_type": "code",
   "execution_count": null,
   "id": "83b5dc4d",
   "metadata": {},
   "outputs": [],
   "source": []
  },
  {
   "cell_type": "markdown",
   "id": "547daefd",
   "metadata": {},
   "source": [
    "### 3. Carga el conjunto de datos \"employee_survey_data.csv\" proporcionado por Seaborn, que contiene información sobre las respuestas de encuestas de empleados. Utilizando Seaborn, crea un gráfico de barras que muestre el promedio de puntajes de escritura (variable \"writing\") por nivel de educación (variable \"education\"). Asegúrate de agregar etiquetas adecuadas a los ejes y un título descriptivo al gráfico."
   ]
  },
  {
   "cell_type": "code",
   "execution_count": null,
   "id": "9d43e188",
   "metadata": {},
   "outputs": [],
   "source": []
  },
  {
   "cell_type": "markdown",
   "id": "18a44aef",
   "metadata": {},
   "source": [
    "### 4. Carga el conjunto de datos \"student_scores.csv\" proporcionado por Seaborn, que contiene información sobre los puntajes de matemáticas de los estudiantes según su nivel de educación. Utilizando Seaborn, crea un gráfico de violín que muestre la distribución de los puntajes de matemáticas (\"mathscore\") para cada nivel de educación (\"education\"). Asegúrate de agregar etiquetas adecuadas a los ejes y un título descriptivo al gráfico."
   ]
  },
  {
   "cell_type": "code",
   "execution_count": null,
   "id": "82d82989",
   "metadata": {},
   "outputs": [],
   "source": []
  },
  {
   "cell_type": "markdown",
   "id": "8f6c6103",
   "metadata": {},
   "source": [
    "### 5. Carga el conjunto de datos \"titanic.csv\" proporcionado por Seaborn, que contiene información sobre los pasajeros del Titanic. Utilizando Seaborn, crea un gráfico de barras que muestre la cantidad de pasajeros que sobrevivieron y no sobrevivieron según su clase de cabina (\"class\"). Deseamos que los pasajeros que sobrevivieron se muestren en verde y los que no sobrevivieron se muestren en rojo. Además, agrega un filtro para considerar solo los pasajeros adultos (mayores de 18 años). Asegúrate de agregar etiquetas adecuadas a los ejes y un título descriptivo al gráfico."
   ]
  },
  {
   "cell_type": "markdown",
   "id": "cdfdc8a6",
   "metadata": {},
   "source": [
    "Pista:\n",
    "- utiliza esto: colors = [\"red\" if survived == 0 else \"green\" for survived in data_filtered[\"survived\"]]\n",
    "- cuando crees el gráfico, añade este parámetro: palette=colors"
   ]
  },
  {
   "cell_type": "code",
   "execution_count": null,
   "id": "796a87f7",
   "metadata": {},
   "outputs": [],
   "source": []
  },
  {
   "cell_type": "markdown",
   "id": "35edeb5f",
   "metadata": {},
   "source": [
    "### 6. Carga el conjunto de datos \"tips.csv\" proporcionado por Seaborn, que contiene información sobre propinas en un restaurante. Utilizando Seaborn, crea un gráfico de dispersión que muestre la relación entre el total de la cuenta (\"total_bill\") y la propina (\"tip\") dejada por los clientes. Deseamos que los puntos del gráfico sean de diferentes tamaños según el tamaño de la mesa (\"size\") en la que se encontraban los clientes. Además, aplica un filtro para considerar solo las cuentas de un rango específico, entre $10 y $30. Asegúrate de agregar etiquetas adecuadas a los ejes y un título descriptivo al gráfico."
   ]
  },
  {
   "cell_type": "markdown",
   "id": "333ec77f",
   "metadata": {},
   "source": [
    "Pista:\n",
    "- usa el parametro size"
   ]
  },
  {
   "cell_type": "code",
   "execution_count": null,
   "id": "cfb504ae",
   "metadata": {},
   "outputs": [],
   "source": []
  },
  {
   "cell_type": "code",
   "execution_count": null,
   "id": "c7244f11",
   "metadata": {},
   "outputs": [],
   "source": []
  },
  {
   "cell_type": "code",
   "execution_count": null,
   "id": "a8946b52",
   "metadata": {},
   "outputs": [],
   "source": []
  },
  {
   "cell_type": "code",
   "execution_count": null,
   "id": "d02713d9",
   "metadata": {},
   "outputs": [],
   "source": []
  },
  {
   "cell_type": "code",
   "execution_count": null,
   "id": "65e05272",
   "metadata": {},
   "outputs": [],
   "source": []
  },
  {
   "cell_type": "code",
   "execution_count": null,
   "id": "7ebbe7b7",
   "metadata": {},
   "outputs": [],
   "source": []
  },
  {
   "cell_type": "code",
   "execution_count": null,
   "id": "28105f40",
   "metadata": {},
   "outputs": [],
   "source": []
  },
  {
   "cell_type": "code",
   "execution_count": null,
   "id": "8abdac39",
   "metadata": {},
   "outputs": [],
   "source": []
  },
  {
   "cell_type": "markdown",
   "id": "84246b7d",
   "metadata": {},
   "source": [
    "#### Pistas extras:\n",
    "- los comandos que hay que usar son: plt.xlabel(), plt.ylabel() y plt.title()"
   ]
  }
 ],
 "metadata": {
  "kernelspec": {
   "display_name": "Python 3 (ipykernel)",
   "language": "python",
   "name": "python3"
  },
  "language_info": {
   "codemirror_mode": {
    "name": "ipython",
    "version": 3
   },
   "file_extension": ".py",
   "mimetype": "text/x-python",
   "name": "python",
   "nbconvert_exporter": "python",
   "pygments_lexer": "ipython3",
   "version": "3.9.12"
  }
 },
 "nbformat": 4,
 "nbformat_minor": 5
}
