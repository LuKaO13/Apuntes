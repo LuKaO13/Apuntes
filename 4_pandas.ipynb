{
 "cells": [
  {
   "cell_type": "code",
   "execution_count": 17,
   "id": "8d783f9f",
   "metadata": {},
   "outputs": [],
   "source": [
    "%config Completer.use_jedi = False"
   ]
  },
  {
   "cell_type": "markdown",
   "id": "0c250e52",
   "metadata": {},
   "source": [
    "1 - [Introducción](#intro)"
   ]
  },
  {
   "cell_type": "markdown",
   "id": "adaptive-irrigation",
   "metadata": {
    "toc": true
   },
   "source": [
    "<h1>Table of Contents<span class=\"tocSkip\"></span></h1>\n",
    "<div class=\"toc\"><ul class=\"toc-item\"><li><span><a href=\"#Introducción\" data-toc-modified-id=\"Introducción-1\"><span class=\"toc-item-num\">1&nbsp;&nbsp;</span>Introducción</a></span></li><li><span><a href=\"#Instalación\" data-toc-modified-id=\"Instalación-2\"><span class=\"toc-item-num\">2&nbsp;&nbsp;</span>Instalación</a></span></li><li><span><a href=\"#Introducción-a-las-estructuras-de-datos-de-pandas\" data-toc-modified-id=\"Introducción-a-las-estructuras-de-datos-de-pandas-3\"><span class=\"toc-item-num\">3&nbsp;&nbsp;</span>Introducción a las estructuras de datos de pandas</a></span><ul class=\"toc-item\"><li><span><a href=\"#Series\" data-toc-modified-id=\"Series-3.1\"><span class=\"toc-item-num\">3.1&nbsp;&nbsp;</span>Series</a></span></li><li><span><a href=\"#Buscar-valores-NaN\" data-toc-modified-id=\"Buscar-valores-NaN-3.2\"><span class=\"toc-item-num\">3.2&nbsp;&nbsp;</span>Buscar valores NaN</a></span></li></ul></li><li><span><a href=\"#Datos-de-lectura/escritura\" data-toc-modified-id=\"Datos-de-lectura/escritura-4\"><span class=\"toc-item-num\">4&nbsp;&nbsp;</span>Datos de lectura/escritura</a></span><ul class=\"toc-item\"><li><span><a href=\"#Cargamos-datos-de-formato-CSV\" data-toc-modified-id=\"Cargamos-datos-de-formato-CSV-4.1\"><span class=\"toc-item-num\">4.1&nbsp;&nbsp;</span>Cargamos datos de formato CSV</a></span></li><li><span><a href=\"#Cargamos-datos-de-formato-xlsx\" data-toc-modified-id=\"Cargamos-datos-de-formato-xlsx-4.2\"><span class=\"toc-item-num\">4.2&nbsp;&nbsp;</span>Cargamos datos de formato xlsx</a></span></li><li><span><a href=\"#Visualizamos-las-primeras-filas\" data-toc-modified-id=\"Visualizamos-las-primeras-filas-4.3\"><span class=\"toc-item-num\">4.3&nbsp;&nbsp;</span>Visualizamos las primeras filas</a></span></li><li><span><a href=\"#Visualizamos-las-últimas-filas\" data-toc-modified-id=\"Visualizamos-las-últimas-filas-4.4\"><span class=\"toc-item-num\">4.4&nbsp;&nbsp;</span>Visualizamos las últimas filas</a></span></li><li><span><a href=\"#Visualizamos-una-muestra-aleatoria\" data-toc-modified-id=\"Visualizamos-una-muestra-aleatoria-4.5\"><span class=\"toc-item-num\">4.5&nbsp;&nbsp;</span>Visualizamos una muestra aleatoria</a></span></li></ul></li><li><span><a href=\"#Análisis-exploratorio-de-un-dataframe\" data-toc-modified-id=\"Análisis-exploratorio-de-un-dataframe-5\"><span class=\"toc-item-num\">5&nbsp;&nbsp;</span>Análisis exploratorio de un dataframe</a></span></li><li><span><a href=\"#Operaciones-básicas-con-los-dataframes\" data-toc-modified-id=\"Operaciones-básicas-con-los-dataframes-6\"><span class=\"toc-item-num\">6&nbsp;&nbsp;</span>Operaciones básicas con los dataframes</a></span><ul class=\"toc-item\"><li><span><a href=\"#Seleccionamos-una-columna\" data-toc-modified-id=\"Seleccionamos-una-columna-6.1\"><span class=\"toc-item-num\">6.1&nbsp;&nbsp;</span>Seleccionamos una columna</a></span></li><li><span><a href=\"#Seleccionamos-varias-columnas\" data-toc-modified-id=\"Seleccionamos-varias-columnas-6.2\"><span class=\"toc-item-num\">6.2&nbsp;&nbsp;</span>Seleccionamos varias columnas</a></span></li></ul></li><li><span><a href=\"#siN-EMBARGO.....-🚨º\" data-toc-modified-id=\"siN-EMBARGO.....-🚨º-7\"><span class=\"toc-item-num\">7&nbsp;&nbsp;</span>siN EMBARGO..... 🚨º</a></span><ul class=\"toc-item\"><li><span><a href=\"#Obtener-los-valores-únicos-de-una-columna-(es-decir,-una-serie)\" data-toc-modified-id=\"Obtener-los-valores-únicos-de-una-columna-(es-decir,-una-serie)-7.1\"><span class=\"toc-item-num\">7.1&nbsp;&nbsp;</span>Obtener los valores únicos de una columna (es decir, una serie)</a></span></li><li><span><a href=\"#Cambiar-el-tipo-de-datos-de-una-columna\" data-toc-modified-id=\"Cambiar-el-tipo-de-datos-de-una-columna-7.2\"><span class=\"toc-item-num\">7.2&nbsp;&nbsp;</span>Cambiar el tipo de datos de una columna</a></span></li><li><span><a href=\"#Filtramos-los-datos-por-el-valor-de-las-columnas\" data-toc-modified-id=\"Filtramos-los-datos-por-el-valor-de-las-columnas-7.3\"><span class=\"toc-item-num\">7.3&nbsp;&nbsp;</span>Filtramos los datos por el valor de las columnas</a></span></li><li><span><a href=\"#Copia-de-un-dataframe-y-renombrar-columnas\" data-toc-modified-id=\"Copia-de-un-dataframe-y-renombrar-columnas-7.4\"><span class=\"toc-item-num\">7.4&nbsp;&nbsp;</span>Copia de un dataframe y renombrar columnas</a></span><ul class=\"toc-item\"><li><span><a href=\"#Renombramos-columnas\" data-toc-modified-id=\"Renombramos-columnas-7.4.1\"><span class=\"toc-item-num\">7.4.1&nbsp;&nbsp;</span>Renombramos columnas</a></span></li><li><span><a href=\"#Podemos-renombrar-las-columnas-machacando-el-atributo-de-la-instancia...-¿os-suena-esto?\" data-toc-modified-id=\"Podemos-renombrar-las-columnas-machacando-el-atributo-de-la-instancia...-¿os-suena-esto?-7.4.2\"><span class=\"toc-item-num\">7.4.2&nbsp;&nbsp;</span>Podemos renombrar las columnas machacando el atributo de la instancia... ¿os suena esto?</a></span></li></ul></li><li><span><a href=\"#Borramos-columnas\" data-toc-modified-id=\"Borramos-columnas-7.5\"><span class=\"toc-item-num\">7.5&nbsp;&nbsp;</span>Borramos columnas</a></span></li><li><span><a href=\"#Borramos-filas\" data-toc-modified-id=\"Borramos-filas-7.6\"><span class=\"toc-item-num\">7.6&nbsp;&nbsp;</span>Borramos filas</a></span></li><li><span><a href=\"#Reset_index-y-set_index\" data-toc-modified-id=\"Reset_index-y-set_index-7.7\"><span class=\"toc-item-num\">7.7&nbsp;&nbsp;</span>Reset_index y set_index</a></span><ul class=\"toc-item\"><li><span><a href=\"#SET_INDEX\" data-toc-modified-id=\"SET_INDEX-7.7.1\"><span class=\"toc-item-num\">7.7.1&nbsp;&nbsp;</span>SET_INDEX</a></span></li></ul></li><li><span><a href=\"#Operaciones-entre-columnas\" data-toc-modified-id=\"Operaciones-entre-columnas-7.8\"><span class=\"toc-item-num\">7.8&nbsp;&nbsp;</span>Operaciones entre columnas</a></span></li></ul></li><li><span><a href=\"#Apply-!!\" data-toc-modified-id=\"Apply-!!-8\"><span class=\"toc-item-num\">8&nbsp;&nbsp;</span>Apply !!</a></span></li><li><span><a href=\"#Df-.loc-e-.iloc\" data-toc-modified-id=\"Df-.loc-e-.iloc-9\"><span class=\"toc-item-num\">9&nbsp;&nbsp;</span>Df .loc e .iloc</a></span><ul class=\"toc-item\"><li><span><a href=\"#Seleccionar-filas-y-columnas-en-Pandas-mediante-posición-con-iloc\" data-toc-modified-id=\"Seleccionar-filas-y-columnas-en-Pandas-mediante-posición-con-iloc-9.1\"><span class=\"toc-item-num\">9.1&nbsp;&nbsp;</span>Seleccionar filas y columnas en Pandas mediante posición con iloc</a></span></li><li><span><a href=\"#Seleccionar-filas-y-columnas-en-Pandas-en-base-a-etiquetas-con-loc\" data-toc-modified-id=\"Seleccionar-filas-y-columnas-en-Pandas-en-base-a-etiquetas-con-loc-9.2\"><span class=\"toc-item-num\">9.2&nbsp;&nbsp;</span>Seleccionar filas y columnas en Pandas en base a etiquetas con loc</a></span><ul class=\"toc-item\"><li><span><a href=\"#En-base-a-etiqueta\" data-toc-modified-id=\"En-base-a-etiqueta-9.2.1\"><span class=\"toc-item-num\">9.2.1&nbsp;&nbsp;</span>En base a etiqueta</a></span></li></ul></li></ul></li><li><span><a href=\"#Ordenamos-un-dataframe\" data-toc-modified-id=\"Ordenamos-un-dataframe-10\"><span class=\"toc-item-num\">10&nbsp;&nbsp;</span>Ordenamos un dataframe</a></span><ul class=\"toc-item\"><li><span><a href=\"#Buscamos-valores-nulos\" data-toc-modified-id=\"Buscamos-valores-nulos-10.1\"><span class=\"toc-item-num\">10.1&nbsp;&nbsp;</span>Buscamos valores nulos</a></span><ul class=\"toc-item\"><li><span><a href=\"#¿Es-nulo?\" data-toc-modified-id=\"¿Es-nulo?-10.1.1\"><span class=\"toc-item-num\">10.1.1&nbsp;&nbsp;</span>¿Es nulo?</a></span></li><li><span><a href=\"#¿Es-NO-nulo?\" data-toc-modified-id=\"¿Es-NO-nulo?-10.1.2\"><span class=\"toc-item-num\">10.1.2&nbsp;&nbsp;</span>¿Es NO nulo?</a></span></li><li><span><a href=\"#Sacar-una-suma-de-los-valores-nulos-de-cada-columna\" data-toc-modified-id=\"Sacar-una-suma-de-los-valores-nulos-de-cada-columna-10.1.3\"><span class=\"toc-item-num\">10.1.3&nbsp;&nbsp;</span>Sacar una suma de los valores nulos de cada columna</a></span></li></ul></li><li><span><a href=\"#Borramos-los-valores-nulos\" data-toc-modified-id=\"Borramos-los-valores-nulos-10.2\"><span class=\"toc-item-num\">10.2&nbsp;&nbsp;</span>Borramos los valores nulos</a></span></li><li><span><a href=\"#Cómo-rellenar-los-datos-que-faltan\" data-toc-modified-id=\"Cómo-rellenar-los-datos-que-faltan-10.3\"><span class=\"toc-item-num\">10.3&nbsp;&nbsp;</span>Cómo rellenar los datos que faltan</a></span><ul class=\"toc-item\"><li><ul class=\"toc-item\"><li><span><a href=\"#CATEGÓRICAS-EN-DATAFRAME-Y-DEJAR-DOCUMENTACIÓN\" data-toc-modified-id=\"CATEGÓRICAS-EN-DATAFRAME-Y-DEJAR-DOCUMENTACIÓN-10.3.0.1\"><span class=\"toc-item-num\">10.3.0.1&nbsp;&nbsp;</span>CATEGÓRICAS EN DATAFRAME Y DEJAR DOCUMENTACIÓN</a></span></li></ul></li></ul></li></ul></li><li><span><a href=\"#Borramos-los-duplicados\" data-toc-modified-id=\"Borramos-los-duplicados-11\"><span class=\"toc-item-num\">11&nbsp;&nbsp;</span>Borramos los duplicados</a></span></li><li><span><a href=\"#Agregación-de-datos\" data-toc-modified-id=\"Agregación-de-datos-12\"><span class=\"toc-item-num\">12&nbsp;&nbsp;</span>Agregación de datos</a></span><ul class=\"toc-item\"><li><span><a href=\"#GroupBy\" data-toc-modified-id=\"GroupBy-12.1\"><span class=\"toc-item-num\">12.1&nbsp;&nbsp;</span>GroupBy</a></span><ul class=\"toc-item\"><li><span><a href=\"#Me-preguntaréis-¿y-si-quiero-agrupar-por-más-columnas?\" data-toc-modified-id=\"Me-preguntaréis-¿y-si-quiero-agrupar-por-más-columnas?-12.1.1\"><span class=\"toc-item-num\">12.1.1&nbsp;&nbsp;</span>Me preguntaréis ¿y si quiero agrupar por más columnas?</a></span></li></ul></li><li><span><a href=\"#Unión-de-Dataframes\" data-toc-modified-id=\"Unión-de-Dataframes-12.2\"><span class=\"toc-item-num\">12.2&nbsp;&nbsp;</span>Unión de Dataframes</a></span></li><li><span><a href=\"#Concat\" data-toc-modified-id=\"Concat-12.3\"><span class=\"toc-item-num\">12.3&nbsp;&nbsp;</span>Concat</a></span></li><li><span><a href=\"#Merge\" data-toc-modified-id=\"Merge-12.4\"><span class=\"toc-item-num\">12.4&nbsp;&nbsp;</span>Merge</a></span></li><li><span><a href=\"#Join\" data-toc-modified-id=\"Join-12.5\"><span class=\"toc-item-num\">12.5&nbsp;&nbsp;</span>Join</a></span></li></ul></li><li><span><a href=\"#Exportar-datos\" data-toc-modified-id=\"Exportar-datos-13\"><span class=\"toc-item-num\">13&nbsp;&nbsp;</span>Exportar datos</a></span></li><li><span><a href=\"#Métodos-habituales-de-pandas\" data-toc-modified-id=\"Métodos-habituales-de-pandas-14\"><span class=\"toc-item-num\">14&nbsp;&nbsp;</span>Métodos habituales de pandas</a></span></li><li><span><a href=\"#Resumen\" data-toc-modified-id=\"Resumen-15\"><span class=\"toc-item-num\">15&nbsp;&nbsp;</span>Resumen</a></span></li><li><span><a href=\"#Further-materials\" data-toc-modified-id=\"Further-materials-16\"><span class=\"toc-item-num\">16&nbsp;&nbsp;</span>Further materials</a></span></li></ul></div>"
   ]
  },
  {
   "cell_type": "markdown",
   "id": "anonymous-academy",
   "metadata": {},
   "source": [
    "# 🐼 PANDAS 🐼"
   ]
  },
  {
   "cell_type": "markdown",
   "id": "residential-needle",
   "metadata": {},
   "source": [
    "![pandas](https://media.giphy.com/media/nVsLCrW5iHf6E/giphy.gif)"
   ]
  },
  {
   "cell_type": "markdown",
   "id": "secure-barcelona",
   "metadata": {},
   "source": [
    "Mi gif favorito para la que, a partir de ahora, será tu librería favorita 😍"
   ]
  },
  {
   "cell_type": "markdown",
   "id": "major-audience",
   "metadata": {},
   "source": [
    "<a name=\"intro\"></a>\n",
    "## INTRODUCCIÓN\n",
    "---\n",
    "Pandas es, sin duda, la biblioteca más utilizada en el ecosistema de Python para el análisis y la manipulación de datos. Es rápida, potente, flexible, fácil de usar y de código abierto. \n",
    "\n",
    "\n",
    "Entre sus principales **características** están:\n",
    "\n",
    "* Un objeto **DataFrame** rápido y eficiente para la manipulación de datos con indexación integrada\n",
    "* **Lectura y escritura** de datos en multitud de formatos: Microsoflt Excel, CSV, bases de datos SQL, JSON, diccionarios, etc\n",
    "* Métodos integrados y eficientes para todo tipo de manipulación de datos: datos faltantes, subconjunto, unión, fusión, etc\n",
    "* Facilidad para trabajar con datos temporales (de hecho, Pandas se llama así por \"**PAN**nel **DA**ta\")\n",
    "* Buena **integración con otras librerías** de análisis de datos o Machine learning: scikit-learn, scipy, seaborn, plotly, etc\n",
    "* Es **ampliamente utilizado** tanto en el sector privado como en el académico    \n",
    "\n",
    "\n",
    "Pandas proporciona estructuras de datos de alto nivel y funciones diseñadas para hacer que el trabajo con datos estructurados o tabulares sea rápido, fácil y expresivo. Desde su aparición en ***2010***, ha ayudado a que Python sea un entorno de análisis de datos potente y productivo. Los principales objetos de pandas que se utilizarán en este libro son el DataFrame, una estructura de datos tabular orientada a columnas con etiquetas de filas y columnas, y la Serie, un objeto de matriz unidimensional etiquetado.\n",
    "\n",
    "Pandas combina las ideas de alto rendimiento de NumPy con las capacidades flexibles de manipulación de datos de las hojas de cálculo y las bases de datos relacionales (como SQL). Proporciona una sofisticada funcionalidad de indexación para facilitar la remodelación, el corte y la división, la realización de agregaciones y la selección de subconjuntos de datos. \n"
   ]
  },
  {
   "cell_type": "markdown",
   "id": "hourly-nutrition",
   "metadata": {},
   "source": [
    "![image](https://thumbor.forbes.com/thumbor/960x0/https%3A%2F%2Fblogs-images.forbes.com%2Fgilpress%2Ffiles%2F2016%2F03%2FTime-1200x511.jpg)\n",
    "\n",
    "\n",
    "\n",
    "Fuente: [Forbes](https://www.forbes.com/sites/gilpress/2016/03/23/data-preparation-most-time-consuming-least-enjoyable-data-science-task-survey-says/#1ba071616f63)"
   ]
  },
  {
   "cell_type": "markdown",
   "id": "fantastic-steps",
   "metadata": {},
   "source": [
    "## Instalación"
   ]
  },
  {
   "cell_type": "markdown",
   "id": "dedicated-level",
   "metadata": {},
   "source": [
    "Lo primerito que deberás hacer, siempre será     \n",
    "pip install pandas / conda install pandas"
   ]
  },
  {
   "cell_type": "code",
   "execution_count": 1,
   "id": "psychological-theorem",
   "metadata": {},
   "outputs": [],
   "source": [
    "#%conda install pandas\n",
    "import pandas as pd"
   ]
  },
  {
   "cell_type": "markdown",
   "id": "explicit-harvest",
   "metadata": {},
   "source": [
    "## Introducción a las estructuras de datos de pandas\n",
    "Para empezar con pandas, necesitarás sentirte cómodo con sus dos estructuras de datos de trabajo: Series y DataFrame. Aunque no son una solución universal para todos los problemas, proporcionan una base sólida y fácil de usar para la mayoría de las aplicaciones."
   ]
  },
  {
   "cell_type": "markdown",
   "id": "angry-hamburg",
   "metadata": {},
   "source": [
    "### Series\n",
    "Una Serie es un objeto tipo array unidimensional que contiene una secuencia de valores y un array asociado de etiquetas de datos, llamado su índice. La Serie más sencilla se forma a partir de un único array de datos:"
   ]
  },
  {
   "cell_type": "code",
   "execution_count": 18,
   "id": "beautiful-stylus",
   "metadata": {},
   "outputs": [],
   "source": [
    "serie = pd.Series([\"hola\",1,23,4, [1,2,3],\"otro string\"]) "
   ]
  },
  {
   "cell_type": "code",
   "execution_count": 19,
   "id": "waiting-lodge",
   "metadata": {},
   "outputs": [
    {
     "data": {
      "text/plain": [
       "0           hola\n",
       "1              1\n",
       "2             23\n",
       "3              4\n",
       "4      [1, 2, 3]\n",
       "5    otro string\n",
       "dtype: object"
      ]
     },
     "execution_count": 19,
     "metadata": {},
     "output_type": "execute_result"
    }
   ],
   "source": [
    "serie"
   ]
  },
  {
   "cell_type": "code",
   "execution_count": 20,
   "id": "increasing-rwanda",
   "metadata": {},
   "outputs": [
    {
     "data": {
      "text/plain": [
       "pandas.core.series.Series"
      ]
     },
     "execution_count": 20,
     "metadata": {},
     "output_type": "execute_result"
    }
   ],
   "source": [
    "type(serie)"
   ]
  },
  {
   "cell_type": "code",
   "execution_count": 21,
   "id": "double-composition",
   "metadata": {},
   "outputs": [
    {
     "data": {
      "text/plain": [
       "array(['hola', 1, 23, 4, list([1, 2, 3]), 'otro string'], dtype=object)"
      ]
     },
     "execution_count": 21,
     "metadata": {},
     "output_type": "execute_result"
    }
   ],
   "source": [
    "serie.values"
   ]
  },
  {
   "cell_type": "code",
   "execution_count": 22,
   "id": "modified-track",
   "metadata": {},
   "outputs": [
    {
     "data": {
      "text/plain": [
       "RangeIndex(start=0, stop=6, step=1)"
      ]
     },
     "execution_count": 22,
     "metadata": {},
     "output_type": "execute_result"
    }
   ],
   "source": [
    "serie.index"
   ]
  },
  {
   "cell_type": "code",
   "execution_count": 23,
   "id": "agreed-chancellor",
   "metadata": {},
   "outputs": [
    {
     "data": {
      "text/plain": [
       "['hola', 1, 23, 4, [1, 2, 3], 'otro string']"
      ]
     },
     "execution_count": 23,
     "metadata": {},
     "output_type": "execute_result"
    }
   ],
   "source": [
    "list(serie.values)"
   ]
  },
  {
   "cell_type": "code",
   "execution_count": 24,
   "id": "ongoing-entity",
   "metadata": {},
   "outputs": [
    {
     "data": {
      "text/plain": [
       "[0, 1, 2, 3, 4, 5]"
      ]
     },
     "execution_count": 24,
     "metadata": {},
     "output_type": "execute_result"
    }
   ],
   "source": [
    "list(serie.index)"
   ]
  },
  {
   "cell_type": "markdown",
   "id": "adolescent-species",
   "metadata": {},
   "source": [
    "La representación en cadena de una Serie mostrada interactivamente muestra el índice a la izquierda y los valores a la derecha. Como no especificamos un índice para los datos, se crea uno por defecto formado por los enteros 0 a N - 1 (donde N es la longitud de los datos). Puedes obtener la representación del array y el objeto índice de la Serie a través de sus atributos values e index, respectivamente:"
   ]
  },
  {
   "cell_type": "code",
   "execution_count": 25,
   "id": "sporting-stereo",
   "metadata": {},
   "outputs": [
    {
     "data": {
      "text/plain": [
       "array(['hola', 1, 23, 4, list([1, 2, 3]), 'otro string'], dtype=object)"
      ]
     },
     "execution_count": 25,
     "metadata": {},
     "output_type": "execute_result"
    }
   ],
   "source": [
    "serie.values"
   ]
  },
  {
   "cell_type": "code",
   "execution_count": 26,
   "id": "controversial-fifty",
   "metadata": {},
   "outputs": [
    {
     "data": {
      "text/plain": [
       "RangeIndex(start=0, stop=6, step=1)"
      ]
     },
     "execution_count": 26,
     "metadata": {},
     "output_type": "execute_result"
    }
   ],
   "source": [
    "serie.index"
   ]
  },
  {
   "cell_type": "markdown",
   "id": "educated-tourism",
   "metadata": {},
   "source": [
    "Otra forma de pensar en una Serie es como un diccionario ordenado de longitud fija, ya que es un mapeo de valores de índice a valores de datos. Se puede utilizar en muchos contextos en los que se podría utilizar un diccionario.\n",
    "Si tienes datos contenidos en un dict de Python, puedes crear una Serie a partir de ellos pasando el dict:"
   ]
  },
  {
   "cell_type": "code",
   "execution_count": 27,
   "id": "incorrect-washington",
   "metadata": {},
   "outputs": [],
   "source": [
    "sdata = {'Ohio': 35000, 'Texas': 71000, 'Oregon': 16000, 'Utah': 5000}"
   ]
  },
  {
   "cell_type": "code",
   "execution_count": 28,
   "id": "human-civilian",
   "metadata": {},
   "outputs": [],
   "source": [
    "seriedata = pd.Series(sdata)"
   ]
  },
  {
   "cell_type": "code",
   "execution_count": 29,
   "id": "charitable-transparency",
   "metadata": {},
   "outputs": [
    {
     "data": {
      "text/plain": [
       "Ohio      35000\n",
       "Texas     71000\n",
       "Oregon    16000\n",
       "Utah       5000\n",
       "dtype: int64"
      ]
     },
     "execution_count": 29,
     "metadata": {},
     "output_type": "execute_result"
    }
   ],
   "source": [
    "seriedata"
   ]
  },
  {
   "cell_type": "code",
   "execution_count": 30,
   "id": "wired-projection",
   "metadata": {},
   "outputs": [
    {
     "data": {
      "text/plain": [
       "['Ohio', 'Texas', 'Oregon', 'Utah']"
      ]
     },
     "execution_count": 30,
     "metadata": {},
     "output_type": "execute_result"
    }
   ],
   "source": [
    "list(seriedata.index)"
   ]
  },
  {
   "cell_type": "code",
   "execution_count": 31,
   "id": "unauthorized-samuel",
   "metadata": {},
   "outputs": [
    {
     "data": {
      "text/plain": [
       "[35000, 71000, 16000, 5000]"
      ]
     },
     "execution_count": 31,
     "metadata": {},
     "output_type": "execute_result"
    }
   ],
   "source": [
    "list(seriedata.values)"
   ]
  },
  {
   "cell_type": "code",
   "execution_count": 32,
   "id": "breathing-paris",
   "metadata": {},
   "outputs": [
    {
     "data": {
      "text/plain": [
       "Ohio      35000\n",
       "Texas     71000\n",
       "Oregon    16000\n",
       "Utah       5000\n",
       "dtype: int64"
      ]
     },
     "metadata": {},
     "output_type": "display_data"
    }
   ],
   "source": [
    "display(seriedata)"
   ]
  },
  {
   "cell_type": "markdown",
   "id": "exposed-performer",
   "metadata": {},
   "source": [
    "Cuando sólo se pasa un dict, el índice de la Serie resultante tendrá las claves del dict en orden. Puedes modificar el comportamientopasando las claves del dict en el orden que desee que aparezcan en la Serie resultante:"
   ]
  },
  {
   "cell_type": "code",
   "execution_count": 33,
   "id": "convenient-encyclopedia",
   "metadata": {},
   "outputs": [],
   "source": [
    "estados = ['California', 'Ohio', 'Oregon', 'Texas']"
   ]
  },
  {
   "cell_type": "code",
   "execution_count": 34,
   "id": "e5e00a5a",
   "metadata": {},
   "outputs": [],
   "source": [
    "sdata = {'Ohio': 35000, 'Texas': 71000, 'Oregon': 16000, 'Utah': 5000}"
   ]
  },
  {
   "cell_type": "code",
   "execution_count": 35,
   "id": "hispanic-degree",
   "metadata": {},
   "outputs": [],
   "source": [
    "serie2 = pd.Series(sdata, index=estados)"
   ]
  },
  {
   "cell_type": "code",
   "execution_count": 36,
   "id": "bd249372",
   "metadata": {},
   "outputs": [
    {
     "data": {
      "text/plain": [
       "California        NaN\n",
       "Ohio          35000.0\n",
       "Oregon        16000.0\n",
       "Texas         71000.0\n",
       "dtype: float64"
      ]
     },
     "execution_count": 36,
     "metadata": {},
     "output_type": "execute_result"
    }
   ],
   "source": [
    "serie2"
   ]
  },
  {
   "cell_type": "markdown",
   "id": "composite-collaboration",
   "metadata": {},
   "source": [
    "Aquí, los tres valores encontrados en sdata se colocaron en los lugares apropiados, pero como no se encontró ningún valor para 'California', aparece como NaN (Not a Number / no es un número), lo que se considera en pandas para marcar valores perdidos o NA. Como \"Utah\" no se incluyó en los estados, se excluye del objeto resultante."
   ]
  },
  {
   "cell_type": "code",
   "execution_count": 37,
   "id": "excited-culture",
   "metadata": {},
   "outputs": [],
   "source": [
    "#%conda install numpy\n",
    "import numpy as np"
   ]
  },
  {
   "cell_type": "code",
   "execution_count": 38,
   "id": "green-general",
   "metadata": {},
   "outputs": [
    {
     "name": "stdout",
     "output_type": "stream",
     "text": [
      "nan\n"
     ]
    }
   ],
   "source": [
    "print(np.nan)"
   ]
  },
  {
   "cell_type": "code",
   "execution_count": 39,
   "id": "different-wildlife",
   "metadata": {},
   "outputs": [
    {
     "data": {
      "text/plain": [
       "float"
      ]
     },
     "execution_count": 39,
     "metadata": {},
     "output_type": "execute_result"
    }
   ],
   "source": [
    "type(np.nan)"
   ]
  },
  {
   "cell_type": "code",
   "execution_count": 40,
   "id": "integrated-falls",
   "metadata": {},
   "outputs": [
    {
     "data": {
      "text/plain": [
       "'NaN'"
      ]
     },
     "execution_count": 40,
     "metadata": {},
     "output_type": "execute_result"
    }
   ],
   "source": [
    "\"NaN\""
   ]
  },
  {
   "cell_type": "code",
   "execution_count": 41,
   "id": "676cb90e",
   "metadata": {},
   "outputs": [
    {
     "data": {
      "text/plain": [
       "nan"
      ]
     },
     "execution_count": 41,
     "metadata": {},
     "output_type": "execute_result"
    }
   ],
   "source": [
    "a = np.nan\n",
    "a"
   ]
  },
  {
   "cell_type": "code",
   "execution_count": 42,
   "id": "south-insulation",
   "metadata": {},
   "outputs": [
    {
     "name": "stdout",
     "output_type": "stream",
     "text": [
      "Hola\n"
     ]
    }
   ],
   "source": [
    "if np.isnan(a):\n",
    "    print(\"Hola\")"
   ]
  },
  {
   "cell_type": "code",
   "execution_count": 43,
   "id": "fecc2f22",
   "metadata": {},
   "outputs": [
    {
     "data": {
      "text/plain": [
       "False"
      ]
     },
     "execution_count": 43,
     "metadata": {},
     "output_type": "execute_result"
    }
   ],
   "source": [
    "# No no puedo comprobar si a es un nan así \n",
    "a == np.nan"
   ]
  },
  {
   "cell_type": "markdown",
   "id": "sublime-challenge",
   "metadata": {},
   "source": [
    "### Buscar valores NaN\n",
    "NaN significa Not A Number (No es un número) y es una de las formas habituales de representar el valor que falta en los datos. Es un valor especial de punto flotante y no puede ser convertido a otro tipo que no sea float.\n",
    "El valor NaN es uno de los principales problemas en el análisis de datos. Es muy esencial tratar con NaN para obtener los resultados deseados."
   ]
  },
  {
   "cell_type": "code",
   "execution_count": 44,
   "id": "after-healthcare",
   "metadata": {},
   "outputs": [
    {
     "data": {
      "text/plain": [
       "California     True\n",
       "Ohio          False\n",
       "Oregon        False\n",
       "Texas         False\n",
       "dtype: bool"
      ]
     },
     "execution_count": 44,
     "metadata": {},
     "output_type": "execute_result"
    }
   ],
   "source": [
    "# El método de pandas para buscar NaN es pd.isnull\n",
    "pd.isnull(serie2)"
   ]
  },
  {
   "cell_type": "code",
   "execution_count": 45,
   "id": "religious-migration",
   "metadata": {},
   "outputs": [
    {
     "data": {
      "text/plain": [
       "1"
      ]
     },
     "execution_count": 45,
     "metadata": {},
     "output_type": "execute_result"
    }
   ],
   "source": [
    "pd.isnull(serie2).sum()"
   ]
  },
  {
   "cell_type": "code",
   "execution_count": 46,
   "id": "a7b63d80",
   "metadata": {},
   "outputs": [
    {
     "data": {
      "text/plain": [
       "California     True\n",
       "Ohio          False\n",
       "Oregon        False\n",
       "Texas         False\n",
       "dtype: bool"
      ]
     },
     "execution_count": 46,
     "metadata": {},
     "output_type": "execute_result"
    }
   ],
   "source": [
    "pd.isna(serie2)"
   ]
  },
  {
   "cell_type": "code",
   "execution_count": 47,
   "id": "after-netherlands",
   "metadata": {},
   "outputs": [
    {
     "data": {
      "text/plain": [
       "1"
      ]
     },
     "execution_count": 47,
     "metadata": {},
     "output_type": "execute_result"
    }
   ],
   "source": [
    "pd.isna(serie2).sum()"
   ]
  },
  {
   "cell_type": "markdown",
   "id": "19667495",
   "metadata": {},
   "source": [
    "[Isna vs isnull](https://datascience.stackexchange.com/questions/37878/difference-between-isna-and-isnull-in-pandas)"
   ]
  },
  {
   "cell_type": "markdown",
   "id": "2926c04b",
   "metadata": {},
   "source": [
    "🙃🚀---> Nos hemos quedado aquí <--- 🚀🙃"
   ]
  },
  {
   "cell_type": "markdown",
   "id": "lyric-navigation",
   "metadata": {},
   "source": [
    "## Datos de lectura/escritura\n",
    "\n",
    "Pandas puede leer y escribir datos de una gran variedad de formatos. [Lee la documentación](https://pandas.pydata.org/pandas-docs/stable/user_guide/io.html)\n",
    "Aunque una de las más comunes es a partir de un diccionario de listas de igual longitud o arrays NumPy:"
   ]
  },
  {
   "cell_type": "code",
   "execution_count": 48,
   "id": "ongoing-input",
   "metadata": {},
   "outputs": [],
   "source": [
    "# Desde un diccionario\n",
    "data = {'state': ['Ohio', 'Ohio', 'Ohio', 'Nevada', 'Nevada', 'Nevada'],\n",
    "        'year': [2000, 2001, 2002, 2001, 2002, 2003],\n",
    "        'pop': [1.5, 1.7, 3.6, 2.4, 2.9, np.nan]}"
   ]
  },
  {
   "cell_type": "code",
   "execution_count": 49,
   "id": "beginning-sentence",
   "metadata": {},
   "outputs": [],
   "source": [
    "frame = pd.DataFrame(data)"
   ]
  },
  {
   "cell_type": "code",
   "execution_count": 50,
   "id": "079a11c5",
   "metadata": {},
   "outputs": [
    {
     "data": {
      "text/html": [
       "<div>\n",
       "<style scoped>\n",
       "    .dataframe tbody tr th:only-of-type {\n",
       "        vertical-align: middle;\n",
       "    }\n",
       "\n",
       "    .dataframe tbody tr th {\n",
       "        vertical-align: top;\n",
       "    }\n",
       "\n",
       "    .dataframe thead th {\n",
       "        text-align: right;\n",
       "    }\n",
       "</style>\n",
       "<table border=\"1\" class=\"dataframe\">\n",
       "  <thead>\n",
       "    <tr style=\"text-align: right;\">\n",
       "      <th></th>\n",
       "      <th>state</th>\n",
       "      <th>year</th>\n",
       "      <th>pop</th>\n",
       "    </tr>\n",
       "  </thead>\n",
       "  <tbody>\n",
       "    <tr>\n",
       "      <th>0</th>\n",
       "      <td>Ohio</td>\n",
       "      <td>2000</td>\n",
       "      <td>1.5</td>\n",
       "    </tr>\n",
       "    <tr>\n",
       "      <th>1</th>\n",
       "      <td>Ohio</td>\n",
       "      <td>2001</td>\n",
       "      <td>1.7</td>\n",
       "    </tr>\n",
       "    <tr>\n",
       "      <th>2</th>\n",
       "      <td>Ohio</td>\n",
       "      <td>2002</td>\n",
       "      <td>3.6</td>\n",
       "    </tr>\n",
       "    <tr>\n",
       "      <th>3</th>\n",
       "      <td>Nevada</td>\n",
       "      <td>2001</td>\n",
       "      <td>2.4</td>\n",
       "    </tr>\n",
       "    <tr>\n",
       "      <th>4</th>\n",
       "      <td>Nevada</td>\n",
       "      <td>2002</td>\n",
       "      <td>2.9</td>\n",
       "    </tr>\n",
       "    <tr>\n",
       "      <th>5</th>\n",
       "      <td>Nevada</td>\n",
       "      <td>2003</td>\n",
       "      <td>NaN</td>\n",
       "    </tr>\n",
       "  </tbody>\n",
       "</table>\n",
       "</div>"
      ],
      "text/plain": [
       "    state  year  pop\n",
       "0    Ohio  2000  1.5\n",
       "1    Ohio  2001  1.7\n",
       "2    Ohio  2002  3.6\n",
       "3  Nevada  2001  2.4\n",
       "4  Nevada  2002  2.9\n",
       "5  Nevada  2003  NaN"
      ]
     },
     "metadata": {},
     "output_type": "display_data"
    }
   ],
   "source": [
    "display(frame)"
   ]
  },
  {
   "cell_type": "code",
   "execution_count": 51,
   "id": "53df5dbc",
   "metadata": {},
   "outputs": [
    {
     "data": {
      "text/plain": [
       "2.4200000000000004"
      ]
     },
     "execution_count": 51,
     "metadata": {},
     "output_type": "execute_result"
    }
   ],
   "source": [
    "frame['pop'].mean()"
   ]
  },
  {
   "cell_type": "code",
   "execution_count": 52,
   "id": "65e86a3d",
   "metadata": {},
   "outputs": [
    {
     "data": {
      "text/plain": [
       "0      Ohio\n",
       "1      Ohio\n",
       "2      Ohio\n",
       "3    Nevada\n",
       "4    Nevada\n",
       "5    Nevada\n",
       "Name: state, dtype: object"
      ]
     },
     "execution_count": 52,
     "metadata": {},
     "output_type": "execute_result"
    }
   ],
   "source": [
    "frame['state']"
   ]
  },
  {
   "cell_type": "code",
   "execution_count": 53,
   "id": "further-remains",
   "metadata": {
    "scrolled": true
   },
   "outputs": [
    {
     "name": "stdout",
     "output_type": "stream",
     "text": [
      "    state  year  pop\n",
      "0    Ohio  2000  1.5\n",
      "1    Ohio  2001  1.7\n",
      "2    Ohio  2002  3.6\n",
      "3  Nevada  2001  2.4\n",
      "4  Nevada  2002  2.9\n",
      "5  Nevada  2003  NaN\n"
     ]
    }
   ],
   "source": [
    "# Para visualizar un dataframe utilizaremos display y NO print\n",
    "print(frame)"
   ]
  },
  {
   "cell_type": "code",
   "execution_count": 54,
   "id": "august-fleet",
   "metadata": {},
   "outputs": [
    {
     "data": {
      "text/html": [
       "<div>\n",
       "<style scoped>\n",
       "    .dataframe tbody tr th:only-of-type {\n",
       "        vertical-align: middle;\n",
       "    }\n",
       "\n",
       "    .dataframe tbody tr th {\n",
       "        vertical-align: top;\n",
       "    }\n",
       "\n",
       "    .dataframe thead th {\n",
       "        text-align: right;\n",
       "    }\n",
       "</style>\n",
       "<table border=\"1\" class=\"dataframe\">\n",
       "  <thead>\n",
       "    <tr style=\"text-align: right;\">\n",
       "      <th></th>\n",
       "      <th>state</th>\n",
       "      <th>year</th>\n",
       "      <th>pop</th>\n",
       "    </tr>\n",
       "  </thead>\n",
       "  <tbody>\n",
       "    <tr>\n",
       "      <th>0</th>\n",
       "      <td>Ohio</td>\n",
       "      <td>2000</td>\n",
       "      <td>1.5</td>\n",
       "    </tr>\n",
       "    <tr>\n",
       "      <th>1</th>\n",
       "      <td>Ohio</td>\n",
       "      <td>2001</td>\n",
       "      <td>1.7</td>\n",
       "    </tr>\n",
       "    <tr>\n",
       "      <th>2</th>\n",
       "      <td>Ohio</td>\n",
       "      <td>2002</td>\n",
       "      <td>3.6</td>\n",
       "    </tr>\n",
       "    <tr>\n",
       "      <th>3</th>\n",
       "      <td>Nevada</td>\n",
       "      <td>2001</td>\n",
       "      <td>2.4</td>\n",
       "    </tr>\n",
       "    <tr>\n",
       "      <th>4</th>\n",
       "      <td>Nevada</td>\n",
       "      <td>2002</td>\n",
       "      <td>2.9</td>\n",
       "    </tr>\n",
       "    <tr>\n",
       "      <th>5</th>\n",
       "      <td>Nevada</td>\n",
       "      <td>2003</td>\n",
       "      <td>NaN</td>\n",
       "    </tr>\n",
       "  </tbody>\n",
       "</table>\n",
       "</div>"
      ],
      "text/plain": [
       "    state  year  pop\n",
       "0    Ohio  2000  1.5\n",
       "1    Ohio  2001  1.7\n",
       "2    Ohio  2002  3.6\n",
       "3  Nevada  2001  2.4\n",
       "4  Nevada  2002  2.9\n",
       "5  Nevada  2003  NaN"
      ]
     },
     "metadata": {},
     "output_type": "display_data"
    }
   ],
   "source": [
    "display(frame)"
   ]
  },
  {
   "cell_type": "code",
   "execution_count": 55,
   "id": "2a760a7c",
   "metadata": {},
   "outputs": [],
   "source": [
    "lista = [1.5, 1.7, 3.6, 2.4, 2.9] #Los NaN no entran en el cálculo, los omite"
   ]
  },
  {
   "cell_type": "code",
   "execution_count": 57,
   "id": "ec315d2d",
   "metadata": {},
   "outputs": [
    {
     "data": {
      "text/plain": [
       "2.4200000000000004"
      ]
     },
     "execution_count": 57,
     "metadata": {},
     "output_type": "execute_result"
    }
   ],
   "source": [
    "sum(lista)/len(lista)"
   ]
  },
  {
   "cell_type": "markdown",
   "id": "ecb04343",
   "metadata": {},
   "source": [
    "https://pandas.pydata.org/docs/reference/api/pandas.DataFrame.from_dict.html"
   ]
  },
  {
   "cell_type": "code",
   "execution_count": 58,
   "id": "destroyed-couple",
   "metadata": {},
   "outputs": [
    {
     "data": {
      "text/html": [
       "<div>\n",
       "<style scoped>\n",
       "    .dataframe tbody tr th:only-of-type {\n",
       "        vertical-align: middle;\n",
       "    }\n",
       "\n",
       "    .dataframe tbody tr th {\n",
       "        vertical-align: top;\n",
       "    }\n",
       "\n",
       "    .dataframe thead th {\n",
       "        text-align: right;\n",
       "    }\n",
       "</style>\n",
       "<table border=\"1\" class=\"dataframe\">\n",
       "  <thead>\n",
       "    <tr style=\"text-align: right;\">\n",
       "      <th></th>\n",
       "      <th>state</th>\n",
       "      <th>year</th>\n",
       "      <th>pop</th>\n",
       "    </tr>\n",
       "  </thead>\n",
       "  <tbody>\n",
       "    <tr>\n",
       "      <th>0</th>\n",
       "      <td>Ohio</td>\n",
       "      <td>2000</td>\n",
       "      <td>1.5</td>\n",
       "    </tr>\n",
       "    <tr>\n",
       "      <th>1</th>\n",
       "      <td>Ohio</td>\n",
       "      <td>2001</td>\n",
       "      <td>1.7</td>\n",
       "    </tr>\n",
       "    <tr>\n",
       "      <th>2</th>\n",
       "      <td>Ohio</td>\n",
       "      <td>2002</td>\n",
       "      <td>3.6</td>\n",
       "    </tr>\n",
       "    <tr>\n",
       "      <th>3</th>\n",
       "      <td>Nevada</td>\n",
       "      <td>2001</td>\n",
       "      <td>2.4</td>\n",
       "    </tr>\n",
       "    <tr>\n",
       "      <th>4</th>\n",
       "      <td>Nevada</td>\n",
       "      <td>2002</td>\n",
       "      <td>2.9</td>\n",
       "    </tr>\n",
       "    <tr>\n",
       "      <th>5</th>\n",
       "      <td>Nevada</td>\n",
       "      <td>2003</td>\n",
       "      <td>NaN</td>\n",
       "    </tr>\n",
       "  </tbody>\n",
       "</table>\n",
       "</div>"
      ],
      "text/plain": [
       "    state  year  pop\n",
       "0    Ohio  2000  1.5\n",
       "1    Ohio  2001  1.7\n",
       "2    Ohio  2002  3.6\n",
       "3  Nevada  2001  2.4\n",
       "4  Nevada  2002  2.9\n",
       "5  Nevada  2003  NaN"
      ]
     },
     "execution_count": 58,
     "metadata": {},
     "output_type": "execute_result"
    }
   ],
   "source": [
    "pd.DataFrame.from_dict(data, orient=\"columns\") # orient=\"index\""
   ]
  },
  {
   "cell_type": "code",
   "execution_count": 59,
   "id": "c69a8633",
   "metadata": {},
   "outputs": [
    {
     "data": {
      "text/html": [
       "<div>\n",
       "<style scoped>\n",
       "    .dataframe tbody tr th:only-of-type {\n",
       "        vertical-align: middle;\n",
       "    }\n",
       "\n",
       "    .dataframe tbody tr th {\n",
       "        vertical-align: top;\n",
       "    }\n",
       "\n",
       "    .dataframe thead th {\n",
       "        text-align: right;\n",
       "    }\n",
       "</style>\n",
       "<table border=\"1\" class=\"dataframe\">\n",
       "  <thead>\n",
       "    <tr style=\"text-align: right;\">\n",
       "      <th></th>\n",
       "      <th>0</th>\n",
       "      <th>1</th>\n",
       "      <th>2</th>\n",
       "      <th>3</th>\n",
       "      <th>4</th>\n",
       "      <th>5</th>\n",
       "    </tr>\n",
       "  </thead>\n",
       "  <tbody>\n",
       "    <tr>\n",
       "      <th>state</th>\n",
       "      <td>Ohio</td>\n",
       "      <td>Ohio</td>\n",
       "      <td>Ohio</td>\n",
       "      <td>Nevada</td>\n",
       "      <td>Nevada</td>\n",
       "      <td>Nevada</td>\n",
       "    </tr>\n",
       "    <tr>\n",
       "      <th>year</th>\n",
       "      <td>2000</td>\n",
       "      <td>2001</td>\n",
       "      <td>2002</td>\n",
       "      <td>2001</td>\n",
       "      <td>2002</td>\n",
       "      <td>2003</td>\n",
       "    </tr>\n",
       "    <tr>\n",
       "      <th>pop</th>\n",
       "      <td>1.5</td>\n",
       "      <td>1.7</td>\n",
       "      <td>3.6</td>\n",
       "      <td>2.4</td>\n",
       "      <td>2.9</td>\n",
       "      <td>NaN</td>\n",
       "    </tr>\n",
       "  </tbody>\n",
       "</table>\n",
       "</div>"
      ],
      "text/plain": [
       "          0     1     2       3       4       5\n",
       "state  Ohio  Ohio  Ohio  Nevada  Nevada  Nevada\n",
       "year   2000  2001  2002    2001    2002    2003\n",
       "pop     1.5   1.7   3.6     2.4     2.9     NaN"
      ]
     },
     "execution_count": 59,
     "metadata": {},
     "output_type": "execute_result"
    }
   ],
   "source": [
    "pd.DataFrame.from_dict(data, orient=\"index\") # orient=\"index\""
   ]
  },
  {
   "cell_type": "code",
   "execution_count": 60,
   "id": "57d3103c",
   "metadata": {},
   "outputs": [],
   "source": [
    "import pandas as pd\n",
    "import numpy as np"
   ]
  },
  {
   "cell_type": "code",
   "execution_count": 61,
   "id": "christian-battery",
   "metadata": {},
   "outputs": [],
   "source": [
    "# Desde una lista de diccionarios\n",
    "datos = [{'nombre': 'Victor',\n",
    "               'apellido': 'Pablo',\n",
    "               'email': 'victor.pablo@gamma.com',\n",
    "               'vacaciones': 10,\n",
    "               'saludo': lambda: print('Hacedme la Pull Request!!!!')} ,\n",
    "         \n",
    "         {'nombre': 'Javier',\n",
    "               'apellido': 'García',\n",
    "                  'email': 'javi.garcia@gamma.com',\n",
    "               'vacaciones': 15,\n",
    "               'saludo': lambda : print('Hola soy Javi, cuidado con los print infinitos') },\n",
    "        {'nombre': 'Pablo',\n",
    "               'apellido': 'Martinez',\n",
    "                  'email': 'pablo.martinez@gamma.com',\n",
    "               'vacaciones': np.nan,\n",
    "               'saludo': lambda: print('Hola, soy Pablo y no tengo vacaciones definidas') }]"
   ]
  },
  {
   "cell_type": "code",
   "execution_count": 62,
   "id": "every-accounting",
   "metadata": {},
   "outputs": [
    {
     "name": "stdout",
     "output_type": "stream",
     "text": [
      "Hacedme la Pull Request!!!!\n"
     ]
    }
   ],
   "source": [
    "datos[0][\"saludo\"]()"
   ]
  },
  {
   "cell_type": "code",
   "execution_count": 63,
   "id": "aging-angola",
   "metadata": {},
   "outputs": [],
   "source": [
    "df_datos = pd.DataFrame(datos)"
   ]
  },
  {
   "cell_type": "code",
   "execution_count": 64,
   "id": "proper-appliance",
   "metadata": {},
   "outputs": [
    {
     "data": {
      "text/html": [
       "<div>\n",
       "<style scoped>\n",
       "    .dataframe tbody tr th:only-of-type {\n",
       "        vertical-align: middle;\n",
       "    }\n",
       "\n",
       "    .dataframe tbody tr th {\n",
       "        vertical-align: top;\n",
       "    }\n",
       "\n",
       "    .dataframe thead th {\n",
       "        text-align: right;\n",
       "    }\n",
       "</style>\n",
       "<table border=\"1\" class=\"dataframe\">\n",
       "  <thead>\n",
       "    <tr style=\"text-align: right;\">\n",
       "      <th></th>\n",
       "      <th>nombre</th>\n",
       "      <th>apellido</th>\n",
       "      <th>email</th>\n",
       "      <th>vacaciones</th>\n",
       "      <th>saludo</th>\n",
       "    </tr>\n",
       "  </thead>\n",
       "  <tbody>\n",
       "    <tr>\n",
       "      <th>0</th>\n",
       "      <td>Victor</td>\n",
       "      <td>Pablo</td>\n",
       "      <td>victor.pablo@gamma.com</td>\n",
       "      <td>10.0</td>\n",
       "      <td>&lt;function &lt;lambda&gt; at 0x7f1333126dc0&gt;</td>\n",
       "    </tr>\n",
       "    <tr>\n",
       "      <th>1</th>\n",
       "      <td>Javier</td>\n",
       "      <td>García</td>\n",
       "      <td>javi.garcia@gamma.com</td>\n",
       "      <td>15.0</td>\n",
       "      <td>&lt;function &lt;lambda&gt; at 0x7f1333126af0&gt;</td>\n",
       "    </tr>\n",
       "    <tr>\n",
       "      <th>2</th>\n",
       "      <td>Pablo</td>\n",
       "      <td>Martinez</td>\n",
       "      <td>pablo.martinez@gamma.com</td>\n",
       "      <td>NaN</td>\n",
       "      <td>&lt;function &lt;lambda&gt; at 0x7f133315e040&gt;</td>\n",
       "    </tr>\n",
       "  </tbody>\n",
       "</table>\n",
       "</div>"
      ],
      "text/plain": [
       "   nombre  apellido                     email  vacaciones   \n",
       "0  Victor     Pablo    victor.pablo@gamma.com        10.0  \\\n",
       "1  Javier    García     javi.garcia@gamma.com        15.0   \n",
       "2   Pablo  Martinez  pablo.martinez@gamma.com         NaN   \n",
       "\n",
       "                                  saludo  \n",
       "0  <function <lambda> at 0x7f1333126dc0>  \n",
       "1  <function <lambda> at 0x7f1333126af0>  \n",
       "2  <function <lambda> at 0x7f133315e040>  "
      ]
     },
     "metadata": {},
     "output_type": "display_data"
    }
   ],
   "source": [
    "display(df_datos)"
   ]
  },
  {
   "cell_type": "markdown",
   "id": "regional-watershed",
   "metadata": {},
   "source": [
    "Si hago un dataframe a través de una lista de diccionarios:       \n",
    "    - Cada diccionario será una fila   \n",
    "    - Las keys serán los nombres de las columnas    \n",
    "    - Tienen que tener la misma estructura     "
   ]
  },
  {
   "cell_type": "markdown",
   "id": "arbitrary-editing",
   "metadata": {},
   "source": [
    "Como estamos usando Jupyter Notebook, los objetos DataFrame de pandas se mostrarán como una tabla HTML más amigable para el navegador.\n"
   ]
  },
  {
   "cell_type": "markdown",
   "id": "mexican-catch",
   "metadata": {},
   "source": [
    "### Cargamos datos de formato CSV"
   ]
  },
  {
   "cell_type": "code",
   "execution_count": 65,
   "id": "bronze-corruption",
   "metadata": {},
   "outputs": [],
   "source": [
    "df = pd.read_csv(\"datasets/avocado_kaggle.csv\") # MI VARIABLE SE LLAMA DF"
   ]
  },
  {
   "cell_type": "code",
   "execution_count": 66,
   "id": "agreed-eclipse",
   "metadata": {},
   "outputs": [
    {
     "data": {
      "text/html": [
       "<div>\n",
       "<style scoped>\n",
       "    .dataframe tbody tr th:only-of-type {\n",
       "        vertical-align: middle;\n",
       "    }\n",
       "\n",
       "    .dataframe tbody tr th {\n",
       "        vertical-align: top;\n",
       "    }\n",
       "\n",
       "    .dataframe thead th {\n",
       "        text-align: right;\n",
       "    }\n",
       "</style>\n",
       "<table border=\"1\" class=\"dataframe\">\n",
       "  <thead>\n",
       "    <tr style=\"text-align: right;\">\n",
       "      <th></th>\n",
       "      <th>Unnamed: 0</th>\n",
       "      <th>Date</th>\n",
       "      <th>AveragePrice</th>\n",
       "      <th>Total Volume</th>\n",
       "      <th>4046</th>\n",
       "      <th>4225</th>\n",
       "      <th>4770</th>\n",
       "      <th>Total Bags</th>\n",
       "      <th>Small Bags</th>\n",
       "      <th>Large Bags</th>\n",
       "      <th>XLarge Bags</th>\n",
       "      <th>type</th>\n",
       "      <th>year</th>\n",
       "      <th>region</th>\n",
       "    </tr>\n",
       "  </thead>\n",
       "  <tbody>\n",
       "    <tr>\n",
       "      <th>0</th>\n",
       "      <td>0</td>\n",
       "      <td>2015-12-27</td>\n",
       "      <td>1.33</td>\n",
       "      <td>64236.62</td>\n",
       "      <td>1036.74</td>\n",
       "      <td>54454.85</td>\n",
       "      <td>48.16</td>\n",
       "      <td>8696.87</td>\n",
       "      <td>8603.62</td>\n",
       "      <td>93.25</td>\n",
       "      <td>0.0</td>\n",
       "      <td>conventional</td>\n",
       "      <td>2015</td>\n",
       "      <td>Albany</td>\n",
       "    </tr>\n",
       "    <tr>\n",
       "      <th>1</th>\n",
       "      <td>1</td>\n",
       "      <td>2015-12-20</td>\n",
       "      <td>1.35</td>\n",
       "      <td>54876.98</td>\n",
       "      <td>674.28</td>\n",
       "      <td>44638.81</td>\n",
       "      <td>58.33</td>\n",
       "      <td>9505.56</td>\n",
       "      <td>9408.07</td>\n",
       "      <td>97.49</td>\n",
       "      <td>0.0</td>\n",
       "      <td>conventional</td>\n",
       "      <td>2015</td>\n",
       "      <td>Albany</td>\n",
       "    </tr>\n",
       "    <tr>\n",
       "      <th>2</th>\n",
       "      <td>2</td>\n",
       "      <td>2015-12-13</td>\n",
       "      <td>0.93</td>\n",
       "      <td>118220.22</td>\n",
       "      <td>794.70</td>\n",
       "      <td>109149.67</td>\n",
       "      <td>130.50</td>\n",
       "      <td>8145.35</td>\n",
       "      <td>8042.21</td>\n",
       "      <td>103.14</td>\n",
       "      <td>0.0</td>\n",
       "      <td>conventional</td>\n",
       "      <td>2015</td>\n",
       "      <td>Albany</td>\n",
       "    </tr>\n",
       "    <tr>\n",
       "      <th>3</th>\n",
       "      <td>3</td>\n",
       "      <td>2015-12-06</td>\n",
       "      <td>1.08</td>\n",
       "      <td>78992.15</td>\n",
       "      <td>1132.00</td>\n",
       "      <td>71976.41</td>\n",
       "      <td>72.58</td>\n",
       "      <td>5811.16</td>\n",
       "      <td>5677.40</td>\n",
       "      <td>133.76</td>\n",
       "      <td>0.0</td>\n",
       "      <td>conventional</td>\n",
       "      <td>2015</td>\n",
       "      <td>Albany</td>\n",
       "    </tr>\n",
       "    <tr>\n",
       "      <th>4</th>\n",
       "      <td>4</td>\n",
       "      <td>2015-11-29</td>\n",
       "      <td>1.28</td>\n",
       "      <td>51039.60</td>\n",
       "      <td>941.48</td>\n",
       "      <td>43838.39</td>\n",
       "      <td>75.78</td>\n",
       "      <td>6183.95</td>\n",
       "      <td>5986.26</td>\n",
       "      <td>197.69</td>\n",
       "      <td>0.0</td>\n",
       "      <td>conventional</td>\n",
       "      <td>2015</td>\n",
       "      <td>Albany</td>\n",
       "    </tr>\n",
       "    <tr>\n",
       "      <th>...</th>\n",
       "      <td>...</td>\n",
       "      <td>...</td>\n",
       "      <td>...</td>\n",
       "      <td>...</td>\n",
       "      <td>...</td>\n",
       "      <td>...</td>\n",
       "      <td>...</td>\n",
       "      <td>...</td>\n",
       "      <td>...</td>\n",
       "      <td>...</td>\n",
       "      <td>...</td>\n",
       "      <td>...</td>\n",
       "      <td>...</td>\n",
       "      <td>...</td>\n",
       "    </tr>\n",
       "    <tr>\n",
       "      <th>18244</th>\n",
       "      <td>7</td>\n",
       "      <td>2018-02-04</td>\n",
       "      <td>1.63</td>\n",
       "      <td>17074.83</td>\n",
       "      <td>2046.96</td>\n",
       "      <td>1529.20</td>\n",
       "      <td>0.00</td>\n",
       "      <td>13498.67</td>\n",
       "      <td>13066.82</td>\n",
       "      <td>431.85</td>\n",
       "      <td>0.0</td>\n",
       "      <td>organic</td>\n",
       "      <td>2018</td>\n",
       "      <td>WestTexNewMexico</td>\n",
       "    </tr>\n",
       "    <tr>\n",
       "      <th>18245</th>\n",
       "      <td>8</td>\n",
       "      <td>2018-01-28</td>\n",
       "      <td>1.71</td>\n",
       "      <td>13888.04</td>\n",
       "      <td>1191.70</td>\n",
       "      <td>3431.50</td>\n",
       "      <td>0.00</td>\n",
       "      <td>9264.84</td>\n",
       "      <td>8940.04</td>\n",
       "      <td>324.80</td>\n",
       "      <td>0.0</td>\n",
       "      <td>organic</td>\n",
       "      <td>2018</td>\n",
       "      <td>WestTexNewMexico</td>\n",
       "    </tr>\n",
       "    <tr>\n",
       "      <th>18246</th>\n",
       "      <td>9</td>\n",
       "      <td>2018-01-21</td>\n",
       "      <td>1.87</td>\n",
       "      <td>13766.76</td>\n",
       "      <td>1191.92</td>\n",
       "      <td>2452.79</td>\n",
       "      <td>727.94</td>\n",
       "      <td>9394.11</td>\n",
       "      <td>9351.80</td>\n",
       "      <td>42.31</td>\n",
       "      <td>0.0</td>\n",
       "      <td>organic</td>\n",
       "      <td>2018</td>\n",
       "      <td>WestTexNewMexico</td>\n",
       "    </tr>\n",
       "    <tr>\n",
       "      <th>18247</th>\n",
       "      <td>10</td>\n",
       "      <td>2018-01-14</td>\n",
       "      <td>1.93</td>\n",
       "      <td>16205.22</td>\n",
       "      <td>1527.63</td>\n",
       "      <td>2981.04</td>\n",
       "      <td>727.01</td>\n",
       "      <td>10969.54</td>\n",
       "      <td>10919.54</td>\n",
       "      <td>50.00</td>\n",
       "      <td>0.0</td>\n",
       "      <td>organic</td>\n",
       "      <td>2018</td>\n",
       "      <td>WestTexNewMexico</td>\n",
       "    </tr>\n",
       "    <tr>\n",
       "      <th>18248</th>\n",
       "      <td>11</td>\n",
       "      <td>2018-01-07</td>\n",
       "      <td>1.62</td>\n",
       "      <td>17489.58</td>\n",
       "      <td>2894.77</td>\n",
       "      <td>2356.13</td>\n",
       "      <td>224.53</td>\n",
       "      <td>12014.15</td>\n",
       "      <td>11988.14</td>\n",
       "      <td>26.01</td>\n",
       "      <td>0.0</td>\n",
       "      <td>organic</td>\n",
       "      <td>2018</td>\n",
       "      <td>WestTexNewMexico</td>\n",
       "    </tr>\n",
       "  </tbody>\n",
       "</table>\n",
       "<p>18249 rows × 14 columns</p>\n",
       "</div>"
      ],
      "text/plain": [
       "       Unnamed: 0        Date  AveragePrice  Total Volume     4046       4225   \n",
       "0               0  2015-12-27          1.33      64236.62  1036.74   54454.85  \\\n",
       "1               1  2015-12-20          1.35      54876.98   674.28   44638.81   \n",
       "2               2  2015-12-13          0.93     118220.22   794.70  109149.67   \n",
       "3               3  2015-12-06          1.08      78992.15  1132.00   71976.41   \n",
       "4               4  2015-11-29          1.28      51039.60   941.48   43838.39   \n",
       "...           ...         ...           ...           ...      ...        ...   \n",
       "18244           7  2018-02-04          1.63      17074.83  2046.96    1529.20   \n",
       "18245           8  2018-01-28          1.71      13888.04  1191.70    3431.50   \n",
       "18246           9  2018-01-21          1.87      13766.76  1191.92    2452.79   \n",
       "18247          10  2018-01-14          1.93      16205.22  1527.63    2981.04   \n",
       "18248          11  2018-01-07          1.62      17489.58  2894.77    2356.13   \n",
       "\n",
       "         4770  Total Bags  Small Bags  Large Bags  XLarge Bags          type   \n",
       "0       48.16     8696.87     8603.62       93.25          0.0  conventional  \\\n",
       "1       58.33     9505.56     9408.07       97.49          0.0  conventional   \n",
       "2      130.50     8145.35     8042.21      103.14          0.0  conventional   \n",
       "3       72.58     5811.16     5677.40      133.76          0.0  conventional   \n",
       "4       75.78     6183.95     5986.26      197.69          0.0  conventional   \n",
       "...       ...         ...         ...         ...          ...           ...   \n",
       "18244    0.00    13498.67    13066.82      431.85          0.0       organic   \n",
       "18245    0.00     9264.84     8940.04      324.80          0.0       organic   \n",
       "18246  727.94     9394.11     9351.80       42.31          0.0       organic   \n",
       "18247  727.01    10969.54    10919.54       50.00          0.0       organic   \n",
       "18248  224.53    12014.15    11988.14       26.01          0.0       organic   \n",
       "\n",
       "       year            region  \n",
       "0      2015            Albany  \n",
       "1      2015            Albany  \n",
       "2      2015            Albany  \n",
       "3      2015            Albany  \n",
       "4      2015            Albany  \n",
       "...     ...               ...  \n",
       "18244  2018  WestTexNewMexico  \n",
       "18245  2018  WestTexNewMexico  \n",
       "18246  2018  WestTexNewMexico  \n",
       "18247  2018  WestTexNewMexico  \n",
       "18248  2018  WestTexNewMexico  \n",
       "\n",
       "[18249 rows x 14 columns]"
      ]
     },
     "metadata": {},
     "output_type": "display_data"
    }
   ],
   "source": [
    "display(df) "
   ]
  },
  {
   "cell_type": "code",
   "execution_count": 67,
   "id": "dependent-swift",
   "metadata": {},
   "outputs": [
    {
     "data": {
      "text/plain": [
       "(18249, 14)"
      ]
     },
     "execution_count": 67,
     "metadata": {},
     "output_type": "execute_result"
    }
   ],
   "source": [
    "df.shape"
   ]
  },
  {
   "cell_type": "code",
   "execution_count": 68,
   "id": "99a54c80",
   "metadata": {},
   "outputs": [
    {
     "data": {
      "text/plain": [
       "18249"
      ]
     },
     "execution_count": 68,
     "metadata": {},
     "output_type": "execute_result"
    }
   ],
   "source": [
    "df.shape[0] #Filas"
   ]
  },
  {
   "cell_type": "code",
   "execution_count": 69,
   "id": "3c10b61c",
   "metadata": {},
   "outputs": [
    {
     "data": {
      "text/plain": [
       "14"
      ]
     },
     "execution_count": 69,
     "metadata": {},
     "output_type": "execute_result"
    }
   ],
   "source": [
    "df.shape[1] #Columnas"
   ]
  },
  {
   "cell_type": "markdown",
   "id": "surprised-dinner",
   "metadata": {},
   "source": [
    "### Cargamos datos de formato xlsx"
   ]
  },
  {
   "cell_type": "code",
   "execution_count": 70,
   "id": "2282e423",
   "metadata": {},
   "outputs": [],
   "source": [
    "#%conda install openpyxl"
   ]
  },
  {
   "cell_type": "code",
   "execution_count": 71,
   "id": "469b87a5",
   "metadata": {},
   "outputs": [],
   "source": [
    "import openpyxl"
   ]
  },
  {
   "cell_type": "code",
   "execution_count": 72,
   "id": "technological-constitution",
   "metadata": {},
   "outputs": [],
   "source": [
    "retail = pd.read_excel(\"datasets/Online Retail.xlsx\")"
   ]
  },
  {
   "cell_type": "code",
   "execution_count": 73,
   "id": "multiple-priest",
   "metadata": {},
   "outputs": [
    {
     "data": {
      "text/plain": [
       "(396034, 9)"
      ]
     },
     "execution_count": 73,
     "metadata": {},
     "output_type": "execute_result"
    }
   ],
   "source": [
    "retail.shape"
   ]
  },
  {
   "cell_type": "markdown",
   "id": "blocked-philippines",
   "metadata": {},
   "source": [
    "### Visualizamos las primeras filas"
   ]
  },
  {
   "cell_type": "code",
   "execution_count": 74,
   "id": "requested-memorial",
   "metadata": {},
   "outputs": [
    {
     "data": {
      "text/html": [
       "<div>\n",
       "<style scoped>\n",
       "    .dataframe tbody tr th:only-of-type {\n",
       "        vertical-align: middle;\n",
       "    }\n",
       "\n",
       "    .dataframe tbody tr th {\n",
       "        vertical-align: top;\n",
       "    }\n",
       "\n",
       "    .dataframe thead th {\n",
       "        text-align: right;\n",
       "    }\n",
       "</style>\n",
       "<table border=\"1\" class=\"dataframe\">\n",
       "  <thead>\n",
       "    <tr style=\"text-align: right;\">\n",
       "      <th></th>\n",
       "      <th>Unnamed: 0</th>\n",
       "      <th>Date</th>\n",
       "      <th>AveragePrice</th>\n",
       "      <th>Total Volume</th>\n",
       "      <th>4046</th>\n",
       "      <th>4225</th>\n",
       "      <th>4770</th>\n",
       "      <th>Total Bags</th>\n",
       "      <th>Small Bags</th>\n",
       "      <th>Large Bags</th>\n",
       "      <th>XLarge Bags</th>\n",
       "      <th>type</th>\n",
       "      <th>year</th>\n",
       "      <th>region</th>\n",
       "    </tr>\n",
       "  </thead>\n",
       "  <tbody>\n",
       "    <tr>\n",
       "      <th>0</th>\n",
       "      <td>0</td>\n",
       "      <td>2015-12-27</td>\n",
       "      <td>1.33</td>\n",
       "      <td>64236.62</td>\n",
       "      <td>1036.74</td>\n",
       "      <td>54454.85</td>\n",
       "      <td>48.16</td>\n",
       "      <td>8696.87</td>\n",
       "      <td>8603.62</td>\n",
       "      <td>93.25</td>\n",
       "      <td>0.0</td>\n",
       "      <td>conventional</td>\n",
       "      <td>2015</td>\n",
       "      <td>Albany</td>\n",
       "    </tr>\n",
       "    <tr>\n",
       "      <th>1</th>\n",
       "      <td>1</td>\n",
       "      <td>2015-12-20</td>\n",
       "      <td>1.35</td>\n",
       "      <td>54876.98</td>\n",
       "      <td>674.28</td>\n",
       "      <td>44638.81</td>\n",
       "      <td>58.33</td>\n",
       "      <td>9505.56</td>\n",
       "      <td>9408.07</td>\n",
       "      <td>97.49</td>\n",
       "      <td>0.0</td>\n",
       "      <td>conventional</td>\n",
       "      <td>2015</td>\n",
       "      <td>Albany</td>\n",
       "    </tr>\n",
       "    <tr>\n",
       "      <th>2</th>\n",
       "      <td>2</td>\n",
       "      <td>2015-12-13</td>\n",
       "      <td>0.93</td>\n",
       "      <td>118220.22</td>\n",
       "      <td>794.70</td>\n",
       "      <td>109149.67</td>\n",
       "      <td>130.50</td>\n",
       "      <td>8145.35</td>\n",
       "      <td>8042.21</td>\n",
       "      <td>103.14</td>\n",
       "      <td>0.0</td>\n",
       "      <td>conventional</td>\n",
       "      <td>2015</td>\n",
       "      <td>Albany</td>\n",
       "    </tr>\n",
       "    <tr>\n",
       "      <th>3</th>\n",
       "      <td>3</td>\n",
       "      <td>2015-12-06</td>\n",
       "      <td>1.08</td>\n",
       "      <td>78992.15</td>\n",
       "      <td>1132.00</td>\n",
       "      <td>71976.41</td>\n",
       "      <td>72.58</td>\n",
       "      <td>5811.16</td>\n",
       "      <td>5677.40</td>\n",
       "      <td>133.76</td>\n",
       "      <td>0.0</td>\n",
       "      <td>conventional</td>\n",
       "      <td>2015</td>\n",
       "      <td>Albany</td>\n",
       "    </tr>\n",
       "    <tr>\n",
       "      <th>4</th>\n",
       "      <td>4</td>\n",
       "      <td>2015-11-29</td>\n",
       "      <td>1.28</td>\n",
       "      <td>51039.60</td>\n",
       "      <td>941.48</td>\n",
       "      <td>43838.39</td>\n",
       "      <td>75.78</td>\n",
       "      <td>6183.95</td>\n",
       "      <td>5986.26</td>\n",
       "      <td>197.69</td>\n",
       "      <td>0.0</td>\n",
       "      <td>conventional</td>\n",
       "      <td>2015</td>\n",
       "      <td>Albany</td>\n",
       "    </tr>\n",
       "  </tbody>\n",
       "</table>\n",
       "</div>"
      ],
      "text/plain": [
       "   Unnamed: 0        Date  AveragePrice  Total Volume     4046       4225   \n",
       "0           0  2015-12-27          1.33      64236.62  1036.74   54454.85  \\\n",
       "1           1  2015-12-20          1.35      54876.98   674.28   44638.81   \n",
       "2           2  2015-12-13          0.93     118220.22   794.70  109149.67   \n",
       "3           3  2015-12-06          1.08      78992.15  1132.00   71976.41   \n",
       "4           4  2015-11-29          1.28      51039.60   941.48   43838.39   \n",
       "\n",
       "     4770  Total Bags  Small Bags  Large Bags  XLarge Bags          type   \n",
       "0   48.16     8696.87     8603.62       93.25          0.0  conventional  \\\n",
       "1   58.33     9505.56     9408.07       97.49          0.0  conventional   \n",
       "2  130.50     8145.35     8042.21      103.14          0.0  conventional   \n",
       "3   72.58     5811.16     5677.40      133.76          0.0  conventional   \n",
       "4   75.78     6183.95     5986.26      197.69          0.0  conventional   \n",
       "\n",
       "   year  region  \n",
       "0  2015  Albany  \n",
       "1  2015  Albany  \n",
       "2  2015  Albany  \n",
       "3  2015  Albany  \n",
       "4  2015  Albany  "
      ]
     },
     "execution_count": 74,
     "metadata": {},
     "output_type": "execute_result"
    }
   ],
   "source": [
    "df.head()"
   ]
  },
  {
   "cell_type": "markdown",
   "id": "acting-milton",
   "metadata": {},
   "source": [
    "Por defecto head me muestra las 5 primeras filas, puedo ver algunas más o algunas menos pasándole un número como parámetro "
   ]
  },
  {
   "cell_type": "code",
   "execution_count": 75,
   "id": "first-identity",
   "metadata": {},
   "outputs": [
    {
     "data": {
      "text/html": [
       "<div>\n",
       "<style scoped>\n",
       "    .dataframe tbody tr th:only-of-type {\n",
       "        vertical-align: middle;\n",
       "    }\n",
       "\n",
       "    .dataframe tbody tr th {\n",
       "        vertical-align: top;\n",
       "    }\n",
       "\n",
       "    .dataframe thead th {\n",
       "        text-align: right;\n",
       "    }\n",
       "</style>\n",
       "<table border=\"1\" class=\"dataframe\">\n",
       "  <thead>\n",
       "    <tr style=\"text-align: right;\">\n",
       "      <th></th>\n",
       "      <th>Unnamed: 0</th>\n",
       "      <th>Date</th>\n",
       "      <th>AveragePrice</th>\n",
       "      <th>Total Volume</th>\n",
       "      <th>4046</th>\n",
       "      <th>4225</th>\n",
       "      <th>4770</th>\n",
       "      <th>Total Bags</th>\n",
       "      <th>Small Bags</th>\n",
       "      <th>Large Bags</th>\n",
       "      <th>XLarge Bags</th>\n",
       "      <th>type</th>\n",
       "      <th>year</th>\n",
       "      <th>region</th>\n",
       "    </tr>\n",
       "  </thead>\n",
       "  <tbody>\n",
       "    <tr>\n",
       "      <th>0</th>\n",
       "      <td>0</td>\n",
       "      <td>2015-12-27</td>\n",
       "      <td>1.33</td>\n",
       "      <td>64236.62</td>\n",
       "      <td>1036.74</td>\n",
       "      <td>54454.85</td>\n",
       "      <td>48.16</td>\n",
       "      <td>8696.87</td>\n",
       "      <td>8603.62</td>\n",
       "      <td>93.25</td>\n",
       "      <td>0.0</td>\n",
       "      <td>conventional</td>\n",
       "      <td>2015</td>\n",
       "      <td>Albany</td>\n",
       "    </tr>\n",
       "    <tr>\n",
       "      <th>1</th>\n",
       "      <td>1</td>\n",
       "      <td>2015-12-20</td>\n",
       "      <td>1.35</td>\n",
       "      <td>54876.98</td>\n",
       "      <td>674.28</td>\n",
       "      <td>44638.81</td>\n",
       "      <td>58.33</td>\n",
       "      <td>9505.56</td>\n",
       "      <td>9408.07</td>\n",
       "      <td>97.49</td>\n",
       "      <td>0.0</td>\n",
       "      <td>conventional</td>\n",
       "      <td>2015</td>\n",
       "      <td>Albany</td>\n",
       "    </tr>\n",
       "    <tr>\n",
       "      <th>2</th>\n",
       "      <td>2</td>\n",
       "      <td>2015-12-13</td>\n",
       "      <td>0.93</td>\n",
       "      <td>118220.22</td>\n",
       "      <td>794.70</td>\n",
       "      <td>109149.67</td>\n",
       "      <td>130.50</td>\n",
       "      <td>8145.35</td>\n",
       "      <td>8042.21</td>\n",
       "      <td>103.14</td>\n",
       "      <td>0.0</td>\n",
       "      <td>conventional</td>\n",
       "      <td>2015</td>\n",
       "      <td>Albany</td>\n",
       "    </tr>\n",
       "  </tbody>\n",
       "</table>\n",
       "</div>"
      ],
      "text/plain": [
       "   Unnamed: 0        Date  AveragePrice  Total Volume     4046       4225   \n",
       "0           0  2015-12-27          1.33      64236.62  1036.74   54454.85  \\\n",
       "1           1  2015-12-20          1.35      54876.98   674.28   44638.81   \n",
       "2           2  2015-12-13          0.93     118220.22   794.70  109149.67   \n",
       "\n",
       "     4770  Total Bags  Small Bags  Large Bags  XLarge Bags          type   \n",
       "0   48.16     8696.87     8603.62       93.25          0.0  conventional  \\\n",
       "1   58.33     9505.56     9408.07       97.49          0.0  conventional   \n",
       "2  130.50     8145.35     8042.21      103.14          0.0  conventional   \n",
       "\n",
       "   year  region  \n",
       "0  2015  Albany  \n",
       "1  2015  Albany  \n",
       "2  2015  Albany  "
      ]
     },
     "execution_count": 75,
     "metadata": {},
     "output_type": "execute_result"
    }
   ],
   "source": [
    "df.head(3)"
   ]
  },
  {
   "cell_type": "markdown",
   "id": "finite-foundation",
   "metadata": {},
   "source": [
    "### Visualizamos las últimas filas "
   ]
  },
  {
   "cell_type": "code",
   "execution_count": 76,
   "id": "lined-switzerland",
   "metadata": {},
   "outputs": [
    {
     "data": {
      "text/html": [
       "<div>\n",
       "<style scoped>\n",
       "    .dataframe tbody tr th:only-of-type {\n",
       "        vertical-align: middle;\n",
       "    }\n",
       "\n",
       "    .dataframe tbody tr th {\n",
       "        vertical-align: top;\n",
       "    }\n",
       "\n",
       "    .dataframe thead th {\n",
       "        text-align: right;\n",
       "    }\n",
       "</style>\n",
       "<table border=\"1\" class=\"dataframe\">\n",
       "  <thead>\n",
       "    <tr style=\"text-align: right;\">\n",
       "      <th></th>\n",
       "      <th>Unnamed: 0</th>\n",
       "      <th>Date</th>\n",
       "      <th>AveragePrice</th>\n",
       "      <th>Total Volume</th>\n",
       "      <th>4046</th>\n",
       "      <th>4225</th>\n",
       "      <th>4770</th>\n",
       "      <th>Total Bags</th>\n",
       "      <th>Small Bags</th>\n",
       "      <th>Large Bags</th>\n",
       "      <th>XLarge Bags</th>\n",
       "      <th>type</th>\n",
       "      <th>year</th>\n",
       "      <th>region</th>\n",
       "    </tr>\n",
       "  </thead>\n",
       "  <tbody>\n",
       "    <tr>\n",
       "      <th>18244</th>\n",
       "      <td>7</td>\n",
       "      <td>2018-02-04</td>\n",
       "      <td>1.63</td>\n",
       "      <td>17074.83</td>\n",
       "      <td>2046.96</td>\n",
       "      <td>1529.20</td>\n",
       "      <td>0.00</td>\n",
       "      <td>13498.67</td>\n",
       "      <td>13066.82</td>\n",
       "      <td>431.85</td>\n",
       "      <td>0.0</td>\n",
       "      <td>organic</td>\n",
       "      <td>2018</td>\n",
       "      <td>WestTexNewMexico</td>\n",
       "    </tr>\n",
       "    <tr>\n",
       "      <th>18245</th>\n",
       "      <td>8</td>\n",
       "      <td>2018-01-28</td>\n",
       "      <td>1.71</td>\n",
       "      <td>13888.04</td>\n",
       "      <td>1191.70</td>\n",
       "      <td>3431.50</td>\n",
       "      <td>0.00</td>\n",
       "      <td>9264.84</td>\n",
       "      <td>8940.04</td>\n",
       "      <td>324.80</td>\n",
       "      <td>0.0</td>\n",
       "      <td>organic</td>\n",
       "      <td>2018</td>\n",
       "      <td>WestTexNewMexico</td>\n",
       "    </tr>\n",
       "    <tr>\n",
       "      <th>18246</th>\n",
       "      <td>9</td>\n",
       "      <td>2018-01-21</td>\n",
       "      <td>1.87</td>\n",
       "      <td>13766.76</td>\n",
       "      <td>1191.92</td>\n",
       "      <td>2452.79</td>\n",
       "      <td>727.94</td>\n",
       "      <td>9394.11</td>\n",
       "      <td>9351.80</td>\n",
       "      <td>42.31</td>\n",
       "      <td>0.0</td>\n",
       "      <td>organic</td>\n",
       "      <td>2018</td>\n",
       "      <td>WestTexNewMexico</td>\n",
       "    </tr>\n",
       "    <tr>\n",
       "      <th>18247</th>\n",
       "      <td>10</td>\n",
       "      <td>2018-01-14</td>\n",
       "      <td>1.93</td>\n",
       "      <td>16205.22</td>\n",
       "      <td>1527.63</td>\n",
       "      <td>2981.04</td>\n",
       "      <td>727.01</td>\n",
       "      <td>10969.54</td>\n",
       "      <td>10919.54</td>\n",
       "      <td>50.00</td>\n",
       "      <td>0.0</td>\n",
       "      <td>organic</td>\n",
       "      <td>2018</td>\n",
       "      <td>WestTexNewMexico</td>\n",
       "    </tr>\n",
       "    <tr>\n",
       "      <th>18248</th>\n",
       "      <td>11</td>\n",
       "      <td>2018-01-07</td>\n",
       "      <td>1.62</td>\n",
       "      <td>17489.58</td>\n",
       "      <td>2894.77</td>\n",
       "      <td>2356.13</td>\n",
       "      <td>224.53</td>\n",
       "      <td>12014.15</td>\n",
       "      <td>11988.14</td>\n",
       "      <td>26.01</td>\n",
       "      <td>0.0</td>\n",
       "      <td>organic</td>\n",
       "      <td>2018</td>\n",
       "      <td>WestTexNewMexico</td>\n",
       "    </tr>\n",
       "  </tbody>\n",
       "</table>\n",
       "</div>"
      ],
      "text/plain": [
       "       Unnamed: 0        Date  AveragePrice  Total Volume     4046     4225   \n",
       "18244           7  2018-02-04          1.63      17074.83  2046.96  1529.20  \\\n",
       "18245           8  2018-01-28          1.71      13888.04  1191.70  3431.50   \n",
       "18246           9  2018-01-21          1.87      13766.76  1191.92  2452.79   \n",
       "18247          10  2018-01-14          1.93      16205.22  1527.63  2981.04   \n",
       "18248          11  2018-01-07          1.62      17489.58  2894.77  2356.13   \n",
       "\n",
       "         4770  Total Bags  Small Bags  Large Bags  XLarge Bags     type  year   \n",
       "18244    0.00    13498.67    13066.82      431.85          0.0  organic  2018  \\\n",
       "18245    0.00     9264.84     8940.04      324.80          0.0  organic  2018   \n",
       "18246  727.94     9394.11     9351.80       42.31          0.0  organic  2018   \n",
       "18247  727.01    10969.54    10919.54       50.00          0.0  organic  2018   \n",
       "18248  224.53    12014.15    11988.14       26.01          0.0  organic  2018   \n",
       "\n",
       "                 region  \n",
       "18244  WestTexNewMexico  \n",
       "18245  WestTexNewMexico  \n",
       "18246  WestTexNewMexico  \n",
       "18247  WestTexNewMexico  \n",
       "18248  WestTexNewMexico  "
      ]
     },
     "execution_count": 76,
     "metadata": {},
     "output_type": "execute_result"
    }
   ],
   "source": [
    "df.tail()"
   ]
  },
  {
   "cell_type": "markdown",
   "id": "deadly-richards",
   "metadata": {},
   "source": [
    "Excatamente igual que con .head() le pasamos un parámetro a .tail()"
   ]
  },
  {
   "cell_type": "code",
   "execution_count": 77,
   "id": "suited-variation",
   "metadata": {},
   "outputs": [
    {
     "data": {
      "text/html": [
       "<div>\n",
       "<style scoped>\n",
       "    .dataframe tbody tr th:only-of-type {\n",
       "        vertical-align: middle;\n",
       "    }\n",
       "\n",
       "    .dataframe tbody tr th {\n",
       "        vertical-align: top;\n",
       "    }\n",
       "\n",
       "    .dataframe thead th {\n",
       "        text-align: right;\n",
       "    }\n",
       "</style>\n",
       "<table border=\"1\" class=\"dataframe\">\n",
       "  <thead>\n",
       "    <tr style=\"text-align: right;\">\n",
       "      <th></th>\n",
       "      <th>Unnamed: 0</th>\n",
       "      <th>Date</th>\n",
       "      <th>AveragePrice</th>\n",
       "      <th>Total Volume</th>\n",
       "      <th>4046</th>\n",
       "      <th>4225</th>\n",
       "      <th>4770</th>\n",
       "      <th>Total Bags</th>\n",
       "      <th>Small Bags</th>\n",
       "      <th>Large Bags</th>\n",
       "      <th>XLarge Bags</th>\n",
       "      <th>type</th>\n",
       "      <th>year</th>\n",
       "      <th>region</th>\n",
       "    </tr>\n",
       "  </thead>\n",
       "  <tbody>\n",
       "    <tr>\n",
       "      <th>18246</th>\n",
       "      <td>9</td>\n",
       "      <td>2018-01-21</td>\n",
       "      <td>1.87</td>\n",
       "      <td>13766.76</td>\n",
       "      <td>1191.92</td>\n",
       "      <td>2452.79</td>\n",
       "      <td>727.94</td>\n",
       "      <td>9394.11</td>\n",
       "      <td>9351.80</td>\n",
       "      <td>42.31</td>\n",
       "      <td>0.0</td>\n",
       "      <td>organic</td>\n",
       "      <td>2018</td>\n",
       "      <td>WestTexNewMexico</td>\n",
       "    </tr>\n",
       "    <tr>\n",
       "      <th>18247</th>\n",
       "      <td>10</td>\n",
       "      <td>2018-01-14</td>\n",
       "      <td>1.93</td>\n",
       "      <td>16205.22</td>\n",
       "      <td>1527.63</td>\n",
       "      <td>2981.04</td>\n",
       "      <td>727.01</td>\n",
       "      <td>10969.54</td>\n",
       "      <td>10919.54</td>\n",
       "      <td>50.00</td>\n",
       "      <td>0.0</td>\n",
       "      <td>organic</td>\n",
       "      <td>2018</td>\n",
       "      <td>WestTexNewMexico</td>\n",
       "    </tr>\n",
       "    <tr>\n",
       "      <th>18248</th>\n",
       "      <td>11</td>\n",
       "      <td>2018-01-07</td>\n",
       "      <td>1.62</td>\n",
       "      <td>17489.58</td>\n",
       "      <td>2894.77</td>\n",
       "      <td>2356.13</td>\n",
       "      <td>224.53</td>\n",
       "      <td>12014.15</td>\n",
       "      <td>11988.14</td>\n",
       "      <td>26.01</td>\n",
       "      <td>0.0</td>\n",
       "      <td>organic</td>\n",
       "      <td>2018</td>\n",
       "      <td>WestTexNewMexico</td>\n",
       "    </tr>\n",
       "  </tbody>\n",
       "</table>\n",
       "</div>"
      ],
      "text/plain": [
       "       Unnamed: 0        Date  AveragePrice  Total Volume     4046     4225   \n",
       "18246           9  2018-01-21          1.87      13766.76  1191.92  2452.79  \\\n",
       "18247          10  2018-01-14          1.93      16205.22  1527.63  2981.04   \n",
       "18248          11  2018-01-07          1.62      17489.58  2894.77  2356.13   \n",
       "\n",
       "         4770  Total Bags  Small Bags  Large Bags  XLarge Bags     type  year   \n",
       "18246  727.94     9394.11     9351.80       42.31          0.0  organic  2018  \\\n",
       "18247  727.01    10969.54    10919.54       50.00          0.0  organic  2018   \n",
       "18248  224.53    12014.15    11988.14       26.01          0.0  organic  2018   \n",
       "\n",
       "                 region  \n",
       "18246  WestTexNewMexico  \n",
       "18247  WestTexNewMexico  \n",
       "18248  WestTexNewMexico  "
      ]
     },
     "execution_count": 77,
     "metadata": {},
     "output_type": "execute_result"
    }
   ],
   "source": [
    "df.tail(3)"
   ]
  },
  {
   "cell_type": "markdown",
   "id": "developed-distance",
   "metadata": {},
   "source": [
    "### Visualizamos una muestra aleatoria"
   ]
  },
  {
   "cell_type": "code",
   "execution_count": 78,
   "id": "emotional-workshop",
   "metadata": {},
   "outputs": [
    {
     "data": {
      "text/html": [
       "<div>\n",
       "<style scoped>\n",
       "    .dataframe tbody tr th:only-of-type {\n",
       "        vertical-align: middle;\n",
       "    }\n",
       "\n",
       "    .dataframe tbody tr th {\n",
       "        vertical-align: top;\n",
       "    }\n",
       "\n",
       "    .dataframe thead th {\n",
       "        text-align: right;\n",
       "    }\n",
       "</style>\n",
       "<table border=\"1\" class=\"dataframe\">\n",
       "  <thead>\n",
       "    <tr style=\"text-align: right;\">\n",
       "      <th></th>\n",
       "      <th>Unnamed: 0</th>\n",
       "      <th>Date</th>\n",
       "      <th>AveragePrice</th>\n",
       "      <th>Total Volume</th>\n",
       "      <th>4046</th>\n",
       "      <th>4225</th>\n",
       "      <th>4770</th>\n",
       "      <th>Total Bags</th>\n",
       "      <th>Small Bags</th>\n",
       "      <th>Large Bags</th>\n",
       "      <th>XLarge Bags</th>\n",
       "      <th>type</th>\n",
       "      <th>year</th>\n",
       "      <th>region</th>\n",
       "    </tr>\n",
       "  </thead>\n",
       "  <tbody>\n",
       "    <tr>\n",
       "      <th>7452</th>\n",
       "      <td>34</td>\n",
       "      <td>2017-05-07</td>\n",
       "      <td>1.03</td>\n",
       "      <td>214738.04</td>\n",
       "      <td>107597.81</td>\n",
       "      <td>50334.69</td>\n",
       "      <td>3681.75</td>\n",
       "      <td>53123.79</td>\n",
       "      <td>38144.13</td>\n",
       "      <td>14979.66</td>\n",
       "      <td>0.0</td>\n",
       "      <td>conventional</td>\n",
       "      <td>2017</td>\n",
       "      <td>Pittsburgh</td>\n",
       "    </tr>\n",
       "  </tbody>\n",
       "</table>\n",
       "</div>"
      ],
      "text/plain": [
       "      Unnamed: 0        Date  AveragePrice  Total Volume       4046      4225   \n",
       "7452          34  2017-05-07          1.03     214738.04  107597.81  50334.69  \\\n",
       "\n",
       "         4770  Total Bags  Small Bags  Large Bags  XLarge Bags          type   \n",
       "7452  3681.75    53123.79    38144.13    14979.66          0.0  conventional  \\\n",
       "\n",
       "      year      region  \n",
       "7452  2017  Pittsburgh  "
      ]
     },
     "execution_count": 78,
     "metadata": {},
     "output_type": "execute_result"
    }
   ],
   "source": [
    "df.sample() #si no le pasamos un parámetro, visualiza una sola fila de forma aleatoria."
   ]
  },
  {
   "cell_type": "code",
   "execution_count": 79,
   "id": "little-category",
   "metadata": {},
   "outputs": [
    {
     "data": {
      "text/html": [
       "<div>\n",
       "<style scoped>\n",
       "    .dataframe tbody tr th:only-of-type {\n",
       "        vertical-align: middle;\n",
       "    }\n",
       "\n",
       "    .dataframe tbody tr th {\n",
       "        vertical-align: top;\n",
       "    }\n",
       "\n",
       "    .dataframe thead th {\n",
       "        text-align: right;\n",
       "    }\n",
       "</style>\n",
       "<table border=\"1\" class=\"dataframe\">\n",
       "  <thead>\n",
       "    <tr style=\"text-align: right;\">\n",
       "      <th></th>\n",
       "      <th>Unnamed: 0</th>\n",
       "      <th>Date</th>\n",
       "      <th>AveragePrice</th>\n",
       "      <th>Total Volume</th>\n",
       "      <th>4046</th>\n",
       "      <th>4225</th>\n",
       "      <th>4770</th>\n",
       "      <th>Total Bags</th>\n",
       "      <th>Small Bags</th>\n",
       "      <th>Large Bags</th>\n",
       "      <th>XLarge Bags</th>\n",
       "      <th>type</th>\n",
       "      <th>year</th>\n",
       "      <th>region</th>\n",
       "    </tr>\n",
       "  </thead>\n",
       "  <tbody>\n",
       "    <tr>\n",
       "      <th>17845</th>\n",
       "      <td>4</td>\n",
       "      <td>2018-02-25</td>\n",
       "      <td>1.73</td>\n",
       "      <td>4988.75</td>\n",
       "      <td>106.24</td>\n",
       "      <td>915.35</td>\n",
       "      <td>0.00</td>\n",
       "      <td>3967.16</td>\n",
       "      <td>2877.78</td>\n",
       "      <td>1089.38</td>\n",
       "      <td>0.00</td>\n",
       "      <td>organic</td>\n",
       "      <td>2018</td>\n",
       "      <td>Jacksonville</td>\n",
       "    </tr>\n",
       "    <tr>\n",
       "      <th>10246</th>\n",
       "      <td>28</td>\n",
       "      <td>2015-06-14</td>\n",
       "      <td>1.44</td>\n",
       "      <td>10351.70</td>\n",
       "      <td>4423.81</td>\n",
       "      <td>4826.00</td>\n",
       "      <td>0.00</td>\n",
       "      <td>1101.89</td>\n",
       "      <td>305.54</td>\n",
       "      <td>796.35</td>\n",
       "      <td>0.00</td>\n",
       "      <td>organic</td>\n",
       "      <td>2015</td>\n",
       "      <td>LasVegas</td>\n",
       "    </tr>\n",
       "    <tr>\n",
       "      <th>14146</th>\n",
       "      <td>29</td>\n",
       "      <td>2016-06-05</td>\n",
       "      <td>2.30</td>\n",
       "      <td>26850.91</td>\n",
       "      <td>1444.73</td>\n",
       "      <td>23217.46</td>\n",
       "      <td>0.00</td>\n",
       "      <td>2188.72</td>\n",
       "      <td>2182.05</td>\n",
       "      <td>6.67</td>\n",
       "      <td>0.00</td>\n",
       "      <td>organic</td>\n",
       "      <td>2016</td>\n",
       "      <td>SanFrancisco</td>\n",
       "    </tr>\n",
       "    <tr>\n",
       "      <th>389</th>\n",
       "      <td>25</td>\n",
       "      <td>2015-07-05</td>\n",
       "      <td>1.18</td>\n",
       "      <td>216118.90</td>\n",
       "      <td>30803.29</td>\n",
       "      <td>73470.29</td>\n",
       "      <td>40602.17</td>\n",
       "      <td>71243.15</td>\n",
       "      <td>67865.26</td>\n",
       "      <td>3377.89</td>\n",
       "      <td>0.00</td>\n",
       "      <td>conventional</td>\n",
       "      <td>2015</td>\n",
       "      <td>Charlotte</td>\n",
       "    </tr>\n",
       "    <tr>\n",
       "      <th>4266</th>\n",
       "      <td>2</td>\n",
       "      <td>2016-12-11</td>\n",
       "      <td>1.32</td>\n",
       "      <td>1163696.14</td>\n",
       "      <td>10994.77</td>\n",
       "      <td>793989.54</td>\n",
       "      <td>5247.11</td>\n",
       "      <td>353464.72</td>\n",
       "      <td>247566.16</td>\n",
       "      <td>104392.33</td>\n",
       "      <td>1506.23</td>\n",
       "      <td>conventional</td>\n",
       "      <td>2016</td>\n",
       "      <td>NewYork</td>\n",
       "    </tr>\n",
       "  </tbody>\n",
       "</table>\n",
       "</div>"
      ],
      "text/plain": [
       "       Unnamed: 0        Date  AveragePrice  Total Volume      4046   \n",
       "17845           4  2018-02-25          1.73       4988.75    106.24  \\\n",
       "10246          28  2015-06-14          1.44      10351.70   4423.81   \n",
       "14146          29  2016-06-05          2.30      26850.91   1444.73   \n",
       "389            25  2015-07-05          1.18     216118.90  30803.29   \n",
       "4266            2  2016-12-11          1.32    1163696.14  10994.77   \n",
       "\n",
       "            4225      4770  Total Bags  Small Bags  Large Bags  XLarge Bags   \n",
       "17845     915.35      0.00     3967.16     2877.78     1089.38         0.00  \\\n",
       "10246    4826.00      0.00     1101.89      305.54      796.35         0.00   \n",
       "14146   23217.46      0.00     2188.72     2182.05        6.67         0.00   \n",
       "389     73470.29  40602.17    71243.15    67865.26     3377.89         0.00   \n",
       "4266   793989.54   5247.11   353464.72   247566.16   104392.33      1506.23   \n",
       "\n",
       "               type  year        region  \n",
       "17845       organic  2018  Jacksonville  \n",
       "10246       organic  2015      LasVegas  \n",
       "14146       organic  2016  SanFrancisco  \n",
       "389    conventional  2015     Charlotte  \n",
       "4266   conventional  2016       NewYork  "
      ]
     },
     "execution_count": 79,
     "metadata": {},
     "output_type": "execute_result"
    }
   ],
   "source": [
    "# Muestra aleatoria de 5 filas\n",
    "df.sample(5)"
   ]
  },
  {
   "cell_type": "code",
   "execution_count": 80,
   "id": "electric-england",
   "metadata": {},
   "outputs": [
    {
     "data": {
      "text/html": [
       "<div>\n",
       "<style scoped>\n",
       "    .dataframe tbody tr th:only-of-type {\n",
       "        vertical-align: middle;\n",
       "    }\n",
       "\n",
       "    .dataframe tbody tr th {\n",
       "        vertical-align: top;\n",
       "    }\n",
       "\n",
       "    .dataframe thead th {\n",
       "        text-align: right;\n",
       "    }\n",
       "</style>\n",
       "<table border=\"1\" class=\"dataframe\">\n",
       "  <thead>\n",
       "    <tr style=\"text-align: right;\">\n",
       "      <th></th>\n",
       "      <th>Unnamed: 0</th>\n",
       "      <th>Date</th>\n",
       "      <th>AveragePrice</th>\n",
       "      <th>Total Volume</th>\n",
       "      <th>4046</th>\n",
       "      <th>4225</th>\n",
       "      <th>4770</th>\n",
       "      <th>Total Bags</th>\n",
       "      <th>Small Bags</th>\n",
       "      <th>Large Bags</th>\n",
       "      <th>XLarge Bags</th>\n",
       "      <th>type</th>\n",
       "      <th>year</th>\n",
       "      <th>region</th>\n",
       "    </tr>\n",
       "  </thead>\n",
       "  <tbody>\n",
       "    <tr>\n",
       "      <th>14272</th>\n",
       "      <td>51</td>\n",
       "      <td>2016-01-03</td>\n",
       "      <td>1.58</td>\n",
       "      <td>5893.40</td>\n",
       "      <td>1241.89</td>\n",
       "      <td>1675.45</td>\n",
       "      <td>420.04</td>\n",
       "      <td>2556.02</td>\n",
       "      <td>2435.41</td>\n",
       "      <td>120.61</td>\n",
       "      <td>0.00</td>\n",
       "      <td>organic</td>\n",
       "      <td>2016</td>\n",
       "      <td>SouthCarolina</td>\n",
       "    </tr>\n",
       "    <tr>\n",
       "      <th>14939</th>\n",
       "      <td>39</td>\n",
       "      <td>2017-04-02</td>\n",
       "      <td>0.82</td>\n",
       "      <td>4767.59</td>\n",
       "      <td>17.05</td>\n",
       "      <td>676.67</td>\n",
       "      <td>0.00</td>\n",
       "      <td>4073.87</td>\n",
       "      <td>300.00</td>\n",
       "      <td>3773.87</td>\n",
       "      <td>0.00</td>\n",
       "      <td>organic</td>\n",
       "      <td>2017</td>\n",
       "      <td>Boise</td>\n",
       "    </tr>\n",
       "    <tr>\n",
       "      <th>6512</th>\n",
       "      <td>48</td>\n",
       "      <td>2017-01-29</td>\n",
       "      <td>1.25</td>\n",
       "      <td>267917.78</td>\n",
       "      <td>64322.44</td>\n",
       "      <td>129735.77</td>\n",
       "      <td>1855.78</td>\n",
       "      <td>72003.79</td>\n",
       "      <td>70448.34</td>\n",
       "      <td>1418.77</td>\n",
       "      <td>136.68</td>\n",
       "      <td>conventional</td>\n",
       "      <td>2017</td>\n",
       "      <td>HarrisburgScranton</td>\n",
       "    </tr>\n",
       "    <tr>\n",
       "      <th>10126</th>\n",
       "      <td>12</td>\n",
       "      <td>2015-10-04</td>\n",
       "      <td>1.53</td>\n",
       "      <td>2167.25</td>\n",
       "      <td>128.29</td>\n",
       "      <td>1322.93</td>\n",
       "      <td>0.00</td>\n",
       "      <td>716.03</td>\n",
       "      <td>343.33</td>\n",
       "      <td>372.70</td>\n",
       "      <td>0.00</td>\n",
       "      <td>organic</td>\n",
       "      <td>2015</td>\n",
       "      <td>Indianapolis</td>\n",
       "    </tr>\n",
       "    <tr>\n",
       "      <th>11528</th>\n",
       "      <td>10</td>\n",
       "      <td>2015-10-18</td>\n",
       "      <td>1.91</td>\n",
       "      <td>29054.81</td>\n",
       "      <td>9310.61</td>\n",
       "      <td>7824.11</td>\n",
       "      <td>841.73</td>\n",
       "      <td>11078.36</td>\n",
       "      <td>9871.25</td>\n",
       "      <td>1207.11</td>\n",
       "      <td>0.00</td>\n",
       "      <td>organic</td>\n",
       "      <td>2015</td>\n",
       "      <td>Southeast</td>\n",
       "    </tr>\n",
       "    <tr>\n",
       "      <th>...</th>\n",
       "      <td>...</td>\n",
       "      <td>...</td>\n",
       "      <td>...</td>\n",
       "      <td>...</td>\n",
       "      <td>...</td>\n",
       "      <td>...</td>\n",
       "      <td>...</td>\n",
       "      <td>...</td>\n",
       "      <td>...</td>\n",
       "      <td>...</td>\n",
       "      <td>...</td>\n",
       "      <td>...</td>\n",
       "      <td>...</td>\n",
       "      <td>...</td>\n",
       "    </tr>\n",
       "    <tr>\n",
       "      <th>609</th>\n",
       "      <td>37</td>\n",
       "      <td>2015-04-12</td>\n",
       "      <td>0.72</td>\n",
       "      <td>1266899.55</td>\n",
       "      <td>871511.12</td>\n",
       "      <td>288420.79</td>\n",
       "      <td>12596.79</td>\n",
       "      <td>94370.85</td>\n",
       "      <td>85100.44</td>\n",
       "      <td>9261.60</td>\n",
       "      <td>8.81</td>\n",
       "      <td>conventional</td>\n",
       "      <td>2015</td>\n",
       "      <td>DallasFtWorth</td>\n",
       "    </tr>\n",
       "    <tr>\n",
       "      <th>5870</th>\n",
       "      <td>42</td>\n",
       "      <td>2017-03-12</td>\n",
       "      <td>1.55</td>\n",
       "      <td>495117.57</td>\n",
       "      <td>5729.95</td>\n",
       "      <td>389749.89</td>\n",
       "      <td>3675.15</td>\n",
       "      <td>95962.58</td>\n",
       "      <td>75284.64</td>\n",
       "      <td>20014.05</td>\n",
       "      <td>663.89</td>\n",
       "      <td>conventional</td>\n",
       "      <td>2017</td>\n",
       "      <td>Boston</td>\n",
       "    </tr>\n",
       "    <tr>\n",
       "      <th>5204</th>\n",
       "      <td>4</td>\n",
       "      <td>2016-11-27</td>\n",
       "      <td>1.39</td>\n",
       "      <td>2408199.34</td>\n",
       "      <td>943433.21</td>\n",
       "      <td>459434.44</td>\n",
       "      <td>4791.45</td>\n",
       "      <td>1000540.24</td>\n",
       "      <td>509394.25</td>\n",
       "      <td>490242.94</td>\n",
       "      <td>903.05</td>\n",
       "      <td>conventional</td>\n",
       "      <td>2016</td>\n",
       "      <td>Southeast</td>\n",
       "    </tr>\n",
       "    <tr>\n",
       "      <th>5151</th>\n",
       "      <td>3</td>\n",
       "      <td>2016-12-04</td>\n",
       "      <td>0.76</td>\n",
       "      <td>5584114.56</td>\n",
       "      <td>3146435.87</td>\n",
       "      <td>1023317.43</td>\n",
       "      <td>18795.24</td>\n",
       "      <td>1395566.02</td>\n",
       "      <td>1039669.75</td>\n",
       "      <td>344663.64</td>\n",
       "      <td>11232.63</td>\n",
       "      <td>conventional</td>\n",
       "      <td>2016</td>\n",
       "      <td>SouthCentral</td>\n",
       "    </tr>\n",
       "    <tr>\n",
       "      <th>5605</th>\n",
       "      <td>41</td>\n",
       "      <td>2016-03-13</td>\n",
       "      <td>0.72</td>\n",
       "      <td>886197.95</td>\n",
       "      <td>563341.91</td>\n",
       "      <td>136619.69</td>\n",
       "      <td>36476.41</td>\n",
       "      <td>149759.94</td>\n",
       "      <td>88060.04</td>\n",
       "      <td>61699.90</td>\n",
       "      <td>0.00</td>\n",
       "      <td>conventional</td>\n",
       "      <td>2016</td>\n",
       "      <td>WestTexNewMexico</td>\n",
       "    </tr>\n",
       "  </tbody>\n",
       "</table>\n",
       "<p>1825 rows × 14 columns</p>\n",
       "</div>"
      ],
      "text/plain": [
       "       Unnamed: 0        Date  AveragePrice  Total Volume        4046   \n",
       "14272          51  2016-01-03          1.58       5893.40     1241.89  \\\n",
       "14939          39  2017-04-02          0.82       4767.59       17.05   \n",
       "6512           48  2017-01-29          1.25     267917.78    64322.44   \n",
       "10126          12  2015-10-04          1.53       2167.25      128.29   \n",
       "11528          10  2015-10-18          1.91      29054.81     9310.61   \n",
       "...           ...         ...           ...           ...         ...   \n",
       "609            37  2015-04-12          0.72    1266899.55   871511.12   \n",
       "5870           42  2017-03-12          1.55     495117.57     5729.95   \n",
       "5204            4  2016-11-27          1.39    2408199.34   943433.21   \n",
       "5151            3  2016-12-04          0.76    5584114.56  3146435.87   \n",
       "5605           41  2016-03-13          0.72     886197.95   563341.91   \n",
       "\n",
       "             4225      4770  Total Bags  Small Bags  Large Bags  XLarge Bags   \n",
       "14272     1675.45    420.04     2556.02     2435.41      120.61         0.00  \\\n",
       "14939      676.67      0.00     4073.87      300.00     3773.87         0.00   \n",
       "6512    129735.77   1855.78    72003.79    70448.34     1418.77       136.68   \n",
       "10126     1322.93      0.00      716.03      343.33      372.70         0.00   \n",
       "11528     7824.11    841.73    11078.36     9871.25     1207.11         0.00   \n",
       "...           ...       ...         ...         ...         ...          ...   \n",
       "609     288420.79  12596.79    94370.85    85100.44     9261.60         8.81   \n",
       "5870    389749.89   3675.15    95962.58    75284.64    20014.05       663.89   \n",
       "5204    459434.44   4791.45  1000540.24   509394.25   490242.94       903.05   \n",
       "5151   1023317.43  18795.24  1395566.02  1039669.75   344663.64     11232.63   \n",
       "5605    136619.69  36476.41   149759.94    88060.04    61699.90         0.00   \n",
       "\n",
       "               type  year              region  \n",
       "14272       organic  2016       SouthCarolina  \n",
       "14939       organic  2017               Boise  \n",
       "6512   conventional  2017  HarrisburgScranton  \n",
       "10126       organic  2015        Indianapolis  \n",
       "11528       organic  2015           Southeast  \n",
       "...             ...   ...                 ...  \n",
       "609    conventional  2015       DallasFtWorth  \n",
       "5870   conventional  2017              Boston  \n",
       "5204   conventional  2016           Southeast  \n",
       "5151   conventional  2016        SouthCentral  \n",
       "5605   conventional  2016    WestTexNewMexico  \n",
       "\n",
       "[1825 rows x 14 columns]"
      ]
     },
     "execution_count": 80,
     "metadata": {},
     "output_type": "execute_result"
    }
   ],
   "source": [
    "df.sample(frac=0.1) # Muestra aleatoria del 10%"
   ]
  },
  {
   "cell_type": "code",
   "execution_count": 81,
   "id": "3bd1f451",
   "metadata": {},
   "outputs": [],
   "source": [
    "#pd.set_option('display.max_rows', 20)"
   ]
  },
  {
   "cell_type": "code",
   "execution_count": 82,
   "id": "headed-college",
   "metadata": {},
   "outputs": [],
   "source": [
    "guardo_sample = df.sample(frac=0.1)"
   ]
  },
  {
   "cell_type": "code",
   "execution_count": 83,
   "id": "151f9edf",
   "metadata": {},
   "outputs": [
    {
     "data": {
      "text/html": [
       "<div>\n",
       "<style scoped>\n",
       "    .dataframe tbody tr th:only-of-type {\n",
       "        vertical-align: middle;\n",
       "    }\n",
       "\n",
       "    .dataframe tbody tr th {\n",
       "        vertical-align: top;\n",
       "    }\n",
       "\n",
       "    .dataframe thead th {\n",
       "        text-align: right;\n",
       "    }\n",
       "</style>\n",
       "<table border=\"1\" class=\"dataframe\">\n",
       "  <thead>\n",
       "    <tr style=\"text-align: right;\">\n",
       "      <th></th>\n",
       "      <th>Unnamed: 0</th>\n",
       "      <th>Date</th>\n",
       "      <th>AveragePrice</th>\n",
       "      <th>Total Volume</th>\n",
       "      <th>4046</th>\n",
       "      <th>4225</th>\n",
       "      <th>4770</th>\n",
       "      <th>Total Bags</th>\n",
       "      <th>Small Bags</th>\n",
       "      <th>Large Bags</th>\n",
       "      <th>XLarge Bags</th>\n",
       "      <th>type</th>\n",
       "      <th>year</th>\n",
       "      <th>region</th>\n",
       "    </tr>\n",
       "  </thead>\n",
       "  <tbody>\n",
       "    <tr>\n",
       "      <th>8999</th>\n",
       "      <td>5</td>\n",
       "      <td>2018-02-18</td>\n",
       "      <td>1.46</td>\n",
       "      <td>468075.23</td>\n",
       "      <td>92450.89</td>\n",
       "      <td>135317.00</td>\n",
       "      <td>639.03</td>\n",
       "      <td>239668.31</td>\n",
       "      <td>148877.37</td>\n",
       "      <td>90182.78</td>\n",
       "      <td>608.16</td>\n",
       "      <td>conventional</td>\n",
       "      <td>2018</td>\n",
       "      <td>Seattle</td>\n",
       "    </tr>\n",
       "    <tr>\n",
       "      <th>9550</th>\n",
       "      <td>8</td>\n",
       "      <td>2015-11-01</td>\n",
       "      <td>1.60</td>\n",
       "      <td>24450.48</td>\n",
       "      <td>936.90</td>\n",
       "      <td>23373.58</td>\n",
       "      <td>0.00</td>\n",
       "      <td>140.00</td>\n",
       "      <td>140.00</td>\n",
       "      <td>0.00</td>\n",
       "      <td>0.00</td>\n",
       "      <td>organic</td>\n",
       "      <td>2015</td>\n",
       "      <td>Chicago</td>\n",
       "    </tr>\n",
       "    <tr>\n",
       "      <th>12095</th>\n",
       "      <td>6</td>\n",
       "      <td>2016-11-13</td>\n",
       "      <td>1.92</td>\n",
       "      <td>1821.90</td>\n",
       "      <td>0.00</td>\n",
       "      <td>653.76</td>\n",
       "      <td>0.00</td>\n",
       "      <td>1168.14</td>\n",
       "      <td>250.00</td>\n",
       "      <td>918.14</td>\n",
       "      <td>0.00</td>\n",
       "      <td>organic</td>\n",
       "      <td>2016</td>\n",
       "      <td>Boise</td>\n",
       "    </tr>\n",
       "    <tr>\n",
       "      <th>4671</th>\n",
       "      <td>43</td>\n",
       "      <td>2016-02-28</td>\n",
       "      <td>1.07</td>\n",
       "      <td>1647189.23</td>\n",
       "      <td>716192.38</td>\n",
       "      <td>496105.73</td>\n",
       "      <td>38146.51</td>\n",
       "      <td>396744.61</td>\n",
       "      <td>357647.85</td>\n",
       "      <td>37148.43</td>\n",
       "      <td>1948.33</td>\n",
       "      <td>conventional</td>\n",
       "      <td>2016</td>\n",
       "      <td>Plains</td>\n",
       "    </tr>\n",
       "    <tr>\n",
       "      <th>4941</th>\n",
       "      <td>1</td>\n",
       "      <td>2016-12-18</td>\n",
       "      <td>0.90</td>\n",
       "      <td>437170.79</td>\n",
       "      <td>106000.40</td>\n",
       "      <td>161104.63</td>\n",
       "      <td>14145.04</td>\n",
       "      <td>155920.72</td>\n",
       "      <td>115858.84</td>\n",
       "      <td>38951.60</td>\n",
       "      <td>1110.28</td>\n",
       "      <td>conventional</td>\n",
       "      <td>2016</td>\n",
       "      <td>SanDiego</td>\n",
       "    </tr>\n",
       "  </tbody>\n",
       "</table>\n",
       "</div>"
      ],
      "text/plain": [
       "       Unnamed: 0        Date  AveragePrice  Total Volume       4046   \n",
       "8999            5  2018-02-18          1.46     468075.23   92450.89  \\\n",
       "9550            8  2015-11-01          1.60      24450.48     936.90   \n",
       "12095           6  2016-11-13          1.92       1821.90       0.00   \n",
       "4671           43  2016-02-28          1.07    1647189.23  716192.38   \n",
       "4941            1  2016-12-18          0.90     437170.79  106000.40   \n",
       "\n",
       "            4225      4770  Total Bags  Small Bags  Large Bags  XLarge Bags   \n",
       "8999   135317.00    639.03   239668.31   148877.37    90182.78       608.16  \\\n",
       "9550    23373.58      0.00      140.00      140.00        0.00         0.00   \n",
       "12095     653.76      0.00     1168.14      250.00      918.14         0.00   \n",
       "4671   496105.73  38146.51   396744.61   357647.85    37148.43      1948.33   \n",
       "4941   161104.63  14145.04   155920.72   115858.84    38951.60      1110.28   \n",
       "\n",
       "               type  year    region  \n",
       "8999   conventional  2018   Seattle  \n",
       "9550        organic  2015   Chicago  \n",
       "12095       organic  2016     Boise  \n",
       "4671   conventional  2016    Plains  \n",
       "4941   conventional  2016  SanDiego  "
      ]
     },
     "execution_count": 83,
     "metadata": {},
     "output_type": "execute_result"
    }
   ],
   "source": [
    "guardo_sample.head()"
   ]
  },
  {
   "cell_type": "code",
   "execution_count": 84,
   "id": "b1c9a419",
   "metadata": {},
   "outputs": [
    {
     "data": {
      "text/plain": [
       "(1825, 14)"
      ]
     },
     "execution_count": 84,
     "metadata": {},
     "output_type": "execute_result"
    }
   ],
   "source": [
    "guardo_sample.shape"
   ]
  },
  {
   "cell_type": "markdown",
   "id": "brown-princeton",
   "metadata": {},
   "source": [
    "## Análisis exploratorio de un dataframe"
   ]
  },
  {
   "cell_type": "code",
   "execution_count": 85,
   "id": "previous-release",
   "metadata": {},
   "outputs": [
    {
     "data": {
      "text/plain": [
       "(18249, 14)"
      ]
     },
     "execution_count": 85,
     "metadata": {},
     "output_type": "execute_result"
    }
   ],
   "source": [
    "df.shape"
   ]
  },
  {
   "cell_type": "code",
   "execution_count": 86,
   "id": "disabled-suggestion",
   "metadata": {},
   "outputs": [
    {
     "name": "stdout",
     "output_type": "stream",
     "text": [
      "<class 'pandas.core.frame.DataFrame'>\n",
      "RangeIndex: 18249 entries, 0 to 18248\n",
      "Data columns (total 14 columns):\n",
      " #   Column        Non-Null Count  Dtype  \n",
      "---  ------        --------------  -----  \n",
      " 0   Unnamed: 0    18249 non-null  int64  \n",
      " 1   Date          18249 non-null  object \n",
      " 2   AveragePrice  18249 non-null  float64\n",
      " 3   Total Volume  18249 non-null  float64\n",
      " 4   4046          18249 non-null  float64\n",
      " 5   4225          18249 non-null  float64\n",
      " 6   4770          18249 non-null  float64\n",
      " 7   Total Bags    18249 non-null  float64\n",
      " 8   Small Bags    18249 non-null  float64\n",
      " 9   Large Bags    18249 non-null  float64\n",
      " 10  XLarge Bags   18249 non-null  float64\n",
      " 11  type          18249 non-null  object \n",
      " 12  year          18249 non-null  int64  \n",
      " 13  region        18249 non-null  object \n",
      "dtypes: float64(9), int64(2), object(3)\n",
      "memory usage: 1.9+ MB\n"
     ]
    }
   ],
   "source": [
    "df.info()"
   ]
  },
  {
   "cell_type": "code",
   "execution_count": 87,
   "id": "documentary-contract",
   "metadata": {},
   "outputs": [
    {
     "data": {
      "text/plain": [
       "Unnamed: 0      0\n",
       "Date            0\n",
       "AveragePrice    0\n",
       "Total Volume    0\n",
       "4046            0\n",
       "4225            0\n",
       "4770            0\n",
       "Total Bags      0\n",
       "Small Bags      0\n",
       "Large Bags      0\n",
       "XLarge Bags     0\n",
       "type            0\n",
       "year            0\n",
       "region          0\n",
       "dtype: int64"
      ]
     },
     "execution_count": 87,
     "metadata": {},
     "output_type": "execute_result"
    }
   ],
   "source": [
    "df.isnull().sum()"
   ]
  },
  {
   "cell_type": "code",
   "execution_count": 88,
   "id": "ecological-balance",
   "metadata": {},
   "outputs": [
    {
     "data": {
      "text/html": [
       "<div>\n",
       "<style scoped>\n",
       "    .dataframe tbody tr th:only-of-type {\n",
       "        vertical-align: middle;\n",
       "    }\n",
       "\n",
       "    .dataframe tbody tr th {\n",
       "        vertical-align: top;\n",
       "    }\n",
       "\n",
       "    .dataframe thead th {\n",
       "        text-align: right;\n",
       "    }\n",
       "</style>\n",
       "<table border=\"1\" class=\"dataframe\">\n",
       "  <thead>\n",
       "    <tr style=\"text-align: right;\">\n",
       "      <th></th>\n",
       "      <th>Unnamed: 0</th>\n",
       "      <th>AveragePrice</th>\n",
       "      <th>Total Volume</th>\n",
       "      <th>4046</th>\n",
       "      <th>4225</th>\n",
       "      <th>4770</th>\n",
       "      <th>Total Bags</th>\n",
       "      <th>Small Bags</th>\n",
       "      <th>Large Bags</th>\n",
       "      <th>XLarge Bags</th>\n",
       "      <th>year</th>\n",
       "    </tr>\n",
       "  </thead>\n",
       "  <tbody>\n",
       "    <tr>\n",
       "      <th>count</th>\n",
       "      <td>18249.000000</td>\n",
       "      <td>18249.000000</td>\n",
       "      <td>1.824900e+04</td>\n",
       "      <td>1.824900e+04</td>\n",
       "      <td>1.824900e+04</td>\n",
       "      <td>1.824900e+04</td>\n",
       "      <td>1.824900e+04</td>\n",
       "      <td>1.824900e+04</td>\n",
       "      <td>1.824900e+04</td>\n",
       "      <td>18249.000000</td>\n",
       "      <td>18249.000000</td>\n",
       "    </tr>\n",
       "    <tr>\n",
       "      <th>mean</th>\n",
       "      <td>24.232232</td>\n",
       "      <td>1.405978</td>\n",
       "      <td>8.506440e+05</td>\n",
       "      <td>2.930084e+05</td>\n",
       "      <td>2.951546e+05</td>\n",
       "      <td>2.283974e+04</td>\n",
       "      <td>2.396392e+05</td>\n",
       "      <td>1.821947e+05</td>\n",
       "      <td>5.433809e+04</td>\n",
       "      <td>3106.426507</td>\n",
       "      <td>2016.147899</td>\n",
       "    </tr>\n",
       "    <tr>\n",
       "      <th>std</th>\n",
       "      <td>15.481045</td>\n",
       "      <td>0.402677</td>\n",
       "      <td>3.453545e+06</td>\n",
       "      <td>1.264989e+06</td>\n",
       "      <td>1.204120e+06</td>\n",
       "      <td>1.074641e+05</td>\n",
       "      <td>9.862424e+05</td>\n",
       "      <td>7.461785e+05</td>\n",
       "      <td>2.439660e+05</td>\n",
       "      <td>17692.894652</td>\n",
       "      <td>0.939938</td>\n",
       "    </tr>\n",
       "    <tr>\n",
       "      <th>min</th>\n",
       "      <td>0.000000</td>\n",
       "      <td>0.440000</td>\n",
       "      <td>8.456000e+01</td>\n",
       "      <td>0.000000e+00</td>\n",
       "      <td>0.000000e+00</td>\n",
       "      <td>0.000000e+00</td>\n",
       "      <td>0.000000e+00</td>\n",
       "      <td>0.000000e+00</td>\n",
       "      <td>0.000000e+00</td>\n",
       "      <td>0.000000</td>\n",
       "      <td>2015.000000</td>\n",
       "    </tr>\n",
       "    <tr>\n",
       "      <th>25%</th>\n",
       "      <td>10.000000</td>\n",
       "      <td>1.100000</td>\n",
       "      <td>1.083858e+04</td>\n",
       "      <td>8.540700e+02</td>\n",
       "      <td>3.008780e+03</td>\n",
       "      <td>0.000000e+00</td>\n",
       "      <td>5.088640e+03</td>\n",
       "      <td>2.849420e+03</td>\n",
       "      <td>1.274700e+02</td>\n",
       "      <td>0.000000</td>\n",
       "      <td>2015.000000</td>\n",
       "    </tr>\n",
       "    <tr>\n",
       "      <th>50%</th>\n",
       "      <td>24.000000</td>\n",
       "      <td>1.370000</td>\n",
       "      <td>1.073768e+05</td>\n",
       "      <td>8.645300e+03</td>\n",
       "      <td>2.906102e+04</td>\n",
       "      <td>1.849900e+02</td>\n",
       "      <td>3.974383e+04</td>\n",
       "      <td>2.636282e+04</td>\n",
       "      <td>2.647710e+03</td>\n",
       "      <td>0.000000</td>\n",
       "      <td>2016.000000</td>\n",
       "    </tr>\n",
       "    <tr>\n",
       "      <th>75%</th>\n",
       "      <td>38.000000</td>\n",
       "      <td>1.660000</td>\n",
       "      <td>4.329623e+05</td>\n",
       "      <td>1.110202e+05</td>\n",
       "      <td>1.502069e+05</td>\n",
       "      <td>6.243420e+03</td>\n",
       "      <td>1.107834e+05</td>\n",
       "      <td>8.333767e+04</td>\n",
       "      <td>2.202925e+04</td>\n",
       "      <td>132.500000</td>\n",
       "      <td>2017.000000</td>\n",
       "    </tr>\n",
       "    <tr>\n",
       "      <th>max</th>\n",
       "      <td>52.000000</td>\n",
       "      <td>3.250000</td>\n",
       "      <td>6.250565e+07</td>\n",
       "      <td>2.274362e+07</td>\n",
       "      <td>2.047057e+07</td>\n",
       "      <td>2.546439e+06</td>\n",
       "      <td>1.937313e+07</td>\n",
       "      <td>1.338459e+07</td>\n",
       "      <td>5.719097e+06</td>\n",
       "      <td>551693.650000</td>\n",
       "      <td>2018.000000</td>\n",
       "    </tr>\n",
       "  </tbody>\n",
       "</table>\n",
       "</div>"
      ],
      "text/plain": [
       "         Unnamed: 0  AveragePrice  Total Volume          4046          4225   \n",
       "count  18249.000000  18249.000000  1.824900e+04  1.824900e+04  1.824900e+04  \\\n",
       "mean      24.232232      1.405978  8.506440e+05  2.930084e+05  2.951546e+05   \n",
       "std       15.481045      0.402677  3.453545e+06  1.264989e+06  1.204120e+06   \n",
       "min        0.000000      0.440000  8.456000e+01  0.000000e+00  0.000000e+00   \n",
       "25%       10.000000      1.100000  1.083858e+04  8.540700e+02  3.008780e+03   \n",
       "50%       24.000000      1.370000  1.073768e+05  8.645300e+03  2.906102e+04   \n",
       "75%       38.000000      1.660000  4.329623e+05  1.110202e+05  1.502069e+05   \n",
       "max       52.000000      3.250000  6.250565e+07  2.274362e+07  2.047057e+07   \n",
       "\n",
       "               4770    Total Bags    Small Bags    Large Bags    XLarge Bags   \n",
       "count  1.824900e+04  1.824900e+04  1.824900e+04  1.824900e+04   18249.000000  \\\n",
       "mean   2.283974e+04  2.396392e+05  1.821947e+05  5.433809e+04    3106.426507   \n",
       "std    1.074641e+05  9.862424e+05  7.461785e+05  2.439660e+05   17692.894652   \n",
       "min    0.000000e+00  0.000000e+00  0.000000e+00  0.000000e+00       0.000000   \n",
       "25%    0.000000e+00  5.088640e+03  2.849420e+03  1.274700e+02       0.000000   \n",
       "50%    1.849900e+02  3.974383e+04  2.636282e+04  2.647710e+03       0.000000   \n",
       "75%    6.243420e+03  1.107834e+05  8.333767e+04  2.202925e+04     132.500000   \n",
       "max    2.546439e+06  1.937313e+07  1.338459e+07  5.719097e+06  551693.650000   \n",
       "\n",
       "               year  \n",
       "count  18249.000000  \n",
       "mean    2016.147899  \n",
       "std        0.939938  \n",
       "min     2015.000000  \n",
       "25%     2015.000000  \n",
       "50%     2016.000000  \n",
       "75%     2017.000000  \n",
       "max     2018.000000  "
      ]
     },
     "execution_count": 88,
     "metadata": {},
     "output_type": "execute_result"
    }
   ],
   "source": [
    "df.describe() #Solo lo hace con columnas que tienen datos de tipo numerio"
   ]
  },
  {
   "cell_type": "code",
   "execution_count": 89,
   "id": "immune-thread",
   "metadata": {},
   "outputs": [
    {
     "data": {
      "text/html": [
       "<div>\n",
       "<style scoped>\n",
       "    .dataframe tbody tr th:only-of-type {\n",
       "        vertical-align: middle;\n",
       "    }\n",
       "\n",
       "    .dataframe tbody tr th {\n",
       "        vertical-align: top;\n",
       "    }\n",
       "\n",
       "    .dataframe thead th {\n",
       "        text-align: right;\n",
       "    }\n",
       "</style>\n",
       "<table border=\"1\" class=\"dataframe\">\n",
       "  <thead>\n",
       "    <tr style=\"text-align: right;\">\n",
       "      <th></th>\n",
       "      <th>count</th>\n",
       "      <th>mean</th>\n",
       "      <th>std</th>\n",
       "      <th>min</th>\n",
       "      <th>25%</th>\n",
       "      <th>50%</th>\n",
       "      <th>75%</th>\n",
       "      <th>max</th>\n",
       "    </tr>\n",
       "  </thead>\n",
       "  <tbody>\n",
       "    <tr>\n",
       "      <th>Unnamed: 0</th>\n",
       "      <td>18249.0</td>\n",
       "      <td>24.232232</td>\n",
       "      <td>1.548104e+01</td>\n",
       "      <td>0.00</td>\n",
       "      <td>10.00</td>\n",
       "      <td>24.00</td>\n",
       "      <td>38.00</td>\n",
       "      <td>52.00</td>\n",
       "    </tr>\n",
       "    <tr>\n",
       "      <th>AveragePrice</th>\n",
       "      <td>18249.0</td>\n",
       "      <td>1.405978</td>\n",
       "      <td>4.026766e-01</td>\n",
       "      <td>0.44</td>\n",
       "      <td>1.10</td>\n",
       "      <td>1.37</td>\n",
       "      <td>1.66</td>\n",
       "      <td>3.25</td>\n",
       "    </tr>\n",
       "    <tr>\n",
       "      <th>Total Volume</th>\n",
       "      <td>18249.0</td>\n",
       "      <td>850644.013009</td>\n",
       "      <td>3.453545e+06</td>\n",
       "      <td>84.56</td>\n",
       "      <td>10838.58</td>\n",
       "      <td>107376.76</td>\n",
       "      <td>432962.29</td>\n",
       "      <td>62505646.52</td>\n",
       "    </tr>\n",
       "    <tr>\n",
       "      <th>4046</th>\n",
       "      <td>18249.0</td>\n",
       "      <td>293008.424531</td>\n",
       "      <td>1.264989e+06</td>\n",
       "      <td>0.00</td>\n",
       "      <td>854.07</td>\n",
       "      <td>8645.30</td>\n",
       "      <td>111020.20</td>\n",
       "      <td>22743616.17</td>\n",
       "    </tr>\n",
       "    <tr>\n",
       "      <th>4225</th>\n",
       "      <td>18249.0</td>\n",
       "      <td>295154.568356</td>\n",
       "      <td>1.204120e+06</td>\n",
       "      <td>0.00</td>\n",
       "      <td>3008.78</td>\n",
       "      <td>29061.02</td>\n",
       "      <td>150206.86</td>\n",
       "      <td>20470572.61</td>\n",
       "    </tr>\n",
       "    <tr>\n",
       "      <th>4770</th>\n",
       "      <td>18249.0</td>\n",
       "      <td>22839.735993</td>\n",
       "      <td>1.074641e+05</td>\n",
       "      <td>0.00</td>\n",
       "      <td>0.00</td>\n",
       "      <td>184.99</td>\n",
       "      <td>6243.42</td>\n",
       "      <td>2546439.11</td>\n",
       "    </tr>\n",
       "    <tr>\n",
       "      <th>Total Bags</th>\n",
       "      <td>18249.0</td>\n",
       "      <td>239639.202060</td>\n",
       "      <td>9.862424e+05</td>\n",
       "      <td>0.00</td>\n",
       "      <td>5088.64</td>\n",
       "      <td>39743.83</td>\n",
       "      <td>110783.37</td>\n",
       "      <td>19373134.37</td>\n",
       "    </tr>\n",
       "    <tr>\n",
       "      <th>Small Bags</th>\n",
       "      <td>18249.0</td>\n",
       "      <td>182194.686696</td>\n",
       "      <td>7.461785e+05</td>\n",
       "      <td>0.00</td>\n",
       "      <td>2849.42</td>\n",
       "      <td>26362.82</td>\n",
       "      <td>83337.67</td>\n",
       "      <td>13384586.80</td>\n",
       "    </tr>\n",
       "    <tr>\n",
       "      <th>Large Bags</th>\n",
       "      <td>18249.0</td>\n",
       "      <td>54338.088145</td>\n",
       "      <td>2.439660e+05</td>\n",
       "      <td>0.00</td>\n",
       "      <td>127.47</td>\n",
       "      <td>2647.71</td>\n",
       "      <td>22029.25</td>\n",
       "      <td>5719096.61</td>\n",
       "    </tr>\n",
       "    <tr>\n",
       "      <th>XLarge Bags</th>\n",
       "      <td>18249.0</td>\n",
       "      <td>3106.426507</td>\n",
       "      <td>1.769289e+04</td>\n",
       "      <td>0.00</td>\n",
       "      <td>0.00</td>\n",
       "      <td>0.00</td>\n",
       "      <td>132.50</td>\n",
       "      <td>551693.65</td>\n",
       "    </tr>\n",
       "    <tr>\n",
       "      <th>year</th>\n",
       "      <td>18249.0</td>\n",
       "      <td>2016.147899</td>\n",
       "      <td>9.399385e-01</td>\n",
       "      <td>2015.00</td>\n",
       "      <td>2015.00</td>\n",
       "      <td>2016.00</td>\n",
       "      <td>2017.00</td>\n",
       "      <td>2018.00</td>\n",
       "    </tr>\n",
       "  </tbody>\n",
       "</table>\n",
       "</div>"
      ],
      "text/plain": [
       "                count           mean           std      min       25%   \n",
       "Unnamed: 0    18249.0      24.232232  1.548104e+01     0.00     10.00  \\\n",
       "AveragePrice  18249.0       1.405978  4.026766e-01     0.44      1.10   \n",
       "Total Volume  18249.0  850644.013009  3.453545e+06    84.56  10838.58   \n",
       "4046          18249.0  293008.424531  1.264989e+06     0.00    854.07   \n",
       "4225          18249.0  295154.568356  1.204120e+06     0.00   3008.78   \n",
       "4770          18249.0   22839.735993  1.074641e+05     0.00      0.00   \n",
       "Total Bags    18249.0  239639.202060  9.862424e+05     0.00   5088.64   \n",
       "Small Bags    18249.0  182194.686696  7.461785e+05     0.00   2849.42   \n",
       "Large Bags    18249.0   54338.088145  2.439660e+05     0.00    127.47   \n",
       "XLarge Bags   18249.0    3106.426507  1.769289e+04     0.00      0.00   \n",
       "year          18249.0    2016.147899  9.399385e-01  2015.00   2015.00   \n",
       "\n",
       "                    50%        75%          max  \n",
       "Unnamed: 0        24.00      38.00        52.00  \n",
       "AveragePrice       1.37       1.66         3.25  \n",
       "Total Volume  107376.76  432962.29  62505646.52  \n",
       "4046            8645.30  111020.20  22743616.17  \n",
       "4225           29061.02  150206.86  20470572.61  \n",
       "4770             184.99    6243.42   2546439.11  \n",
       "Total Bags     39743.83  110783.37  19373134.37  \n",
       "Small Bags     26362.82   83337.67  13384586.80  \n",
       "Large Bags      2647.71   22029.25   5719096.61  \n",
       "XLarge Bags        0.00     132.50    551693.65  \n",
       "year            2016.00    2017.00      2018.00  "
      ]
     },
     "execution_count": 89,
     "metadata": {},
     "output_type": "execute_result"
    }
   ],
   "source": [
    "df.describe().T"
   ]
  },
  {
   "cell_type": "code",
   "execution_count": 90,
   "id": "imperial-colony",
   "metadata": {},
   "outputs": [
    {
     "data": {
      "text/plain": [
       "pandas.core.frame.DataFrame"
      ]
     },
     "execution_count": 90,
     "metadata": {},
     "output_type": "execute_result"
    }
   ],
   "source": [
    "type(df.describe())"
   ]
  },
  {
   "cell_type": "code",
   "execution_count": 91,
   "id": "fuzzy-joining",
   "metadata": {},
   "outputs": [
    {
     "data": {
      "text/plain": [
       "Unnamed: 0          24.232232\n",
       "AveragePrice         1.405978\n",
       "Total Volume    850644.013009\n",
       "4046            293008.424531\n",
       "4225            295154.568356\n",
       "4770             22839.735993\n",
       "Total Bags      239639.202060\n",
       "Small Bags      182194.686696\n",
       "Large Bags       54338.088145\n",
       "XLarge Bags       3106.426507\n",
       "year              2016.147899\n",
       "dtype: float64"
      ]
     },
     "execution_count": 91,
     "metadata": {},
     "output_type": "execute_result"
    }
   ],
   "source": [
    "df.mean(numeric_only=True) # numeric_only=True"
   ]
  },
  {
   "cell_type": "code",
   "execution_count": 92,
   "id": "appointed-salad",
   "metadata": {},
   "outputs": [
    {
     "data": {
      "text/plain": [
       "1.405978409775878"
      ]
     },
     "execution_count": 92,
     "metadata": {},
     "output_type": "execute_result"
    }
   ],
   "source": [
    "df.AveragePrice.mean()"
   ]
  },
  {
   "cell_type": "code",
   "execution_count": 93,
   "id": "caroline-village",
   "metadata": {},
   "outputs": [
    {
     "data": {
      "text/plain": [
       "850644.0130089321"
      ]
     },
     "execution_count": 93,
     "metadata": {},
     "output_type": "execute_result"
    }
   ],
   "source": [
    "df[\"Total Volume\"].mean()"
   ]
  },
  {
   "cell_type": "code",
   "execution_count": 94,
   "id": "african-stanley",
   "metadata": {},
   "outputs": [
    {
     "data": {
      "text/plain": [
       "84.56"
      ]
     },
     "execution_count": 94,
     "metadata": {},
     "output_type": "execute_result"
    }
   ],
   "source": [
    "df[\"Total Volume\"].min()"
   ]
  },
  {
   "cell_type": "code",
   "execution_count": 95,
   "id": "female-county",
   "metadata": {},
   "outputs": [
    {
     "data": {
      "text/plain": [
       "62505646.52"
      ]
     },
     "execution_count": 95,
     "metadata": {},
     "output_type": "execute_result"
    }
   ],
   "source": [
    "df[\"Total Volume\"].max()"
   ]
  },
  {
   "cell_type": "code",
   "execution_count": 96,
   "id": "funny-cyprus",
   "metadata": {},
   "outputs": [
    {
     "data": {
      "text/plain": [
       "3453545.3553994712"
      ]
     },
     "execution_count": 96,
     "metadata": {},
     "output_type": "execute_result"
    }
   ],
   "source": [
    "df[\"Total Volume\"].std()"
   ]
  },
  {
   "cell_type": "code",
   "execution_count": 97,
   "id": "bacterial-colors",
   "metadata": {},
   "outputs": [
    {
     "data": {
      "text/plain": [
       "type\n",
       "conventional    9126\n",
       "organic         9123\n",
       "Name: count, dtype: int64"
      ]
     },
     "execution_count": 97,
     "metadata": {},
     "output_type": "execute_result"
    }
   ],
   "source": [
    "df.type.value_counts()"
   ]
  },
  {
   "cell_type": "code",
   "execution_count": 98,
   "id": "f99ef099",
   "metadata": {},
   "outputs": [
    {
     "data": {
      "text/plain": [
       "year\n",
       "2017    5722\n",
       "2016    5616\n",
       "2015    5615\n",
       "2018    1296\n",
       "Name: count, dtype: int64"
      ]
     },
     "execution_count": 98,
     "metadata": {},
     "output_type": "execute_result"
    }
   ],
   "source": [
    "df.year.value_counts()"
   ]
  },
  {
   "cell_type": "code",
   "execution_count": 99,
   "id": "702b88de",
   "metadata": {},
   "outputs": [
    {
     "data": {
      "text/plain": [
       "region\n",
       "Albany                 338\n",
       "Sacramento             338\n",
       "Northeast              338\n",
       "NorthernNewEngland     338\n",
       "Orlando                338\n",
       "Philadelphia           338\n",
       "PhoenixTucson          338\n",
       "Pittsburgh             338\n",
       "Plains                 338\n",
       "Portland               338\n",
       "RaleighGreensboro      338\n",
       "RichmondNorfolk        338\n",
       "Roanoke                338\n",
       "SanDiego               338\n",
       "Atlanta                338\n",
       "SanFrancisco           338\n",
       "Seattle                338\n",
       "SouthCarolina          338\n",
       "SouthCentral           338\n",
       "Southeast              338\n",
       "Spokane                338\n",
       "StLouis                338\n",
       "Syracuse               338\n",
       "Tampa                  338\n",
       "TotalUS                338\n",
       "West                   338\n",
       "NewYork                338\n",
       "NewOrleansMobile       338\n",
       "Nashville              338\n",
       "Midsouth               338\n",
       "BaltimoreWashington    338\n",
       "Boise                  338\n",
       "Boston                 338\n",
       "BuffaloRochester       338\n",
       "California             338\n",
       "Charlotte              338\n",
       "Chicago                338\n",
       "CincinnatiDayton       338\n",
       "Columbus               338\n",
       "DallasFtWorth          338\n",
       "Denver                 338\n",
       "Detroit                338\n",
       "GrandRapids            338\n",
       "GreatLakes             338\n",
       "HarrisburgScranton     338\n",
       "HartfordSpringfield    338\n",
       "Houston                338\n",
       "Indianapolis           338\n",
       "Jacksonville           338\n",
       "LasVegas               338\n",
       "LosAngeles             338\n",
       "Louisville             338\n",
       "MiamiFtLauderdale      338\n",
       "WestTexNewMexico       335\n",
       "Name: count, dtype: int64"
      ]
     },
     "execution_count": 99,
     "metadata": {},
     "output_type": "execute_result"
    }
   ],
   "source": [
    "df.region.value_counts()"
   ]
  },
  {
   "cell_type": "code",
   "execution_count": 100,
   "id": "05c30765",
   "metadata": {},
   "outputs": [
    {
     "data": {
      "text/plain": [
       "region\n",
       "Albany                 338\n",
       "Sacramento             338\n",
       "Northeast              338\n",
       "NorthernNewEngland     338\n",
       "Orlando                338\n",
       "Philadelphia           338\n",
       "PhoenixTucson          338\n",
       "Pittsburgh             338\n",
       "Plains                 338\n",
       "Portland               338\n",
       "RaleighGreensboro      338\n",
       "RichmondNorfolk        338\n",
       "Roanoke                338\n",
       "SanDiego               338\n",
       "Atlanta                338\n",
       "SanFrancisco           338\n",
       "Seattle                338\n",
       "SouthCarolina          338\n",
       "SouthCentral           338\n",
       "Southeast              338\n",
       "Spokane                338\n",
       "StLouis                338\n",
       "Syracuse               338\n",
       "Tampa                  338\n",
       "TotalUS                338\n",
       "West                   338\n",
       "NewYork                338\n",
       "NewOrleansMobile       338\n",
       "Nashville              338\n",
       "Midsouth               338\n",
       "BaltimoreWashington    338\n",
       "Boise                  338\n",
       "Boston                 338\n",
       "BuffaloRochester       338\n",
       "California             338\n",
       "Charlotte              338\n",
       "Chicago                338\n",
       "CincinnatiDayton       338\n",
       "Columbus               338\n",
       "DallasFtWorth          338\n",
       "Denver                 338\n",
       "Detroit                338\n",
       "GrandRapids            338\n",
       "GreatLakes             338\n",
       "HarrisburgScranton     338\n",
       "HartfordSpringfield    338\n",
       "Houston                338\n",
       "Indianapolis           338\n",
       "Jacksonville           338\n",
       "LasVegas               338\n",
       "LosAngeles             338\n",
       "Louisville             338\n",
       "MiamiFtLauderdale      338\n",
       "WestTexNewMexico       335\n",
       "Name: count, dtype: int64"
      ]
     },
     "execution_count": 100,
     "metadata": {},
     "output_type": "execute_result"
    }
   ],
   "source": [
    "df.region.value_counts()"
   ]
  },
  {
   "cell_type": "code",
   "execution_count": 101,
   "id": "ebc10a4b",
   "metadata": {},
   "outputs": [],
   "source": [
    "#df[\"Large Bags\"].value_counts()"
   ]
  },
  {
   "cell_type": "code",
   "execution_count": 102,
   "id": "behavioral-forest",
   "metadata": {},
   "outputs": [],
   "source": [
    "# Seleccionamos las columnas cuyo tipo de dato es int64\n",
    "columnas_numericas = df._get_numeric_data()"
   ]
  },
  {
   "cell_type": "code",
   "execution_count": 103,
   "id": "responsible-liberty",
   "metadata": {},
   "outputs": [
    {
     "data": {
      "text/html": [
       "<div>\n",
       "<style scoped>\n",
       "    .dataframe tbody tr th:only-of-type {\n",
       "        vertical-align: middle;\n",
       "    }\n",
       "\n",
       "    .dataframe tbody tr th {\n",
       "        vertical-align: top;\n",
       "    }\n",
       "\n",
       "    .dataframe thead th {\n",
       "        text-align: right;\n",
       "    }\n",
       "</style>\n",
       "<table border=\"1\" class=\"dataframe\">\n",
       "  <thead>\n",
       "    <tr style=\"text-align: right;\">\n",
       "      <th></th>\n",
       "      <th>Unnamed: 0</th>\n",
       "      <th>AveragePrice</th>\n",
       "      <th>Total Volume</th>\n",
       "      <th>4046</th>\n",
       "      <th>4225</th>\n",
       "      <th>4770</th>\n",
       "      <th>Total Bags</th>\n",
       "      <th>Small Bags</th>\n",
       "      <th>Large Bags</th>\n",
       "      <th>XLarge Bags</th>\n",
       "      <th>year</th>\n",
       "    </tr>\n",
       "  </thead>\n",
       "  <tbody>\n",
       "    <tr>\n",
       "      <th>0</th>\n",
       "      <td>0</td>\n",
       "      <td>1.33</td>\n",
       "      <td>64236.62</td>\n",
       "      <td>1036.74</td>\n",
       "      <td>54454.85</td>\n",
       "      <td>48.16</td>\n",
       "      <td>8696.87</td>\n",
       "      <td>8603.62</td>\n",
       "      <td>93.25</td>\n",
       "      <td>0.0</td>\n",
       "      <td>2015</td>\n",
       "    </tr>\n",
       "    <tr>\n",
       "      <th>1</th>\n",
       "      <td>1</td>\n",
       "      <td>1.35</td>\n",
       "      <td>54876.98</td>\n",
       "      <td>674.28</td>\n",
       "      <td>44638.81</td>\n",
       "      <td>58.33</td>\n",
       "      <td>9505.56</td>\n",
       "      <td>9408.07</td>\n",
       "      <td>97.49</td>\n",
       "      <td>0.0</td>\n",
       "      <td>2015</td>\n",
       "    </tr>\n",
       "    <tr>\n",
       "      <th>2</th>\n",
       "      <td>2</td>\n",
       "      <td>0.93</td>\n",
       "      <td>118220.22</td>\n",
       "      <td>794.70</td>\n",
       "      <td>109149.67</td>\n",
       "      <td>130.50</td>\n",
       "      <td>8145.35</td>\n",
       "      <td>8042.21</td>\n",
       "      <td>103.14</td>\n",
       "      <td>0.0</td>\n",
       "      <td>2015</td>\n",
       "    </tr>\n",
       "    <tr>\n",
       "      <th>3</th>\n",
       "      <td>3</td>\n",
       "      <td>1.08</td>\n",
       "      <td>78992.15</td>\n",
       "      <td>1132.00</td>\n",
       "      <td>71976.41</td>\n",
       "      <td>72.58</td>\n",
       "      <td>5811.16</td>\n",
       "      <td>5677.40</td>\n",
       "      <td>133.76</td>\n",
       "      <td>0.0</td>\n",
       "      <td>2015</td>\n",
       "    </tr>\n",
       "    <tr>\n",
       "      <th>4</th>\n",
       "      <td>4</td>\n",
       "      <td>1.28</td>\n",
       "      <td>51039.60</td>\n",
       "      <td>941.48</td>\n",
       "      <td>43838.39</td>\n",
       "      <td>75.78</td>\n",
       "      <td>6183.95</td>\n",
       "      <td>5986.26</td>\n",
       "      <td>197.69</td>\n",
       "      <td>0.0</td>\n",
       "      <td>2015</td>\n",
       "    </tr>\n",
       "    <tr>\n",
       "      <th>...</th>\n",
       "      <td>...</td>\n",
       "      <td>...</td>\n",
       "      <td>...</td>\n",
       "      <td>...</td>\n",
       "      <td>...</td>\n",
       "      <td>...</td>\n",
       "      <td>...</td>\n",
       "      <td>...</td>\n",
       "      <td>...</td>\n",
       "      <td>...</td>\n",
       "      <td>...</td>\n",
       "    </tr>\n",
       "    <tr>\n",
       "      <th>18244</th>\n",
       "      <td>7</td>\n",
       "      <td>1.63</td>\n",
       "      <td>17074.83</td>\n",
       "      <td>2046.96</td>\n",
       "      <td>1529.20</td>\n",
       "      <td>0.00</td>\n",
       "      <td>13498.67</td>\n",
       "      <td>13066.82</td>\n",
       "      <td>431.85</td>\n",
       "      <td>0.0</td>\n",
       "      <td>2018</td>\n",
       "    </tr>\n",
       "    <tr>\n",
       "      <th>18245</th>\n",
       "      <td>8</td>\n",
       "      <td>1.71</td>\n",
       "      <td>13888.04</td>\n",
       "      <td>1191.70</td>\n",
       "      <td>3431.50</td>\n",
       "      <td>0.00</td>\n",
       "      <td>9264.84</td>\n",
       "      <td>8940.04</td>\n",
       "      <td>324.80</td>\n",
       "      <td>0.0</td>\n",
       "      <td>2018</td>\n",
       "    </tr>\n",
       "    <tr>\n",
       "      <th>18246</th>\n",
       "      <td>9</td>\n",
       "      <td>1.87</td>\n",
       "      <td>13766.76</td>\n",
       "      <td>1191.92</td>\n",
       "      <td>2452.79</td>\n",
       "      <td>727.94</td>\n",
       "      <td>9394.11</td>\n",
       "      <td>9351.80</td>\n",
       "      <td>42.31</td>\n",
       "      <td>0.0</td>\n",
       "      <td>2018</td>\n",
       "    </tr>\n",
       "    <tr>\n",
       "      <th>18247</th>\n",
       "      <td>10</td>\n",
       "      <td>1.93</td>\n",
       "      <td>16205.22</td>\n",
       "      <td>1527.63</td>\n",
       "      <td>2981.04</td>\n",
       "      <td>727.01</td>\n",
       "      <td>10969.54</td>\n",
       "      <td>10919.54</td>\n",
       "      <td>50.00</td>\n",
       "      <td>0.0</td>\n",
       "      <td>2018</td>\n",
       "    </tr>\n",
       "    <tr>\n",
       "      <th>18248</th>\n",
       "      <td>11</td>\n",
       "      <td>1.62</td>\n",
       "      <td>17489.58</td>\n",
       "      <td>2894.77</td>\n",
       "      <td>2356.13</td>\n",
       "      <td>224.53</td>\n",
       "      <td>12014.15</td>\n",
       "      <td>11988.14</td>\n",
       "      <td>26.01</td>\n",
       "      <td>0.0</td>\n",
       "      <td>2018</td>\n",
       "    </tr>\n",
       "  </tbody>\n",
       "</table>\n",
       "<p>18249 rows × 11 columns</p>\n",
       "</div>"
      ],
      "text/plain": [
       "       Unnamed: 0  AveragePrice  Total Volume     4046       4225    4770   \n",
       "0               0          1.33      64236.62  1036.74   54454.85   48.16  \\\n",
       "1               1          1.35      54876.98   674.28   44638.81   58.33   \n",
       "2               2          0.93     118220.22   794.70  109149.67  130.50   \n",
       "3               3          1.08      78992.15  1132.00   71976.41   72.58   \n",
       "4               4          1.28      51039.60   941.48   43838.39   75.78   \n",
       "...           ...           ...           ...      ...        ...     ...   \n",
       "18244           7          1.63      17074.83  2046.96    1529.20    0.00   \n",
       "18245           8          1.71      13888.04  1191.70    3431.50    0.00   \n",
       "18246           9          1.87      13766.76  1191.92    2452.79  727.94   \n",
       "18247          10          1.93      16205.22  1527.63    2981.04  727.01   \n",
       "18248          11          1.62      17489.58  2894.77    2356.13  224.53   \n",
       "\n",
       "       Total Bags  Small Bags  Large Bags  XLarge Bags  year  \n",
       "0         8696.87     8603.62       93.25          0.0  2015  \n",
       "1         9505.56     9408.07       97.49          0.0  2015  \n",
       "2         8145.35     8042.21      103.14          0.0  2015  \n",
       "3         5811.16     5677.40      133.76          0.0  2015  \n",
       "4         6183.95     5986.26      197.69          0.0  2015  \n",
       "...           ...         ...         ...          ...   ...  \n",
       "18244    13498.67    13066.82      431.85          0.0  2018  \n",
       "18245     9264.84     8940.04      324.80          0.0  2018  \n",
       "18246     9394.11     9351.80       42.31          0.0  2018  \n",
       "18247    10969.54    10919.54       50.00          0.0  2018  \n",
       "18248    12014.15    11988.14       26.01          0.0  2018  \n",
       "\n",
       "[18249 rows x 11 columns]"
      ]
     },
     "execution_count": 103,
     "metadata": {},
     "output_type": "execute_result"
    }
   ],
   "source": [
    "columnas_numericas"
   ]
  },
  {
   "cell_type": "code",
   "execution_count": 104,
   "id": "29743fcc",
   "metadata": {},
   "outputs": [
    {
     "data": {
      "text/plain": [
       "Unnamed: 0        int64\n",
       "Date             object\n",
       "AveragePrice    float64\n",
       "Total Volume    float64\n",
       "4046            float64\n",
       "4225            float64\n",
       "4770            float64\n",
       "Total Bags      float64\n",
       "Small Bags      float64\n",
       "Large Bags      float64\n",
       "XLarge Bags     float64\n",
       "type             object\n",
       "year              int64\n",
       "region           object\n",
       "dtype: object"
      ]
     },
     "execution_count": 104,
     "metadata": {},
     "output_type": "execute_result"
    }
   ],
   "source": [
    "df.dtypes #tipo de dato que contiene cada columna"
   ]
  },
  {
   "cell_type": "code",
   "execution_count": 56,
   "id": "assigned-scanner",
   "metadata": {},
   "outputs": [
    {
     "ename": "NameError",
     "evalue": "name 'df' is not defined",
     "output_type": "error",
     "traceback": [
      "\u001b[0;31m---------------------------------------------------------------------------\u001b[0m",
      "\u001b[0;31mNameError\u001b[0m                                 Traceback (most recent call last)",
      "Cell \u001b[0;32mIn[56], line 2\u001b[0m\n\u001b[1;32m      1\u001b[0m \u001b[38;5;66;03m# Podemos incluir y excluir\u001b[39;00m\n\u001b[0;32m----> 2\u001b[0m \u001b[43mdf\u001b[49m\u001b[38;5;241m.\u001b[39mselect_dtypes(include\u001b[38;5;241m=\u001b[39m\u001b[38;5;124m\"\u001b[39m\u001b[38;5;124mobject\u001b[39m\u001b[38;5;124m\"\u001b[39m)\u001b[38;5;241m.\u001b[39mhead()\n",
      "\u001b[0;31mNameError\u001b[0m: name 'df' is not defined"
     ]
    }
   ],
   "source": [
    "# Podemos incluir y excluir\n",
    "df.select_dtypes(include=\"object\").head()"
   ]
  },
  {
   "cell_type": "code",
   "execution_count": 106,
   "id": "interpreted-phase",
   "metadata": {},
   "outputs": [
    {
     "data": {
      "text/html": [
       "<div>\n",
       "<style scoped>\n",
       "    .dataframe tbody tr th:only-of-type {\n",
       "        vertical-align: middle;\n",
       "    }\n",
       "\n",
       "    .dataframe tbody tr th {\n",
       "        vertical-align: top;\n",
       "    }\n",
       "\n",
       "    .dataframe thead th {\n",
       "        text-align: right;\n",
       "    }\n",
       "</style>\n",
       "<table border=\"1\" class=\"dataframe\">\n",
       "  <thead>\n",
       "    <tr style=\"text-align: right;\">\n",
       "      <th></th>\n",
       "      <th>AveragePrice</th>\n",
       "      <th>Total Volume</th>\n",
       "      <th>4046</th>\n",
       "      <th>4225</th>\n",
       "      <th>4770</th>\n",
       "      <th>Total Bags</th>\n",
       "      <th>Small Bags</th>\n",
       "      <th>Large Bags</th>\n",
       "      <th>XLarge Bags</th>\n",
       "    </tr>\n",
       "  </thead>\n",
       "  <tbody>\n",
       "    <tr>\n",
       "      <th>0</th>\n",
       "      <td>1.33</td>\n",
       "      <td>64236.62</td>\n",
       "      <td>1036.74</td>\n",
       "      <td>54454.85</td>\n",
       "      <td>48.16</td>\n",
       "      <td>8696.87</td>\n",
       "      <td>8603.62</td>\n",
       "      <td>93.25</td>\n",
       "      <td>0.0</td>\n",
       "    </tr>\n",
       "    <tr>\n",
       "      <th>1</th>\n",
       "      <td>1.35</td>\n",
       "      <td>54876.98</td>\n",
       "      <td>674.28</td>\n",
       "      <td>44638.81</td>\n",
       "      <td>58.33</td>\n",
       "      <td>9505.56</td>\n",
       "      <td>9408.07</td>\n",
       "      <td>97.49</td>\n",
       "      <td>0.0</td>\n",
       "    </tr>\n",
       "    <tr>\n",
       "      <th>2</th>\n",
       "      <td>0.93</td>\n",
       "      <td>118220.22</td>\n",
       "      <td>794.70</td>\n",
       "      <td>109149.67</td>\n",
       "      <td>130.50</td>\n",
       "      <td>8145.35</td>\n",
       "      <td>8042.21</td>\n",
       "      <td>103.14</td>\n",
       "      <td>0.0</td>\n",
       "    </tr>\n",
       "    <tr>\n",
       "      <th>3</th>\n",
       "      <td>1.08</td>\n",
       "      <td>78992.15</td>\n",
       "      <td>1132.00</td>\n",
       "      <td>71976.41</td>\n",
       "      <td>72.58</td>\n",
       "      <td>5811.16</td>\n",
       "      <td>5677.40</td>\n",
       "      <td>133.76</td>\n",
       "      <td>0.0</td>\n",
       "    </tr>\n",
       "    <tr>\n",
       "      <th>4</th>\n",
       "      <td>1.28</td>\n",
       "      <td>51039.60</td>\n",
       "      <td>941.48</td>\n",
       "      <td>43838.39</td>\n",
       "      <td>75.78</td>\n",
       "      <td>6183.95</td>\n",
       "      <td>5986.26</td>\n",
       "      <td>197.69</td>\n",
       "      <td>0.0</td>\n",
       "    </tr>\n",
       "  </tbody>\n",
       "</table>\n",
       "</div>"
      ],
      "text/plain": [
       "   AveragePrice  Total Volume     4046       4225    4770  Total Bags   \n",
       "0          1.33      64236.62  1036.74   54454.85   48.16     8696.87  \\\n",
       "1          1.35      54876.98   674.28   44638.81   58.33     9505.56   \n",
       "2          0.93     118220.22   794.70  109149.67  130.50     8145.35   \n",
       "3          1.08      78992.15  1132.00   71976.41   72.58     5811.16   \n",
       "4          1.28      51039.60   941.48   43838.39   75.78     6183.95   \n",
       "\n",
       "   Small Bags  Large Bags  XLarge Bags  \n",
       "0     8603.62       93.25          0.0  \n",
       "1     9408.07       97.49          0.0  \n",
       "2     8042.21      103.14          0.0  \n",
       "3     5677.40      133.76          0.0  \n",
       "4     5986.26      197.69          0.0  "
      ]
     },
     "execution_count": 106,
     "metadata": {},
     "output_type": "execute_result"
    }
   ],
   "source": [
    "df.select_dtypes( include=\"float\").head()"
   ]
  },
  {
   "cell_type": "code",
   "execution_count": 107,
   "id": "b4840d9c",
   "metadata": {},
   "outputs": [
    {
     "data": {
      "text/html": [
       "<div>\n",
       "<style scoped>\n",
       "    .dataframe tbody tr th:only-of-type {\n",
       "        vertical-align: middle;\n",
       "    }\n",
       "\n",
       "    .dataframe tbody tr th {\n",
       "        vertical-align: top;\n",
       "    }\n",
       "\n",
       "    .dataframe thead th {\n",
       "        text-align: right;\n",
       "    }\n",
       "</style>\n",
       "<table border=\"1\" class=\"dataframe\">\n",
       "  <thead>\n",
       "    <tr style=\"text-align: right;\">\n",
       "      <th></th>\n",
       "      <th>Unnamed: 0</th>\n",
       "      <th>Date</th>\n",
       "      <th>AveragePrice</th>\n",
       "      <th>Total Volume</th>\n",
       "      <th>4046</th>\n",
       "      <th>4225</th>\n",
       "      <th>4770</th>\n",
       "      <th>Total Bags</th>\n",
       "      <th>Small Bags</th>\n",
       "      <th>Large Bags</th>\n",
       "      <th>XLarge Bags</th>\n",
       "      <th>type</th>\n",
       "      <th>year</th>\n",
       "      <th>region</th>\n",
       "    </tr>\n",
       "  </thead>\n",
       "  <tbody>\n",
       "    <tr>\n",
       "      <th>7972</th>\n",
       "      <td>24</td>\n",
       "      <td>2017-07-16</td>\n",
       "      <td>1.28</td>\n",
       "      <td>385644.8</td>\n",
       "      <td>176984.94</td>\n",
       "      <td>84547.08</td>\n",
       "      <td>2236.83</td>\n",
       "      <td>121875.95</td>\n",
       "      <td>91437.77</td>\n",
       "      <td>25312.59</td>\n",
       "      <td>5125.59</td>\n",
       "      <td>conventional</td>\n",
       "      <td>2017</td>\n",
       "      <td>SouthCarolina</td>\n",
       "    </tr>\n",
       "  </tbody>\n",
       "</table>\n",
       "</div>"
      ],
      "text/plain": [
       "      Unnamed: 0        Date  AveragePrice  Total Volume       4046      4225   \n",
       "7972          24  2017-07-16          1.28      385644.8  176984.94  84547.08  \\\n",
       "\n",
       "         4770  Total Bags  Small Bags  Large Bags  XLarge Bags          type   \n",
       "7972  2236.83   121875.95    91437.77    25312.59      5125.59  conventional  \\\n",
       "\n",
       "      year         region  \n",
       "7972  2017  SouthCarolina  "
      ]
     },
     "execution_count": 107,
     "metadata": {},
     "output_type": "execute_result"
    }
   ],
   "source": [
    "df.sample()"
   ]
  },
  {
   "cell_type": "markdown",
   "id": "varying-candy",
   "metadata": {},
   "source": [
    "## Operaciones básicas con los dataframes"
   ]
  },
  {
   "cell_type": "markdown",
   "id": "higher-bridges",
   "metadata": {},
   "source": [
    "### Seleccionamos una columna"
   ]
  },
  {
   "cell_type": "code",
   "execution_count": 108,
   "id": "39f18493",
   "metadata": {},
   "outputs": [
    {
     "data": {
      "text/plain": [
       "Index(['Unnamed: 0', 'Date', 'AveragePrice', 'Total Volume', '4046', '4225',\n",
       "       '4770', 'Total Bags', 'Small Bags', 'Large Bags', 'XLarge Bags', 'type',\n",
       "       'year', 'region'],\n",
       "      dtype='object')"
      ]
     },
     "execution_count": 108,
     "metadata": {},
     "output_type": "execute_result"
    }
   ],
   "source": [
    "df.columns #Podemos ver las columnas del df"
   ]
  },
  {
   "cell_type": "code",
   "execution_count": 109,
   "id": "harmful-breeding",
   "metadata": {
    "scrolled": true
   },
   "outputs": [
    {
     "data": {
      "text/plain": [
       "['Unnamed: 0',\n",
       " 'Date',\n",
       " 'AveragePrice',\n",
       " 'Total Volume',\n",
       " '4046',\n",
       " '4225',\n",
       " '4770',\n",
       " 'Total Bags',\n",
       " 'Small Bags',\n",
       " 'Large Bags',\n",
       " 'XLarge Bags',\n",
       " 'type',\n",
       " 'year',\n",
       " 'region']"
      ]
     },
     "execution_count": 109,
     "metadata": {},
     "output_type": "execute_result"
    }
   ],
   "source": [
    "df.columns.tolist() #Sacar listado de las columnas del df"
   ]
  },
  {
   "cell_type": "code",
   "execution_count": 110,
   "id": "proof-township",
   "metadata": {},
   "outputs": [
    {
     "data": {
      "text/plain": [
       "0         8696.87\n",
       "1         9505.56\n",
       "2         8145.35\n",
       "3         5811.16\n",
       "4         6183.95\n",
       "           ...   \n",
       "18244    13498.67\n",
       "18245     9264.84\n",
       "18246     9394.11\n",
       "18247    10969.54\n",
       "18248    12014.15\n",
       "Name: Total Bags, Length: 18249, dtype: float64"
      ]
     },
     "execution_count": 110,
     "metadata": {},
     "output_type": "execute_result"
    }
   ],
   "source": [
    "# Tengo una serie de pandas\n",
    "unacolumna = df[\"Total Bags\"]\n",
    "unacolumna"
   ]
  },
  {
   "cell_type": "code",
   "execution_count": 111,
   "id": "inside-viking",
   "metadata": {},
   "outputs": [
    {
     "data": {
      "text/html": [
       "<div>\n",
       "<style scoped>\n",
       "    .dataframe tbody tr th:only-of-type {\n",
       "        vertical-align: middle;\n",
       "    }\n",
       "\n",
       "    .dataframe tbody tr th {\n",
       "        vertical-align: top;\n",
       "    }\n",
       "\n",
       "    .dataframe thead th {\n",
       "        text-align: right;\n",
       "    }\n",
       "</style>\n",
       "<table border=\"1\" class=\"dataframe\">\n",
       "  <thead>\n",
       "    <tr style=\"text-align: right;\">\n",
       "      <th></th>\n",
       "      <th>Total Bags</th>\n",
       "    </tr>\n",
       "  </thead>\n",
       "  <tbody>\n",
       "    <tr>\n",
       "      <th>0</th>\n",
       "      <td>8696.87</td>\n",
       "    </tr>\n",
       "    <tr>\n",
       "      <th>1</th>\n",
       "      <td>9505.56</td>\n",
       "    </tr>\n",
       "    <tr>\n",
       "      <th>2</th>\n",
       "      <td>8145.35</td>\n",
       "    </tr>\n",
       "    <tr>\n",
       "      <th>3</th>\n",
       "      <td>5811.16</td>\n",
       "    </tr>\n",
       "    <tr>\n",
       "      <th>4</th>\n",
       "      <td>6183.95</td>\n",
       "    </tr>\n",
       "  </tbody>\n",
       "</table>\n",
       "</div>"
      ],
      "text/plain": [
       "   Total Bags\n",
       "0     8696.87\n",
       "1     9505.56\n",
       "2     8145.35\n",
       "3     5811.16\n",
       "4     6183.95"
      ]
     },
     "execution_count": 111,
     "metadata": {},
     "output_type": "execute_result"
    }
   ],
   "source": [
    "# Si solo pongo unos corchetes, tengo una serie de pandas\n",
    "unacolumna_dataframe = df[[\"Total Bags\"]]\n",
    "unacolumna_dataframe.head()"
   ]
  },
  {
   "cell_type": "code",
   "execution_count": 112,
   "id": "driving-writer",
   "metadata": {},
   "outputs": [],
   "source": [
    "# Si a pesar de pasarle una lista, solo tiene un elemento, tengo un dataframe con una sola columna"
   ]
  },
  {
   "cell_type": "code",
   "execution_count": 113,
   "id": "ancient-trouble",
   "metadata": {},
   "outputs": [],
   "source": [
    "# O dos :), o las que queramos"
   ]
  },
  {
   "cell_type": "markdown",
   "id": "industrial-amazon",
   "metadata": {},
   "source": [
    "### Seleccionamos varias columnas"
   ]
  },
  {
   "cell_type": "code",
   "execution_count": 114,
   "id": "941d3afb",
   "metadata": {},
   "outputs": [
    {
     "data": {
      "text/plain": [
       "Index(['Unnamed: 0', 'Date', 'AveragePrice', 'Total Volume', '4046', '4225',\n",
       "       '4770', 'Total Bags', 'Small Bags', 'Large Bags', 'XLarge Bags', 'type',\n",
       "       'year', 'region'],\n",
       "      dtype='object')"
      ]
     },
     "execution_count": 114,
     "metadata": {},
     "output_type": "execute_result"
    }
   ],
   "source": [
    "df.columns"
   ]
  },
  {
   "cell_type": "code",
   "execution_count": 115,
   "id": "dense-decimal",
   "metadata": {},
   "outputs": [],
   "source": [
    "df2 = df[[\"Total Bags\", \"AveragePrice\", \"region\"]]"
   ]
  },
  {
   "cell_type": "code",
   "execution_count": 116,
   "id": "00ed22c6",
   "metadata": {},
   "outputs": [
    {
     "data": {
      "text/html": [
       "<div>\n",
       "<style scoped>\n",
       "    .dataframe tbody tr th:only-of-type {\n",
       "        vertical-align: middle;\n",
       "    }\n",
       "\n",
       "    .dataframe tbody tr th {\n",
       "        vertical-align: top;\n",
       "    }\n",
       "\n",
       "    .dataframe thead th {\n",
       "        text-align: right;\n",
       "    }\n",
       "</style>\n",
       "<table border=\"1\" class=\"dataframe\">\n",
       "  <thead>\n",
       "    <tr style=\"text-align: right;\">\n",
       "      <th></th>\n",
       "      <th>Total Bags</th>\n",
       "      <th>AveragePrice</th>\n",
       "      <th>region</th>\n",
       "    </tr>\n",
       "  </thead>\n",
       "  <tbody>\n",
       "    <tr>\n",
       "      <th>16689</th>\n",
       "      <td>68634.20</td>\n",
       "      <td>0.68</td>\n",
       "      <td>Portland</td>\n",
       "    </tr>\n",
       "    <tr>\n",
       "      <th>10610</th>\n",
       "      <td>2735.75</td>\n",
       "      <td>2.00</td>\n",
       "      <td>NewYork</td>\n",
       "    </tr>\n",
       "    <tr>\n",
       "      <th>15074</th>\n",
       "      <td>37143.48</td>\n",
       "      <td>2.18</td>\n",
       "      <td>California</td>\n",
       "    </tr>\n",
       "    <tr>\n",
       "      <th>2920</th>\n",
       "      <td>131613.96</td>\n",
       "      <td>1.86</td>\n",
       "      <td>BaltimoreWashington</td>\n",
       "    </tr>\n",
       "    <tr>\n",
       "      <th>2927</th>\n",
       "      <td>168131.84</td>\n",
       "      <td>1.34</td>\n",
       "      <td>BaltimoreWashington</td>\n",
       "    </tr>\n",
       "    <tr>\n",
       "      <th>8283</th>\n",
       "      <td>59531.99</td>\n",
       "      <td>1.89</td>\n",
       "      <td>Tampa</td>\n",
       "    </tr>\n",
       "    <tr>\n",
       "      <th>8656</th>\n",
       "      <td>38855.90</td>\n",
       "      <td>1.63</td>\n",
       "      <td>GrandRapids</td>\n",
       "    </tr>\n",
       "    <tr>\n",
       "      <th>13662</th>\n",
       "      <td>893.58</td>\n",
       "      <td>2.47</td>\n",
       "      <td>PhoenixTucson</td>\n",
       "    </tr>\n",
       "    <tr>\n",
       "      <th>16642</th>\n",
       "      <td>36039.86</td>\n",
       "      <td>1.49</td>\n",
       "      <td>Plains</td>\n",
       "    </tr>\n",
       "    <tr>\n",
       "      <th>3641</th>\n",
       "      <td>51402.35</td>\n",
       "      <td>1.21</td>\n",
       "      <td>HarrisburgScranton</td>\n",
       "    </tr>\n",
       "  </tbody>\n",
       "</table>\n",
       "</div>"
      ],
      "text/plain": [
       "       Total Bags  AveragePrice               region\n",
       "16689    68634.20          0.68             Portland\n",
       "10610     2735.75          2.00              NewYork\n",
       "15074    37143.48          2.18           California\n",
       "2920    131613.96          1.86  BaltimoreWashington\n",
       "2927    168131.84          1.34  BaltimoreWashington\n",
       "8283     59531.99          1.89                Tampa\n",
       "8656     38855.90          1.63          GrandRapids\n",
       "13662      893.58          2.47        PhoenixTucson\n",
       "16642    36039.86          1.49               Plains\n",
       "3641     51402.35          1.21   HarrisburgScranton"
      ]
     },
     "execution_count": 116,
     "metadata": {},
     "output_type": "execute_result"
    }
   ],
   "source": [
    "df2.sample(10)"
   ]
  },
  {
   "cell_type": "code",
   "execution_count": 117,
   "id": "plastic-mills",
   "metadata": {},
   "outputs": [],
   "source": [
    "#le podemos pasar directamente una lista con los nombres de las columnas\n",
    "lista_columnas = ['Total Bags', 'Small Bags', 'Large Bags', 'XLarge Bags']"
   ]
  },
  {
   "cell_type": "code",
   "execution_count": 118,
   "id": "photographic-writing",
   "metadata": {},
   "outputs": [],
   "source": [
    "df_nuevo = df[lista_columnas]"
   ]
  },
  {
   "cell_type": "code",
   "execution_count": 119,
   "id": "5383c56e",
   "metadata": {},
   "outputs": [
    {
     "data": {
      "text/html": [
       "<div>\n",
       "<style scoped>\n",
       "    .dataframe tbody tr th:only-of-type {\n",
       "        vertical-align: middle;\n",
       "    }\n",
       "\n",
       "    .dataframe tbody tr th {\n",
       "        vertical-align: top;\n",
       "    }\n",
       "\n",
       "    .dataframe thead th {\n",
       "        text-align: right;\n",
       "    }\n",
       "</style>\n",
       "<table border=\"1\" class=\"dataframe\">\n",
       "  <thead>\n",
       "    <tr style=\"text-align: right;\">\n",
       "      <th></th>\n",
       "      <th>Total Bags</th>\n",
       "      <th>Small Bags</th>\n",
       "      <th>Large Bags</th>\n",
       "      <th>XLarge Bags</th>\n",
       "    </tr>\n",
       "  </thead>\n",
       "  <tbody>\n",
       "    <tr>\n",
       "      <th>9725</th>\n",
       "      <td>1480.83</td>\n",
       "      <td>1480.83</td>\n",
       "      <td>0.0</td>\n",
       "      <td>0.0</td>\n",
       "    </tr>\n",
       "  </tbody>\n",
       "</table>\n",
       "</div>"
      ],
      "text/plain": [
       "      Total Bags  Small Bags  Large Bags  XLarge Bags\n",
       "9725     1480.83     1480.83         0.0          0.0"
      ]
     },
     "execution_count": 119,
     "metadata": {},
     "output_type": "execute_result"
    }
   ],
   "source": [
    "df_nuevo.sample()"
   ]
  },
  {
   "cell_type": "code",
   "execution_count": 120,
   "id": "previous-maximum",
   "metadata": {},
   "outputs": [
    {
     "data": {
      "text/plain": [
       "['Unnamed: 0',\n",
       " 'Date',\n",
       " 'AveragePrice',\n",
       " 'Total Volume',\n",
       " '4046',\n",
       " '4225',\n",
       " '4770',\n",
       " 'Total Bags',\n",
       " 'Small Bags',\n",
       " 'Large Bags',\n",
       " 'XLarge Bags',\n",
       " 'type',\n",
       " 'year',\n",
       " 'region']"
      ]
     },
     "execution_count": 120,
     "metadata": {},
     "output_type": "execute_result"
    }
   ],
   "source": [
    "# Listar los nombres de columnas de un dataframe\n",
    "columnas = list(df.columns)\n",
    "columnas"
   ]
  },
  {
   "cell_type": "code",
   "execution_count": 121,
   "id": "iraqi-jones",
   "metadata": {},
   "outputs": [],
   "source": [
    "copia = df.copy() # Hacemos una copia "
   ]
  },
  {
   "cell_type": "code",
   "execution_count": 122,
   "id": "64ccffaa",
   "metadata": {},
   "outputs": [
    {
     "data": {
      "text/plain": [
       "Index(['Unnamed: 0', 'Date', 'Total Volume', '4046', '4225', '4770',\n",
       "       'Total Bags', 'Small Bags', 'Large Bags', 'XLarge Bags', 'type', 'year',\n",
       "       'region'],\n",
       "      dtype='object')"
      ]
     },
     "execution_count": 122,
     "metadata": {},
     "output_type": "execute_result"
    }
   ],
   "source": [
    "copia.drop(columns=\"AveragePrice\", inplace=True) #Por defecto inplace = False\n",
    "copia.columns"
   ]
  },
  {
   "cell_type": "code",
   "execution_count": 123,
   "id": "2895642b",
   "metadata": {},
   "outputs": [
    {
     "data": {
      "text/html": [
       "<div>\n",
       "<style scoped>\n",
       "    .dataframe tbody tr th:only-of-type {\n",
       "        vertical-align: middle;\n",
       "    }\n",
       "\n",
       "    .dataframe tbody tr th {\n",
       "        vertical-align: top;\n",
       "    }\n",
       "\n",
       "    .dataframe thead th {\n",
       "        text-align: right;\n",
       "    }\n",
       "</style>\n",
       "<table border=\"1\" class=\"dataframe\">\n",
       "  <thead>\n",
       "    <tr style=\"text-align: right;\">\n",
       "      <th></th>\n",
       "      <th>Unnamed: 0</th>\n",
       "      <th>Date</th>\n",
       "      <th>AveragePrice</th>\n",
       "      <th>Total Volume</th>\n",
       "      <th>4046</th>\n",
       "      <th>4225</th>\n",
       "      <th>4770</th>\n",
       "      <th>Total Bags</th>\n",
       "      <th>Small Bags</th>\n",
       "      <th>Large Bags</th>\n",
       "      <th>XLarge Bags</th>\n",
       "      <th>type</th>\n",
       "      <th>year</th>\n",
       "      <th>region</th>\n",
       "    </tr>\n",
       "  </thead>\n",
       "  <tbody>\n",
       "    <tr>\n",
       "      <th>0</th>\n",
       "      <td>0</td>\n",
       "      <td>2015-12-27</td>\n",
       "      <td>1.33</td>\n",
       "      <td>64236.62</td>\n",
       "      <td>1036.74</td>\n",
       "      <td>54454.85</td>\n",
       "      <td>48.16</td>\n",
       "      <td>8696.87</td>\n",
       "      <td>8603.62</td>\n",
       "      <td>93.25</td>\n",
       "      <td>0.0</td>\n",
       "      <td>conventional</td>\n",
       "      <td>2015</td>\n",
       "      <td>Albany</td>\n",
       "    </tr>\n",
       "  </tbody>\n",
       "</table>\n",
       "</div>"
      ],
      "text/plain": [
       "   Unnamed: 0        Date  AveragePrice  Total Volume     4046      4225   \n",
       "0           0  2015-12-27          1.33      64236.62  1036.74  54454.85  \\\n",
       "\n",
       "    4770  Total Bags  Small Bags  Large Bags  XLarge Bags          type  year   \n",
       "0  48.16     8696.87     8603.62       93.25          0.0  conventional  2015  \\\n",
       "\n",
       "   region  \n",
       "0  Albany  "
      ]
     },
     "execution_count": 123,
     "metadata": {},
     "output_type": "execute_result"
    }
   ],
   "source": [
    "df.head(1) # Las modificaciones que hago en la copia son independientes del original y no afectan"
   ]
  },
  {
   "cell_type": "code",
   "execution_count": 124,
   "id": "excessive-armstrong",
   "metadata": {},
   "outputs": [
    {
     "data": {
      "text/plain": [
       "False"
      ]
     },
     "execution_count": 124,
     "metadata": {},
     "output_type": "execute_result"
    }
   ],
   "source": [
    "copia is df# PORQUE COPIA NO ES DF"
   ]
  },
  {
   "cell_type": "markdown",
   "id": "2f2b1d4c",
   "metadata": {},
   "source": [
    "## 🚨🚨🚨 OJO CUIDADO!!🚨🚨🚨🚨"
   ]
  },
  {
   "cell_type": "code",
   "execution_count": 125,
   "id": "thorough-taiwan",
   "metadata": {},
   "outputs": [],
   "source": [
    "copia2 = df # si igualo la variable sin hacer copy me cargo el original"
   ]
  },
  {
   "cell_type": "code",
   "execution_count": 126,
   "id": "advanced-upset",
   "metadata": {},
   "outputs": [],
   "source": [
    "copia2.drop(columns=\"Total Bags\", inplace=True)"
   ]
  },
  {
   "cell_type": "code",
   "execution_count": 127,
   "id": "704b2d75",
   "metadata": {},
   "outputs": [
    {
     "data": {
      "text/plain": [
       "True"
      ]
     },
     "execution_count": 127,
     "metadata": {},
     "output_type": "execute_result"
    }
   ],
   "source": [
    "copia2 is df # PORQUE COPIA2 SÍ ES DFdf."
   ]
  },
  {
   "cell_type": "code",
   "execution_count": 128,
   "id": "internal-falls",
   "metadata": {},
   "outputs": [
    {
     "data": {
      "text/html": [
       "<div>\n",
       "<style scoped>\n",
       "    .dataframe tbody tr th:only-of-type {\n",
       "        vertical-align: middle;\n",
       "    }\n",
       "\n",
       "    .dataframe tbody tr th {\n",
       "        vertical-align: top;\n",
       "    }\n",
       "\n",
       "    .dataframe thead th {\n",
       "        text-align: right;\n",
       "    }\n",
       "</style>\n",
       "<table border=\"1\" class=\"dataframe\">\n",
       "  <thead>\n",
       "    <tr style=\"text-align: right;\">\n",
       "      <th></th>\n",
       "      <th>Unnamed: 0</th>\n",
       "      <th>Date</th>\n",
       "      <th>AveragePrice</th>\n",
       "      <th>Total Volume</th>\n",
       "      <th>4046</th>\n",
       "      <th>4225</th>\n",
       "      <th>4770</th>\n",
       "      <th>Small Bags</th>\n",
       "      <th>Large Bags</th>\n",
       "      <th>XLarge Bags</th>\n",
       "      <th>type</th>\n",
       "      <th>year</th>\n",
       "      <th>region</th>\n",
       "    </tr>\n",
       "  </thead>\n",
       "  <tbody>\n",
       "    <tr>\n",
       "      <th>0</th>\n",
       "      <td>0</td>\n",
       "      <td>2015-12-27</td>\n",
       "      <td>1.33</td>\n",
       "      <td>64236.62</td>\n",
       "      <td>1036.74</td>\n",
       "      <td>54454.85</td>\n",
       "      <td>48.16</td>\n",
       "      <td>8603.62</td>\n",
       "      <td>93.25</td>\n",
       "      <td>0.0</td>\n",
       "      <td>conventional</td>\n",
       "      <td>2015</td>\n",
       "      <td>Albany</td>\n",
       "    </tr>\n",
       "    <tr>\n",
       "      <th>1</th>\n",
       "      <td>1</td>\n",
       "      <td>2015-12-20</td>\n",
       "      <td>1.35</td>\n",
       "      <td>54876.98</td>\n",
       "      <td>674.28</td>\n",
       "      <td>44638.81</td>\n",
       "      <td>58.33</td>\n",
       "      <td>9408.07</td>\n",
       "      <td>97.49</td>\n",
       "      <td>0.0</td>\n",
       "      <td>conventional</td>\n",
       "      <td>2015</td>\n",
       "      <td>Albany</td>\n",
       "    </tr>\n",
       "    <tr>\n",
       "      <th>2</th>\n",
       "      <td>2</td>\n",
       "      <td>2015-12-13</td>\n",
       "      <td>0.93</td>\n",
       "      <td>118220.22</td>\n",
       "      <td>794.70</td>\n",
       "      <td>109149.67</td>\n",
       "      <td>130.50</td>\n",
       "      <td>8042.21</td>\n",
       "      <td>103.14</td>\n",
       "      <td>0.0</td>\n",
       "      <td>conventional</td>\n",
       "      <td>2015</td>\n",
       "      <td>Albany</td>\n",
       "    </tr>\n",
       "    <tr>\n",
       "      <th>3</th>\n",
       "      <td>3</td>\n",
       "      <td>2015-12-06</td>\n",
       "      <td>1.08</td>\n",
       "      <td>78992.15</td>\n",
       "      <td>1132.00</td>\n",
       "      <td>71976.41</td>\n",
       "      <td>72.58</td>\n",
       "      <td>5677.40</td>\n",
       "      <td>133.76</td>\n",
       "      <td>0.0</td>\n",
       "      <td>conventional</td>\n",
       "      <td>2015</td>\n",
       "      <td>Albany</td>\n",
       "    </tr>\n",
       "    <tr>\n",
       "      <th>4</th>\n",
       "      <td>4</td>\n",
       "      <td>2015-11-29</td>\n",
       "      <td>1.28</td>\n",
       "      <td>51039.60</td>\n",
       "      <td>941.48</td>\n",
       "      <td>43838.39</td>\n",
       "      <td>75.78</td>\n",
       "      <td>5986.26</td>\n",
       "      <td>197.69</td>\n",
       "      <td>0.0</td>\n",
       "      <td>conventional</td>\n",
       "      <td>2015</td>\n",
       "      <td>Albany</td>\n",
       "    </tr>\n",
       "  </tbody>\n",
       "</table>\n",
       "</div>"
      ],
      "text/plain": [
       "   Unnamed: 0        Date  AveragePrice  Total Volume     4046       4225   \n",
       "0           0  2015-12-27          1.33      64236.62  1036.74   54454.85  \\\n",
       "1           1  2015-12-20          1.35      54876.98   674.28   44638.81   \n",
       "2           2  2015-12-13          0.93     118220.22   794.70  109149.67   \n",
       "3           3  2015-12-06          1.08      78992.15  1132.00   71976.41   \n",
       "4           4  2015-11-29          1.28      51039.60   941.48   43838.39   \n",
       "\n",
       "     4770  Small Bags  Large Bags  XLarge Bags          type  year  region  \n",
       "0   48.16     8603.62       93.25          0.0  conventional  2015  Albany  \n",
       "1   58.33     9408.07       97.49          0.0  conventional  2015  Albany  \n",
       "2  130.50     8042.21      103.14          0.0  conventional  2015  Albany  \n",
       "3   72.58     5677.40      133.76          0.0  conventional  2015  Albany  \n",
       "4   75.78     5986.26      197.69          0.0  conventional  2015  Albany  "
      ]
     },
     "execution_count": 128,
     "metadata": {},
     "output_type": "execute_result"
    }
   ],
   "source": [
    "df.head()"
   ]
  },
  {
   "cell_type": "markdown",
   "id": "local-appointment",
   "metadata": {},
   "source": [
    "### Obtener los valores únicos de una columna (es decir, una serie)"
   ]
  },
  {
   "cell_type": "code",
   "execution_count": 129,
   "id": "limited-worse",
   "metadata": {},
   "outputs": [
    {
     "data": {
      "text/plain": [
       "array(['Albany', 'Atlanta', 'BaltimoreWashington', 'Boise', 'Boston',\n",
       "       'BuffaloRochester', 'California', 'Charlotte', 'Chicago',\n",
       "       'CincinnatiDayton', 'Columbus', 'DallasFtWorth', 'Denver',\n",
       "       'Detroit', 'GrandRapids', 'GreatLakes', 'HarrisburgScranton',\n",
       "       'HartfordSpringfield', 'Houston', 'Indianapolis', 'Jacksonville',\n",
       "       'LasVegas', 'LosAngeles', 'Louisville', 'MiamiFtLauderdale',\n",
       "       'Midsouth', 'Nashville', 'NewOrleansMobile', 'NewYork',\n",
       "       'Northeast', 'NorthernNewEngland', 'Orlando', 'Philadelphia',\n",
       "       'PhoenixTucson', 'Pittsburgh', 'Plains', 'Portland',\n",
       "       'RaleighGreensboro', 'RichmondNorfolk', 'Roanoke', 'Sacramento',\n",
       "       'SanDiego', 'SanFrancisco', 'Seattle', 'SouthCarolina',\n",
       "       'SouthCentral', 'Southeast', 'Spokane', 'StLouis', 'Syracuse',\n",
       "       'Tampa', 'TotalUS', 'West', 'WestTexNewMexico'], dtype=object)"
      ]
     },
     "execution_count": 129,
     "metadata": {},
     "output_type": "execute_result"
    }
   ],
   "source": [
    "df.region.unique()"
   ]
  },
  {
   "cell_type": "code",
   "execution_count": 130,
   "id": "bored-score",
   "metadata": {},
   "outputs": [
    {
     "data": {
      "text/plain": [
       "['Albany',\n",
       " 'Atlanta',\n",
       " 'BaltimoreWashington',\n",
       " 'Boise',\n",
       " 'Boston',\n",
       " 'BuffaloRochester',\n",
       " 'California',\n",
       " 'Charlotte',\n",
       " 'Chicago',\n",
       " 'CincinnatiDayton',\n",
       " 'Columbus',\n",
       " 'DallasFtWorth',\n",
       " 'Denver',\n",
       " 'Detroit',\n",
       " 'GrandRapids',\n",
       " 'GreatLakes',\n",
       " 'HarrisburgScranton',\n",
       " 'HartfordSpringfield',\n",
       " 'Houston',\n",
       " 'Indianapolis',\n",
       " 'Jacksonville',\n",
       " 'LasVegas',\n",
       " 'LosAngeles',\n",
       " 'Louisville',\n",
       " 'MiamiFtLauderdale',\n",
       " 'Midsouth',\n",
       " 'Nashville',\n",
       " 'NewOrleansMobile',\n",
       " 'NewYork',\n",
       " 'Northeast',\n",
       " 'NorthernNewEngland',\n",
       " 'Orlando',\n",
       " 'Philadelphia',\n",
       " 'PhoenixTucson',\n",
       " 'Pittsburgh',\n",
       " 'Plains',\n",
       " 'Portland',\n",
       " 'RaleighGreensboro',\n",
       " 'RichmondNorfolk',\n",
       " 'Roanoke',\n",
       " 'Sacramento',\n",
       " 'SanDiego',\n",
       " 'SanFrancisco',\n",
       " 'Seattle',\n",
       " 'SouthCarolina',\n",
       " 'SouthCentral',\n",
       " 'Southeast',\n",
       " 'Spokane',\n",
       " 'StLouis',\n",
       " 'Syracuse',\n",
       " 'Tampa',\n",
       " 'TotalUS',\n",
       " 'West',\n",
       " 'WestTexNewMexico']"
      ]
     },
     "execution_count": 130,
     "metadata": {},
     "output_type": "execute_result"
    }
   ],
   "source": [
    "list(df.region.unique())"
   ]
  },
  {
   "cell_type": "code",
   "execution_count": 131,
   "id": "little-device",
   "metadata": {},
   "outputs": [
    {
     "data": {
      "text/plain": [
       "array(['Victor', 'Javier', 'Pablo'], dtype=object)"
      ]
     },
     "execution_count": 131,
     "metadata": {},
     "output_type": "execute_result"
    }
   ],
   "source": [
    "df_datos.nombre.unique()"
   ]
  },
  {
   "cell_type": "markdown",
   "id": "statutory-chess",
   "metadata": {},
   "source": [
    "### Cambiar el tipo de datos de una columna"
   ]
  },
  {
   "cell_type": "code",
   "execution_count": 132,
   "id": "c8c3b628",
   "metadata": {},
   "outputs": [
    {
     "data": {
      "text/plain": [
       "dtype('float64')"
      ]
     },
     "execution_count": 132,
     "metadata": {},
     "output_type": "execute_result"
    }
   ],
   "source": [
    "df.AveragePrice.dtype"
   ]
  },
  {
   "cell_type": "code",
   "execution_count": 133,
   "id": "8f0a86eb",
   "metadata": {},
   "outputs": [
    {
     "name": "stdout",
     "output_type": "stream",
     "text": [
      "<class 'pandas.core.frame.DataFrame'>\n",
      "RangeIndex: 18249 entries, 0 to 18248\n",
      "Data columns (total 13 columns):\n",
      " #   Column        Non-Null Count  Dtype  \n",
      "---  ------        --------------  -----  \n",
      " 0   Unnamed: 0    18249 non-null  int64  \n",
      " 1   Date          18249 non-null  object \n",
      " 2   AveragePrice  18249 non-null  float64\n",
      " 3   Total Volume  18249 non-null  float64\n",
      " 4   4046          18249 non-null  float64\n",
      " 5   4225          18249 non-null  float64\n",
      " 6   4770          18249 non-null  float64\n",
      " 7   Small Bags    18249 non-null  float64\n",
      " 8   Large Bags    18249 non-null  float64\n",
      " 9   XLarge Bags   18249 non-null  float64\n",
      " 10  type          18249 non-null  object \n",
      " 11  year          18249 non-null  int64  \n",
      " 12  region        18249 non-null  object \n",
      "dtypes: float64(8), int64(2), object(3)\n",
      "memory usage: 1.8+ MB\n"
     ]
    }
   ],
   "source": [
    "df.info()"
   ]
  },
  {
   "cell_type": "code",
   "execution_count": 134,
   "id": "320fd135",
   "metadata": {},
   "outputs": [
    {
     "data": {
      "text/plain": [
       "0    1.33\n",
       "1    1.35\n",
       "2    0.93\n",
       "3    1.08\n",
       "4    1.28\n",
       "5    1.26\n",
       "6    0.99\n",
       "7    0.98\n",
       "8    1.02\n",
       "9    1.07\n",
       "Name: AveragePrice, dtype: float64"
      ]
     },
     "execution_count": 134,
     "metadata": {},
     "output_type": "execute_result"
    }
   ],
   "source": [
    "df.AveragePrice.head(10)"
   ]
  },
  {
   "cell_type": "code",
   "execution_count": 135,
   "id": "three-support",
   "metadata": {},
   "outputs": [
    {
     "data": {
      "text/plain": [
       "0        1\n",
       "1        1\n",
       "2        0\n",
       "3        1\n",
       "4        1\n",
       "        ..\n",
       "18244    1\n",
       "18245    1\n",
       "18246    1\n",
       "18247    1\n",
       "18248    1\n",
       "Name: AveragePrice, Length: 18249, dtype: int8"
      ]
     },
     "execution_count": 135,
     "metadata": {},
     "output_type": "execute_result"
    }
   ],
   "source": [
    "df.AveragePrice.astype(dtype=\"int8\")"
   ]
  },
  {
   "cell_type": "code",
   "execution_count": 136,
   "id": "05f1da01",
   "metadata": {},
   "outputs": [
    {
     "data": {
      "text/plain": [
       "0    1.33\n",
       "1    1.35\n",
       "2    0.93\n",
       "3    1.08\n",
       "4    1.28\n",
       "Name: AveragePrice, dtype: float64"
      ]
     },
     "execution_count": 136,
     "metadata": {},
     "output_type": "execute_result"
    }
   ],
   "source": [
    "df.AveragePrice.head()"
   ]
  },
  {
   "cell_type": "code",
   "execution_count": 137,
   "id": "comic-johns",
   "metadata": {},
   "outputs": [],
   "source": [
    "# Atención!! que no se cambian los datos si no sobreescribimos la columna\n",
    "df.AveragePrice = df.AveragePrice.astype(dtype='int8')"
   ]
  },
  {
   "cell_type": "code",
   "execution_count": 138,
   "id": "apparent-direction",
   "metadata": {},
   "outputs": [
    {
     "data": {
      "text/plain": [
       "0    1\n",
       "1    1\n",
       "2    0\n",
       "3    1\n",
       "4    1\n",
       "Name: AveragePrice, dtype: int8"
      ]
     },
     "execution_count": 138,
     "metadata": {},
     "output_type": "execute_result"
    }
   ],
   "source": [
    "df.AveragePrice.head()"
   ]
  },
  {
   "cell_type": "code",
   "execution_count": 139,
   "id": "single-carpet",
   "metadata": {},
   "outputs": [
    {
     "name": "stdout",
     "output_type": "stream",
     "text": [
      "<class 'pandas.core.frame.DataFrame'>\n",
      "RangeIndex: 18249 entries, 0 to 18248\n",
      "Data columns (total 13 columns):\n",
      " #   Column        Non-Null Count  Dtype  \n",
      "---  ------        --------------  -----  \n",
      " 0   Unnamed: 0    18249 non-null  int64  \n",
      " 1   Date          18249 non-null  object \n",
      " 2   AveragePrice  18249 non-null  int8   \n",
      " 3   Total Volume  18249 non-null  float64\n",
      " 4   4046          18249 non-null  float64\n",
      " 5   4225          18249 non-null  float64\n",
      " 6   4770          18249 non-null  float64\n",
      " 7   Small Bags    18249 non-null  float64\n",
      " 8   Large Bags    18249 non-null  float64\n",
      " 9   XLarge Bags   18249 non-null  float64\n",
      " 10  type          18249 non-null  object \n",
      " 11  year          18249 non-null  int64  \n",
      " 12  region        18249 non-null  object \n",
      "dtypes: float64(7), int64(2), int8(1), object(3)\n",
      "memory usage: 1.7+ MB\n"
     ]
    }
   ],
   "source": [
    "df.info()"
   ]
  },
  {
   "cell_type": "code",
   "execution_count": 140,
   "id": "5cfa0232",
   "metadata": {},
   "outputs": [
    {
     "data": {
      "text/plain": [
       "Index(['Unnamed: 0', 'Date', 'AveragePrice', 'Total Volume', '4046', '4225',\n",
       "       '4770', 'Small Bags', 'Large Bags', 'XLarge Bags', 'type', 'year',\n",
       "       'region'],\n",
       "      dtype='object')"
      ]
     },
     "execution_count": 140,
     "metadata": {},
     "output_type": "execute_result"
    }
   ],
   "source": [
    "df.columns"
   ]
  },
  {
   "cell_type": "code",
   "execution_count": 141,
   "id": "informational-birmingham",
   "metadata": {},
   "outputs": [],
   "source": [
    "df[\"Large Bags\"] = df[\"Large Bags\"].astype(dtype=float) #Puedo crear o reasignar columnas"
   ]
  },
  {
   "cell_type": "code",
   "execution_count": 142,
   "id": "premier-sweden",
   "metadata": {},
   "outputs": [
    {
     "data": {
      "text/html": [
       "<div>\n",
       "<style scoped>\n",
       "    .dataframe tbody tr th:only-of-type {\n",
       "        vertical-align: middle;\n",
       "    }\n",
       "\n",
       "    .dataframe tbody tr th {\n",
       "        vertical-align: top;\n",
       "    }\n",
       "\n",
       "    .dataframe thead th {\n",
       "        text-align: right;\n",
       "    }\n",
       "</style>\n",
       "<table border=\"1\" class=\"dataframe\">\n",
       "  <thead>\n",
       "    <tr style=\"text-align: right;\">\n",
       "      <th></th>\n",
       "      <th>Unnamed: 0</th>\n",
       "      <th>Date</th>\n",
       "      <th>AveragePrice</th>\n",
       "      <th>Total Volume</th>\n",
       "      <th>4046</th>\n",
       "      <th>4225</th>\n",
       "      <th>4770</th>\n",
       "      <th>Small Bags</th>\n",
       "      <th>Large Bags</th>\n",
       "      <th>XLarge Bags</th>\n",
       "      <th>type</th>\n",
       "      <th>year</th>\n",
       "      <th>region</th>\n",
       "    </tr>\n",
       "  </thead>\n",
       "  <tbody>\n",
       "    <tr>\n",
       "      <th>0</th>\n",
       "      <td>0</td>\n",
       "      <td>2015-12-27</td>\n",
       "      <td>1</td>\n",
       "      <td>64236.62</td>\n",
       "      <td>1036.74</td>\n",
       "      <td>54454.85</td>\n",
       "      <td>48.16</td>\n",
       "      <td>8603.62</td>\n",
       "      <td>93.25</td>\n",
       "      <td>0.0</td>\n",
       "      <td>conventional</td>\n",
       "      <td>2015</td>\n",
       "      <td>Albany</td>\n",
       "    </tr>\n",
       "    <tr>\n",
       "      <th>1</th>\n",
       "      <td>1</td>\n",
       "      <td>2015-12-20</td>\n",
       "      <td>1</td>\n",
       "      <td>54876.98</td>\n",
       "      <td>674.28</td>\n",
       "      <td>44638.81</td>\n",
       "      <td>58.33</td>\n",
       "      <td>9408.07</td>\n",
       "      <td>97.49</td>\n",
       "      <td>0.0</td>\n",
       "      <td>conventional</td>\n",
       "      <td>2015</td>\n",
       "      <td>Albany</td>\n",
       "    </tr>\n",
       "    <tr>\n",
       "      <th>2</th>\n",
       "      <td>2</td>\n",
       "      <td>2015-12-13</td>\n",
       "      <td>0</td>\n",
       "      <td>118220.22</td>\n",
       "      <td>794.70</td>\n",
       "      <td>109149.67</td>\n",
       "      <td>130.50</td>\n",
       "      <td>8042.21</td>\n",
       "      <td>103.14</td>\n",
       "      <td>0.0</td>\n",
       "      <td>conventional</td>\n",
       "      <td>2015</td>\n",
       "      <td>Albany</td>\n",
       "    </tr>\n",
       "    <tr>\n",
       "      <th>3</th>\n",
       "      <td>3</td>\n",
       "      <td>2015-12-06</td>\n",
       "      <td>1</td>\n",
       "      <td>78992.15</td>\n",
       "      <td>1132.00</td>\n",
       "      <td>71976.41</td>\n",
       "      <td>72.58</td>\n",
       "      <td>5677.40</td>\n",
       "      <td>133.76</td>\n",
       "      <td>0.0</td>\n",
       "      <td>conventional</td>\n",
       "      <td>2015</td>\n",
       "      <td>Albany</td>\n",
       "    </tr>\n",
       "    <tr>\n",
       "      <th>4</th>\n",
       "      <td>4</td>\n",
       "      <td>2015-11-29</td>\n",
       "      <td>1</td>\n",
       "      <td>51039.60</td>\n",
       "      <td>941.48</td>\n",
       "      <td>43838.39</td>\n",
       "      <td>75.78</td>\n",
       "      <td>5986.26</td>\n",
       "      <td>197.69</td>\n",
       "      <td>0.0</td>\n",
       "      <td>conventional</td>\n",
       "      <td>2015</td>\n",
       "      <td>Albany</td>\n",
       "    </tr>\n",
       "  </tbody>\n",
       "</table>\n",
       "</div>"
      ],
      "text/plain": [
       "   Unnamed: 0        Date  AveragePrice  Total Volume     4046       4225   \n",
       "0           0  2015-12-27             1      64236.62  1036.74   54454.85  \\\n",
       "1           1  2015-12-20             1      54876.98   674.28   44638.81   \n",
       "2           2  2015-12-13             0     118220.22   794.70  109149.67   \n",
       "3           3  2015-12-06             1      78992.15  1132.00   71976.41   \n",
       "4           4  2015-11-29             1      51039.60   941.48   43838.39   \n",
       "\n",
       "     4770  Small Bags  Large Bags  XLarge Bags          type  year  region  \n",
       "0   48.16     8603.62       93.25          0.0  conventional  2015  Albany  \n",
       "1   58.33     9408.07       97.49          0.0  conventional  2015  Albany  \n",
       "2  130.50     8042.21      103.14          0.0  conventional  2015  Albany  \n",
       "3   72.58     5677.40      133.76          0.0  conventional  2015  Albany  \n",
       "4   75.78     5986.26      197.69          0.0  conventional  2015  Albany  "
      ]
     },
     "execution_count": 142,
     "metadata": {},
     "output_type": "execute_result"
    }
   ],
   "source": [
    "df.head()"
   ]
  },
  {
   "cell_type": "code",
   "execution_count": 143,
   "id": "sitting-nitrogen",
   "metadata": {},
   "outputs": [],
   "source": [
    "# Para crear una columna nueva solamente tengo que darle un nombre, por ejemplo df[\"nueva\"]\n",
    "# Como cuando en un diccionario añado una KEY"
   ]
  },
  {
   "cell_type": "code",
   "execution_count": 144,
   "id": "comfortable-health",
   "metadata": {},
   "outputs": [],
   "source": [
    "df[\"otra\"] = df[\"Small Bags\"] * df[\"Total Volume\"]"
   ]
  },
  {
   "cell_type": "code",
   "execution_count": 145,
   "id": "exceptional-bracket",
   "metadata": {},
   "outputs": [
    {
     "data": {
      "text/html": [
       "<div>\n",
       "<style scoped>\n",
       "    .dataframe tbody tr th:only-of-type {\n",
       "        vertical-align: middle;\n",
       "    }\n",
       "\n",
       "    .dataframe tbody tr th {\n",
       "        vertical-align: top;\n",
       "    }\n",
       "\n",
       "    .dataframe thead th {\n",
       "        text-align: right;\n",
       "    }\n",
       "</style>\n",
       "<table border=\"1\" class=\"dataframe\">\n",
       "  <thead>\n",
       "    <tr style=\"text-align: right;\">\n",
       "      <th></th>\n",
       "      <th>Unnamed: 0</th>\n",
       "      <th>Date</th>\n",
       "      <th>AveragePrice</th>\n",
       "      <th>Total Volume</th>\n",
       "      <th>4046</th>\n",
       "      <th>4225</th>\n",
       "      <th>4770</th>\n",
       "      <th>Small Bags</th>\n",
       "      <th>Large Bags</th>\n",
       "      <th>XLarge Bags</th>\n",
       "      <th>type</th>\n",
       "      <th>year</th>\n",
       "      <th>region</th>\n",
       "      <th>otra</th>\n",
       "    </tr>\n",
       "  </thead>\n",
       "  <tbody>\n",
       "    <tr>\n",
       "      <th>12621</th>\n",
       "      <td>12</td>\n",
       "      <td>2016-10-02</td>\n",
       "      <td>1</td>\n",
       "      <td>10476.39</td>\n",
       "      <td>788.72</td>\n",
       "      <td>7978.47</td>\n",
       "      <td>0.00</td>\n",
       "      <td>746.49</td>\n",
       "      <td>962.71</td>\n",
       "      <td>0.00</td>\n",
       "      <td>organic</td>\n",
       "      <td>2016</td>\n",
       "      <td>Detroit</td>\n",
       "      <td>7.820520e+06</td>\n",
       "    </tr>\n",
       "    <tr>\n",
       "      <th>3593</th>\n",
       "      <td>5</td>\n",
       "      <td>2016-11-20</td>\n",
       "      <td>1</td>\n",
       "      <td>2637621.79</td>\n",
       "      <td>482408.81</td>\n",
       "      <td>1176230.69</td>\n",
       "      <td>109089.43</td>\n",
       "      <td>583552.66</td>\n",
       "      <td>283781.81</td>\n",
       "      <td>2558.39</td>\n",
       "      <td>conventional</td>\n",
       "      <td>2016</td>\n",
       "      <td>GreatLakes</td>\n",
       "      <td>1.539191e+12</td>\n",
       "    </tr>\n",
       "    <tr>\n",
       "      <th>3167</th>\n",
       "      <td>47</td>\n",
       "      <td>2016-01-31</td>\n",
       "      <td>0</td>\n",
       "      <td>6506673.96</td>\n",
       "      <td>2126066.85</td>\n",
       "      <td>2069192.92</td>\n",
       "      <td>287234.03</td>\n",
       "      <td>1874982.24</td>\n",
       "      <td>134692.75</td>\n",
       "      <td>14505.17</td>\n",
       "      <td>conventional</td>\n",
       "      <td>2016</td>\n",
       "      <td>California</td>\n",
       "      <td>1.219990e+13</td>\n",
       "    </tr>\n",
       "    <tr>\n",
       "      <th>17403</th>\n",
       "      <td>12</td>\n",
       "      <td>2017-10-08</td>\n",
       "      <td>1</td>\n",
       "      <td>5500.88</td>\n",
       "      <td>103.57</td>\n",
       "      <td>527.61</td>\n",
       "      <td>0.00</td>\n",
       "      <td>4750.00</td>\n",
       "      <td>119.70</td>\n",
       "      <td>0.00</td>\n",
       "      <td>organic</td>\n",
       "      <td>2017</td>\n",
       "      <td>Tampa</td>\n",
       "      <td>2.612918e+07</td>\n",
       "    </tr>\n",
       "    <tr>\n",
       "      <th>11224</th>\n",
       "      <td>18</td>\n",
       "      <td>2015-08-23</td>\n",
       "      <td>1</td>\n",
       "      <td>9578.90</td>\n",
       "      <td>2933.89</td>\n",
       "      <td>6146.39</td>\n",
       "      <td>0.00</td>\n",
       "      <td>498.62</td>\n",
       "      <td>0.00</td>\n",
       "      <td>0.00</td>\n",
       "      <td>organic</td>\n",
       "      <td>2015</td>\n",
       "      <td>Sacramento</td>\n",
       "      <td>4.776231e+06</td>\n",
       "    </tr>\n",
       "    <tr>\n",
       "      <th>10239</th>\n",
       "      <td>21</td>\n",
       "      <td>2015-08-02</td>\n",
       "      <td>1</td>\n",
       "      <td>9065.72</td>\n",
       "      <td>4950.22</td>\n",
       "      <td>3751.82</td>\n",
       "      <td>0.00</td>\n",
       "      <td>296.67</td>\n",
       "      <td>67.01</td>\n",
       "      <td>0.00</td>\n",
       "      <td>organic</td>\n",
       "      <td>2015</td>\n",
       "      <td>LasVegas</td>\n",
       "      <td>2.689527e+06</td>\n",
       "    </tr>\n",
       "    <tr>\n",
       "      <th>2115</th>\n",
       "      <td>35</td>\n",
       "      <td>2015-04-26</td>\n",
       "      <td>1</td>\n",
       "      <td>366719.82</td>\n",
       "      <td>101324.62</td>\n",
       "      <td>205561.23</td>\n",
       "      <td>13085.26</td>\n",
       "      <td>46748.71</td>\n",
       "      <td>0.00</td>\n",
       "      <td>0.00</td>\n",
       "      <td>conventional</td>\n",
       "      <td>2015</td>\n",
       "      <td>Sacramento</td>\n",
       "      <td>1.714368e+10</td>\n",
       "    </tr>\n",
       "    <tr>\n",
       "      <th>15747</th>\n",
       "      <td>52</td>\n",
       "      <td>2017-01-01</td>\n",
       "      <td>1</td>\n",
       "      <td>10109.46</td>\n",
       "      <td>7550.89</td>\n",
       "      <td>58.71</td>\n",
       "      <td>0.00</td>\n",
       "      <td>2499.86</td>\n",
       "      <td>0.00</td>\n",
       "      <td>0.00</td>\n",
       "      <td>organic</td>\n",
       "      <td>2017</td>\n",
       "      <td>Houston</td>\n",
       "      <td>2.527223e+07</td>\n",
       "    </tr>\n",
       "    <tr>\n",
       "      <th>3539</th>\n",
       "      <td>3</td>\n",
       "      <td>2016-12-04</td>\n",
       "      <td>0</td>\n",
       "      <td>263904.24</td>\n",
       "      <td>1092.97</td>\n",
       "      <td>189101.70</td>\n",
       "      <td>9125.63</td>\n",
       "      <td>61980.87</td>\n",
       "      <td>2547.12</td>\n",
       "      <td>55.95</td>\n",
       "      <td>conventional</td>\n",
       "      <td>2016</td>\n",
       "      <td>GrandRapids</td>\n",
       "      <td>1.635701e+10</td>\n",
       "    </tr>\n",
       "    <tr>\n",
       "      <th>13250</th>\n",
       "      <td>17</td>\n",
       "      <td>2016-08-28</td>\n",
       "      <td>1</td>\n",
       "      <td>121291.96</td>\n",
       "      <td>3600.52</td>\n",
       "      <td>49796.26</td>\n",
       "      <td>2525.75</td>\n",
       "      <td>36632.95</td>\n",
       "      <td>28736.48</td>\n",
       "      <td>0.00</td>\n",
       "      <td>organic</td>\n",
       "      <td>2016</td>\n",
       "      <td>Midsouth</td>\n",
       "      <td>4.443282e+09</td>\n",
       "    </tr>\n",
       "  </tbody>\n",
       "</table>\n",
       "</div>"
      ],
      "text/plain": [
       "       Unnamed: 0        Date  AveragePrice  Total Volume        4046   \n",
       "12621          12  2016-10-02             1      10476.39      788.72  \\\n",
       "3593            5  2016-11-20             1    2637621.79   482408.81   \n",
       "3167           47  2016-01-31             0    6506673.96  2126066.85   \n",
       "17403          12  2017-10-08             1       5500.88      103.57   \n",
       "11224          18  2015-08-23             1       9578.90     2933.89   \n",
       "10239          21  2015-08-02             1       9065.72     4950.22   \n",
       "2115           35  2015-04-26             1     366719.82   101324.62   \n",
       "15747          52  2017-01-01             1      10109.46     7550.89   \n",
       "3539            3  2016-12-04             0     263904.24     1092.97   \n",
       "13250          17  2016-08-28             1     121291.96     3600.52   \n",
       "\n",
       "             4225       4770  Small Bags  Large Bags  XLarge Bags   \n",
       "12621     7978.47       0.00      746.49      962.71         0.00  \\\n",
       "3593   1176230.69  109089.43   583552.66   283781.81      2558.39   \n",
       "3167   2069192.92  287234.03  1874982.24   134692.75     14505.17   \n",
       "17403      527.61       0.00     4750.00      119.70         0.00   \n",
       "11224     6146.39       0.00      498.62        0.00         0.00   \n",
       "10239     3751.82       0.00      296.67       67.01         0.00   \n",
       "2115    205561.23   13085.26    46748.71        0.00         0.00   \n",
       "15747       58.71       0.00     2499.86        0.00         0.00   \n",
       "3539    189101.70    9125.63    61980.87     2547.12        55.95   \n",
       "13250    49796.26    2525.75    36632.95    28736.48         0.00   \n",
       "\n",
       "               type  year       region          otra  \n",
       "12621       organic  2016      Detroit  7.820520e+06  \n",
       "3593   conventional  2016   GreatLakes  1.539191e+12  \n",
       "3167   conventional  2016   California  1.219990e+13  \n",
       "17403       organic  2017        Tampa  2.612918e+07  \n",
       "11224       organic  2015   Sacramento  4.776231e+06  \n",
       "10239       organic  2015     LasVegas  2.689527e+06  \n",
       "2115   conventional  2015   Sacramento  1.714368e+10  \n",
       "15747       organic  2017      Houston  2.527223e+07  \n",
       "3539   conventional  2016  GrandRapids  1.635701e+10  \n",
       "13250       organic  2016     Midsouth  4.443282e+09  "
      ]
     },
     "execution_count": 145,
     "metadata": {},
     "output_type": "execute_result"
    }
   ],
   "source": [
    "df.sample(10)"
   ]
  },
  {
   "cell_type": "code",
   "execution_count": 146,
   "id": "handled-skill",
   "metadata": {},
   "outputs": [],
   "source": [
    "# No puedo sumar strings y números\n",
    "df[\"ejemplo\"] = df.AveragePrice * df.region "
   ]
  },
  {
   "cell_type": "code",
   "execution_count": 147,
   "id": "0b97dcc0",
   "metadata": {},
   "outputs": [
    {
     "data": {
      "text/html": [
       "<div>\n",
       "<style scoped>\n",
       "    .dataframe tbody tr th:only-of-type {\n",
       "        vertical-align: middle;\n",
       "    }\n",
       "\n",
       "    .dataframe tbody tr th {\n",
       "        vertical-align: top;\n",
       "    }\n",
       "\n",
       "    .dataframe thead th {\n",
       "        text-align: right;\n",
       "    }\n",
       "</style>\n",
       "<table border=\"1\" class=\"dataframe\">\n",
       "  <thead>\n",
       "    <tr style=\"text-align: right;\">\n",
       "      <th></th>\n",
       "      <th>AveragePrice</th>\n",
       "      <th>region</th>\n",
       "      <th>ejemplo</th>\n",
       "    </tr>\n",
       "  </thead>\n",
       "  <tbody>\n",
       "    <tr>\n",
       "      <th>17266</th>\n",
       "      <td>1</td>\n",
       "      <td>Spokane</td>\n",
       "      <td>Spokane</td>\n",
       "    </tr>\n",
       "    <tr>\n",
       "      <th>8322</th>\n",
       "      <td>1</td>\n",
       "      <td>TotalUS</td>\n",
       "      <td>TotalUS</td>\n",
       "    </tr>\n",
       "    <tr>\n",
       "      <th>1332</th>\n",
       "      <td>1</td>\n",
       "      <td>Midsouth</td>\n",
       "      <td>Midsouth</td>\n",
       "    </tr>\n",
       "    <tr>\n",
       "      <th>2767</th>\n",
       "      <td>0</td>\n",
       "      <td>WestTexNewMexico</td>\n",
       "      <td></td>\n",
       "    </tr>\n",
       "    <tr>\n",
       "      <th>11823</th>\n",
       "      <td>1</td>\n",
       "      <td>TotalUS</td>\n",
       "      <td>TotalUS</td>\n",
       "    </tr>\n",
       "    <tr>\n",
       "      <th>11619</th>\n",
       "      <td>1</td>\n",
       "      <td>Spokane</td>\n",
       "      <td>Spokane</td>\n",
       "    </tr>\n",
       "    <tr>\n",
       "      <th>5330</th>\n",
       "      <td>0</td>\n",
       "      <td>StLouis</td>\n",
       "      <td></td>\n",
       "    </tr>\n",
       "    <tr>\n",
       "      <th>3178</th>\n",
       "      <td>1</td>\n",
       "      <td>Charlotte</td>\n",
       "      <td>Charlotte</td>\n",
       "    </tr>\n",
       "    <tr>\n",
       "      <th>11046</th>\n",
       "      <td>1</td>\n",
       "      <td>Portland</td>\n",
       "      <td>Portland</td>\n",
       "    </tr>\n",
       "    <tr>\n",
       "      <th>13622</th>\n",
       "      <td>2</td>\n",
       "      <td>Philadelphia</td>\n",
       "      <td>PhiladelphiaPhiladelphia</td>\n",
       "    </tr>\n",
       "    <tr>\n",
       "      <th>3169</th>\n",
       "      <td>0</td>\n",
       "      <td>California</td>\n",
       "      <td></td>\n",
       "    </tr>\n",
       "    <tr>\n",
       "      <th>8735</th>\n",
       "      <td>1</td>\n",
       "      <td>LasVegas</td>\n",
       "      <td>LasVegas</td>\n",
       "    </tr>\n",
       "    <tr>\n",
       "      <th>8190</th>\n",
       "      <td>1</td>\n",
       "      <td>StLouis</td>\n",
       "      <td>StLouis</td>\n",
       "    </tr>\n",
       "    <tr>\n",
       "      <th>8742</th>\n",
       "      <td>1</td>\n",
       "      <td>LosAngeles</td>\n",
       "      <td>LosAngeles</td>\n",
       "    </tr>\n",
       "    <tr>\n",
       "      <th>2710</th>\n",
       "      <td>0</td>\n",
       "      <td>West</td>\n",
       "      <td></td>\n",
       "    </tr>\n",
       "  </tbody>\n",
       "</table>\n",
       "</div>"
      ],
      "text/plain": [
       "       AveragePrice            region                   ejemplo\n",
       "17266             1           Spokane                   Spokane\n",
       "8322              1           TotalUS                   TotalUS\n",
       "1332              1          Midsouth                  Midsouth\n",
       "2767              0  WestTexNewMexico                          \n",
       "11823             1           TotalUS                   TotalUS\n",
       "11619             1           Spokane                   Spokane\n",
       "5330              0           StLouis                          \n",
       "3178              1         Charlotte                 Charlotte\n",
       "11046             1          Portland                  Portland\n",
       "13622             2      Philadelphia  PhiladelphiaPhiladelphia\n",
       "3169              0        California                          \n",
       "8735              1          LasVegas                  LasVegas\n",
       "8190              1           StLouis                   StLouis\n",
       "8742              1        LosAngeles                LosAngeles\n",
       "2710              0              West                          "
      ]
     },
     "execution_count": 147,
     "metadata": {},
     "output_type": "execute_result"
    }
   ],
   "source": [
    "df[[\"AveragePrice\",\"region\",\"ejemplo\"]].sample(15)"
   ]
  },
  {
   "cell_type": "code",
   "execution_count": 148,
   "id": "882a12da",
   "metadata": {},
   "outputs": [
    {
     "data": {
      "text/plain": [
       "'te voy a dar te voy a dar '"
      ]
     },
     "execution_count": 148,
     "metadata": {},
     "output_type": "execute_result"
    }
   ],
   "source": [
    "a = \"te voy a dar \"\n",
    "b = 2\n",
    "a*b"
   ]
  },
  {
   "cell_type": "markdown",
   "id": "orange-burden",
   "metadata": {},
   "source": [
    "### Filtramos los datos por el valor de las columnas"
   ]
  },
  {
   "cell_type": "code",
   "execution_count": 149,
   "id": "united-genre",
   "metadata": {},
   "outputs": [
    {
     "data": {
      "text/plain": [
       "54"
      ]
     },
     "execution_count": 149,
     "metadata": {},
     "output_type": "execute_result"
    }
   ],
   "source": [
    "df.region.nunique() #Sacamos el numero de valores unicos"
   ]
  },
  {
   "cell_type": "code",
   "execution_count": 150,
   "id": "c8f77557",
   "metadata": {},
   "outputs": [
    {
     "data": {
      "text/plain": [
       "54"
      ]
     },
     "execution_count": 150,
     "metadata": {},
     "output_type": "execute_result"
    }
   ],
   "source": [
    "len(df.region.unique())"
   ]
  },
  {
   "cell_type": "code",
   "execution_count": 151,
   "id": "surprised-breach",
   "metadata": {},
   "outputs": [],
   "source": [
    "df2 = df[df[\"region\"] == \"Houston\"]"
   ]
  },
  {
   "cell_type": "code",
   "execution_count": 152,
   "id": "brief-heritage",
   "metadata": {},
   "outputs": [
    {
     "data": {
      "text/plain": [
       "region\n",
       "Houston    338\n",
       "Name: count, dtype: int64"
      ]
     },
     "execution_count": 152,
     "metadata": {},
     "output_type": "execute_result"
    }
   ],
   "source": [
    "df2.region.value_counts()"
   ]
  },
  {
   "cell_type": "code",
   "execution_count": 153,
   "id": "cd5e232a",
   "metadata": {},
   "outputs": [
    {
     "data": {
      "text/plain": [
       "array(['Houston'], dtype=object)"
      ]
     },
     "execution_count": 153,
     "metadata": {},
     "output_type": "execute_result"
    }
   ],
   "source": [
    "df2.region.unique()"
   ]
  },
  {
   "cell_type": "code",
   "execution_count": 154,
   "id": "young-speaker",
   "metadata": {},
   "outputs": [],
   "source": [
    "df2 = df[df[\"region\"] != \"Houston\"]"
   ]
  },
  {
   "cell_type": "code",
   "execution_count": 155,
   "id": "metric-auckland",
   "metadata": {},
   "outputs": [
    {
     "data": {
      "text/html": [
       "<div>\n",
       "<style scoped>\n",
       "    .dataframe tbody tr th:only-of-type {\n",
       "        vertical-align: middle;\n",
       "    }\n",
       "\n",
       "    .dataframe tbody tr th {\n",
       "        vertical-align: top;\n",
       "    }\n",
       "\n",
       "    .dataframe thead th {\n",
       "        text-align: right;\n",
       "    }\n",
       "</style>\n",
       "<table border=\"1\" class=\"dataframe\">\n",
       "  <thead>\n",
       "    <tr style=\"text-align: right;\">\n",
       "      <th></th>\n",
       "      <th>Unnamed: 0</th>\n",
       "      <th>Date</th>\n",
       "      <th>AveragePrice</th>\n",
       "      <th>Total Volume</th>\n",
       "      <th>4046</th>\n",
       "      <th>4225</th>\n",
       "      <th>4770</th>\n",
       "      <th>Small Bags</th>\n",
       "      <th>Large Bags</th>\n",
       "      <th>XLarge Bags</th>\n",
       "      <th>type</th>\n",
       "      <th>year</th>\n",
       "      <th>region</th>\n",
       "      <th>otra</th>\n",
       "      <th>ejemplo</th>\n",
       "    </tr>\n",
       "  </thead>\n",
       "  <tbody>\n",
       "    <tr>\n",
       "      <th>6999</th>\n",
       "      <td>5</td>\n",
       "      <td>2017-11-26</td>\n",
       "      <td>1</td>\n",
       "      <td>159826.00</td>\n",
       "      <td>83217.00</td>\n",
       "      <td>6254.00</td>\n",
       "      <td>183.00</td>\n",
       "      <td>58959.00</td>\n",
       "      <td>10358.00</td>\n",
       "      <td>856.0</td>\n",
       "      <td>conventional</td>\n",
       "      <td>2017</td>\n",
       "      <td>Nashville</td>\n",
       "      <td>9.423181e+09</td>\n",
       "      <td>Nashville</td>\n",
       "    </tr>\n",
       "    <tr>\n",
       "      <th>6882</th>\n",
       "      <td>47</td>\n",
       "      <td>2017-02-05</td>\n",
       "      <td>0</td>\n",
       "      <td>126829.29</td>\n",
       "      <td>2214.61</td>\n",
       "      <td>74680.70</td>\n",
       "      <td>1046.84</td>\n",
       "      <td>19517.27</td>\n",
       "      <td>29368.27</td>\n",
       "      <td>1.6</td>\n",
       "      <td>conventional</td>\n",
       "      <td>2017</td>\n",
       "      <td>Louisville</td>\n",
       "      <td>2.475361e+09</td>\n",
       "      <td></td>\n",
       "    </tr>\n",
       "    <tr>\n",
       "      <th>14713</th>\n",
       "      <td>24</td>\n",
       "      <td>2016-07-10</td>\n",
       "      <td>1</td>\n",
       "      <td>23418.88</td>\n",
       "      <td>5754.48</td>\n",
       "      <td>5221.55</td>\n",
       "      <td>0.00</td>\n",
       "      <td>5753.33</td>\n",
       "      <td>6689.52</td>\n",
       "      <td>0.0</td>\n",
       "      <td>organic</td>\n",
       "      <td>2016</td>\n",
       "      <td>WestTexNewMexico</td>\n",
       "      <td>1.347365e+08</td>\n",
       "      <td>WestTexNewMexico</td>\n",
       "    </tr>\n",
       "    <tr>\n",
       "      <th>17218</th>\n",
       "      <td>39</td>\n",
       "      <td>2017-04-02</td>\n",
       "      <td>1</td>\n",
       "      <td>81061.62</td>\n",
       "      <td>9605.32</td>\n",
       "      <td>18324.17</td>\n",
       "      <td>338.06</td>\n",
       "      <td>22407.02</td>\n",
       "      <td>30387.05</td>\n",
       "      <td>0.0</td>\n",
       "      <td>organic</td>\n",
       "      <td>2017</td>\n",
       "      <td>Southeast</td>\n",
       "      <td>1.816349e+09</td>\n",
       "      <td>Southeast</td>\n",
       "    </tr>\n",
       "  </tbody>\n",
       "</table>\n",
       "</div>"
      ],
      "text/plain": [
       "       Unnamed: 0        Date  AveragePrice  Total Volume      4046      4225   \n",
       "6999            5  2017-11-26             1     159826.00  83217.00   6254.00  \\\n",
       "6882           47  2017-02-05             0     126829.29   2214.61  74680.70   \n",
       "14713          24  2016-07-10             1      23418.88   5754.48   5221.55   \n",
       "17218          39  2017-04-02             1      81061.62   9605.32  18324.17   \n",
       "\n",
       "          4770  Small Bags  Large Bags  XLarge Bags          type  year   \n",
       "6999    183.00    58959.00    10358.00        856.0  conventional  2017  \\\n",
       "6882   1046.84    19517.27    29368.27          1.6  conventional  2017   \n",
       "14713     0.00     5753.33     6689.52          0.0       organic  2016   \n",
       "17218   338.06    22407.02    30387.05          0.0       organic  2017   \n",
       "\n",
       "                 region          otra           ejemplo  \n",
       "6999          Nashville  9.423181e+09         Nashville  \n",
       "6882         Louisville  2.475361e+09                    \n",
       "14713  WestTexNewMexico  1.347365e+08  WestTexNewMexico  \n",
       "17218         Southeast  1.816349e+09         Southeast  "
      ]
     },
     "execution_count": 155,
     "metadata": {},
     "output_type": "execute_result"
    }
   ],
   "source": [
    "df2.sample(4)"
   ]
  },
  {
   "cell_type": "code",
   "execution_count": 156,
   "id": "e43e32f6",
   "metadata": {},
   "outputs": [
    {
     "data": {
      "text/plain": [
       "array(['Albany', 'Atlanta', 'BaltimoreWashington', 'Boise', 'Boston',\n",
       "       'BuffaloRochester', 'California', 'Charlotte', 'Chicago',\n",
       "       'CincinnatiDayton', 'Columbus', 'DallasFtWorth', 'Denver',\n",
       "       'Detroit', 'GrandRapids', 'GreatLakes', 'HarrisburgScranton',\n",
       "       'HartfordSpringfield', 'Indianapolis', 'Jacksonville', 'LasVegas',\n",
       "       'LosAngeles', 'Louisville', 'MiamiFtLauderdale', 'Midsouth',\n",
       "       'Nashville', 'NewOrleansMobile', 'NewYork', 'Northeast',\n",
       "       'NorthernNewEngland', 'Orlando', 'Philadelphia', 'PhoenixTucson',\n",
       "       'Pittsburgh', 'Plains', 'Portland', 'RaleighGreensboro',\n",
       "       'RichmondNorfolk', 'Roanoke', 'Sacramento', 'SanDiego',\n",
       "       'SanFrancisco', 'Seattle', 'SouthCarolina', 'SouthCentral',\n",
       "       'Southeast', 'Spokane', 'StLouis', 'Syracuse', 'Tampa', 'TotalUS',\n",
       "       'West', 'WestTexNewMexico'], dtype=object)"
      ]
     },
     "execution_count": 156,
     "metadata": {},
     "output_type": "execute_result"
    }
   ],
   "source": [
    "df2.region.unique()"
   ]
  },
  {
   "cell_type": "code",
   "execution_count": 157,
   "id": "27f9df51",
   "metadata": {},
   "outputs": [],
   "source": [
    "#df.info()"
   ]
  },
  {
   "cell_type": "code",
   "execution_count": 158,
   "id": "offshore-truth",
   "metadata": {},
   "outputs": [],
   "source": [
    "# multicondición, & and lógico\n",
    "multi = df[(df.region == \"Houston\") & (df.year == 2015)]"
   ]
  },
  {
   "cell_type": "markdown",
   "id": "52894696",
   "metadata": {},
   "source": [
    "Podemos exportar estos df en cualquier momento a varios formatos. Por ejemplo a CSV:"
   ]
  },
  {
   "cell_type": "code",
   "execution_count": 159,
   "id": "16fb37e1",
   "metadata": {},
   "outputs": [],
   "source": [
    "multi.to_csv(\"datasets/multi_para_Freddy_2.csv\") #to_csv lo export a fichero csv y le paso como argumento la ruta y el nombre"
   ]
  },
  {
   "cell_type": "code",
   "execution_count": 160,
   "id": "manufactured-asian",
   "metadata": {},
   "outputs": [
    {
     "data": {
      "text/plain": [
       "54"
      ]
     },
     "execution_count": 160,
     "metadata": {},
     "output_type": "execute_result"
    }
   ],
   "source": [
    "df.region.nunique() #No me he cargado ni pisado el df original, estoy creando un df nuevo llamado multi que es una parte filtrada de df"
   ]
  },
  {
   "cell_type": "code",
   "execution_count": 161,
   "id": "3a087eb2",
   "metadata": {},
   "outputs": [],
   "source": [
    "multi_p = df[(df.region == \"Houston\") | (df.region == \"Albany\")] #OR"
   ]
  },
  {
   "cell_type": "code",
   "execution_count": 162,
   "id": "5d856d3a",
   "metadata": {},
   "outputs": [
    {
     "data": {
      "text/plain": [
       "array(['Albany', 'Houston'], dtype=object)"
      ]
     },
     "execution_count": 162,
     "metadata": {},
     "output_type": "execute_result"
    }
   ],
   "source": [
    "multi_p.region.unique()"
   ]
  },
  {
   "cell_type": "code",
   "execution_count": 163,
   "id": "flush-printing",
   "metadata": {},
   "outputs": [
    {
     "data": {
      "text/html": [
       "<div>\n",
       "<style scoped>\n",
       "    .dataframe tbody tr th:only-of-type {\n",
       "        vertical-align: middle;\n",
       "    }\n",
       "\n",
       "    .dataframe tbody tr th {\n",
       "        vertical-align: top;\n",
       "    }\n",
       "\n",
       "    .dataframe thead th {\n",
       "        text-align: right;\n",
       "    }\n",
       "</style>\n",
       "<table border=\"1\" class=\"dataframe\">\n",
       "  <thead>\n",
       "    <tr style=\"text-align: right;\">\n",
       "      <th></th>\n",
       "      <th>Unnamed: 0</th>\n",
       "      <th>Date</th>\n",
       "      <th>AveragePrice</th>\n",
       "      <th>Total Volume</th>\n",
       "      <th>4046</th>\n",
       "      <th>4225</th>\n",
       "      <th>4770</th>\n",
       "      <th>Small Bags</th>\n",
       "      <th>Large Bags</th>\n",
       "      <th>XLarge Bags</th>\n",
       "      <th>type</th>\n",
       "      <th>year</th>\n",
       "      <th>region</th>\n",
       "      <th>otra</th>\n",
       "      <th>ejemplo</th>\n",
       "    </tr>\n",
       "  </thead>\n",
       "  <tbody>\n",
       "    <tr>\n",
       "      <th>3750</th>\n",
       "      <td>6</td>\n",
       "      <td>2016-11-13</td>\n",
       "      <td>1</td>\n",
       "      <td>828866.80</td>\n",
       "      <td>431731.62</td>\n",
       "      <td>231630.38</td>\n",
       "      <td>4850.40</td>\n",
       "      <td>61276.87</td>\n",
       "      <td>99274.75</td>\n",
       "      <td>102.78</td>\n",
       "      <td>conventional</td>\n",
       "      <td>2016</td>\n",
       "      <td>Houston</td>\n",
       "      <td>5.079036e+10</td>\n",
       "      <td>Houston</td>\n",
       "    </tr>\n",
       "    <tr>\n",
       "      <th>3751</th>\n",
       "      <td>7</td>\n",
       "      <td>2016-11-06</td>\n",
       "      <td>1</td>\n",
       "      <td>782911.25</td>\n",
       "      <td>430098.78</td>\n",
       "      <td>168814.95</td>\n",
       "      <td>2921.98</td>\n",
       "      <td>78827.53</td>\n",
       "      <td>102248.01</td>\n",
       "      <td>0.00</td>\n",
       "      <td>conventional</td>\n",
       "      <td>2016</td>\n",
       "      <td>Houston</td>\n",
       "      <td>6.171496e+10</td>\n",
       "      <td>Houston</td>\n",
       "    </tr>\n",
       "    <tr>\n",
       "      <th>3752</th>\n",
       "      <td>8</td>\n",
       "      <td>2016-10-30</td>\n",
       "      <td>1</td>\n",
       "      <td>709890.11</td>\n",
       "      <td>346283.28</td>\n",
       "      <td>181578.62</td>\n",
       "      <td>3192.69</td>\n",
       "      <td>47722.65</td>\n",
       "      <td>131112.87</td>\n",
       "      <td>0.00</td>\n",
       "      <td>conventional</td>\n",
       "      <td>2016</td>\n",
       "      <td>Houston</td>\n",
       "      <td>3.387784e+10</td>\n",
       "      <td>Houston</td>\n",
       "    </tr>\n",
       "    <tr>\n",
       "      <th>3753</th>\n",
       "      <td>9</td>\n",
       "      <td>2016-10-23</td>\n",
       "      <td>1</td>\n",
       "      <td>777847.84</td>\n",
       "      <td>371566.37</td>\n",
       "      <td>145059.25</td>\n",
       "      <td>2488.59</td>\n",
       "      <td>197398.04</td>\n",
       "      <td>61335.59</td>\n",
       "      <td>0.00</td>\n",
       "      <td>conventional</td>\n",
       "      <td>2016</td>\n",
       "      <td>Houston</td>\n",
       "      <td>1.535456e+11</td>\n",
       "      <td>Houston</td>\n",
       "    </tr>\n",
       "    <tr>\n",
       "      <th>10062</th>\n",
       "      <td>0</td>\n",
       "      <td>2015-12-27</td>\n",
       "      <td>1</td>\n",
       "      <td>10598.30</td>\n",
       "      <td>4797.41</td>\n",
       "      <td>57.91</td>\n",
       "      <td>0.00</td>\n",
       "      <td>4815.51</td>\n",
       "      <td>927.47</td>\n",
       "      <td>0.00</td>\n",
       "      <td>organic</td>\n",
       "      <td>2015</td>\n",
       "      <td>Houston</td>\n",
       "      <td>5.103622e+07</td>\n",
       "      <td>Houston</td>\n",
       "    </tr>\n",
       "    <tr>\n",
       "      <th>10063</th>\n",
       "      <td>1</td>\n",
       "      <td>2015-12-20</td>\n",
       "      <td>1</td>\n",
       "      <td>9253.24</td>\n",
       "      <td>4463.03</td>\n",
       "      <td>88.26</td>\n",
       "      <td>0.00</td>\n",
       "      <td>3278.23</td>\n",
       "      <td>1423.72</td>\n",
       "      <td>0.00</td>\n",
       "      <td>organic</td>\n",
       "      <td>2015</td>\n",
       "      <td>Houston</td>\n",
       "      <td>3.033425e+07</td>\n",
       "      <td>Houston</td>\n",
       "    </tr>\n",
       "    <tr>\n",
       "      <th>10064</th>\n",
       "      <td>2</td>\n",
       "      <td>2015-12-13</td>\n",
       "      <td>1</td>\n",
       "      <td>11494.89</td>\n",
       "      <td>4757.11</td>\n",
       "      <td>93.57</td>\n",
       "      <td>0.00</td>\n",
       "      <td>6636.26</td>\n",
       "      <td>7.95</td>\n",
       "      <td>0.00</td>\n",
       "      <td>organic</td>\n",
       "      <td>2015</td>\n",
       "      <td>Houston</td>\n",
       "      <td>7.628308e+07</td>\n",
       "      <td>Houston</td>\n",
       "    </tr>\n",
       "    <tr>\n",
       "      <th>10065</th>\n",
       "      <td>3</td>\n",
       "      <td>2015-12-06</td>\n",
       "      <td>1</td>\n",
       "      <td>8216.98</td>\n",
       "      <td>4787.28</td>\n",
       "      <td>85.70</td>\n",
       "      <td>0.00</td>\n",
       "      <td>3344.00</td>\n",
       "      <td>0.00</td>\n",
       "      <td>0.00</td>\n",
       "      <td>organic</td>\n",
       "      <td>2015</td>\n",
       "      <td>Houston</td>\n",
       "      <td>2.747758e+07</td>\n",
       "      <td>Houston</td>\n",
       "    </tr>\n",
       "  </tbody>\n",
       "</table>\n",
       "</div>"
      ],
      "text/plain": [
       "       Unnamed: 0        Date  AveragePrice  Total Volume       4046   \n",
       "3750            6  2016-11-13             1     828866.80  431731.62  \\\n",
       "3751            7  2016-11-06             1     782911.25  430098.78   \n",
       "3752            8  2016-10-30             1     709890.11  346283.28   \n",
       "3753            9  2016-10-23             1     777847.84  371566.37   \n",
       "10062           0  2015-12-27             1      10598.30    4797.41   \n",
       "10063           1  2015-12-20             1       9253.24    4463.03   \n",
       "10064           2  2015-12-13             1      11494.89    4757.11   \n",
       "10065           3  2015-12-06             1       8216.98    4787.28   \n",
       "\n",
       "            4225     4770  Small Bags  Large Bags  XLarge Bags          type   \n",
       "3750   231630.38  4850.40    61276.87    99274.75       102.78  conventional  \\\n",
       "3751   168814.95  2921.98    78827.53   102248.01         0.00  conventional   \n",
       "3752   181578.62  3192.69    47722.65   131112.87         0.00  conventional   \n",
       "3753   145059.25  2488.59   197398.04    61335.59         0.00  conventional   \n",
       "10062      57.91     0.00     4815.51      927.47         0.00       organic   \n",
       "10063      88.26     0.00     3278.23     1423.72         0.00       organic   \n",
       "10064      93.57     0.00     6636.26        7.95         0.00       organic   \n",
       "10065      85.70     0.00     3344.00        0.00         0.00       organic   \n",
       "\n",
       "       year   region          otra  ejemplo  \n",
       "3750   2016  Houston  5.079036e+10  Houston  \n",
       "3751   2016  Houston  6.171496e+10  Houston  \n",
       "3752   2016  Houston  3.387784e+10  Houston  \n",
       "3753   2016  Houston  1.535456e+11  Houston  \n",
       "10062  2015  Houston  5.103622e+07  Houston  \n",
       "10063  2015  Houston  3.033425e+07  Houston  \n",
       "10064  2015  Houston  7.628308e+07  Houston  \n",
       "10065  2015  Houston  2.747758e+07  Houston  "
      ]
     },
     "execution_count": 163,
     "metadata": {},
     "output_type": "execute_result"
    }
   ],
   "source": [
    "# | or logico\n",
    "df[(df.region==\"Houston\") & (df.AveragePrice >= 0.78) & (df.year != 2017)].head(8)"
   ]
  },
  {
   "cell_type": "markdown",
   "id": "viral-enzyme",
   "metadata": {},
   "source": [
    "### Copia de un dataframe y renombrar columnas"
   ]
  },
  {
   "cell_type": "code",
   "execution_count": 164,
   "id": "intended-merchandise",
   "metadata": {},
   "outputs": [],
   "source": [
    "otracopia = df.copy()"
   ]
  },
  {
   "cell_type": "markdown",
   "id": "apparent-venture",
   "metadata": {},
   "source": [
    "#### Renombramos columnas\n",
    "Para renombrar columnas necesitamos un diccionario"
   ]
  },
  {
   "cell_type": "code",
   "execution_count": 165,
   "id": "beginning-merchandise",
   "metadata": {},
   "outputs": [
    {
     "data": {
      "text/plain": [
       "['Unnamed: 0',\n",
       " 'Date',\n",
       " 'AveragePrice',\n",
       " 'Total Volume',\n",
       " '4046',\n",
       " '4225',\n",
       " '4770',\n",
       " 'Total Bags',\n",
       " 'Small Bags',\n",
       " 'Large Bags',\n",
       " 'XLarge Bags',\n",
       " 'type',\n",
       " 'year',\n",
       " 'region']"
      ]
     },
     "execution_count": 165,
     "metadata": {},
     "output_type": "execute_result"
    }
   ],
   "source": [
    "columnas #la tenía de antes"
   ]
  },
  {
   "cell_type": "code",
   "execution_count": 166,
   "id": "included-coordinator",
   "metadata": {},
   "outputs": [],
   "source": [
    "diccio_nuevas = {columna: columna.replace(\" \", \"_\").lower() for columna in columnas}"
   ]
  },
  {
   "cell_type": "code",
   "execution_count": 167,
   "id": "infinite-definition",
   "metadata": {},
   "outputs": [
    {
     "data": {
      "text/plain": [
       "{'Unnamed: 0': 'unnamed:_0',\n",
       " 'Date': 'date',\n",
       " 'AveragePrice': 'averageprice',\n",
       " 'Total Volume': 'total_volume',\n",
       " '4046': '4046',\n",
       " '4225': '4225',\n",
       " '4770': '4770',\n",
       " 'Total Bags': 'total_bags',\n",
       " 'Small Bags': 'small_bags',\n",
       " 'Large Bags': 'large_bags',\n",
       " 'XLarge Bags': 'xlarge_bags',\n",
       " 'type': 'type',\n",
       " 'year': 'year',\n",
       " 'region': 'region'}"
      ]
     },
     "execution_count": 167,
     "metadata": {},
     "output_type": "execute_result"
    }
   ],
   "source": [
    "diccio_nuevas"
   ]
  },
  {
   "cell_type": "code",
   "execution_count": 168,
   "id": "bed0f971",
   "metadata": {},
   "outputs": [
    {
     "data": {
      "text/plain": [
       "{'Unnamed: 0': 'unnamed:_0',\n",
       " 'Date': 'date',\n",
       " 'AveragePrice': 'average_price',\n",
       " 'Total Volume': 'total_volume',\n",
       " '4046': '4046',\n",
       " '4225': '4225',\n",
       " '4770': '4770',\n",
       " 'Total Bags': 'total_bags',\n",
       " 'Small Bags': 'small_bags',\n",
       " 'Large Bags': 'large_bags',\n",
       " 'XLarge Bags': 'xlarge_bags',\n",
       " 'type': 'type',\n",
       " 'year': 'year',\n",
       " 'region': 'region'}"
      ]
     },
     "execution_count": 168,
     "metadata": {},
     "output_type": "execute_result"
    }
   ],
   "source": [
    "diccio_nuevas['AveragePrice'] = 'average_price' #Reasigno el value del diccionario\n",
    "diccio_nuevas"
   ]
  },
  {
   "cell_type": "code",
   "execution_count": 169,
   "id": "sweet-pocket",
   "metadata": {},
   "outputs": [
    {
     "data": {
      "text/html": [
       "<div>\n",
       "<style scoped>\n",
       "    .dataframe tbody tr th:only-of-type {\n",
       "        vertical-align: middle;\n",
       "    }\n",
       "\n",
       "    .dataframe tbody tr th {\n",
       "        vertical-align: top;\n",
       "    }\n",
       "\n",
       "    .dataframe thead th {\n",
       "        text-align: right;\n",
       "    }\n",
       "</style>\n",
       "<table border=\"1\" class=\"dataframe\">\n",
       "  <thead>\n",
       "    <tr style=\"text-align: right;\">\n",
       "      <th></th>\n",
       "      <th>unnamed:_0</th>\n",
       "      <th>date</th>\n",
       "      <th>average_price</th>\n",
       "      <th>total_volume</th>\n",
       "      <th>4046</th>\n",
       "      <th>4225</th>\n",
       "      <th>4770</th>\n",
       "      <th>small_bags</th>\n",
       "      <th>large_bags</th>\n",
       "      <th>xlarge_bags</th>\n",
       "      <th>type</th>\n",
       "      <th>year</th>\n",
       "      <th>region</th>\n",
       "      <th>otra</th>\n",
       "      <th>ejemplo</th>\n",
       "    </tr>\n",
       "  </thead>\n",
       "  <tbody>\n",
       "    <tr>\n",
       "      <th>14528</th>\n",
       "      <td>47</td>\n",
       "      <td>2016-01-31</td>\n",
       "      <td>1</td>\n",
       "      <td>1871.93</td>\n",
       "      <td>0.00</td>\n",
       "      <td>155.32</td>\n",
       "      <td>0.00</td>\n",
       "      <td>642.19</td>\n",
       "      <td>1074.42</td>\n",
       "      <td>0.00</td>\n",
       "      <td>organic</td>\n",
       "      <td>2016</td>\n",
       "      <td>Syracuse</td>\n",
       "      <td>1.202135e+06</td>\n",
       "      <td>Syracuse</td>\n",
       "    </tr>\n",
       "    <tr>\n",
       "      <th>16010</th>\n",
       "      <td>50</td>\n",
       "      <td>2017-01-15</td>\n",
       "      <td>1</td>\n",
       "      <td>1959.10</td>\n",
       "      <td>13.85</td>\n",
       "      <td>1318.58</td>\n",
       "      <td>0.00</td>\n",
       "      <td>626.67</td>\n",
       "      <td>0.00</td>\n",
       "      <td>0.00</td>\n",
       "      <td>organic</td>\n",
       "      <td>2017</td>\n",
       "      <td>Louisville</td>\n",
       "      <td>1.227709e+06</td>\n",
       "      <td>Louisville</td>\n",
       "    </tr>\n",
       "    <tr>\n",
       "      <th>15025</th>\n",
       "      <td>19</td>\n",
       "      <td>2017-08-20</td>\n",
       "      <td>1</td>\n",
       "      <td>8235.56</td>\n",
       "      <td>74.71</td>\n",
       "      <td>227.91</td>\n",
       "      <td>0.00</td>\n",
       "      <td>2469.77</td>\n",
       "      <td>5463.17</td>\n",
       "      <td>0.00</td>\n",
       "      <td>organic</td>\n",
       "      <td>2017</td>\n",
       "      <td>BuffaloRochester</td>\n",
       "      <td>2.033994e+07</td>\n",
       "      <td>BuffaloRochester</td>\n",
       "    </tr>\n",
       "    <tr>\n",
       "      <th>14860</th>\n",
       "      <td>13</td>\n",
       "      <td>2017-10-01</td>\n",
       "      <td>1</td>\n",
       "      <td>48973.13</td>\n",
       "      <td>2863.92</td>\n",
       "      <td>5844.08</td>\n",
       "      <td>56.27</td>\n",
       "      <td>40203.04</td>\n",
       "      <td>5.82</td>\n",
       "      <td>0.00</td>\n",
       "      <td>organic</td>\n",
       "      <td>2017</td>\n",
       "      <td>BaltimoreWashington</td>\n",
       "      <td>1.968869e+09</td>\n",
       "      <td>BaltimoreWashington</td>\n",
       "    </tr>\n",
       "    <tr>\n",
       "      <th>4301</th>\n",
       "      <td>37</td>\n",
       "      <td>2016-04-10</td>\n",
       "      <td>1</td>\n",
       "      <td>987897.90</td>\n",
       "      <td>19209.79</td>\n",
       "      <td>588026.18</td>\n",
       "      <td>2136.66</td>\n",
       "      <td>337797.27</td>\n",
       "      <td>38411.25</td>\n",
       "      <td>2316.75</td>\n",
       "      <td>conventional</td>\n",
       "      <td>2016</td>\n",
       "      <td>NewYork</td>\n",
       "      <td>3.337092e+11</td>\n",
       "      <td>NewYork</td>\n",
       "    </tr>\n",
       "  </tbody>\n",
       "</table>\n",
       "</div>"
      ],
      "text/plain": [
       "       unnamed:_0        date  average_price  total_volume      4046   \n",
       "14528          47  2016-01-31              1       1871.93      0.00  \\\n",
       "16010          50  2017-01-15              1       1959.10     13.85   \n",
       "15025          19  2017-08-20              1       8235.56     74.71   \n",
       "14860          13  2017-10-01              1      48973.13   2863.92   \n",
       "4301           37  2016-04-10              1     987897.90  19209.79   \n",
       "\n",
       "            4225     4770  small_bags  large_bags  xlarge_bags          type   \n",
       "14528     155.32     0.00      642.19     1074.42         0.00       organic  \\\n",
       "16010    1318.58     0.00      626.67        0.00         0.00       organic   \n",
       "15025     227.91     0.00     2469.77     5463.17         0.00       organic   \n",
       "14860    5844.08    56.27    40203.04        5.82         0.00       organic   \n",
       "4301   588026.18  2136.66   337797.27    38411.25      2316.75  conventional   \n",
       "\n",
       "       year               region          otra              ejemplo  \n",
       "14528  2016             Syracuse  1.202135e+06             Syracuse  \n",
       "16010  2017           Louisville  1.227709e+06           Louisville  \n",
       "15025  2017     BuffaloRochester  2.033994e+07     BuffaloRochester  \n",
       "14860  2017  BaltimoreWashington  1.968869e+09  BaltimoreWashington  \n",
       "4301   2016              NewYork  3.337092e+11              NewYork  "
      ]
     },
     "execution_count": 169,
     "metadata": {},
     "output_type": "execute_result"
    }
   ],
   "source": [
    "df_renombrado = df.rename(columns=diccio_nuevas)\n",
    "df_renombrado.sample(5)"
   ]
  },
  {
   "cell_type": "code",
   "execution_count": 170,
   "id": "8b09cf8c",
   "metadata": {},
   "outputs": [],
   "source": [
    "# Utilizamos el inplace=True para que se ejecute la acción sobre el dataframe\n",
    "df.rename(columns=diccio_nuevas, inplace=True)"
   ]
  },
  {
   "cell_type": "code",
   "execution_count": 171,
   "id": "9edf3219",
   "metadata": {},
   "outputs": [
    {
     "data": {
      "text/html": [
       "<div>\n",
       "<style scoped>\n",
       "    .dataframe tbody tr th:only-of-type {\n",
       "        vertical-align: middle;\n",
       "    }\n",
       "\n",
       "    .dataframe tbody tr th {\n",
       "        vertical-align: top;\n",
       "    }\n",
       "\n",
       "    .dataframe thead th {\n",
       "        text-align: right;\n",
       "    }\n",
       "</style>\n",
       "<table border=\"1\" class=\"dataframe\">\n",
       "  <thead>\n",
       "    <tr style=\"text-align: right;\">\n",
       "      <th></th>\n",
       "      <th>unnamed:_0</th>\n",
       "      <th>date</th>\n",
       "      <th>average_price</th>\n",
       "      <th>total_volume</th>\n",
       "      <th>4046</th>\n",
       "      <th>4225</th>\n",
       "      <th>4770</th>\n",
       "      <th>small_bags</th>\n",
       "      <th>large_bags</th>\n",
       "      <th>xlarge_bags</th>\n",
       "      <th>type</th>\n",
       "      <th>year</th>\n",
       "      <th>region</th>\n",
       "      <th>otra</th>\n",
       "      <th>ejemplo</th>\n",
       "    </tr>\n",
       "  </thead>\n",
       "  <tbody>\n",
       "    <tr>\n",
       "      <th>0</th>\n",
       "      <td>0</td>\n",
       "      <td>2015-12-27</td>\n",
       "      <td>1</td>\n",
       "      <td>64236.62</td>\n",
       "      <td>1036.74</td>\n",
       "      <td>54454.85</td>\n",
       "      <td>48.16</td>\n",
       "      <td>8603.62</td>\n",
       "      <td>93.25</td>\n",
       "      <td>0.0</td>\n",
       "      <td>conventional</td>\n",
       "      <td>2015</td>\n",
       "      <td>Albany</td>\n",
       "      <td>5.526675e+08</td>\n",
       "      <td>Albany</td>\n",
       "    </tr>\n",
       "    <tr>\n",
       "      <th>1</th>\n",
       "      <td>1</td>\n",
       "      <td>2015-12-20</td>\n",
       "      <td>1</td>\n",
       "      <td>54876.98</td>\n",
       "      <td>674.28</td>\n",
       "      <td>44638.81</td>\n",
       "      <td>58.33</td>\n",
       "      <td>9408.07</td>\n",
       "      <td>97.49</td>\n",
       "      <td>0.0</td>\n",
       "      <td>conventional</td>\n",
       "      <td>2015</td>\n",
       "      <td>Albany</td>\n",
       "      <td>5.162865e+08</td>\n",
       "      <td>Albany</td>\n",
       "    </tr>\n",
       "    <tr>\n",
       "      <th>2</th>\n",
       "      <td>2</td>\n",
       "      <td>2015-12-13</td>\n",
       "      <td>0</td>\n",
       "      <td>118220.22</td>\n",
       "      <td>794.70</td>\n",
       "      <td>109149.67</td>\n",
       "      <td>130.50</td>\n",
       "      <td>8042.21</td>\n",
       "      <td>103.14</td>\n",
       "      <td>0.0</td>\n",
       "      <td>conventional</td>\n",
       "      <td>2015</td>\n",
       "      <td>Albany</td>\n",
       "      <td>9.507518e+08</td>\n",
       "      <td></td>\n",
       "    </tr>\n",
       "    <tr>\n",
       "      <th>3</th>\n",
       "      <td>3</td>\n",
       "      <td>2015-12-06</td>\n",
       "      <td>1</td>\n",
       "      <td>78992.15</td>\n",
       "      <td>1132.00</td>\n",
       "      <td>71976.41</td>\n",
       "      <td>72.58</td>\n",
       "      <td>5677.40</td>\n",
       "      <td>133.76</td>\n",
       "      <td>0.0</td>\n",
       "      <td>conventional</td>\n",
       "      <td>2015</td>\n",
       "      <td>Albany</td>\n",
       "      <td>4.484700e+08</td>\n",
       "      <td>Albany</td>\n",
       "    </tr>\n",
       "    <tr>\n",
       "      <th>4</th>\n",
       "      <td>4</td>\n",
       "      <td>2015-11-29</td>\n",
       "      <td>1</td>\n",
       "      <td>51039.60</td>\n",
       "      <td>941.48</td>\n",
       "      <td>43838.39</td>\n",
       "      <td>75.78</td>\n",
       "      <td>5986.26</td>\n",
       "      <td>197.69</td>\n",
       "      <td>0.0</td>\n",
       "      <td>conventional</td>\n",
       "      <td>2015</td>\n",
       "      <td>Albany</td>\n",
       "      <td>3.055363e+08</td>\n",
       "      <td>Albany</td>\n",
       "    </tr>\n",
       "  </tbody>\n",
       "</table>\n",
       "</div>"
      ],
      "text/plain": [
       "   unnamed:_0        date  average_price  total_volume     4046       4225   \n",
       "0           0  2015-12-27              1      64236.62  1036.74   54454.85  \\\n",
       "1           1  2015-12-20              1      54876.98   674.28   44638.81   \n",
       "2           2  2015-12-13              0     118220.22   794.70  109149.67   \n",
       "3           3  2015-12-06              1      78992.15  1132.00   71976.41   \n",
       "4           4  2015-11-29              1      51039.60   941.48   43838.39   \n",
       "\n",
       "     4770  small_bags  large_bags  xlarge_bags          type  year  region   \n",
       "0   48.16     8603.62       93.25          0.0  conventional  2015  Albany  \\\n",
       "1   58.33     9408.07       97.49          0.0  conventional  2015  Albany   \n",
       "2  130.50     8042.21      103.14          0.0  conventional  2015  Albany   \n",
       "3   72.58     5677.40      133.76          0.0  conventional  2015  Albany   \n",
       "4   75.78     5986.26      197.69          0.0  conventional  2015  Albany   \n",
       "\n",
       "           otra ejemplo  \n",
       "0  5.526675e+08  Albany  \n",
       "1  5.162865e+08  Albany  \n",
       "2  9.507518e+08          \n",
       "3  4.484700e+08  Albany  \n",
       "4  3.055363e+08  Albany  "
      ]
     },
     "execution_count": 171,
     "metadata": {},
     "output_type": "execute_result"
    }
   ],
   "source": [
    "df.head()"
   ]
  },
  {
   "cell_type": "markdown",
   "id": "everyday-oregon",
   "metadata": {},
   "source": [
    "El método rename me permite renombrar solamente las columnas que yo quiera, las que estén en el diccionario. No hace falta renombrar todas a la vez "
   ]
  },
  {
   "cell_type": "code",
   "execution_count": 172,
   "id": "30490aa2",
   "metadata": {},
   "outputs": [],
   "source": [
    "otro = {\"unnamed:_0\": \"Inútil\",\"date\":\"fecha\", \"columna que no existe ni de broma\": \"no hace nada\"}"
   ]
  },
  {
   "cell_type": "code",
   "execution_count": 173,
   "id": "cc1e852e",
   "metadata": {},
   "outputs": [
    {
     "data": {
      "text/plain": [
       "Index(['unnamed:_0', 'date', 'average_price', 'total_volume', '4046', '4225',\n",
       "       '4770', 'small_bags', 'large_bags', 'xlarge_bags', 'type', 'year',\n",
       "       'region', 'otra', 'ejemplo'],\n",
       "      dtype='object')"
      ]
     },
     "execution_count": 173,
     "metadata": {},
     "output_type": "execute_result"
    }
   ],
   "source": [
    "df.columns"
   ]
  },
  {
   "cell_type": "code",
   "execution_count": 174,
   "id": "3758e2e7",
   "metadata": {},
   "outputs": [],
   "source": [
    "df.rename(columns = otro, inplace=True)"
   ]
  },
  {
   "cell_type": "code",
   "execution_count": 175,
   "id": "a8cc35e9",
   "metadata": {},
   "outputs": [
    {
     "data": {
      "text/html": [
       "<div>\n",
       "<style scoped>\n",
       "    .dataframe tbody tr th:only-of-type {\n",
       "        vertical-align: middle;\n",
       "    }\n",
       "\n",
       "    .dataframe tbody tr th {\n",
       "        vertical-align: top;\n",
       "    }\n",
       "\n",
       "    .dataframe thead th {\n",
       "        text-align: right;\n",
       "    }\n",
       "</style>\n",
       "<table border=\"1\" class=\"dataframe\">\n",
       "  <thead>\n",
       "    <tr style=\"text-align: right;\">\n",
       "      <th></th>\n",
       "      <th>Inútil</th>\n",
       "      <th>fecha</th>\n",
       "      <th>average_price</th>\n",
       "      <th>total_volume</th>\n",
       "      <th>4046</th>\n",
       "      <th>4225</th>\n",
       "      <th>4770</th>\n",
       "      <th>small_bags</th>\n",
       "      <th>large_bags</th>\n",
       "      <th>xlarge_bags</th>\n",
       "      <th>type</th>\n",
       "      <th>year</th>\n",
       "      <th>region</th>\n",
       "      <th>otra</th>\n",
       "      <th>ejemplo</th>\n",
       "    </tr>\n",
       "  </thead>\n",
       "  <tbody>\n",
       "    <tr>\n",
       "      <th>0</th>\n",
       "      <td>0</td>\n",
       "      <td>2015-12-27</td>\n",
       "      <td>1</td>\n",
       "      <td>64236.62</td>\n",
       "      <td>1036.74</td>\n",
       "      <td>54454.85</td>\n",
       "      <td>48.16</td>\n",
       "      <td>8603.62</td>\n",
       "      <td>93.25</td>\n",
       "      <td>0.0</td>\n",
       "      <td>conventional</td>\n",
       "      <td>2015</td>\n",
       "      <td>Albany</td>\n",
       "      <td>5.526675e+08</td>\n",
       "      <td>Albany</td>\n",
       "    </tr>\n",
       "    <tr>\n",
       "      <th>1</th>\n",
       "      <td>1</td>\n",
       "      <td>2015-12-20</td>\n",
       "      <td>1</td>\n",
       "      <td>54876.98</td>\n",
       "      <td>674.28</td>\n",
       "      <td>44638.81</td>\n",
       "      <td>58.33</td>\n",
       "      <td>9408.07</td>\n",
       "      <td>97.49</td>\n",
       "      <td>0.0</td>\n",
       "      <td>conventional</td>\n",
       "      <td>2015</td>\n",
       "      <td>Albany</td>\n",
       "      <td>5.162865e+08</td>\n",
       "      <td>Albany</td>\n",
       "    </tr>\n",
       "    <tr>\n",
       "      <th>2</th>\n",
       "      <td>2</td>\n",
       "      <td>2015-12-13</td>\n",
       "      <td>0</td>\n",
       "      <td>118220.22</td>\n",
       "      <td>794.70</td>\n",
       "      <td>109149.67</td>\n",
       "      <td>130.50</td>\n",
       "      <td>8042.21</td>\n",
       "      <td>103.14</td>\n",
       "      <td>0.0</td>\n",
       "      <td>conventional</td>\n",
       "      <td>2015</td>\n",
       "      <td>Albany</td>\n",
       "      <td>9.507518e+08</td>\n",
       "      <td></td>\n",
       "    </tr>\n",
       "    <tr>\n",
       "      <th>3</th>\n",
       "      <td>3</td>\n",
       "      <td>2015-12-06</td>\n",
       "      <td>1</td>\n",
       "      <td>78992.15</td>\n",
       "      <td>1132.00</td>\n",
       "      <td>71976.41</td>\n",
       "      <td>72.58</td>\n",
       "      <td>5677.40</td>\n",
       "      <td>133.76</td>\n",
       "      <td>0.0</td>\n",
       "      <td>conventional</td>\n",
       "      <td>2015</td>\n",
       "      <td>Albany</td>\n",
       "      <td>4.484700e+08</td>\n",
       "      <td>Albany</td>\n",
       "    </tr>\n",
       "    <tr>\n",
       "      <th>4</th>\n",
       "      <td>4</td>\n",
       "      <td>2015-11-29</td>\n",
       "      <td>1</td>\n",
       "      <td>51039.60</td>\n",
       "      <td>941.48</td>\n",
       "      <td>43838.39</td>\n",
       "      <td>75.78</td>\n",
       "      <td>5986.26</td>\n",
       "      <td>197.69</td>\n",
       "      <td>0.0</td>\n",
       "      <td>conventional</td>\n",
       "      <td>2015</td>\n",
       "      <td>Albany</td>\n",
       "      <td>3.055363e+08</td>\n",
       "      <td>Albany</td>\n",
       "    </tr>\n",
       "  </tbody>\n",
       "</table>\n",
       "</div>"
      ],
      "text/plain": [
       "   Inútil       fecha  average_price  total_volume     4046       4225   \n",
       "0       0  2015-12-27              1      64236.62  1036.74   54454.85  \\\n",
       "1       1  2015-12-20              1      54876.98   674.28   44638.81   \n",
       "2       2  2015-12-13              0     118220.22   794.70  109149.67   \n",
       "3       3  2015-12-06              1      78992.15  1132.00   71976.41   \n",
       "4       4  2015-11-29              1      51039.60   941.48   43838.39   \n",
       "\n",
       "     4770  small_bags  large_bags  xlarge_bags          type  year  region   \n",
       "0   48.16     8603.62       93.25          0.0  conventional  2015  Albany  \\\n",
       "1   58.33     9408.07       97.49          0.0  conventional  2015  Albany   \n",
       "2  130.50     8042.21      103.14          0.0  conventional  2015  Albany   \n",
       "3   72.58     5677.40      133.76          0.0  conventional  2015  Albany   \n",
       "4   75.78     5986.26      197.69          0.0  conventional  2015  Albany   \n",
       "\n",
       "           otra ejemplo  \n",
       "0  5.526675e+08  Albany  \n",
       "1  5.162865e+08  Albany  \n",
       "2  9.507518e+08          \n",
       "3  4.484700e+08  Albany  \n",
       "4  3.055363e+08  Albany  "
      ]
     },
     "execution_count": 175,
     "metadata": {},
     "output_type": "execute_result"
    }
   ],
   "source": [
    "df.head()"
   ]
  },
  {
   "cell_type": "code",
   "execution_count": 176,
   "id": "3fbe1c3a",
   "metadata": {},
   "outputs": [],
   "source": [
    "df.drop(columns=\"Inútil\", inplace=True)"
   ]
  },
  {
   "cell_type": "code",
   "execution_count": 177,
   "id": "6404c1ac",
   "metadata": {},
   "outputs": [
    {
     "data": {
      "text/html": [
       "<div>\n",
       "<style scoped>\n",
       "    .dataframe tbody tr th:only-of-type {\n",
       "        vertical-align: middle;\n",
       "    }\n",
       "\n",
       "    .dataframe tbody tr th {\n",
       "        vertical-align: top;\n",
       "    }\n",
       "\n",
       "    .dataframe thead th {\n",
       "        text-align: right;\n",
       "    }\n",
       "</style>\n",
       "<table border=\"1\" class=\"dataframe\">\n",
       "  <thead>\n",
       "    <tr style=\"text-align: right;\">\n",
       "      <th></th>\n",
       "      <th>fecha</th>\n",
       "      <th>average_price</th>\n",
       "      <th>total_volume</th>\n",
       "      <th>4046</th>\n",
       "      <th>4225</th>\n",
       "      <th>4770</th>\n",
       "      <th>small_bags</th>\n",
       "      <th>large_bags</th>\n",
       "      <th>xlarge_bags</th>\n",
       "      <th>type</th>\n",
       "      <th>year</th>\n",
       "      <th>region</th>\n",
       "      <th>otra</th>\n",
       "      <th>ejemplo</th>\n",
       "    </tr>\n",
       "  </thead>\n",
       "  <tbody>\n",
       "    <tr>\n",
       "      <th>0</th>\n",
       "      <td>2015-12-27</td>\n",
       "      <td>1</td>\n",
       "      <td>64236.62</td>\n",
       "      <td>1036.74</td>\n",
       "      <td>54454.85</td>\n",
       "      <td>48.16</td>\n",
       "      <td>8603.62</td>\n",
       "      <td>93.25</td>\n",
       "      <td>0.0</td>\n",
       "      <td>conventional</td>\n",
       "      <td>2015</td>\n",
       "      <td>Albany</td>\n",
       "      <td>5.526675e+08</td>\n",
       "      <td>Albany</td>\n",
       "    </tr>\n",
       "    <tr>\n",
       "      <th>1</th>\n",
       "      <td>2015-12-20</td>\n",
       "      <td>1</td>\n",
       "      <td>54876.98</td>\n",
       "      <td>674.28</td>\n",
       "      <td>44638.81</td>\n",
       "      <td>58.33</td>\n",
       "      <td>9408.07</td>\n",
       "      <td>97.49</td>\n",
       "      <td>0.0</td>\n",
       "      <td>conventional</td>\n",
       "      <td>2015</td>\n",
       "      <td>Albany</td>\n",
       "      <td>5.162865e+08</td>\n",
       "      <td>Albany</td>\n",
       "    </tr>\n",
       "    <tr>\n",
       "      <th>2</th>\n",
       "      <td>2015-12-13</td>\n",
       "      <td>0</td>\n",
       "      <td>118220.22</td>\n",
       "      <td>794.70</td>\n",
       "      <td>109149.67</td>\n",
       "      <td>130.50</td>\n",
       "      <td>8042.21</td>\n",
       "      <td>103.14</td>\n",
       "      <td>0.0</td>\n",
       "      <td>conventional</td>\n",
       "      <td>2015</td>\n",
       "      <td>Albany</td>\n",
       "      <td>9.507518e+08</td>\n",
       "      <td></td>\n",
       "    </tr>\n",
       "    <tr>\n",
       "      <th>3</th>\n",
       "      <td>2015-12-06</td>\n",
       "      <td>1</td>\n",
       "      <td>78992.15</td>\n",
       "      <td>1132.00</td>\n",
       "      <td>71976.41</td>\n",
       "      <td>72.58</td>\n",
       "      <td>5677.40</td>\n",
       "      <td>133.76</td>\n",
       "      <td>0.0</td>\n",
       "      <td>conventional</td>\n",
       "      <td>2015</td>\n",
       "      <td>Albany</td>\n",
       "      <td>4.484700e+08</td>\n",
       "      <td>Albany</td>\n",
       "    </tr>\n",
       "    <tr>\n",
       "      <th>4</th>\n",
       "      <td>2015-11-29</td>\n",
       "      <td>1</td>\n",
       "      <td>51039.60</td>\n",
       "      <td>941.48</td>\n",
       "      <td>43838.39</td>\n",
       "      <td>75.78</td>\n",
       "      <td>5986.26</td>\n",
       "      <td>197.69</td>\n",
       "      <td>0.0</td>\n",
       "      <td>conventional</td>\n",
       "      <td>2015</td>\n",
       "      <td>Albany</td>\n",
       "      <td>3.055363e+08</td>\n",
       "      <td>Albany</td>\n",
       "    </tr>\n",
       "  </tbody>\n",
       "</table>\n",
       "</div>"
      ],
      "text/plain": [
       "        fecha  average_price  total_volume     4046       4225    4770   \n",
       "0  2015-12-27              1      64236.62  1036.74   54454.85   48.16  \\\n",
       "1  2015-12-20              1      54876.98   674.28   44638.81   58.33   \n",
       "2  2015-12-13              0     118220.22   794.70  109149.67  130.50   \n",
       "3  2015-12-06              1      78992.15  1132.00   71976.41   72.58   \n",
       "4  2015-11-29              1      51039.60   941.48   43838.39   75.78   \n",
       "\n",
       "   small_bags  large_bags  xlarge_bags          type  year  region   \n",
       "0     8603.62       93.25          0.0  conventional  2015  Albany  \\\n",
       "1     9408.07       97.49          0.0  conventional  2015  Albany   \n",
       "2     8042.21      103.14          0.0  conventional  2015  Albany   \n",
       "3     5677.40      133.76          0.0  conventional  2015  Albany   \n",
       "4     5986.26      197.69          0.0  conventional  2015  Albany   \n",
       "\n",
       "           otra ejemplo  \n",
       "0  5.526675e+08  Albany  \n",
       "1  5.162865e+08  Albany  \n",
       "2  9.507518e+08          \n",
       "3  4.484700e+08  Albany  \n",
       "4  3.055363e+08  Albany  "
      ]
     },
     "execution_count": 177,
     "metadata": {},
     "output_type": "execute_result"
    }
   ],
   "source": [
    "df.head()"
   ]
  },
  {
   "cell_type": "markdown",
   "id": "unexpected-hammer",
   "metadata": {},
   "source": [
    "#### Podemos renombrar las columnas machacando el atributo de la instancia... ¿os suena esto?\n",
    "Requiere una lista con el mismo número de columnas"
   ]
  },
  {
   "cell_type": "code",
   "execution_count": 178,
   "id": "engaging-robert",
   "metadata": {},
   "outputs": [],
   "source": [
    "# O podríamos machacar el atributo del objeto columns\n",
    "df3 = df.copy()"
   ]
  },
  {
   "cell_type": "code",
   "execution_count": 179,
   "id": "funded-radius",
   "metadata": {},
   "outputs": [
    {
     "data": {
      "text/plain": [
       "Index(['fecha', 'average_price', 'total_volume', '4046', '4225', '4770',\n",
       "       'small_bags', 'large_bags', 'xlarge_bags', 'type', 'year', 'region',\n",
       "       'otra', 'ejemplo'],\n",
       "      dtype='object')"
      ]
     },
     "execution_count": 179,
     "metadata": {},
     "output_type": "execute_result"
    }
   ],
   "source": [
    "df3.columns"
   ]
  },
  {
   "cell_type": "markdown",
   "id": "1aef198a",
   "metadata": {},
   "source": [
    "Podemos renombrar las columnas no solo desde un diccionario con .rename().\n",
    "O tambien podemos \"pisar\" la lista de los nombres de las columnas por una de nuestro gusto"
   ]
  },
  {
   "cell_type": "code",
   "execution_count": 180,
   "id": "legal-montana",
   "metadata": {},
   "outputs": [
    {
     "data": {
      "text/plain": [
       "14"
      ]
     },
     "execution_count": 180,
     "metadata": {},
     "output_type": "execute_result"
    }
   ],
   "source": [
    "len(df3.columns)"
   ]
  },
  {
   "cell_type": "code",
   "execution_count": 181,
   "id": "61325d6b",
   "metadata": {},
   "outputs": [],
   "source": [
    "prueba = [\"🐼\"]*14"
   ]
  },
  {
   "cell_type": "code",
   "execution_count": 182,
   "id": "540fb6bb",
   "metadata": {},
   "outputs": [
    {
     "data": {
      "text/plain": [
       "['🐼', '🐼', '🐼', '🐼', '🐼', '🐼', '🐼', '🐼', '🐼', '🐼', '🐼', '🐼', '🐼', '🐼']"
      ]
     },
     "execution_count": 182,
     "metadata": {},
     "output_type": "execute_result"
    }
   ],
   "source": [
    "prueba"
   ]
  },
  {
   "cell_type": "code",
   "execution_count": 183,
   "id": "0208973e",
   "metadata": {},
   "outputs": [
    {
     "data": {
      "text/plain": [
       "Index(['fecha', 'average_price', 'total_volume', '4046', '4225', '4770',\n",
       "       'small_bags', 'large_bags', 'xlarge_bags', 'type', 'year', 'region',\n",
       "       'otra', 'ejemplo'],\n",
       "      dtype='object')"
      ]
     },
     "execution_count": 183,
     "metadata": {},
     "output_type": "execute_result"
    }
   ],
   "source": [
    "df3.columns"
   ]
  },
  {
   "cell_type": "code",
   "execution_count": 184,
   "id": "realistic-links",
   "metadata": {},
   "outputs": [],
   "source": [
    "df3.columns = prueba"
   ]
  },
  {
   "cell_type": "code",
   "execution_count": 185,
   "id": "spanish-cement",
   "metadata": {},
   "outputs": [
    {
     "data": {
      "text/html": [
       "<div>\n",
       "<style scoped>\n",
       "    .dataframe tbody tr th:only-of-type {\n",
       "        vertical-align: middle;\n",
       "    }\n",
       "\n",
       "    .dataframe tbody tr th {\n",
       "        vertical-align: top;\n",
       "    }\n",
       "\n",
       "    .dataframe thead th {\n",
       "        text-align: right;\n",
       "    }\n",
       "</style>\n",
       "<table border=\"1\" class=\"dataframe\">\n",
       "  <thead>\n",
       "    <tr style=\"text-align: right;\">\n",
       "      <th></th>\n",
       "      <th>🐼</th>\n",
       "      <th>🐼</th>\n",
       "      <th>🐼</th>\n",
       "      <th>🐼</th>\n",
       "      <th>🐼</th>\n",
       "      <th>🐼</th>\n",
       "      <th>🐼</th>\n",
       "      <th>🐼</th>\n",
       "      <th>🐼</th>\n",
       "      <th>🐼</th>\n",
       "      <th>🐼</th>\n",
       "      <th>🐼</th>\n",
       "      <th>🐼</th>\n",
       "      <th>🐼</th>\n",
       "    </tr>\n",
       "  </thead>\n",
       "  <tbody>\n",
       "    <tr>\n",
       "      <th>0</th>\n",
       "      <td>2015-12-27</td>\n",
       "      <td>1</td>\n",
       "      <td>64236.62</td>\n",
       "      <td>1036.74</td>\n",
       "      <td>54454.85</td>\n",
       "      <td>48.16</td>\n",
       "      <td>8603.62</td>\n",
       "      <td>93.25</td>\n",
       "      <td>0.0</td>\n",
       "      <td>conventional</td>\n",
       "      <td>2015</td>\n",
       "      <td>Albany</td>\n",
       "      <td>5.526675e+08</td>\n",
       "      <td>Albany</td>\n",
       "    </tr>\n",
       "    <tr>\n",
       "      <th>1</th>\n",
       "      <td>2015-12-20</td>\n",
       "      <td>1</td>\n",
       "      <td>54876.98</td>\n",
       "      <td>674.28</td>\n",
       "      <td>44638.81</td>\n",
       "      <td>58.33</td>\n",
       "      <td>9408.07</td>\n",
       "      <td>97.49</td>\n",
       "      <td>0.0</td>\n",
       "      <td>conventional</td>\n",
       "      <td>2015</td>\n",
       "      <td>Albany</td>\n",
       "      <td>5.162865e+08</td>\n",
       "      <td>Albany</td>\n",
       "    </tr>\n",
       "    <tr>\n",
       "      <th>2</th>\n",
       "      <td>2015-12-13</td>\n",
       "      <td>0</td>\n",
       "      <td>118220.22</td>\n",
       "      <td>794.70</td>\n",
       "      <td>109149.67</td>\n",
       "      <td>130.50</td>\n",
       "      <td>8042.21</td>\n",
       "      <td>103.14</td>\n",
       "      <td>0.0</td>\n",
       "      <td>conventional</td>\n",
       "      <td>2015</td>\n",
       "      <td>Albany</td>\n",
       "      <td>9.507518e+08</td>\n",
       "      <td></td>\n",
       "    </tr>\n",
       "    <tr>\n",
       "      <th>3</th>\n",
       "      <td>2015-12-06</td>\n",
       "      <td>1</td>\n",
       "      <td>78992.15</td>\n",
       "      <td>1132.00</td>\n",
       "      <td>71976.41</td>\n",
       "      <td>72.58</td>\n",
       "      <td>5677.40</td>\n",
       "      <td>133.76</td>\n",
       "      <td>0.0</td>\n",
       "      <td>conventional</td>\n",
       "      <td>2015</td>\n",
       "      <td>Albany</td>\n",
       "      <td>4.484700e+08</td>\n",
       "      <td>Albany</td>\n",
       "    </tr>\n",
       "    <tr>\n",
       "      <th>4</th>\n",
       "      <td>2015-11-29</td>\n",
       "      <td>1</td>\n",
       "      <td>51039.60</td>\n",
       "      <td>941.48</td>\n",
       "      <td>43838.39</td>\n",
       "      <td>75.78</td>\n",
       "      <td>5986.26</td>\n",
       "      <td>197.69</td>\n",
       "      <td>0.0</td>\n",
       "      <td>conventional</td>\n",
       "      <td>2015</td>\n",
       "      <td>Albany</td>\n",
       "      <td>3.055363e+08</td>\n",
       "      <td>Albany</td>\n",
       "    </tr>\n",
       "  </tbody>\n",
       "</table>\n",
       "</div>"
      ],
      "text/plain": [
       "            🐼  🐼          🐼        🐼          🐼       🐼        🐼       🐼    🐼   \n",
       "0  2015-12-27  1   64236.62  1036.74   54454.85   48.16  8603.62   93.25  0.0  \\\n",
       "1  2015-12-20  1   54876.98   674.28   44638.81   58.33  9408.07   97.49  0.0   \n",
       "2  2015-12-13  0  118220.22   794.70  109149.67  130.50  8042.21  103.14  0.0   \n",
       "3  2015-12-06  1   78992.15  1132.00   71976.41   72.58  5677.40  133.76  0.0   \n",
       "4  2015-11-29  1   51039.60   941.48   43838.39   75.78  5986.26  197.69  0.0   \n",
       "\n",
       "              🐼     🐼       🐼             🐼       🐼  \n",
       "0  conventional  2015  Albany  5.526675e+08  Albany  \n",
       "1  conventional  2015  Albany  5.162865e+08  Albany  \n",
       "2  conventional  2015  Albany  9.507518e+08          \n",
       "3  conventional  2015  Albany  4.484700e+08  Albany  \n",
       "4  conventional  2015  Albany  3.055363e+08  Albany  "
      ]
     },
     "execution_count": 185,
     "metadata": {},
     "output_type": "execute_result"
    }
   ],
   "source": [
    "df3.head()"
   ]
  },
  {
   "cell_type": "markdown",
   "id": "unique-circulation",
   "metadata": {},
   "source": [
    "### Borramos columnas"
   ]
  },
  {
   "cell_type": "code",
   "execution_count": 186,
   "id": "9bb5271e",
   "metadata": {},
   "outputs": [
    {
     "data": {
      "text/html": [
       "<div>\n",
       "<style scoped>\n",
       "    .dataframe tbody tr th:only-of-type {\n",
       "        vertical-align: middle;\n",
       "    }\n",
       "\n",
       "    .dataframe tbody tr th {\n",
       "        vertical-align: top;\n",
       "    }\n",
       "\n",
       "    .dataframe thead th {\n",
       "        text-align: right;\n",
       "    }\n",
       "</style>\n",
       "<table border=\"1\" class=\"dataframe\">\n",
       "  <thead>\n",
       "    <tr style=\"text-align: right;\">\n",
       "      <th></th>\n",
       "      <th>fecha</th>\n",
       "      <th>average_price</th>\n",
       "      <th>total_volume</th>\n",
       "      <th>4046</th>\n",
       "      <th>4225</th>\n",
       "      <th>4770</th>\n",
       "      <th>small_bags</th>\n",
       "      <th>large_bags</th>\n",
       "      <th>xlarge_bags</th>\n",
       "      <th>type</th>\n",
       "      <th>year</th>\n",
       "      <th>region</th>\n",
       "      <th>otra</th>\n",
       "      <th>ejemplo</th>\n",
       "    </tr>\n",
       "  </thead>\n",
       "  <tbody>\n",
       "    <tr>\n",
       "      <th>14230</th>\n",
       "      <td>2016-10-23</td>\n",
       "      <td>1</td>\n",
       "      <td>11386.72</td>\n",
       "      <td>428.52</td>\n",
       "      <td>3328.29</td>\n",
       "      <td>276.86</td>\n",
       "      <td>3788.85</td>\n",
       "      <td>3564.2</td>\n",
       "      <td>0.0</td>\n",
       "      <td>organic</td>\n",
       "      <td>2016</td>\n",
       "      <td>SouthCarolina</td>\n",
       "      <td>4.314257e+07</td>\n",
       "      <td>SouthCarolina</td>\n",
       "    </tr>\n",
       "  </tbody>\n",
       "</table>\n",
       "</div>"
      ],
      "text/plain": [
       "            fecha  average_price  total_volume    4046     4225    4770   \n",
       "14230  2016-10-23              1      11386.72  428.52  3328.29  276.86  \\\n",
       "\n",
       "       small_bags  large_bags  xlarge_bags     type  year         region   \n",
       "14230     3788.85      3564.2          0.0  organic  2016  SouthCarolina  \\\n",
       "\n",
       "               otra        ejemplo  \n",
       "14230  4.314257e+07  SouthCarolina  "
      ]
     },
     "execution_count": 186,
     "metadata": {},
     "output_type": "execute_result"
    }
   ],
   "source": [
    "df.sample()"
   ]
  },
  {
   "cell_type": "code",
   "execution_count": 187,
   "id": "renewable-complexity",
   "metadata": {},
   "outputs": [],
   "source": [
    "# Axis 1 siempre columnas\n",
    "df.drop([\"4046\",\"4225\",\"4770\"],axis=1,inplace=True)"
   ]
  },
  {
   "cell_type": "code",
   "execution_count": 188,
   "id": "sublime-mouth",
   "metadata": {},
   "outputs": [
    {
     "data": {
      "text/html": [
       "<div>\n",
       "<style scoped>\n",
       "    .dataframe tbody tr th:only-of-type {\n",
       "        vertical-align: middle;\n",
       "    }\n",
       "\n",
       "    .dataframe tbody tr th {\n",
       "        vertical-align: top;\n",
       "    }\n",
       "\n",
       "    .dataframe thead th {\n",
       "        text-align: right;\n",
       "    }\n",
       "</style>\n",
       "<table border=\"1\" class=\"dataframe\">\n",
       "  <thead>\n",
       "    <tr style=\"text-align: right;\">\n",
       "      <th></th>\n",
       "      <th>fecha</th>\n",
       "      <th>average_price</th>\n",
       "      <th>total_volume</th>\n",
       "      <th>small_bags</th>\n",
       "      <th>large_bags</th>\n",
       "      <th>xlarge_bags</th>\n",
       "      <th>type</th>\n",
       "      <th>year</th>\n",
       "      <th>region</th>\n",
       "      <th>otra</th>\n",
       "      <th>ejemplo</th>\n",
       "    </tr>\n",
       "  </thead>\n",
       "  <tbody>\n",
       "    <tr>\n",
       "      <th>14561</th>\n",
       "      <td>2016-06-12</td>\n",
       "      <td>1</td>\n",
       "      <td>5150.78</td>\n",
       "      <td>3390.0</td>\n",
       "      <td>50.0</td>\n",
       "      <td>0.0</td>\n",
       "      <td>organic</td>\n",
       "      <td>2016</td>\n",
       "      <td>Tampa</td>\n",
       "      <td>17461144.2</td>\n",
       "      <td>Tampa</td>\n",
       "    </tr>\n",
       "  </tbody>\n",
       "</table>\n",
       "</div>"
      ],
      "text/plain": [
       "            fecha  average_price  total_volume  small_bags  large_bags   \n",
       "14561  2016-06-12              1       5150.78      3390.0        50.0  \\\n",
       "\n",
       "       xlarge_bags     type  year region        otra ejemplo  \n",
       "14561          0.0  organic  2016  Tampa  17461144.2   Tampa  "
      ]
     },
     "execution_count": 188,
     "metadata": {},
     "output_type": "execute_result"
    }
   ],
   "source": [
    "df.sample()"
   ]
  },
  {
   "cell_type": "markdown",
   "id": "native-oxide",
   "metadata": {},
   "source": [
    "### Borramos filas"
   ]
  },
  {
   "cell_type": "code",
   "execution_count": 189,
   "id": "37ecbd09",
   "metadata": {},
   "outputs": [
    {
     "data": {
      "text/html": [
       "<div>\n",
       "<style scoped>\n",
       "    .dataframe tbody tr th:only-of-type {\n",
       "        vertical-align: middle;\n",
       "    }\n",
       "\n",
       "    .dataframe tbody tr th {\n",
       "        vertical-align: top;\n",
       "    }\n",
       "\n",
       "    .dataframe thead th {\n",
       "        text-align: right;\n",
       "    }\n",
       "</style>\n",
       "<table border=\"1\" class=\"dataframe\">\n",
       "  <thead>\n",
       "    <tr style=\"text-align: right;\">\n",
       "      <th></th>\n",
       "      <th>fecha</th>\n",
       "      <th>average_price</th>\n",
       "      <th>total_volume</th>\n",
       "      <th>small_bags</th>\n",
       "      <th>large_bags</th>\n",
       "      <th>xlarge_bags</th>\n",
       "      <th>type</th>\n",
       "      <th>year</th>\n",
       "      <th>region</th>\n",
       "      <th>otra</th>\n",
       "      <th>ejemplo</th>\n",
       "    </tr>\n",
       "  </thead>\n",
       "  <tbody>\n",
       "    <tr>\n",
       "      <th>0</th>\n",
       "      <td>2015-12-27</td>\n",
       "      <td>1</td>\n",
       "      <td>64236.62</td>\n",
       "      <td>8603.62</td>\n",
       "      <td>93.25</td>\n",
       "      <td>0.0</td>\n",
       "      <td>conventional</td>\n",
       "      <td>2015</td>\n",
       "      <td>Albany</td>\n",
       "      <td>5.526675e+08</td>\n",
       "      <td>Albany</td>\n",
       "    </tr>\n",
       "    <tr>\n",
       "      <th>1</th>\n",
       "      <td>2015-12-20</td>\n",
       "      <td>1</td>\n",
       "      <td>54876.98</td>\n",
       "      <td>9408.07</td>\n",
       "      <td>97.49</td>\n",
       "      <td>0.0</td>\n",
       "      <td>conventional</td>\n",
       "      <td>2015</td>\n",
       "      <td>Albany</td>\n",
       "      <td>5.162865e+08</td>\n",
       "      <td>Albany</td>\n",
       "    </tr>\n",
       "    <tr>\n",
       "      <th>2</th>\n",
       "      <td>2015-12-13</td>\n",
       "      <td>0</td>\n",
       "      <td>118220.22</td>\n",
       "      <td>8042.21</td>\n",
       "      <td>103.14</td>\n",
       "      <td>0.0</td>\n",
       "      <td>conventional</td>\n",
       "      <td>2015</td>\n",
       "      <td>Albany</td>\n",
       "      <td>9.507518e+08</td>\n",
       "      <td></td>\n",
       "    </tr>\n",
       "    <tr>\n",
       "      <th>3</th>\n",
       "      <td>2015-12-06</td>\n",
       "      <td>1</td>\n",
       "      <td>78992.15</td>\n",
       "      <td>5677.40</td>\n",
       "      <td>133.76</td>\n",
       "      <td>0.0</td>\n",
       "      <td>conventional</td>\n",
       "      <td>2015</td>\n",
       "      <td>Albany</td>\n",
       "      <td>4.484700e+08</td>\n",
       "      <td>Albany</td>\n",
       "    </tr>\n",
       "    <tr>\n",
       "      <th>4</th>\n",
       "      <td>2015-11-29</td>\n",
       "      <td>1</td>\n",
       "      <td>51039.60</td>\n",
       "      <td>5986.26</td>\n",
       "      <td>197.69</td>\n",
       "      <td>0.0</td>\n",
       "      <td>conventional</td>\n",
       "      <td>2015</td>\n",
       "      <td>Albany</td>\n",
       "      <td>3.055363e+08</td>\n",
       "      <td>Albany</td>\n",
       "    </tr>\n",
       "  </tbody>\n",
       "</table>\n",
       "</div>"
      ],
      "text/plain": [
       "        fecha  average_price  total_volume  small_bags  large_bags   \n",
       "0  2015-12-27              1      64236.62     8603.62       93.25  \\\n",
       "1  2015-12-20              1      54876.98     9408.07       97.49   \n",
       "2  2015-12-13              0     118220.22     8042.21      103.14   \n",
       "3  2015-12-06              1      78992.15     5677.40      133.76   \n",
       "4  2015-11-29              1      51039.60     5986.26      197.69   \n",
       "\n",
       "   xlarge_bags          type  year  region          otra ejemplo  \n",
       "0          0.0  conventional  2015  Albany  5.526675e+08  Albany  \n",
       "1          0.0  conventional  2015  Albany  5.162865e+08  Albany  \n",
       "2          0.0  conventional  2015  Albany  9.507518e+08          \n",
       "3          0.0  conventional  2015  Albany  4.484700e+08  Albany  \n",
       "4          0.0  conventional  2015  Albany  3.055363e+08  Albany  "
      ]
     },
     "execution_count": 189,
     "metadata": {},
     "output_type": "execute_result"
    }
   ],
   "source": [
    "df.head(5)"
   ]
  },
  {
   "cell_type": "code",
   "execution_count": 190,
   "id": "impossible-complaint",
   "metadata": {},
   "outputs": [],
   "source": [
    "# Axis 0 siempre filas\n",
    "df.drop([1,2,4], axis=0, inplace=True)"
   ]
  },
  {
   "cell_type": "code",
   "execution_count": 191,
   "id": "unavailable-madagascar",
   "metadata": {},
   "outputs": [
    {
     "data": {
      "text/html": [
       "<div>\n",
       "<style scoped>\n",
       "    .dataframe tbody tr th:only-of-type {\n",
       "        vertical-align: middle;\n",
       "    }\n",
       "\n",
       "    .dataframe tbody tr th {\n",
       "        vertical-align: top;\n",
       "    }\n",
       "\n",
       "    .dataframe thead th {\n",
       "        text-align: right;\n",
       "    }\n",
       "</style>\n",
       "<table border=\"1\" class=\"dataframe\">\n",
       "  <thead>\n",
       "    <tr style=\"text-align: right;\">\n",
       "      <th></th>\n",
       "      <th>index</th>\n",
       "      <th>fecha</th>\n",
       "      <th>average_price</th>\n",
       "      <th>total_volume</th>\n",
       "      <th>small_bags</th>\n",
       "      <th>large_bags</th>\n",
       "      <th>xlarge_bags</th>\n",
       "      <th>type</th>\n",
       "      <th>year</th>\n",
       "      <th>region</th>\n",
       "      <th>otra</th>\n",
       "      <th>ejemplo</th>\n",
       "    </tr>\n",
       "  </thead>\n",
       "  <tbody>\n",
       "    <tr>\n",
       "      <th>0</th>\n",
       "      <td>0</td>\n",
       "      <td>2015-12-27</td>\n",
       "      <td>1</td>\n",
       "      <td>64236.62</td>\n",
       "      <td>8603.62</td>\n",
       "      <td>93.25</td>\n",
       "      <td>0.0</td>\n",
       "      <td>conventional</td>\n",
       "      <td>2015</td>\n",
       "      <td>Albany</td>\n",
       "      <td>5.526675e+08</td>\n",
       "      <td>Albany</td>\n",
       "    </tr>\n",
       "    <tr>\n",
       "      <th>1</th>\n",
       "      <td>3</td>\n",
       "      <td>2015-12-06</td>\n",
       "      <td>1</td>\n",
       "      <td>78992.15</td>\n",
       "      <td>5677.40</td>\n",
       "      <td>133.76</td>\n",
       "      <td>0.0</td>\n",
       "      <td>conventional</td>\n",
       "      <td>2015</td>\n",
       "      <td>Albany</td>\n",
       "      <td>4.484700e+08</td>\n",
       "      <td>Albany</td>\n",
       "    </tr>\n",
       "    <tr>\n",
       "      <th>2</th>\n",
       "      <td>5</td>\n",
       "      <td>2015-11-22</td>\n",
       "      <td>1</td>\n",
       "      <td>55979.78</td>\n",
       "      <td>6556.47</td>\n",
       "      <td>127.44</td>\n",
       "      <td>0.0</td>\n",
       "      <td>conventional</td>\n",
       "      <td>2015</td>\n",
       "      <td>Albany</td>\n",
       "      <td>3.670297e+08</td>\n",
       "      <td>Albany</td>\n",
       "    </tr>\n",
       "    <tr>\n",
       "      <th>3</th>\n",
       "      <td>6</td>\n",
       "      <td>2015-11-15</td>\n",
       "      <td>0</td>\n",
       "      <td>83453.76</td>\n",
       "      <td>8196.81</td>\n",
       "      <td>122.05</td>\n",
       "      <td>0.0</td>\n",
       "      <td>conventional</td>\n",
       "      <td>2015</td>\n",
       "      <td>Albany</td>\n",
       "      <td>6.840546e+08</td>\n",
       "      <td></td>\n",
       "    </tr>\n",
       "    <tr>\n",
       "      <th>4</th>\n",
       "      <td>7</td>\n",
       "      <td>2015-11-08</td>\n",
       "      <td>0</td>\n",
       "      <td>109428.33</td>\n",
       "      <td>6266.85</td>\n",
       "      <td>562.37</td>\n",
       "      <td>0.0</td>\n",
       "      <td>conventional</td>\n",
       "      <td>2015</td>\n",
       "      <td>Albany</td>\n",
       "      <td>6.857709e+08</td>\n",
       "      <td></td>\n",
       "    </tr>\n",
       "    <tr>\n",
       "      <th>...</th>\n",
       "      <td>...</td>\n",
       "      <td>...</td>\n",
       "      <td>...</td>\n",
       "      <td>...</td>\n",
       "      <td>...</td>\n",
       "      <td>...</td>\n",
       "      <td>...</td>\n",
       "      <td>...</td>\n",
       "      <td>...</td>\n",
       "      <td>...</td>\n",
       "      <td>...</td>\n",
       "      <td>...</td>\n",
       "    </tr>\n",
       "    <tr>\n",
       "      <th>18241</th>\n",
       "      <td>18244</td>\n",
       "      <td>2018-02-04</td>\n",
       "      <td>1</td>\n",
       "      <td>17074.83</td>\n",
       "      <td>13066.82</td>\n",
       "      <td>431.85</td>\n",
       "      <td>0.0</td>\n",
       "      <td>organic</td>\n",
       "      <td>2018</td>\n",
       "      <td>WestTexNewMexico</td>\n",
       "      <td>2.231137e+08</td>\n",
       "      <td>WestTexNewMexico</td>\n",
       "    </tr>\n",
       "    <tr>\n",
       "      <th>18242</th>\n",
       "      <td>18245</td>\n",
       "      <td>2018-01-28</td>\n",
       "      <td>1</td>\n",
       "      <td>13888.04</td>\n",
       "      <td>8940.04</td>\n",
       "      <td>324.80</td>\n",
       "      <td>0.0</td>\n",
       "      <td>organic</td>\n",
       "      <td>2018</td>\n",
       "      <td>WestTexNewMexico</td>\n",
       "      <td>1.241596e+08</td>\n",
       "      <td>WestTexNewMexico</td>\n",
       "    </tr>\n",
       "    <tr>\n",
       "      <th>18243</th>\n",
       "      <td>18246</td>\n",
       "      <td>2018-01-21</td>\n",
       "      <td>1</td>\n",
       "      <td>13766.76</td>\n",
       "      <td>9351.80</td>\n",
       "      <td>42.31</td>\n",
       "      <td>0.0</td>\n",
       "      <td>organic</td>\n",
       "      <td>2018</td>\n",
       "      <td>WestTexNewMexico</td>\n",
       "      <td>1.287440e+08</td>\n",
       "      <td>WestTexNewMexico</td>\n",
       "    </tr>\n",
       "    <tr>\n",
       "      <th>18244</th>\n",
       "      <td>18247</td>\n",
       "      <td>2018-01-14</td>\n",
       "      <td>1</td>\n",
       "      <td>16205.22</td>\n",
       "      <td>10919.54</td>\n",
       "      <td>50.00</td>\n",
       "      <td>0.0</td>\n",
       "      <td>organic</td>\n",
       "      <td>2018</td>\n",
       "      <td>WestTexNewMexico</td>\n",
       "      <td>1.769535e+08</td>\n",
       "      <td>WestTexNewMexico</td>\n",
       "    </tr>\n",
       "    <tr>\n",
       "      <th>18245</th>\n",
       "      <td>18248</td>\n",
       "      <td>2018-01-07</td>\n",
       "      <td>1</td>\n",
       "      <td>17489.58</td>\n",
       "      <td>11988.14</td>\n",
       "      <td>26.01</td>\n",
       "      <td>0.0</td>\n",
       "      <td>organic</td>\n",
       "      <td>2018</td>\n",
       "      <td>WestTexNewMexico</td>\n",
       "      <td>2.096675e+08</td>\n",
       "      <td>WestTexNewMexico</td>\n",
       "    </tr>\n",
       "  </tbody>\n",
       "</table>\n",
       "<p>18246 rows × 12 columns</p>\n",
       "</div>"
      ],
      "text/plain": [
       "       index       fecha  average_price  total_volume  small_bags  large_bags   \n",
       "0          0  2015-12-27              1      64236.62     8603.62       93.25  \\\n",
       "1          3  2015-12-06              1      78992.15     5677.40      133.76   \n",
       "2          5  2015-11-22              1      55979.78     6556.47      127.44   \n",
       "3          6  2015-11-15              0      83453.76     8196.81      122.05   \n",
       "4          7  2015-11-08              0     109428.33     6266.85      562.37   \n",
       "...      ...         ...            ...           ...         ...         ...   \n",
       "18241  18244  2018-02-04              1      17074.83    13066.82      431.85   \n",
       "18242  18245  2018-01-28              1      13888.04     8940.04      324.80   \n",
       "18243  18246  2018-01-21              1      13766.76     9351.80       42.31   \n",
       "18244  18247  2018-01-14              1      16205.22    10919.54       50.00   \n",
       "18245  18248  2018-01-07              1      17489.58    11988.14       26.01   \n",
       "\n",
       "       xlarge_bags          type  year            region          otra   \n",
       "0              0.0  conventional  2015            Albany  5.526675e+08  \\\n",
       "1              0.0  conventional  2015            Albany  4.484700e+08   \n",
       "2              0.0  conventional  2015            Albany  3.670297e+08   \n",
       "3              0.0  conventional  2015            Albany  6.840546e+08   \n",
       "4              0.0  conventional  2015            Albany  6.857709e+08   \n",
       "...            ...           ...   ...               ...           ...   \n",
       "18241          0.0       organic  2018  WestTexNewMexico  2.231137e+08   \n",
       "18242          0.0       organic  2018  WestTexNewMexico  1.241596e+08   \n",
       "18243          0.0       organic  2018  WestTexNewMexico  1.287440e+08   \n",
       "18244          0.0       organic  2018  WestTexNewMexico  1.769535e+08   \n",
       "18245          0.0       organic  2018  WestTexNewMexico  2.096675e+08   \n",
       "\n",
       "                ejemplo  \n",
       "0                Albany  \n",
       "1                Albany  \n",
       "2                Albany  \n",
       "3                        \n",
       "4                        \n",
       "...                 ...  \n",
       "18241  WestTexNewMexico  \n",
       "18242  WestTexNewMexico  \n",
       "18243  WestTexNewMexico  \n",
       "18244  WestTexNewMexico  \n",
       "18245  WestTexNewMexico  \n",
       "\n",
       "[18246 rows x 12 columns]"
      ]
     },
     "execution_count": 191,
     "metadata": {},
     "output_type": "execute_result"
    }
   ],
   "source": [
    "df.reset_index()"
   ]
  },
  {
   "cell_type": "markdown",
   "id": "supposed-recipe",
   "metadata": {},
   "source": [
    "Las filas también se pueden eliminar. Ten en cuenta que los índices no se reinician. El índice se asocia a la fila, no al orden.   \n",
    "¿Se puede reiniciar el index? Correcto\n"
   ]
  },
  {
   "cell_type": "markdown",
   "id": "encouraging-cabin",
   "metadata": {},
   "source": [
    "### Reset_index y set_index"
   ]
  },
  {
   "cell_type": "markdown",
   "id": "hidden-speech",
   "metadata": {},
   "source": [
    "Leemos la [documentación](https://pandas.pydata.org/pandas-docs/stable/reference/api/pandas.DataFrame.reset_index.html) para entender algunos parámetros"
   ]
  },
  {
   "cell_type": "code",
   "execution_count": 192,
   "id": "impressive-going",
   "metadata": {},
   "outputs": [
    {
     "data": {
      "text/html": [
       "<div>\n",
       "<style scoped>\n",
       "    .dataframe tbody tr th:only-of-type {\n",
       "        vertical-align: middle;\n",
       "    }\n",
       "\n",
       "    .dataframe tbody tr th {\n",
       "        vertical-align: top;\n",
       "    }\n",
       "\n",
       "    .dataframe thead th {\n",
       "        text-align: right;\n",
       "    }\n",
       "</style>\n",
       "<table border=\"1\" class=\"dataframe\">\n",
       "  <thead>\n",
       "    <tr style=\"text-align: right;\">\n",
       "      <th></th>\n",
       "      <th>index</th>\n",
       "      <th>fecha</th>\n",
       "      <th>average_price</th>\n",
       "      <th>total_volume</th>\n",
       "      <th>small_bags</th>\n",
       "      <th>large_bags</th>\n",
       "      <th>xlarge_bags</th>\n",
       "      <th>type</th>\n",
       "      <th>year</th>\n",
       "      <th>region</th>\n",
       "      <th>otra</th>\n",
       "      <th>ejemplo</th>\n",
       "    </tr>\n",
       "  </thead>\n",
       "  <tbody>\n",
       "    <tr>\n",
       "      <th>0</th>\n",
       "      <td>0</td>\n",
       "      <td>2015-12-27</td>\n",
       "      <td>1</td>\n",
       "      <td>64236.62</td>\n",
       "      <td>8603.62</td>\n",
       "      <td>93.25</td>\n",
       "      <td>0.0</td>\n",
       "      <td>conventional</td>\n",
       "      <td>2015</td>\n",
       "      <td>Albany</td>\n",
       "      <td>5.526675e+08</td>\n",
       "      <td>Albany</td>\n",
       "    </tr>\n",
       "    <tr>\n",
       "      <th>1</th>\n",
       "      <td>3</td>\n",
       "      <td>2015-12-06</td>\n",
       "      <td>1</td>\n",
       "      <td>78992.15</td>\n",
       "      <td>5677.40</td>\n",
       "      <td>133.76</td>\n",
       "      <td>0.0</td>\n",
       "      <td>conventional</td>\n",
       "      <td>2015</td>\n",
       "      <td>Albany</td>\n",
       "      <td>4.484700e+08</td>\n",
       "      <td>Albany</td>\n",
       "    </tr>\n",
       "    <tr>\n",
       "      <th>2</th>\n",
       "      <td>5</td>\n",
       "      <td>2015-11-22</td>\n",
       "      <td>1</td>\n",
       "      <td>55979.78</td>\n",
       "      <td>6556.47</td>\n",
       "      <td>127.44</td>\n",
       "      <td>0.0</td>\n",
       "      <td>conventional</td>\n",
       "      <td>2015</td>\n",
       "      <td>Albany</td>\n",
       "      <td>3.670297e+08</td>\n",
       "      <td>Albany</td>\n",
       "    </tr>\n",
       "    <tr>\n",
       "      <th>3</th>\n",
       "      <td>6</td>\n",
       "      <td>2015-11-15</td>\n",
       "      <td>0</td>\n",
       "      <td>83453.76</td>\n",
       "      <td>8196.81</td>\n",
       "      <td>122.05</td>\n",
       "      <td>0.0</td>\n",
       "      <td>conventional</td>\n",
       "      <td>2015</td>\n",
       "      <td>Albany</td>\n",
       "      <td>6.840546e+08</td>\n",
       "      <td></td>\n",
       "    </tr>\n",
       "    <tr>\n",
       "      <th>4</th>\n",
       "      <td>7</td>\n",
       "      <td>2015-11-08</td>\n",
       "      <td>0</td>\n",
       "      <td>109428.33</td>\n",
       "      <td>6266.85</td>\n",
       "      <td>562.37</td>\n",
       "      <td>0.0</td>\n",
       "      <td>conventional</td>\n",
       "      <td>2015</td>\n",
       "      <td>Albany</td>\n",
       "      <td>6.857709e+08</td>\n",
       "      <td></td>\n",
       "    </tr>\n",
       "    <tr>\n",
       "      <th>...</th>\n",
       "      <td>...</td>\n",
       "      <td>...</td>\n",
       "      <td>...</td>\n",
       "      <td>...</td>\n",
       "      <td>...</td>\n",
       "      <td>...</td>\n",
       "      <td>...</td>\n",
       "      <td>...</td>\n",
       "      <td>...</td>\n",
       "      <td>...</td>\n",
       "      <td>...</td>\n",
       "      <td>...</td>\n",
       "    </tr>\n",
       "    <tr>\n",
       "      <th>18241</th>\n",
       "      <td>18244</td>\n",
       "      <td>2018-02-04</td>\n",
       "      <td>1</td>\n",
       "      <td>17074.83</td>\n",
       "      <td>13066.82</td>\n",
       "      <td>431.85</td>\n",
       "      <td>0.0</td>\n",
       "      <td>organic</td>\n",
       "      <td>2018</td>\n",
       "      <td>WestTexNewMexico</td>\n",
       "      <td>2.231137e+08</td>\n",
       "      <td>WestTexNewMexico</td>\n",
       "    </tr>\n",
       "    <tr>\n",
       "      <th>18242</th>\n",
       "      <td>18245</td>\n",
       "      <td>2018-01-28</td>\n",
       "      <td>1</td>\n",
       "      <td>13888.04</td>\n",
       "      <td>8940.04</td>\n",
       "      <td>324.80</td>\n",
       "      <td>0.0</td>\n",
       "      <td>organic</td>\n",
       "      <td>2018</td>\n",
       "      <td>WestTexNewMexico</td>\n",
       "      <td>1.241596e+08</td>\n",
       "      <td>WestTexNewMexico</td>\n",
       "    </tr>\n",
       "    <tr>\n",
       "      <th>18243</th>\n",
       "      <td>18246</td>\n",
       "      <td>2018-01-21</td>\n",
       "      <td>1</td>\n",
       "      <td>13766.76</td>\n",
       "      <td>9351.80</td>\n",
       "      <td>42.31</td>\n",
       "      <td>0.0</td>\n",
       "      <td>organic</td>\n",
       "      <td>2018</td>\n",
       "      <td>WestTexNewMexico</td>\n",
       "      <td>1.287440e+08</td>\n",
       "      <td>WestTexNewMexico</td>\n",
       "    </tr>\n",
       "    <tr>\n",
       "      <th>18244</th>\n",
       "      <td>18247</td>\n",
       "      <td>2018-01-14</td>\n",
       "      <td>1</td>\n",
       "      <td>16205.22</td>\n",
       "      <td>10919.54</td>\n",
       "      <td>50.00</td>\n",
       "      <td>0.0</td>\n",
       "      <td>organic</td>\n",
       "      <td>2018</td>\n",
       "      <td>WestTexNewMexico</td>\n",
       "      <td>1.769535e+08</td>\n",
       "      <td>WestTexNewMexico</td>\n",
       "    </tr>\n",
       "    <tr>\n",
       "      <th>18245</th>\n",
       "      <td>18248</td>\n",
       "      <td>2018-01-07</td>\n",
       "      <td>1</td>\n",
       "      <td>17489.58</td>\n",
       "      <td>11988.14</td>\n",
       "      <td>26.01</td>\n",
       "      <td>0.0</td>\n",
       "      <td>organic</td>\n",
       "      <td>2018</td>\n",
       "      <td>WestTexNewMexico</td>\n",
       "      <td>2.096675e+08</td>\n",
       "      <td>WestTexNewMexico</td>\n",
       "    </tr>\n",
       "  </tbody>\n",
       "</table>\n",
       "<p>18246 rows × 12 columns</p>\n",
       "</div>"
      ],
      "text/plain": [
       "       index       fecha  average_price  total_volume  small_bags  large_bags   \n",
       "0          0  2015-12-27              1      64236.62     8603.62       93.25  \\\n",
       "1          3  2015-12-06              1      78992.15     5677.40      133.76   \n",
       "2          5  2015-11-22              1      55979.78     6556.47      127.44   \n",
       "3          6  2015-11-15              0      83453.76     8196.81      122.05   \n",
       "4          7  2015-11-08              0     109428.33     6266.85      562.37   \n",
       "...      ...         ...            ...           ...         ...         ...   \n",
       "18241  18244  2018-02-04              1      17074.83    13066.82      431.85   \n",
       "18242  18245  2018-01-28              1      13888.04     8940.04      324.80   \n",
       "18243  18246  2018-01-21              1      13766.76     9351.80       42.31   \n",
       "18244  18247  2018-01-14              1      16205.22    10919.54       50.00   \n",
       "18245  18248  2018-01-07              1      17489.58    11988.14       26.01   \n",
       "\n",
       "       xlarge_bags          type  year            region          otra   \n",
       "0              0.0  conventional  2015            Albany  5.526675e+08  \\\n",
       "1              0.0  conventional  2015            Albany  4.484700e+08   \n",
       "2              0.0  conventional  2015            Albany  3.670297e+08   \n",
       "3              0.0  conventional  2015            Albany  6.840546e+08   \n",
       "4              0.0  conventional  2015            Albany  6.857709e+08   \n",
       "...            ...           ...   ...               ...           ...   \n",
       "18241          0.0       organic  2018  WestTexNewMexico  2.231137e+08   \n",
       "18242          0.0       organic  2018  WestTexNewMexico  1.241596e+08   \n",
       "18243          0.0       organic  2018  WestTexNewMexico  1.287440e+08   \n",
       "18244          0.0       organic  2018  WestTexNewMexico  1.769535e+08   \n",
       "18245          0.0       organic  2018  WestTexNewMexico  2.096675e+08   \n",
       "\n",
       "                ejemplo  \n",
       "0                Albany  \n",
       "1                Albany  \n",
       "2                Albany  \n",
       "3                        \n",
       "4                        \n",
       "...                 ...  \n",
       "18241  WestTexNewMexico  \n",
       "18242  WestTexNewMexico  \n",
       "18243  WestTexNewMexico  \n",
       "18244  WestTexNewMexico  \n",
       "18245  WestTexNewMexico  \n",
       "\n",
       "[18246 rows x 12 columns]"
      ]
     },
     "execution_count": 192,
     "metadata": {},
     "output_type": "execute_result"
    }
   ],
   "source": [
    "df.reset_index() # Me mete lo que era el indice original como nueva columna"
   ]
  },
  {
   "cell_type": "code",
   "execution_count": 193,
   "id": "1a8ee829",
   "metadata": {},
   "outputs": [
    {
     "data": {
      "text/plain": [
       "Index([    0,     3,     5,     6,     7,     8,     9,    10,    11,    12,\n",
       "       ...\n",
       "       18239, 18240, 18241, 18242, 18243, 18244, 18245, 18246, 18247, 18248],\n",
       "      dtype='int64', length=18246)"
      ]
     },
     "execution_count": 193,
     "metadata": {},
     "output_type": "execute_result"
    }
   ],
   "source": [
    "df.index #Es la columna nueva de índice"
   ]
  },
  {
   "cell_type": "code",
   "execution_count": 194,
   "id": "entertaining-mounting",
   "metadata": {},
   "outputs": [],
   "source": [
    "#Drop = True evita que se genere otra columna con el index anterior"
   ]
  },
  {
   "cell_type": "code",
   "execution_count": 195,
   "id": "dutch-dispute",
   "metadata": {},
   "outputs": [
    {
     "data": {
      "text/html": [
       "<div>\n",
       "<style scoped>\n",
       "    .dataframe tbody tr th:only-of-type {\n",
       "        vertical-align: middle;\n",
       "    }\n",
       "\n",
       "    .dataframe tbody tr th {\n",
       "        vertical-align: top;\n",
       "    }\n",
       "\n",
       "    .dataframe thead th {\n",
       "        text-align: right;\n",
       "    }\n",
       "</style>\n",
       "<table border=\"1\" class=\"dataframe\">\n",
       "  <thead>\n",
       "    <tr style=\"text-align: right;\">\n",
       "      <th></th>\n",
       "      <th>fecha</th>\n",
       "      <th>average_price</th>\n",
       "      <th>total_volume</th>\n",
       "      <th>small_bags</th>\n",
       "      <th>large_bags</th>\n",
       "      <th>xlarge_bags</th>\n",
       "      <th>type</th>\n",
       "      <th>year</th>\n",
       "      <th>region</th>\n",
       "      <th>otra</th>\n",
       "      <th>ejemplo</th>\n",
       "    </tr>\n",
       "  </thead>\n",
       "  <tbody>\n",
       "    <tr>\n",
       "      <th>0</th>\n",
       "      <td>2015-12-27</td>\n",
       "      <td>1</td>\n",
       "      <td>64236.62</td>\n",
       "      <td>8603.62</td>\n",
       "      <td>93.25</td>\n",
       "      <td>0.0</td>\n",
       "      <td>conventional</td>\n",
       "      <td>2015</td>\n",
       "      <td>Albany</td>\n",
       "      <td>5.526675e+08</td>\n",
       "      <td>Albany</td>\n",
       "    </tr>\n",
       "    <tr>\n",
       "      <th>1</th>\n",
       "      <td>2015-12-06</td>\n",
       "      <td>1</td>\n",
       "      <td>78992.15</td>\n",
       "      <td>5677.40</td>\n",
       "      <td>133.76</td>\n",
       "      <td>0.0</td>\n",
       "      <td>conventional</td>\n",
       "      <td>2015</td>\n",
       "      <td>Albany</td>\n",
       "      <td>4.484700e+08</td>\n",
       "      <td>Albany</td>\n",
       "    </tr>\n",
       "    <tr>\n",
       "      <th>2</th>\n",
       "      <td>2015-11-22</td>\n",
       "      <td>1</td>\n",
       "      <td>55979.78</td>\n",
       "      <td>6556.47</td>\n",
       "      <td>127.44</td>\n",
       "      <td>0.0</td>\n",
       "      <td>conventional</td>\n",
       "      <td>2015</td>\n",
       "      <td>Albany</td>\n",
       "      <td>3.670297e+08</td>\n",
       "      <td>Albany</td>\n",
       "    </tr>\n",
       "    <tr>\n",
       "      <th>3</th>\n",
       "      <td>2015-11-15</td>\n",
       "      <td>0</td>\n",
       "      <td>83453.76</td>\n",
       "      <td>8196.81</td>\n",
       "      <td>122.05</td>\n",
       "      <td>0.0</td>\n",
       "      <td>conventional</td>\n",
       "      <td>2015</td>\n",
       "      <td>Albany</td>\n",
       "      <td>6.840546e+08</td>\n",
       "      <td></td>\n",
       "    </tr>\n",
       "    <tr>\n",
       "      <th>4</th>\n",
       "      <td>2015-11-08</td>\n",
       "      <td>0</td>\n",
       "      <td>109428.33</td>\n",
       "      <td>6266.85</td>\n",
       "      <td>562.37</td>\n",
       "      <td>0.0</td>\n",
       "      <td>conventional</td>\n",
       "      <td>2015</td>\n",
       "      <td>Albany</td>\n",
       "      <td>6.857709e+08</td>\n",
       "      <td></td>\n",
       "    </tr>\n",
       "    <tr>\n",
       "      <th>...</th>\n",
       "      <td>...</td>\n",
       "      <td>...</td>\n",
       "      <td>...</td>\n",
       "      <td>...</td>\n",
       "      <td>...</td>\n",
       "      <td>...</td>\n",
       "      <td>...</td>\n",
       "      <td>...</td>\n",
       "      <td>...</td>\n",
       "      <td>...</td>\n",
       "      <td>...</td>\n",
       "    </tr>\n",
       "    <tr>\n",
       "      <th>18241</th>\n",
       "      <td>2018-02-04</td>\n",
       "      <td>1</td>\n",
       "      <td>17074.83</td>\n",
       "      <td>13066.82</td>\n",
       "      <td>431.85</td>\n",
       "      <td>0.0</td>\n",
       "      <td>organic</td>\n",
       "      <td>2018</td>\n",
       "      <td>WestTexNewMexico</td>\n",
       "      <td>2.231137e+08</td>\n",
       "      <td>WestTexNewMexico</td>\n",
       "    </tr>\n",
       "    <tr>\n",
       "      <th>18242</th>\n",
       "      <td>2018-01-28</td>\n",
       "      <td>1</td>\n",
       "      <td>13888.04</td>\n",
       "      <td>8940.04</td>\n",
       "      <td>324.80</td>\n",
       "      <td>0.0</td>\n",
       "      <td>organic</td>\n",
       "      <td>2018</td>\n",
       "      <td>WestTexNewMexico</td>\n",
       "      <td>1.241596e+08</td>\n",
       "      <td>WestTexNewMexico</td>\n",
       "    </tr>\n",
       "    <tr>\n",
       "      <th>18243</th>\n",
       "      <td>2018-01-21</td>\n",
       "      <td>1</td>\n",
       "      <td>13766.76</td>\n",
       "      <td>9351.80</td>\n",
       "      <td>42.31</td>\n",
       "      <td>0.0</td>\n",
       "      <td>organic</td>\n",
       "      <td>2018</td>\n",
       "      <td>WestTexNewMexico</td>\n",
       "      <td>1.287440e+08</td>\n",
       "      <td>WestTexNewMexico</td>\n",
       "    </tr>\n",
       "    <tr>\n",
       "      <th>18244</th>\n",
       "      <td>2018-01-14</td>\n",
       "      <td>1</td>\n",
       "      <td>16205.22</td>\n",
       "      <td>10919.54</td>\n",
       "      <td>50.00</td>\n",
       "      <td>0.0</td>\n",
       "      <td>organic</td>\n",
       "      <td>2018</td>\n",
       "      <td>WestTexNewMexico</td>\n",
       "      <td>1.769535e+08</td>\n",
       "      <td>WestTexNewMexico</td>\n",
       "    </tr>\n",
       "    <tr>\n",
       "      <th>18245</th>\n",
       "      <td>2018-01-07</td>\n",
       "      <td>1</td>\n",
       "      <td>17489.58</td>\n",
       "      <td>11988.14</td>\n",
       "      <td>26.01</td>\n",
       "      <td>0.0</td>\n",
       "      <td>organic</td>\n",
       "      <td>2018</td>\n",
       "      <td>WestTexNewMexico</td>\n",
       "      <td>2.096675e+08</td>\n",
       "      <td>WestTexNewMexico</td>\n",
       "    </tr>\n",
       "  </tbody>\n",
       "</table>\n",
       "<p>18246 rows × 11 columns</p>\n",
       "</div>"
      ],
      "text/plain": [
       "            fecha  average_price  total_volume  small_bags  large_bags   \n",
       "0      2015-12-27              1      64236.62     8603.62       93.25  \\\n",
       "1      2015-12-06              1      78992.15     5677.40      133.76   \n",
       "2      2015-11-22              1      55979.78     6556.47      127.44   \n",
       "3      2015-11-15              0      83453.76     8196.81      122.05   \n",
       "4      2015-11-08              0     109428.33     6266.85      562.37   \n",
       "...           ...            ...           ...         ...         ...   \n",
       "18241  2018-02-04              1      17074.83    13066.82      431.85   \n",
       "18242  2018-01-28              1      13888.04     8940.04      324.80   \n",
       "18243  2018-01-21              1      13766.76     9351.80       42.31   \n",
       "18244  2018-01-14              1      16205.22    10919.54       50.00   \n",
       "18245  2018-01-07              1      17489.58    11988.14       26.01   \n",
       "\n",
       "       xlarge_bags          type  year            region          otra   \n",
       "0              0.0  conventional  2015            Albany  5.526675e+08  \\\n",
       "1              0.0  conventional  2015            Albany  4.484700e+08   \n",
       "2              0.0  conventional  2015            Albany  3.670297e+08   \n",
       "3              0.0  conventional  2015            Albany  6.840546e+08   \n",
       "4              0.0  conventional  2015            Albany  6.857709e+08   \n",
       "...            ...           ...   ...               ...           ...   \n",
       "18241          0.0       organic  2018  WestTexNewMexico  2.231137e+08   \n",
       "18242          0.0       organic  2018  WestTexNewMexico  1.241596e+08   \n",
       "18243          0.0       organic  2018  WestTexNewMexico  1.287440e+08   \n",
       "18244          0.0       organic  2018  WestTexNewMexico  1.769535e+08   \n",
       "18245          0.0       organic  2018  WestTexNewMexico  2.096675e+08   \n",
       "\n",
       "                ejemplo  \n",
       "0                Albany  \n",
       "1                Albany  \n",
       "2                Albany  \n",
       "3                        \n",
       "4                        \n",
       "...                 ...  \n",
       "18241  WestTexNewMexico  \n",
       "18242  WestTexNewMexico  \n",
       "18243  WestTexNewMexico  \n",
       "18244  WestTexNewMexico  \n",
       "18245  WestTexNewMexico  \n",
       "\n",
       "[18246 rows x 11 columns]"
      ]
     },
     "execution_count": 195,
     "metadata": {},
     "output_type": "execute_result"
    }
   ],
   "source": [
    "df_reset_index = df.reset_index(drop=True)\n",
    "df_reset_index"
   ]
  },
  {
   "cell_type": "markdown",
   "id": "invalid-holly",
   "metadata": {},
   "source": [
    "#### SET_INDEX"
   ]
  },
  {
   "cell_type": "code",
   "execution_count": 196,
   "id": "generic-monthly",
   "metadata": {},
   "outputs": [
    {
     "data": {
      "text/html": [
       "<div>\n",
       "<style scoped>\n",
       "    .dataframe tbody tr th:only-of-type {\n",
       "        vertical-align: middle;\n",
       "    }\n",
       "\n",
       "    .dataframe tbody tr th {\n",
       "        vertical-align: top;\n",
       "    }\n",
       "\n",
       "    .dataframe thead th {\n",
       "        text-align: right;\n",
       "    }\n",
       "</style>\n",
       "<table border=\"1\" class=\"dataframe\">\n",
       "  <thead>\n",
       "    <tr style=\"text-align: right;\">\n",
       "      <th></th>\n",
       "      <th>average_price</th>\n",
       "      <th>total_volume</th>\n",
       "      <th>small_bags</th>\n",
       "      <th>large_bags</th>\n",
       "      <th>xlarge_bags</th>\n",
       "      <th>type</th>\n",
       "      <th>year</th>\n",
       "      <th>region</th>\n",
       "      <th>otra</th>\n",
       "      <th>ejemplo</th>\n",
       "    </tr>\n",
       "    <tr>\n",
       "      <th>fecha</th>\n",
       "      <th></th>\n",
       "      <th></th>\n",
       "      <th></th>\n",
       "      <th></th>\n",
       "      <th></th>\n",
       "      <th></th>\n",
       "      <th></th>\n",
       "      <th></th>\n",
       "      <th></th>\n",
       "      <th></th>\n",
       "    </tr>\n",
       "  </thead>\n",
       "  <tbody>\n",
       "    <tr>\n",
       "      <th>2015-12-27</th>\n",
       "      <td>1</td>\n",
       "      <td>64236.62</td>\n",
       "      <td>8603.62</td>\n",
       "      <td>93.25</td>\n",
       "      <td>0.0</td>\n",
       "      <td>conventional</td>\n",
       "      <td>2015</td>\n",
       "      <td>Albany</td>\n",
       "      <td>5.526675e+08</td>\n",
       "      <td>Albany</td>\n",
       "    </tr>\n",
       "    <tr>\n",
       "      <th>2015-12-06</th>\n",
       "      <td>1</td>\n",
       "      <td>78992.15</td>\n",
       "      <td>5677.40</td>\n",
       "      <td>133.76</td>\n",
       "      <td>0.0</td>\n",
       "      <td>conventional</td>\n",
       "      <td>2015</td>\n",
       "      <td>Albany</td>\n",
       "      <td>4.484700e+08</td>\n",
       "      <td>Albany</td>\n",
       "    </tr>\n",
       "    <tr>\n",
       "      <th>2015-11-22</th>\n",
       "      <td>1</td>\n",
       "      <td>55979.78</td>\n",
       "      <td>6556.47</td>\n",
       "      <td>127.44</td>\n",
       "      <td>0.0</td>\n",
       "      <td>conventional</td>\n",
       "      <td>2015</td>\n",
       "      <td>Albany</td>\n",
       "      <td>3.670297e+08</td>\n",
       "      <td>Albany</td>\n",
       "    </tr>\n",
       "    <tr>\n",
       "      <th>2015-11-15</th>\n",
       "      <td>0</td>\n",
       "      <td>83453.76</td>\n",
       "      <td>8196.81</td>\n",
       "      <td>122.05</td>\n",
       "      <td>0.0</td>\n",
       "      <td>conventional</td>\n",
       "      <td>2015</td>\n",
       "      <td>Albany</td>\n",
       "      <td>6.840546e+08</td>\n",
       "      <td></td>\n",
       "    </tr>\n",
       "    <tr>\n",
       "      <th>2015-11-08</th>\n",
       "      <td>0</td>\n",
       "      <td>109428.33</td>\n",
       "      <td>6266.85</td>\n",
       "      <td>562.37</td>\n",
       "      <td>0.0</td>\n",
       "      <td>conventional</td>\n",
       "      <td>2015</td>\n",
       "      <td>Albany</td>\n",
       "      <td>6.857709e+08</td>\n",
       "      <td></td>\n",
       "    </tr>\n",
       "  </tbody>\n",
       "</table>\n",
       "</div>"
      ],
      "text/plain": [
       "            average_price  total_volume  small_bags  large_bags  xlarge_bags   \n",
       "fecha                                                                          \n",
       "2015-12-27              1      64236.62     8603.62       93.25          0.0  \\\n",
       "2015-12-06              1      78992.15     5677.40      133.76          0.0   \n",
       "2015-11-22              1      55979.78     6556.47      127.44          0.0   \n",
       "2015-11-15              0      83453.76     8196.81      122.05          0.0   \n",
       "2015-11-08              0     109428.33     6266.85      562.37          0.0   \n",
       "\n",
       "                    type  year  region          otra ejemplo  \n",
       "fecha                                                         \n",
       "2015-12-27  conventional  2015  Albany  5.526675e+08  Albany  \n",
       "2015-12-06  conventional  2015  Albany  4.484700e+08  Albany  \n",
       "2015-11-22  conventional  2015  Albany  3.670297e+08  Albany  \n",
       "2015-11-15  conventional  2015  Albany  6.840546e+08          \n",
       "2015-11-08  conventional  2015  Albany  6.857709e+08          "
      ]
     },
     "execution_count": 196,
     "metadata": {},
     "output_type": "execute_result"
    }
   ],
   "source": [
    "df_date = df.set_index(\"fecha\") #Le digo que colmna pasa a servir de indice en mi df\n",
    "df_date.head()"
   ]
  },
  {
   "cell_type": "markdown",
   "id": "young-intersection",
   "metadata": {},
   "source": [
    "¿Para qué nos puede servir tener la fecha como índice?    \n",
    "Lo veremos más adelante, para analizar series temporales, pero os avanzo un poco de fantasía"
   ]
  },
  {
   "cell_type": "markdown",
   "id": "6f15452c",
   "metadata": {},
   "source": [
    "![aquí nos hemos quedado](https://media.tenor.com/ZzhRs6kpGGMAAAAC/you-shall-not-pass-gandalf.gif)"
   ]
  },
  {
   "cell_type": "code",
   "execution_count": 198,
   "id": "tropical-equity",
   "metadata": {},
   "outputs": [],
   "source": [
    "#%conda install seaborn\n",
    "import seaborn as sns\n",
    "sns.set_context(\"poster\")\n",
    "sns.set(rc={'figure.figsize': (20.,6.)})\n",
    "sns.set_style('whitegrid')"
   ]
  },
  {
   "cell_type": "code",
   "execution_count": 199,
   "id": "personal-retailer",
   "metadata": {},
   "outputs": [
    {
     "data": {
      "text/html": [
       "<div>\n",
       "<style scoped>\n",
       "    .dataframe tbody tr th:only-of-type {\n",
       "        vertical-align: middle;\n",
       "    }\n",
       "\n",
       "    .dataframe tbody tr th {\n",
       "        vertical-align: top;\n",
       "    }\n",
       "\n",
       "    .dataframe thead th {\n",
       "        text-align: right;\n",
       "    }\n",
       "</style>\n",
       "<table border=\"1\" class=\"dataframe\">\n",
       "  <thead>\n",
       "    <tr style=\"text-align: right;\">\n",
       "      <th></th>\n",
       "      <th>average_price</th>\n",
       "      <th>total_volume</th>\n",
       "      <th>small_bags</th>\n",
       "      <th>large_bags</th>\n",
       "      <th>xlarge_bags</th>\n",
       "      <th>type</th>\n",
       "      <th>year</th>\n",
       "      <th>region</th>\n",
       "      <th>otra</th>\n",
       "      <th>ejemplo</th>\n",
       "    </tr>\n",
       "    <tr>\n",
       "      <th>fecha</th>\n",
       "      <th></th>\n",
       "      <th></th>\n",
       "      <th></th>\n",
       "      <th></th>\n",
       "      <th></th>\n",
       "      <th></th>\n",
       "      <th></th>\n",
       "      <th></th>\n",
       "      <th></th>\n",
       "      <th></th>\n",
       "    </tr>\n",
       "  </thead>\n",
       "  <tbody>\n",
       "    <tr>\n",
       "      <th>2015-12-27</th>\n",
       "      <td>1</td>\n",
       "      <td>64236.62</td>\n",
       "      <td>8603.62</td>\n",
       "      <td>93.25</td>\n",
       "      <td>0.0</td>\n",
       "      <td>conventional</td>\n",
       "      <td>2015</td>\n",
       "      <td>Albany</td>\n",
       "      <td>5.526675e+08</td>\n",
       "      <td>Albany</td>\n",
       "    </tr>\n",
       "    <tr>\n",
       "      <th>2015-12-06</th>\n",
       "      <td>1</td>\n",
       "      <td>78992.15</td>\n",
       "      <td>5677.40</td>\n",
       "      <td>133.76</td>\n",
       "      <td>0.0</td>\n",
       "      <td>conventional</td>\n",
       "      <td>2015</td>\n",
       "      <td>Albany</td>\n",
       "      <td>4.484700e+08</td>\n",
       "      <td>Albany</td>\n",
       "    </tr>\n",
       "  </tbody>\n",
       "</table>\n",
       "</div>"
      ],
      "text/plain": [
       "            average_price  total_volume  small_bags  large_bags  xlarge_bags   \n",
       "fecha                                                                          \n",
       "2015-12-27              1      64236.62     8603.62       93.25          0.0  \\\n",
       "2015-12-06              1      78992.15     5677.40      133.76          0.0   \n",
       "\n",
       "                    type  year  region          otra ejemplo  \n",
       "fecha                                                         \n",
       "2015-12-27  conventional  2015  Albany  5.526675e+08  Albany  \n",
       "2015-12-06  conventional  2015  Albany  4.484700e+08  Albany  "
      ]
     },
     "execution_count": 199,
     "metadata": {},
     "output_type": "execute_result"
    }
   ],
   "source": [
    "df_filtro = df_date[df_date.region == \"Albany\"]\n",
    "df_filtro.head(2)"
   ]
  },
  {
   "cell_type": "code",
   "execution_count": 200,
   "id": "a6ace57e",
   "metadata": {},
   "outputs": [
    {
     "data": {
      "text/plain": [
       "335"
      ]
     },
     "execution_count": 200,
     "metadata": {},
     "output_type": "execute_result"
    }
   ],
   "source": [
    "len(list(df_filtro.index))"
   ]
  },
  {
   "cell_type": "code",
   "execution_count": 201,
   "id": "0f8f21c6",
   "metadata": {},
   "outputs": [
    {
     "data": {
      "text/plain": [
       "169"
      ]
     },
     "execution_count": 201,
     "metadata": {},
     "output_type": "execute_result"
    }
   ],
   "source": [
    "len(set(list(df_filtro.index)))"
   ]
  },
  {
   "cell_type": "code",
   "execution_count": 225,
   "id": "dcdcec3a",
   "metadata": {},
   "outputs": [],
   "source": [
    "prueba = df_filtro.loc[~df_filtro.index.duplicated(), :]"
   ]
  },
  {
   "cell_type": "code",
   "execution_count": 228,
   "id": "9104d6b6",
   "metadata": {},
   "outputs": [
    {
     "data": {
      "text/plain": [
       "False"
      ]
     },
     "execution_count": 228,
     "metadata": {},
     "output_type": "execute_result"
    }
   ],
   "source": [
    "prueba.index.has_duplicates"
   ]
  },
  {
   "cell_type": "code",
   "execution_count": 223,
   "id": "da15d279",
   "metadata": {},
   "outputs": [
    {
     "data": {
      "text/plain": [
       "0        False\n",
       "3        False\n",
       "5        False\n",
       "6        False\n",
       "7        False\n",
       "         ...  \n",
       "18244     True\n",
       "18245     True\n",
       "18246     True\n",
       "18247     True\n",
       "18248     True\n",
       "Name: fecha, Length: 18246, dtype: bool"
      ]
     },
     "execution_count": 223,
     "metadata": {},
     "output_type": "execute_result"
    }
   ],
   "source": [
    "df.fecha.duplicated() #.sum()"
   ]
  },
  {
   "cell_type": "code",
   "execution_count": 216,
   "id": "0f26aeb9",
   "metadata": {},
   "outputs": [
    {
     "data": {
      "text/html": [
       "<div>\n",
       "<style scoped>\n",
       "    .dataframe tbody tr th:only-of-type {\n",
       "        vertical-align: middle;\n",
       "    }\n",
       "\n",
       "    .dataframe tbody tr th {\n",
       "        vertical-align: top;\n",
       "    }\n",
       "\n",
       "    .dataframe thead th {\n",
       "        text-align: right;\n",
       "    }\n",
       "</style>\n",
       "<table border=\"1\" class=\"dataframe\">\n",
       "  <thead>\n",
       "    <tr style=\"text-align: right;\">\n",
       "      <th></th>\n",
       "      <th>index</th>\n",
       "      <th>fecha</th>\n",
       "      <th>average_price</th>\n",
       "      <th>total_volume</th>\n",
       "      <th>small_bags</th>\n",
       "      <th>large_bags</th>\n",
       "      <th>xlarge_bags</th>\n",
       "      <th>type</th>\n",
       "      <th>year</th>\n",
       "      <th>region</th>\n",
       "      <th>otra</th>\n",
       "      <th>ejemplo</th>\n",
       "    </tr>\n",
       "  </thead>\n",
       "  <tbody>\n",
       "    <tr>\n",
       "      <th>0</th>\n",
       "      <td>0</td>\n",
       "      <td>2015-12-27</td>\n",
       "      <td>1</td>\n",
       "      <td>64236.62</td>\n",
       "      <td>8603.62</td>\n",
       "      <td>93.25</td>\n",
       "      <td>0.0</td>\n",
       "      <td>conventional</td>\n",
       "      <td>2015</td>\n",
       "      <td>Albany</td>\n",
       "      <td>5.526675e+08</td>\n",
       "      <td>Albany</td>\n",
       "    </tr>\n",
       "    <tr>\n",
       "      <th>1</th>\n",
       "      <td>1</td>\n",
       "      <td>2015-12-06</td>\n",
       "      <td>1</td>\n",
       "      <td>78992.15</td>\n",
       "      <td>5677.40</td>\n",
       "      <td>133.76</td>\n",
       "      <td>0.0</td>\n",
       "      <td>conventional</td>\n",
       "      <td>2015</td>\n",
       "      <td>Albany</td>\n",
       "      <td>4.484700e+08</td>\n",
       "      <td>Albany</td>\n",
       "    </tr>\n",
       "    <tr>\n",
       "      <th>2</th>\n",
       "      <td>2</td>\n",
       "      <td>2015-11-22</td>\n",
       "      <td>1</td>\n",
       "      <td>55979.78</td>\n",
       "      <td>6556.47</td>\n",
       "      <td>127.44</td>\n",
       "      <td>0.0</td>\n",
       "      <td>conventional</td>\n",
       "      <td>2015</td>\n",
       "      <td>Albany</td>\n",
       "      <td>3.670297e+08</td>\n",
       "      <td>Albany</td>\n",
       "    </tr>\n",
       "    <tr>\n",
       "      <th>3</th>\n",
       "      <td>3</td>\n",
       "      <td>2015-11-15</td>\n",
       "      <td>0</td>\n",
       "      <td>83453.76</td>\n",
       "      <td>8196.81</td>\n",
       "      <td>122.05</td>\n",
       "      <td>0.0</td>\n",
       "      <td>conventional</td>\n",
       "      <td>2015</td>\n",
       "      <td>Albany</td>\n",
       "      <td>6.840546e+08</td>\n",
       "      <td></td>\n",
       "    </tr>\n",
       "    <tr>\n",
       "      <th>4</th>\n",
       "      <td>4</td>\n",
       "      <td>2015-11-08</td>\n",
       "      <td>0</td>\n",
       "      <td>109428.33</td>\n",
       "      <td>6266.85</td>\n",
       "      <td>562.37</td>\n",
       "      <td>0.0</td>\n",
       "      <td>conventional</td>\n",
       "      <td>2015</td>\n",
       "      <td>Albany</td>\n",
       "      <td>6.857709e+08</td>\n",
       "      <td></td>\n",
       "    </tr>\n",
       "  </tbody>\n",
       "</table>\n",
       "</div>"
      ],
      "text/plain": [
       "   index       fecha  average_price  total_volume  small_bags  large_bags   \n",
       "0      0  2015-12-27              1      64236.62     8603.62       93.25  \\\n",
       "1      1  2015-12-06              1      78992.15     5677.40      133.76   \n",
       "2      2  2015-11-22              1      55979.78     6556.47      127.44   \n",
       "3      3  2015-11-15              0      83453.76     8196.81      122.05   \n",
       "4      4  2015-11-08              0     109428.33     6266.85      562.37   \n",
       "\n",
       "   xlarge_bags          type  year  region          otra ejemplo  \n",
       "0          0.0  conventional  2015  Albany  5.526675e+08  Albany  \n",
       "1          0.0  conventional  2015  Albany  4.484700e+08  Albany  \n",
       "2          0.0  conventional  2015  Albany  3.670297e+08  Albany  \n",
       "3          0.0  conventional  2015  Albany  6.840546e+08          \n",
       "4          0.0  conventional  2015  Albany  6.857709e+08          "
      ]
     },
     "execution_count": 216,
     "metadata": {},
     "output_type": "execute_result"
    }
   ],
   "source": []
  },
  {
   "cell_type": "code",
   "execution_count": 240,
   "id": "cheap-indianapolis",
   "metadata": {},
   "outputs": [
    {
     "data": {
      "text/plain": [
       "<AxesSubplot:ylabel='small_bags'>"
      ]
     },
     "execution_count": 240,
     "metadata": {},
     "output_type": "execute_result"
    },
    {
     "data": {
      "image/png": "[encoded data removed]",
      "text/plain": [
       "<Figure size 2000x600 with 1 Axes>"
      ]
     },
     "metadata": {},
     "output_type": "display_data"
    }
   ],
   "source": [
    "sns.barplot(data=prueba, x=prueba.index, y=prueba.small_bags, color=\"red\", label=\"small_bags\")"
   ]
  },
  {
   "cell_type": "code",
   "execution_count": 230,
   "id": "7e0d307f",
   "metadata": {},
   "outputs": [
    {
     "data": {
      "text/plain": [
       "True"
      ]
     },
     "execution_count": 230,
     "metadata": {},
     "output_type": "execute_result"
    }
   ],
   "source": [
    "df.index.is_unique"
   ]
  },
  {
   "cell_type": "markdown",
   "id": "neutral-founder",
   "metadata": {},
   "source": [
    "### Operaciones entre columnas"
   ]
  },
  {
   "cell_type": "code",
   "execution_count": 241,
   "id": "improved-philosophy",
   "metadata": {},
   "outputs": [
    {
     "data": {
      "text/html": [
       "<div>\n",
       "<style scoped>\n",
       "    .dataframe tbody tr th:only-of-type {\n",
       "        vertical-align: middle;\n",
       "    }\n",
       "\n",
       "    .dataframe tbody tr th {\n",
       "        vertical-align: top;\n",
       "    }\n",
       "\n",
       "    .dataframe thead th {\n",
       "        text-align: right;\n",
       "    }\n",
       "</style>\n",
       "<table border=\"1\" class=\"dataframe\">\n",
       "  <thead>\n",
       "    <tr style=\"text-align: right;\">\n",
       "      <th></th>\n",
       "      <th>fecha</th>\n",
       "      <th>average_price</th>\n",
       "      <th>total_volume</th>\n",
       "      <th>small_bags</th>\n",
       "      <th>large_bags</th>\n",
       "      <th>xlarge_bags</th>\n",
       "      <th>type</th>\n",
       "      <th>year</th>\n",
       "      <th>region</th>\n",
       "      <th>otra</th>\n",
       "      <th>ejemplo</th>\n",
       "      <th>nueva</th>\n",
       "    </tr>\n",
       "  </thead>\n",
       "  <tbody>\n",
       "    <tr>\n",
       "      <th>0</th>\n",
       "      <td>2015-12-27</td>\n",
       "      <td>1</td>\n",
       "      <td>64236.62</td>\n",
       "      <td>8603.62</td>\n",
       "      <td>93.25</td>\n",
       "      <td>0.0</td>\n",
       "      <td>conventional</td>\n",
       "      <td>2015</td>\n",
       "      <td>Albany</td>\n",
       "      <td>5.526675e+08</td>\n",
       "      <td>Albany</td>\n",
       "      <td>802287.5650</td>\n",
       "    </tr>\n",
       "    <tr>\n",
       "      <th>3</th>\n",
       "      <td>2015-12-06</td>\n",
       "      <td>1</td>\n",
       "      <td>78992.15</td>\n",
       "      <td>5677.40</td>\n",
       "      <td>133.76</td>\n",
       "      <td>0.0</td>\n",
       "      <td>conventional</td>\n",
       "      <td>2015</td>\n",
       "      <td>Albany</td>\n",
       "      <td>4.484700e+08</td>\n",
       "      <td>Albany</td>\n",
       "      <td>759409.0240</td>\n",
       "    </tr>\n",
       "    <tr>\n",
       "      <th>5</th>\n",
       "      <td>2015-11-22</td>\n",
       "      <td>1</td>\n",
       "      <td>55979.78</td>\n",
       "      <td>6556.47</td>\n",
       "      <td>127.44</td>\n",
       "      <td>0.0</td>\n",
       "      <td>conventional</td>\n",
       "      <td>2015</td>\n",
       "      <td>Albany</td>\n",
       "      <td>3.670297e+08</td>\n",
       "      <td>Albany</td>\n",
       "      <td>835556.5368</td>\n",
       "    </tr>\n",
       "  </tbody>\n",
       "</table>\n",
       "</div>"
      ],
      "text/plain": [
       "        fecha  average_price  total_volume  small_bags  large_bags   \n",
       "0  2015-12-27              1      64236.62     8603.62       93.25  \\\n",
       "3  2015-12-06              1      78992.15     5677.40      133.76   \n",
       "5  2015-11-22              1      55979.78     6556.47      127.44   \n",
       "\n",
       "   xlarge_bags          type  year  region          otra ejemplo        nueva  \n",
       "0          0.0  conventional  2015  Albany  5.526675e+08  Albany  802287.5650  \n",
       "3          0.0  conventional  2015  Albany  4.484700e+08  Albany  759409.0240  \n",
       "5          0.0  conventional  2015  Albany  3.670297e+08  Albany  835556.5368  "
      ]
     },
     "execution_count": 241,
     "metadata": {},
     "output_type": "execute_result"
    }
   ],
   "source": [
    "# Para generar una columna nueva solo tengo que ponerle un nombre\n",
    "df[\"nueva\"] = df.large_bags * df.small_bags\n",
    "df.head(3)"
   ]
  },
  {
   "cell_type": "markdown",
   "id": "collective-serve",
   "metadata": {},
   "source": [
    "### Apply"
   ]
  },
  {
   "cell_type": "markdown",
   "id": "international-james",
   "metadata": {},
   "source": [
    "Aplica una función a lo largo de un eje del DataFrame -->[DOCU](https://pandas.pydata.org/docs/reference/api/pandas.DataFrame.apply.html)"
   ]
  },
  {
   "cell_type": "code",
   "execution_count": null,
   "id": "magnetic-technology",
   "metadata": {},
   "outputs": [],
   "source": [
    "#Creamos una función sencilla que vamos a aplicar"
   ]
  },
  {
   "cell_type": "code",
   "execution_count": null,
   "id": "acknowledged-output",
   "metadata": {},
   "outputs": [],
   "source": [
    "def euros(x):\n",
    "    return f\"{x}\""
   ]
  },
  {
   "cell_type": "code",
   "execution_count": null,
   "id": "exclusive-metadata",
   "metadata": {},
   "outputs": [],
   "source": [
    "euros(5)"
   ]
  },
  {
   "cell_type": "code",
   "execution_count": null,
   "id": "prospective-blink",
   "metadata": {},
   "outputs": [],
   "source": [
    "lista = [135,14.16,164.62,23.15,26.15]"
   ]
  },
  {
   "cell_type": "code",
   "execution_count": null,
   "id": "falling-damage",
   "metadata": {},
   "outputs": [],
   "source": [
    "nuevalista = list(map(euros,lista))\n",
    "nuevalista"
   ]
  },
  {
   "cell_type": "code",
   "execution_count": null,
   "id": "799f1fb2",
   "metadata": {},
   "outputs": [],
   "source": [
    "df.head()"
   ]
  },
  {
   "cell_type": "code",
   "execution_count": null,
   "id": "domestic-richardson",
   "metadata": {},
   "outputs": [],
   "source": [
    "# Aplicamos la función a una columna y vemos el resultado en la salida"
   ]
  },
  {
   "cell_type": "code",
   "execution_count": null,
   "id": "essential-connecticut",
   "metadata": {},
   "outputs": [],
   "source": [
    "# Si quiero machacar la columna"
   ]
  },
  {
   "cell_type": "code",
   "execution_count": null,
   "id": "gorgeous-memory",
   "metadata": {},
   "outputs": [],
   "source": [
    "df.averageprice = df.averageprice.apply(euros)"
   ]
  },
  {
   "cell_type": "code",
   "execution_count": null,
   "id": "0ed534a4",
   "metadata": {},
   "outputs": [],
   "source": [
    "df.head()"
   ]
  },
  {
   "cell_type": "code",
   "execution_count": null,
   "id": "political-dining",
   "metadata": {},
   "outputs": [],
   "source": [
    "# Vamos a crear una columna nueva haciendo un apply a otra columna"
   ]
  },
  {
   "cell_type": "code",
   "execution_count": null,
   "id": "unlimited-opinion",
   "metadata": {},
   "outputs": [],
   "source": [
    "df[\"euros\"] = df.total_volume.apply(euros)"
   ]
  },
  {
   "cell_type": "code",
   "execution_count": null,
   "id": "polar-robert",
   "metadata": {},
   "outputs": [],
   "source": [
    "df.head()"
   ]
  },
  {
   "cell_type": "code",
   "execution_count": null,
   "id": "comprehensive-pepper",
   "metadata": {},
   "outputs": [],
   "source": [
    "#Hazlo con lambda!!\n",
    "# Vamos a hacer una columna nueva que junte región y año solamente si en type pone convencional y si no otra cosa"
   ]
  },
  {
   "cell_type": "code",
   "execution_count": null,
   "id": "patent-coordination",
   "metadata": {},
   "outputs": [],
   "source": [
    "df[\"fantasya\"] = df.apply(lambda fila: f\"{fila['year']}, {fila['region']}\" if fila[\"type\"] == \"conventional\" else \"OTRACOSA\", axis=1)"
   ]
  },
  {
   "cell_type": "code",
   "execution_count": null,
   "id": "virgin-client",
   "metadata": {},
   "outputs": [],
   "source": [
    "df.sample(1)"
   ]
  },
  {
   "cell_type": "code",
   "execution_count": null,
   "id": "public-israeli",
   "metadata": {},
   "outputs": [],
   "source": [
    "df[\"prueba\"] = df.apply(lambda palabra: \"loquesea\" if palabra[\"region\"] == \"Albany\" else palabra[\"euros\"], axis=1)"
   ]
  },
  {
   "cell_type": "code",
   "execution_count": null,
   "id": "78696fe9",
   "metadata": {},
   "outputs": [],
   "source": [
    "df.drop(columns=[\"lakdhfgklajh\",\"ejemplo\", \"prueba\"], inplace=True)"
   ]
  },
  {
   "cell_type": "code",
   "execution_count": null,
   "id": "43e4b4b3",
   "metadata": {},
   "outputs": [],
   "source": [
    "df.head()"
   ]
  },
  {
   "cell_type": "code",
   "execution_count": null,
   "id": "clinical-injury",
   "metadata": {},
   "outputs": [],
   "source": [
    "# Aplicamos una función que además de x tiene otro argumento."
   ]
  },
  {
   "cell_type": "code",
   "execution_count": null,
   "id": "annoying-viking",
   "metadata": {},
   "outputs": [],
   "source": [
    "def empiezapora(palabra,x):\n",
    "    if x.lower().startswith(\"a\"):\n",
    "        return x\n",
    "    else:\n",
    "        return palabra"
   ]
  },
  {
   "cell_type": "code",
   "execution_count": null,
   "id": "temporal-grounds",
   "metadata": {},
   "outputs": [],
   "source": [
    "empiezapora(\"hola\", \"gente\")"
   ]
  },
  {
   "cell_type": "code",
   "execution_count": null,
   "id": "dress-window",
   "metadata": {},
   "outputs": [],
   "source": [
    "empiezapora(\"hola\", \"jjajajaja\")"
   ]
  },
  {
   "cell_type": "code",
   "execution_count": null,
   "id": "pleased-overview",
   "metadata": {},
   "outputs": [],
   "source": [
    "df[\"nosemeocurre\"] = df.region.apply(empiezapora(\"NOEMPIEZAPORA\", ¿CÓMO C*** LE DIGO A PANDAS QUE AQUÍ VA CADA REGISTRO)"
   ]
  },
  {
   "cell_type": "code",
   "execution_count": null,
   "id": "associate-hunger",
   "metadata": {},
   "outputs": [],
   "source": [
    "# no puedo, tengo que hacerlo con lambda como hemos hecho arriba"
   ]
  },
  {
   "cell_type": "markdown",
   "id": "organized-central",
   "metadata": {},
   "source": [
    "Cuando hago un apply sobre una columna, aunque use un lambda, no pongo axis porque en el caso de abajo, lo que estoy haciendo es modificar una columna, utilizo lambda para decirle al apply que el primer argumento es un string que viene de fuera y el segundo argumento es el propio registro del dataframe. "
   ]
  },
  {
   "cell_type": "code",
   "execution_count": null,
   "id": "strange-fraction",
   "metadata": {},
   "outputs": [],
   "source": [
    "df[\"columna_a\"] = df.region.apply(lambda registro: (empiezapora(\"OTRACOSA\", registro)))"
   ]
  },
  {
   "cell_type": "code",
   "execution_count": null,
   "id": "assured-medication",
   "metadata": {},
   "outputs": [],
   "source": [
    "df.sample(5)"
   ]
  },
  {
   "cell_type": "markdown",
   "id": "62ff68d7",
   "metadata": {},
   "source": [
    "[Artículo Medium](https://towardsdatascience.com/apply-and-lambda-usage-in-pandas-b13a1ea037f7)     \n",
    "[Otro Artículo](https://www.geeksforgeeks.org/applying-lambda-functions-to-pandas-dataframe/)      \n",
    "[La DOCU es tu amiga](https://pandas.pydata.org/docs/reference/api/pandas.DataFrame.apply.html)"
   ]
  },
  {
   "cell_type": "markdown",
   "id": "occupational-intro",
   "metadata": {},
   "source": [
    "# Df **.loc** e **.iloc**\n",
    "---"
   ]
  },
  {
   "cell_type": "markdown",
   "id": "confused-tower",
   "metadata": {},
   "source": [
    "### Seleccionar filas y columnas en Pandas mediante posición con iloc"
   ]
  },
  {
   "cell_type": "markdown",
   "id": "affecting-hartford",
   "metadata": {},
   "source": [
    "El método iloc se utiliza en los DataFrames para seleccionar los elementos en base a su ubicación. Su sintaxis es **data.iloc[`filas`, `columnas`]**, donde `filas` y `columnas` son la posición de las filas y columnas que se desean seleccionar en el orden que aparecen en el objeto.\n",
    "En un DataFrame cada una de las filas tiene un número que va desde 0 hasta el total de filas menos uno. Siendo iloc el método que permite seleccionar los datos en base a estos números. Lo mismo que aplica a las columnas.\n",
    "\n",
    "En iloc hay dos argumentos filas y columnas. En caso de que se omita el segundo, se seleccionarán todas las columnas de la fila. Así para seleccionar diferentes filas se puede utilizar."
   ]
  },
  {
   "cell_type": "code",
   "execution_count": 58,
   "id": "welcome-doctor",
   "metadata": {},
   "outputs": [
    {
     "data": {
      "text/plain": [
       "Unnamed: 0                 0\n",
       "Date              2015-12-27\n",
       "AveragePrice            1.33\n",
       "Total Volume        64236.62\n",
       "4046                 1036.74\n",
       "4225                54454.85\n",
       "4770                   48.16\n",
       "Total Bags           8696.87\n",
       "Small Bags           8603.62\n",
       "Large Bags             93.25\n",
       "XLarge Bags              0.0\n",
       "type            conventional\n",
       "year                    2015\n",
       "region                Albany\n",
       "Name: 0, dtype: object"
      ]
     },
     "execution_count": 58,
     "metadata": {},
     "output_type": "execute_result"
    }
   ],
   "source": [
    "#seleccionamos un registro completo\n",
    "df.iloc[0]"
   ]
  },
  {
   "cell_type": "code",
   "execution_count": 59,
   "id": "sitting-morrison",
   "metadata": {},
   "outputs": [
    {
     "data": {
      "text/html": [
       "<div>\n",
       "<style scoped>\n",
       "    .dataframe tbody tr th:only-of-type {\n",
       "        vertical-align: middle;\n",
       "    }\n",
       "\n",
       "    .dataframe tbody tr th {\n",
       "        vertical-align: top;\n",
       "    }\n",
       "\n",
       "    .dataframe thead th {\n",
       "        text-align: right;\n",
       "    }\n",
       "</style>\n",
       "<table border=\"1\" class=\"dataframe\">\n",
       "  <thead>\n",
       "    <tr style=\"text-align: right;\">\n",
       "      <th></th>\n",
       "      <th>Unnamed: 0</th>\n",
       "      <th>Date</th>\n",
       "      <th>AveragePrice</th>\n",
       "      <th>Total Volume</th>\n",
       "      <th>4046</th>\n",
       "      <th>4225</th>\n",
       "      <th>4770</th>\n",
       "      <th>Total Bags</th>\n",
       "      <th>Small Bags</th>\n",
       "      <th>Large Bags</th>\n",
       "      <th>XLarge Bags</th>\n",
       "      <th>type</th>\n",
       "      <th>year</th>\n",
       "      <th>region</th>\n",
       "    </tr>\n",
       "  </thead>\n",
       "  <tbody>\n",
       "    <tr>\n",
       "      <th>0</th>\n",
       "      <td>0</td>\n",
       "      <td>2015-12-27</td>\n",
       "      <td>1.33</td>\n",
       "      <td>64236.62</td>\n",
       "      <td>1036.74</td>\n",
       "      <td>54454.85</td>\n",
       "      <td>48.16</td>\n",
       "      <td>8696.87</td>\n",
       "      <td>8603.62</td>\n",
       "      <td>93.25</td>\n",
       "      <td>0.0</td>\n",
       "      <td>conventional</td>\n",
       "      <td>2015</td>\n",
       "      <td>Albany</td>\n",
       "    </tr>\n",
       "    <tr>\n",
       "      <th>1</th>\n",
       "      <td>1</td>\n",
       "      <td>2015-12-20</td>\n",
       "      <td>1.35</td>\n",
       "      <td>54876.98</td>\n",
       "      <td>674.28</td>\n",
       "      <td>44638.81</td>\n",
       "      <td>58.33</td>\n",
       "      <td>9505.56</td>\n",
       "      <td>9408.07</td>\n",
       "      <td>97.49</td>\n",
       "      <td>0.0</td>\n",
       "      <td>conventional</td>\n",
       "      <td>2015</td>\n",
       "      <td>Albany</td>\n",
       "    </tr>\n",
       "    <tr>\n",
       "      <th>2</th>\n",
       "      <td>2</td>\n",
       "      <td>2015-12-13</td>\n",
       "      <td>0.93</td>\n",
       "      <td>118220.22</td>\n",
       "      <td>794.70</td>\n",
       "      <td>109149.67</td>\n",
       "      <td>130.50</td>\n",
       "      <td>8145.35</td>\n",
       "      <td>8042.21</td>\n",
       "      <td>103.14</td>\n",
       "      <td>0.0</td>\n",
       "      <td>conventional</td>\n",
       "      <td>2015</td>\n",
       "      <td>Albany</td>\n",
       "    </tr>\n",
       "    <tr>\n",
       "      <th>3</th>\n",
       "      <td>3</td>\n",
       "      <td>2015-12-06</td>\n",
       "      <td>1.08</td>\n",
       "      <td>78992.15</td>\n",
       "      <td>1132.00</td>\n",
       "      <td>71976.41</td>\n",
       "      <td>72.58</td>\n",
       "      <td>5811.16</td>\n",
       "      <td>5677.40</td>\n",
       "      <td>133.76</td>\n",
       "      <td>0.0</td>\n",
       "      <td>conventional</td>\n",
       "      <td>2015</td>\n",
       "      <td>Albany</td>\n",
       "    </tr>\n",
       "    <tr>\n",
       "      <th>4</th>\n",
       "      <td>4</td>\n",
       "      <td>2015-11-29</td>\n",
       "      <td>1.28</td>\n",
       "      <td>51039.60</td>\n",
       "      <td>941.48</td>\n",
       "      <td>43838.39</td>\n",
       "      <td>75.78</td>\n",
       "      <td>6183.95</td>\n",
       "      <td>5986.26</td>\n",
       "      <td>197.69</td>\n",
       "      <td>0.0</td>\n",
       "      <td>conventional</td>\n",
       "      <td>2015</td>\n",
       "      <td>Albany</td>\n",
       "    </tr>\n",
       "  </tbody>\n",
       "</table>\n",
       "</div>"
      ],
      "text/plain": [
       "   Unnamed: 0        Date  AveragePrice  Total Volume     4046       4225   \n",
       "0           0  2015-12-27          1.33      64236.62  1036.74   54454.85  \\\n",
       "1           1  2015-12-20          1.35      54876.98   674.28   44638.81   \n",
       "2           2  2015-12-13          0.93     118220.22   794.70  109149.67   \n",
       "3           3  2015-12-06          1.08      78992.15  1132.00   71976.41   \n",
       "4           4  2015-11-29          1.28      51039.60   941.48   43838.39   \n",
       "\n",
       "     4770  Total Bags  Small Bags  Large Bags  XLarge Bags          type   \n",
       "0   48.16     8696.87     8603.62       93.25          0.0  conventional  \\\n",
       "1   58.33     9505.56     9408.07       97.49          0.0  conventional   \n",
       "2  130.50     8145.35     8042.21      103.14          0.0  conventional   \n",
       "3   72.58     5811.16     5677.40      133.76          0.0  conventional   \n",
       "4   75.78     6183.95     5986.26      197.69          0.0  conventional   \n",
       "\n",
       "   year  region  \n",
       "0  2015  Albany  \n",
       "1  2015  Albany  \n",
       "2  2015  Albany  \n",
       "3  2015  Albany  \n",
       "4  2015  Albany  "
      ]
     },
     "execution_count": 59,
     "metadata": {},
     "output_type": "execute_result"
    }
   ],
   "source": [
    "#un rango de registros con slicing como en las cadenas\n",
    "df.iloc[0:5]"
   ]
  },
  {
   "cell_type": "code",
   "execution_count": 63,
   "id": "unnecessary-lewis",
   "metadata": {},
   "outputs": [
    {
     "data": {
      "text/html": [
       "<div>\n",
       "<style scoped>\n",
       "    .dataframe tbody tr th:only-of-type {\n",
       "        vertical-align: middle;\n",
       "    }\n",
       "\n",
       "    .dataframe tbody tr th {\n",
       "        vertical-align: top;\n",
       "    }\n",
       "\n",
       "    .dataframe thead th {\n",
       "        text-align: right;\n",
       "    }\n",
       "</style>\n",
       "<table border=\"1\" class=\"dataframe\">\n",
       "  <thead>\n",
       "    <tr style=\"text-align: right;\">\n",
       "      <th></th>\n",
       "      <th>Date</th>\n",
       "    </tr>\n",
       "  </thead>\n",
       "  <tbody>\n",
       "    <tr>\n",
       "      <th>0</th>\n",
       "      <td>2015-12-27</td>\n",
       "    </tr>\n",
       "    <tr>\n",
       "      <th>2</th>\n",
       "      <td>2015-12-13</td>\n",
       "    </tr>\n",
       "    <tr>\n",
       "      <th>4</th>\n",
       "      <td>2015-11-29</td>\n",
       "    </tr>\n",
       "    <tr>\n",
       "      <th>6</th>\n",
       "      <td>2015-11-15</td>\n",
       "    </tr>\n",
       "    <tr>\n",
       "      <th>8</th>\n",
       "      <td>2015-11-01</td>\n",
       "    </tr>\n",
       "    <tr>\n",
       "      <th>...</th>\n",
       "      <td>...</td>\n",
       "    </tr>\n",
       "    <tr>\n",
       "      <th>18240</th>\n",
       "      <td>2018-03-04</td>\n",
       "    </tr>\n",
       "    <tr>\n",
       "      <th>18242</th>\n",
       "      <td>2018-02-18</td>\n",
       "    </tr>\n",
       "    <tr>\n",
       "      <th>18244</th>\n",
       "      <td>2018-02-04</td>\n",
       "    </tr>\n",
       "    <tr>\n",
       "      <th>18246</th>\n",
       "      <td>2018-01-21</td>\n",
       "    </tr>\n",
       "    <tr>\n",
       "      <th>18248</th>\n",
       "      <td>2018-01-07</td>\n",
       "    </tr>\n",
       "  </tbody>\n",
       "</table>\n",
       "<p>9125 rows × 1 columns</p>\n",
       "</div>"
      ],
      "text/plain": [
       "             Date\n",
       "0      2015-12-27\n",
       "2      2015-12-13\n",
       "4      2015-11-29\n",
       "6      2015-11-15\n",
       "8      2015-11-01\n",
       "...           ...\n",
       "18240  2018-03-04\n",
       "18242  2018-02-18\n",
       "18244  2018-02-04\n",
       "18246  2018-01-21\n",
       "18248  2018-01-07\n",
       "\n",
       "[9125 rows x 1 columns]"
      ]
     },
     "execution_count": 63,
     "metadata": {},
     "output_type": "execute_result"
    }
   ],
   "source": [
    "# Registros de la primera columna\n",
    "df.iloc[0::2, [1]] #que registro nos hemos traido?"
   ]
  },
  {
   "cell_type": "code",
   "execution_count": 64,
   "id": "d4a01a34",
   "metadata": {},
   "outputs": [
    {
     "data": {
      "text/html": [
       "<div>\n",
       "<style scoped>\n",
       "    .dataframe tbody tr th:only-of-type {\n",
       "        vertical-align: middle;\n",
       "    }\n",
       "\n",
       "    .dataframe tbody tr th {\n",
       "        vertical-align: top;\n",
       "    }\n",
       "\n",
       "    .dataframe thead th {\n",
       "        text-align: right;\n",
       "    }\n",
       "</style>\n",
       "<table border=\"1\" class=\"dataframe\">\n",
       "  <thead>\n",
       "    <tr style=\"text-align: right;\">\n",
       "      <th></th>\n",
       "      <th>Date</th>\n",
       "    </tr>\n",
       "  </thead>\n",
       "  <tbody>\n",
       "    <tr>\n",
       "      <th>0</th>\n",
       "      <td>2015-12-27</td>\n",
       "    </tr>\n",
       "    <tr>\n",
       "      <th>1</th>\n",
       "      <td>2015-12-20</td>\n",
       "    </tr>\n",
       "    <tr>\n",
       "      <th>2</th>\n",
       "      <td>2015-12-13</td>\n",
       "    </tr>\n",
       "    <tr>\n",
       "      <th>3</th>\n",
       "      <td>2015-12-06</td>\n",
       "    </tr>\n",
       "    <tr>\n",
       "      <th>4</th>\n",
       "      <td>2015-11-29</td>\n",
       "    </tr>\n",
       "  </tbody>\n",
       "</table>\n",
       "</div>"
      ],
      "text/plain": [
       "         Date\n",
       "0  2015-12-27\n",
       "1  2015-12-20\n",
       "2  2015-12-13\n",
       "3  2015-12-06\n",
       "4  2015-11-29"
      ]
     },
     "execution_count": 64,
     "metadata": {},
     "output_type": "execute_result"
    }
   ],
   "source": [
    "df.iloc[0:5, [1]] # El segundo argumento, en este caso el número 1, es la columna, aquí no pasamos string si no posición."
   ]
  },
  {
   "cell_type": "code",
   "execution_count": 66,
   "id": "scenic-raising",
   "metadata": {},
   "outputs": [
    {
     "data": {
      "text/html": [
       "<div>\n",
       "<style scoped>\n",
       "    .dataframe tbody tr th:only-of-type {\n",
       "        vertical-align: middle;\n",
       "    }\n",
       "\n",
       "    .dataframe tbody tr th {\n",
       "        vertical-align: top;\n",
       "    }\n",
       "\n",
       "    .dataframe thead th {\n",
       "        text-align: right;\n",
       "    }\n",
       "</style>\n",
       "<table border=\"1\" class=\"dataframe\">\n",
       "  <thead>\n",
       "    <tr style=\"text-align: right;\">\n",
       "      <th></th>\n",
       "      <th>Date</th>\n",
       "      <th>Total Volume</th>\n",
       "    </tr>\n",
       "  </thead>\n",
       "  <tbody>\n",
       "    <tr>\n",
       "      <th>0</th>\n",
       "      <td>2015-12-27</td>\n",
       "      <td>64236.62</td>\n",
       "    </tr>\n",
       "    <tr>\n",
       "      <th>1</th>\n",
       "      <td>2015-12-20</td>\n",
       "      <td>54876.98</td>\n",
       "    </tr>\n",
       "    <tr>\n",
       "      <th>2</th>\n",
       "      <td>2015-12-13</td>\n",
       "      <td>118220.22</td>\n",
       "    </tr>\n",
       "    <tr>\n",
       "      <th>3</th>\n",
       "      <td>2015-12-06</td>\n",
       "      <td>78992.15</td>\n",
       "    </tr>\n",
       "    <tr>\n",
       "      <th>4</th>\n",
       "      <td>2015-11-29</td>\n",
       "      <td>51039.60</td>\n",
       "    </tr>\n",
       "  </tbody>\n",
       "</table>\n",
       "</div>"
      ],
      "text/plain": [
       "         Date  Total Volume\n",
       "0  2015-12-27      64236.62\n",
       "1  2015-12-20      54876.98\n",
       "2  2015-12-13     118220.22\n",
       "3  2015-12-06      78992.15\n",
       "4  2015-11-29      51039.60"
      ]
     },
     "execution_count": 66,
     "metadata": {},
     "output_type": "execute_result"
    }
   ],
   "source": [
    "df.iloc[0:5, [1,3]] #Traigo la columna indice 0 y la 3"
   ]
  },
  {
   "cell_type": "markdown",
   "id": "informational-logic",
   "metadata": {},
   "source": [
    "### COLUMNAS POR RANGO"
   ]
  },
  {
   "cell_type": "code",
   "execution_count": 69,
   "id": "541a8a5d",
   "metadata": {},
   "outputs": [
    {
     "data": {
      "text/html": [
       "<div>\n",
       "<style scoped>\n",
       "    .dataframe tbody tr th:only-of-type {\n",
       "        vertical-align: middle;\n",
       "    }\n",
       "\n",
       "    .dataframe tbody tr th {\n",
       "        vertical-align: top;\n",
       "    }\n",
       "\n",
       "    .dataframe thead th {\n",
       "        text-align: right;\n",
       "    }\n",
       "</style>\n",
       "<table border=\"1\" class=\"dataframe\">\n",
       "  <thead>\n",
       "    <tr style=\"text-align: right;\">\n",
       "      <th></th>\n",
       "      <th>Unnamed: 0</th>\n",
       "      <th>Date</th>\n",
       "      <th>AveragePrice</th>\n",
       "      <th>Total Volume</th>\n",
       "      <th>4046</th>\n",
       "      <th>4225</th>\n",
       "      <th>4770</th>\n",
       "      <th>Total Bags</th>\n",
       "      <th>Small Bags</th>\n",
       "      <th>Large Bags</th>\n",
       "      <th>XLarge Bags</th>\n",
       "      <th>type</th>\n",
       "      <th>year</th>\n",
       "      <th>region</th>\n",
       "    </tr>\n",
       "  </thead>\n",
       "  <tbody>\n",
       "    <tr>\n",
       "      <th>0</th>\n",
       "      <td>0</td>\n",
       "      <td>2015-12-27</td>\n",
       "      <td>1.33</td>\n",
       "      <td>64236.62</td>\n",
       "      <td>1036.74</td>\n",
       "      <td>54454.85</td>\n",
       "      <td>48.16</td>\n",
       "      <td>8696.87</td>\n",
       "      <td>8603.62</td>\n",
       "      <td>93.25</td>\n",
       "      <td>0.0</td>\n",
       "      <td>conventional</td>\n",
       "      <td>2015</td>\n",
       "      <td>Albany</td>\n",
       "    </tr>\n",
       "    <tr>\n",
       "      <th>1</th>\n",
       "      <td>1</td>\n",
       "      <td>2015-12-20</td>\n",
       "      <td>1.35</td>\n",
       "      <td>54876.98</td>\n",
       "      <td>674.28</td>\n",
       "      <td>44638.81</td>\n",
       "      <td>58.33</td>\n",
       "      <td>9505.56</td>\n",
       "      <td>9408.07</td>\n",
       "      <td>97.49</td>\n",
       "      <td>0.0</td>\n",
       "      <td>conventional</td>\n",
       "      <td>2015</td>\n",
       "      <td>Albany</td>\n",
       "    </tr>\n",
       "    <tr>\n",
       "      <th>2</th>\n",
       "      <td>2</td>\n",
       "      <td>2015-12-13</td>\n",
       "      <td>0.93</td>\n",
       "      <td>118220.22</td>\n",
       "      <td>794.70</td>\n",
       "      <td>109149.67</td>\n",
       "      <td>130.50</td>\n",
       "      <td>8145.35</td>\n",
       "      <td>8042.21</td>\n",
       "      <td>103.14</td>\n",
       "      <td>0.0</td>\n",
       "      <td>conventional</td>\n",
       "      <td>2015</td>\n",
       "      <td>Albany</td>\n",
       "    </tr>\n",
       "    <tr>\n",
       "      <th>3</th>\n",
       "      <td>3</td>\n",
       "      <td>2015-12-06</td>\n",
       "      <td>1.08</td>\n",
       "      <td>78992.15</td>\n",
       "      <td>1132.00</td>\n",
       "      <td>71976.41</td>\n",
       "      <td>72.58</td>\n",
       "      <td>5811.16</td>\n",
       "      <td>5677.40</td>\n",
       "      <td>133.76</td>\n",
       "      <td>0.0</td>\n",
       "      <td>conventional</td>\n",
       "      <td>2015</td>\n",
       "      <td>Albany</td>\n",
       "    </tr>\n",
       "    <tr>\n",
       "      <th>4</th>\n",
       "      <td>4</td>\n",
       "      <td>2015-11-29</td>\n",
       "      <td>1.28</td>\n",
       "      <td>51039.60</td>\n",
       "      <td>941.48</td>\n",
       "      <td>43838.39</td>\n",
       "      <td>75.78</td>\n",
       "      <td>6183.95</td>\n",
       "      <td>5986.26</td>\n",
       "      <td>197.69</td>\n",
       "      <td>0.0</td>\n",
       "      <td>conventional</td>\n",
       "      <td>2015</td>\n",
       "      <td>Albany</td>\n",
       "    </tr>\n",
       "  </tbody>\n",
       "</table>\n",
       "</div>"
      ],
      "text/plain": [
       "   Unnamed: 0        Date  AveragePrice  Total Volume     4046       4225   \n",
       "0           0  2015-12-27          1.33      64236.62  1036.74   54454.85  \\\n",
       "1           1  2015-12-20          1.35      54876.98   674.28   44638.81   \n",
       "2           2  2015-12-13          0.93     118220.22   794.70  109149.67   \n",
       "3           3  2015-12-06          1.08      78992.15  1132.00   71976.41   \n",
       "4           4  2015-11-29          1.28      51039.60   941.48   43838.39   \n",
       "\n",
       "     4770  Total Bags  Small Bags  Large Bags  XLarge Bags          type   \n",
       "0   48.16     8696.87     8603.62       93.25          0.0  conventional  \\\n",
       "1   58.33     9505.56     9408.07       97.49          0.0  conventional   \n",
       "2  130.50     8145.35     8042.21      103.14          0.0  conventional   \n",
       "3   72.58     5811.16     5677.40      133.76          0.0  conventional   \n",
       "4   75.78     6183.95     5986.26      197.69          0.0  conventional   \n",
       "\n",
       "   year  region  \n",
       "0  2015  Albany  \n",
       "1  2015  Albany  \n",
       "2  2015  Albany  \n",
       "3  2015  Albany  \n",
       "4  2015  Albany  "
      ]
     },
     "execution_count": 69,
     "metadata": {},
     "output_type": "execute_result"
    }
   ],
   "source": [
    "df.head()"
   ]
  },
  {
   "cell_type": "code",
   "execution_count": 70,
   "id": "blessed-transcript",
   "metadata": {},
   "outputs": [
    {
     "data": {
      "text/html": [
       "<div>\n",
       "<style scoped>\n",
       "    .dataframe tbody tr th:only-of-type {\n",
       "        vertical-align: middle;\n",
       "    }\n",
       "\n",
       "    .dataframe tbody tr th {\n",
       "        vertical-align: top;\n",
       "    }\n",
       "\n",
       "    .dataframe thead th {\n",
       "        text-align: right;\n",
       "    }\n",
       "</style>\n",
       "<table border=\"1\" class=\"dataframe\">\n",
       "  <thead>\n",
       "    <tr style=\"text-align: right;\">\n",
       "      <th></th>\n",
       "      <th>AveragePrice</th>\n",
       "      <th>Total Volume</th>\n",
       "      <th>4046</th>\n",
       "    </tr>\n",
       "  </thead>\n",
       "  <tbody>\n",
       "    <tr>\n",
       "      <th>14</th>\n",
       "      <td>1.33</td>\n",
       "      <td>69759.01</td>\n",
       "      <td>1028.03</td>\n",
       "    </tr>\n",
       "    <tr>\n",
       "      <th>15</th>\n",
       "      <td>1.28</td>\n",
       "      <td>76111.27</td>\n",
       "      <td>985.73</td>\n",
       "    </tr>\n",
       "    <tr>\n",
       "      <th>16</th>\n",
       "      <td>1.11</td>\n",
       "      <td>99172.96</td>\n",
       "      <td>879.45</td>\n",
       "    </tr>\n",
       "    <tr>\n",
       "      <th>17</th>\n",
       "      <td>1.07</td>\n",
       "      <td>105693.84</td>\n",
       "      <td>689.01</td>\n",
       "    </tr>\n",
       "    <tr>\n",
       "      <th>18</th>\n",
       "      <td>1.34</td>\n",
       "      <td>79992.09</td>\n",
       "      <td>733.16</td>\n",
       "    </tr>\n",
       "    <tr>\n",
       "      <th>19</th>\n",
       "      <td>1.33</td>\n",
       "      <td>80043.78</td>\n",
       "      <td>539.65</td>\n",
       "    </tr>\n",
       "    <tr>\n",
       "      <th>20</th>\n",
       "      <td>1.12</td>\n",
       "      <td>111140.93</td>\n",
       "      <td>584.63</td>\n",
       "    </tr>\n",
       "    <tr>\n",
       "      <th>21</th>\n",
       "      <td>1.45</td>\n",
       "      <td>75133.10</td>\n",
       "      <td>509.94</td>\n",
       "    </tr>\n",
       "    <tr>\n",
       "      <th>22</th>\n",
       "      <td>1.11</td>\n",
       "      <td>106757.10</td>\n",
       "      <td>648.75</td>\n",
       "    </tr>\n",
       "    <tr>\n",
       "      <th>23</th>\n",
       "      <td>1.26</td>\n",
       "      <td>96617.00</td>\n",
       "      <td>1042.10</td>\n",
       "    </tr>\n",
       "  </tbody>\n",
       "</table>\n",
       "</div>"
      ],
      "text/plain": [
       "    AveragePrice  Total Volume     4046\n",
       "14          1.33      69759.01  1028.03\n",
       "15          1.28      76111.27   985.73\n",
       "16          1.11      99172.96   879.45\n",
       "17          1.07     105693.84   689.01\n",
       "18          1.34      79992.09   733.16\n",
       "19          1.33      80043.78   539.65\n",
       "20          1.12     111140.93   584.63\n",
       "21          1.45      75133.10   509.94\n",
       "22          1.11     106757.10   648.75\n",
       "23          1.26      96617.00  1042.10"
      ]
     },
     "execution_count": 70,
     "metadata": {},
     "output_type": "execute_result"
    }
   ],
   "source": [
    "df.iloc[14:24, 2:5]"
   ]
  },
  {
   "cell_type": "markdown",
   "id": "awful-friday",
   "metadata": {},
   "source": [
    "### Seleccionar filas y columnas en Pandas en base a etiquetas con loc\n",
    "El método loc se puede usar de dos formas diferentes: \n",
    "- Seleccionar filas o columnas en base a una **etiqueta**.\n",
    "- Seleccionar filas o columnas en base a una **condición**."
   ]
  },
  {
   "cell_type": "markdown",
   "id": "compressed-bookmark",
   "metadata": {},
   "source": [
    "#### En base a etiqueta:"
   ]
  },
  {
   "cell_type": "code",
   "execution_count": 73,
   "id": "headed-transfer",
   "metadata": {},
   "outputs": [
    {
     "data": {
      "text/html": [
       "<div>\n",
       "<style scoped>\n",
       "    .dataframe tbody tr th:only-of-type {\n",
       "        vertical-align: middle;\n",
       "    }\n",
       "\n",
       "    .dataframe tbody tr th {\n",
       "        vertical-align: top;\n",
       "    }\n",
       "\n",
       "    .dataframe thead th {\n",
       "        text-align: right;\n",
       "    }\n",
       "</style>\n",
       "<table border=\"1\" class=\"dataframe\">\n",
       "  <thead>\n",
       "    <tr style=\"text-align: right;\">\n",
       "      <th></th>\n",
       "      <th>Unnamed: 0</th>\n",
       "      <th>AveragePrice</th>\n",
       "      <th>Total Volume</th>\n",
       "      <th>4046</th>\n",
       "      <th>4225</th>\n",
       "      <th>4770</th>\n",
       "      <th>Total Bags</th>\n",
       "      <th>Small Bags</th>\n",
       "      <th>Large Bags</th>\n",
       "      <th>XLarge Bags</th>\n",
       "      <th>type</th>\n",
       "      <th>year</th>\n",
       "      <th>region</th>\n",
       "    </tr>\n",
       "    <tr>\n",
       "      <th>Date</th>\n",
       "      <th></th>\n",
       "      <th></th>\n",
       "      <th></th>\n",
       "      <th></th>\n",
       "      <th></th>\n",
       "      <th></th>\n",
       "      <th></th>\n",
       "      <th></th>\n",
       "      <th></th>\n",
       "      <th></th>\n",
       "      <th></th>\n",
       "      <th></th>\n",
       "      <th></th>\n",
       "    </tr>\n",
       "  </thead>\n",
       "  <tbody>\n",
       "    <tr>\n",
       "      <th>2015-12-27</th>\n",
       "      <td>0</td>\n",
       "      <td>1.33</td>\n",
       "      <td>64236.62</td>\n",
       "      <td>1036.74</td>\n",
       "      <td>54454.85</td>\n",
       "      <td>48.16</td>\n",
       "      <td>8696.87</td>\n",
       "      <td>8603.62</td>\n",
       "      <td>93.25</td>\n",
       "      <td>0.0</td>\n",
       "      <td>conventional</td>\n",
       "      <td>2015</td>\n",
       "      <td>Albany</td>\n",
       "    </tr>\n",
       "    <tr>\n",
       "      <th>2015-12-20</th>\n",
       "      <td>1</td>\n",
       "      <td>1.35</td>\n",
       "      <td>54876.98</td>\n",
       "      <td>674.28</td>\n",
       "      <td>44638.81</td>\n",
       "      <td>58.33</td>\n",
       "      <td>9505.56</td>\n",
       "      <td>9408.07</td>\n",
       "      <td>97.49</td>\n",
       "      <td>0.0</td>\n",
       "      <td>conventional</td>\n",
       "      <td>2015</td>\n",
       "      <td>Albany</td>\n",
       "    </tr>\n",
       "    <tr>\n",
       "      <th>2015-12-13</th>\n",
       "      <td>2</td>\n",
       "      <td>0.93</td>\n",
       "      <td>118220.22</td>\n",
       "      <td>794.70</td>\n",
       "      <td>109149.67</td>\n",
       "      <td>130.50</td>\n",
       "      <td>8145.35</td>\n",
       "      <td>8042.21</td>\n",
       "      <td>103.14</td>\n",
       "      <td>0.0</td>\n",
       "      <td>conventional</td>\n",
       "      <td>2015</td>\n",
       "      <td>Albany</td>\n",
       "    </tr>\n",
       "  </tbody>\n",
       "</table>\n",
       "</div>"
      ],
      "text/plain": [
       "            Unnamed: 0  AveragePrice  Total Volume     4046       4225   \n",
       "Date                                                                     \n",
       "2015-12-27           0          1.33      64236.62  1036.74   54454.85  \\\n",
       "2015-12-20           1          1.35      54876.98   674.28   44638.81   \n",
       "2015-12-13           2          0.93     118220.22   794.70  109149.67   \n",
       "\n",
       "              4770  Total Bags  Small Bags  Large Bags  XLarge Bags   \n",
       "Date                                                                  \n",
       "2015-12-27   48.16     8696.87     8603.62       93.25          0.0  \\\n",
       "2015-12-20   58.33     9505.56     9408.07       97.49          0.0   \n",
       "2015-12-13  130.50     8145.35     8042.21      103.14          0.0   \n",
       "\n",
       "                    type  year  region  \n",
       "Date                                    \n",
       "2015-12-27  conventional  2015  Albany  \n",
       "2015-12-20  conventional  2015  Albany  \n",
       "2015-12-13  conventional  2015  Albany  "
      ]
     },
     "execution_count": 73,
     "metadata": {},
     "output_type": "execute_result"
    }
   ],
   "source": [
    "# Loc busca DENTRO del INDEX algo concreto\n",
    "df_index_date = df.set_index(\"Date\") #Creo un data nuevo para probar en el que el index es la fecha\n",
    "df_index_date.head(3)"
   ]
  },
  {
   "cell_type": "code",
   "execution_count": 74,
   "id": "norwegian-active",
   "metadata": {},
   "outputs": [
    {
     "data": {
      "text/html": [
       "<div>\n",
       "<style scoped>\n",
       "    .dataframe tbody tr th:only-of-type {\n",
       "        vertical-align: middle;\n",
       "    }\n",
       "\n",
       "    .dataframe tbody tr th {\n",
       "        vertical-align: top;\n",
       "    }\n",
       "\n",
       "    .dataframe thead th {\n",
       "        text-align: right;\n",
       "    }\n",
       "</style>\n",
       "<table border=\"1\" class=\"dataframe\">\n",
       "  <thead>\n",
       "    <tr style=\"text-align: right;\">\n",
       "      <th></th>\n",
       "      <th>Unnamed: 0</th>\n",
       "      <th>AveragePrice</th>\n",
       "      <th>Total Volume</th>\n",
       "      <th>4046</th>\n",
       "      <th>4225</th>\n",
       "      <th>4770</th>\n",
       "      <th>Total Bags</th>\n",
       "      <th>Small Bags</th>\n",
       "      <th>Large Bags</th>\n",
       "      <th>XLarge Bags</th>\n",
       "      <th>type</th>\n",
       "      <th>year</th>\n",
       "      <th>region</th>\n",
       "    </tr>\n",
       "    <tr>\n",
       "      <th>Date</th>\n",
       "      <th></th>\n",
       "      <th></th>\n",
       "      <th></th>\n",
       "      <th></th>\n",
       "      <th></th>\n",
       "      <th></th>\n",
       "      <th></th>\n",
       "      <th></th>\n",
       "      <th></th>\n",
       "      <th></th>\n",
       "      <th></th>\n",
       "      <th></th>\n",
       "      <th></th>\n",
       "    </tr>\n",
       "  </thead>\n",
       "  <tbody>\n",
       "    <tr>\n",
       "      <th>2015-12-06</th>\n",
       "      <td>3</td>\n",
       "      <td>1.08</td>\n",
       "      <td>78992.15</td>\n",
       "      <td>1132.00</td>\n",
       "      <td>71976.41</td>\n",
       "      <td>72.58</td>\n",
       "      <td>5811.16</td>\n",
       "      <td>5677.40</td>\n",
       "      <td>133.76</td>\n",
       "      <td>0.00</td>\n",
       "      <td>conventional</td>\n",
       "      <td>2015</td>\n",
       "      <td>Albany</td>\n",
       "    </tr>\n",
       "    <tr>\n",
       "      <th>2015-12-06</th>\n",
       "      <td>3</td>\n",
       "      <td>1.07</td>\n",
       "      <td>357636.82</td>\n",
       "      <td>283024.01</td>\n",
       "      <td>23740.85</td>\n",
       "      <td>181.92</td>\n",
       "      <td>50690.04</td>\n",
       "      <td>37032.67</td>\n",
       "      <td>13654.66</td>\n",
       "      <td>2.71</td>\n",
       "      <td>conventional</td>\n",
       "      <td>2015</td>\n",
       "      <td>Atlanta</td>\n",
       "    </tr>\n",
       "    <tr>\n",
       "      <th>2015-12-06</th>\n",
       "      <td>3</td>\n",
       "      <td>1.04</td>\n",
       "      <td>649141.25</td>\n",
       "      <td>51129.29</td>\n",
       "      <td>453586.50</td>\n",
       "      <td>25760.49</td>\n",
       "      <td>118664.97</td>\n",
       "      <td>117112.77</td>\n",
       "      <td>1552.20</td>\n",
       "      <td>0.00</td>\n",
       "      <td>conventional</td>\n",
       "      <td>2015</td>\n",
       "      <td>BaltimoreWashington</td>\n",
       "    </tr>\n",
       "    <tr>\n",
       "      <th>2015-12-06</th>\n",
       "      <td>3</td>\n",
       "      <td>0.71</td>\n",
       "      <td>95295.34</td>\n",
       "      <td>35590.98</td>\n",
       "      <td>12526.50</td>\n",
       "      <td>4086.26</td>\n",
       "      <td>43091.60</td>\n",
       "      <td>42734.53</td>\n",
       "      <td>0.00</td>\n",
       "      <td>357.07</td>\n",
       "      <td>conventional</td>\n",
       "      <td>2015</td>\n",
       "      <td>Boise</td>\n",
       "    </tr>\n",
       "    <tr>\n",
       "      <th>2015-12-06</th>\n",
       "      <td>3</td>\n",
       "      <td>1.02</td>\n",
       "      <td>488679.31</td>\n",
       "      <td>5126.32</td>\n",
       "      <td>407520.22</td>\n",
       "      <td>142.99</td>\n",
       "      <td>75889.78</td>\n",
       "      <td>75666.22</td>\n",
       "      <td>223.56</td>\n",
       "      <td>0.00</td>\n",
       "      <td>conventional</td>\n",
       "      <td>2015</td>\n",
       "      <td>Boston</td>\n",
       "    </tr>\n",
       "  </tbody>\n",
       "</table>\n",
       "</div>"
      ],
      "text/plain": [
       "            Unnamed: 0  AveragePrice  Total Volume       4046       4225   \n",
       "Date                                                                       \n",
       "2015-12-06           3          1.08      78992.15    1132.00   71976.41  \\\n",
       "2015-12-06           3          1.07     357636.82  283024.01   23740.85   \n",
       "2015-12-06           3          1.04     649141.25   51129.29  453586.50   \n",
       "2015-12-06           3          0.71      95295.34   35590.98   12526.50   \n",
       "2015-12-06           3          1.02     488679.31    5126.32  407520.22   \n",
       "\n",
       "                4770  Total Bags  Small Bags  Large Bags  XLarge Bags   \n",
       "Date                                                                    \n",
       "2015-12-06     72.58     5811.16     5677.40      133.76         0.00  \\\n",
       "2015-12-06    181.92    50690.04    37032.67    13654.66         2.71   \n",
       "2015-12-06  25760.49   118664.97   117112.77     1552.20         0.00   \n",
       "2015-12-06   4086.26    43091.60    42734.53        0.00       357.07   \n",
       "2015-12-06    142.99    75889.78    75666.22      223.56         0.00   \n",
       "\n",
       "                    type  year               region  \n",
       "Date                                                 \n",
       "2015-12-06  conventional  2015               Albany  \n",
       "2015-12-06  conventional  2015              Atlanta  \n",
       "2015-12-06  conventional  2015  BaltimoreWashington  \n",
       "2015-12-06  conventional  2015                Boise  \n",
       "2015-12-06  conventional  2015               Boston  "
      ]
     },
     "execution_count": 74,
     "metadata": {},
     "output_type": "execute_result"
    }
   ],
   "source": [
    "df_index_date.loc[\"2015-12-06\"].head() # Busco una fecha dentro del index con LOC"
   ]
  },
  {
   "cell_type": "code",
   "execution_count": 75,
   "id": "preceding-infrastructure",
   "metadata": {},
   "outputs": [],
   "source": [
    "filtrado = df.loc[(df[\"year\"] > 2014) & (df[\"region\"]==\"Albany\")] #Loc funciona pero realmnte NO LO NECESITO"
   ]
  },
  {
   "cell_type": "code",
   "execution_count": 76,
   "id": "87ca2374",
   "metadata": {},
   "outputs": [
    {
     "data": {
      "text/html": [
       "<div>\n",
       "<style scoped>\n",
       "    .dataframe tbody tr th:only-of-type {\n",
       "        vertical-align: middle;\n",
       "    }\n",
       "\n",
       "    .dataframe tbody tr th {\n",
       "        vertical-align: top;\n",
       "    }\n",
       "\n",
       "    .dataframe thead th {\n",
       "        text-align: right;\n",
       "    }\n",
       "</style>\n",
       "<table border=\"1\" class=\"dataframe\">\n",
       "  <thead>\n",
       "    <tr style=\"text-align: right;\">\n",
       "      <th></th>\n",
       "      <th>Unnamed: 0</th>\n",
       "      <th>Date</th>\n",
       "      <th>AveragePrice</th>\n",
       "      <th>Total Volume</th>\n",
       "      <th>4046</th>\n",
       "      <th>4225</th>\n",
       "      <th>4770</th>\n",
       "      <th>Total Bags</th>\n",
       "      <th>Small Bags</th>\n",
       "      <th>Large Bags</th>\n",
       "      <th>XLarge Bags</th>\n",
       "      <th>type</th>\n",
       "      <th>year</th>\n",
       "      <th>region</th>\n",
       "    </tr>\n",
       "  </thead>\n",
       "  <tbody>\n",
       "    <tr>\n",
       "      <th>0</th>\n",
       "      <td>0</td>\n",
       "      <td>2015-12-27</td>\n",
       "      <td>1.33</td>\n",
       "      <td>64236.62</td>\n",
       "      <td>1036.74</td>\n",
       "      <td>54454.85</td>\n",
       "      <td>48.16</td>\n",
       "      <td>8696.87</td>\n",
       "      <td>8603.62</td>\n",
       "      <td>93.25</td>\n",
       "      <td>0.0</td>\n",
       "      <td>conventional</td>\n",
       "      <td>2015</td>\n",
       "      <td>Albany</td>\n",
       "    </tr>\n",
       "    <tr>\n",
       "      <th>1</th>\n",
       "      <td>1</td>\n",
       "      <td>2015-12-20</td>\n",
       "      <td>1.35</td>\n",
       "      <td>54876.98</td>\n",
       "      <td>674.28</td>\n",
       "      <td>44638.81</td>\n",
       "      <td>58.33</td>\n",
       "      <td>9505.56</td>\n",
       "      <td>9408.07</td>\n",
       "      <td>97.49</td>\n",
       "      <td>0.0</td>\n",
       "      <td>conventional</td>\n",
       "      <td>2015</td>\n",
       "      <td>Albany</td>\n",
       "    </tr>\n",
       "  </tbody>\n",
       "</table>\n",
       "</div>"
      ],
      "text/plain": [
       "   Unnamed: 0        Date  AveragePrice  Total Volume     4046      4225   \n",
       "0           0  2015-12-27          1.33      64236.62  1036.74  54454.85  \\\n",
       "1           1  2015-12-20          1.35      54876.98   674.28  44638.81   \n",
       "\n",
       "    4770  Total Bags  Small Bags  Large Bags  XLarge Bags          type  year   \n",
       "0  48.16     8696.87     8603.62       93.25          0.0  conventional  2015  \\\n",
       "1  58.33     9505.56     9408.07       97.49          0.0  conventional  2015   \n",
       "\n",
       "   region  \n",
       "0  Albany  \n",
       "1  Albany  "
      ]
     },
     "execution_count": 76,
     "metadata": {},
     "output_type": "execute_result"
    }
   ],
   "source": [
    "filtrado.head(2)"
   ]
  },
  {
   "cell_type": "code",
   "execution_count": 78,
   "id": "9c01de23",
   "metadata": {},
   "outputs": [],
   "source": [
    "filtrado2 = df[(df['year'] > 2014) & (df['region'] == 'Albany')] #Lo mismo pero sin loc"
   ]
  },
  {
   "cell_type": "code",
   "execution_count": 81,
   "id": "88f7ebd1",
   "metadata": {},
   "outputs": [
    {
     "name": "stdout",
     "output_type": "stream",
     "text": [
      "columna Unnamed: 0 es igual en los df\n",
      "columna Date es igual en los df\n",
      "columna AveragePrice es igual en los df\n",
      "columna Total Volume es igual en los df\n",
      "columna 4046 es igual en los df\n",
      "columna 4225 es igual en los df\n",
      "columna 4770 es igual en los df\n",
      "columna Total Bags es igual en los df\n",
      "columna Small Bags es igual en los df\n",
      "columna Large Bags es igual en los df\n",
      "columna XLarge Bags es igual en los df\n",
      "columna type es igual en los df\n",
      "columna year es igual en los df\n",
      "columna region es igual en los df\n"
     ]
    }
   ],
   "source": [
    "for a in filtrado.columns:\n",
    "    lista1 = filtrado[a].to_list() #creamos una lista con los valores de la columna\n",
    "    lista2 = filtrado2[a].to_list() #creamos una lista con los valores de la columna\n",
    "    #comparamos si los valores de las columnas son iguales\n",
    "    if lista1 == lista2: print(f'columna {a} es igual en los df')"
   ]
  },
  {
   "cell_type": "markdown",
   "id": "behind-celebration",
   "metadata": {},
   "source": [
    "### Sintaxis del loc con varias condiciones\n",
    "```python \n",
    "df.loc[(df[\"columna\"] condición) & (df[\"columna\"] condición)]\n",
    "````"
   ]
  },
  {
   "cell_type": "markdown",
   "id": "written-canberra",
   "metadata": {},
   "source": [
    "Misma operación, pero dame solo columnas concretas"
   ]
  },
  {
   "cell_type": "code",
   "execution_count": 82,
   "id": "73ddb28e",
   "metadata": {},
   "outputs": [
    {
     "data": {
      "text/html": [
       "<div>\n",
       "<style scoped>\n",
       "    .dataframe tbody tr th:only-of-type {\n",
       "        vertical-align: middle;\n",
       "    }\n",
       "\n",
       "    .dataframe tbody tr th {\n",
       "        vertical-align: top;\n",
       "    }\n",
       "\n",
       "    .dataframe thead th {\n",
       "        text-align: right;\n",
       "    }\n",
       "</style>\n",
       "<table border=\"1\" class=\"dataframe\">\n",
       "  <thead>\n",
       "    <tr style=\"text-align: right;\">\n",
       "      <th></th>\n",
       "      <th>type</th>\n",
       "      <th>year</th>\n",
       "      <th>region</th>\n",
       "    </tr>\n",
       "  </thead>\n",
       "  <tbody>\n",
       "    <tr>\n",
       "      <th>0</th>\n",
       "      <td>conventional</td>\n",
       "      <td>2015</td>\n",
       "      <td>Albany</td>\n",
       "    </tr>\n",
       "    <tr>\n",
       "      <th>1</th>\n",
       "      <td>conventional</td>\n",
       "      <td>2015</td>\n",
       "      <td>Albany</td>\n",
       "    </tr>\n",
       "    <tr>\n",
       "      <th>2</th>\n",
       "      <td>conventional</td>\n",
       "      <td>2015</td>\n",
       "      <td>Albany</td>\n",
       "    </tr>\n",
       "    <tr>\n",
       "      <th>3</th>\n",
       "      <td>conventional</td>\n",
       "      <td>2015</td>\n",
       "      <td>Albany</td>\n",
       "    </tr>\n",
       "    <tr>\n",
       "      <th>4</th>\n",
       "      <td>conventional</td>\n",
       "      <td>2015</td>\n",
       "      <td>Albany</td>\n",
       "    </tr>\n",
       "  </tbody>\n",
       "</table>\n",
       "</div>"
      ],
      "text/plain": [
       "           type  year  region\n",
       "0  conventional  2015  Albany\n",
       "1  conventional  2015  Albany\n",
       "2  conventional  2015  Albany\n",
       "3  conventional  2015  Albany\n",
       "4  conventional  2015  Albany"
      ]
     },
     "execution_count": 82,
     "metadata": {},
     "output_type": "execute_result"
    }
   ],
   "source": [
    "# Esta selección de columnas la vimos al principio, pasarle una lista para que coja solo las columnas que quiero\n",
    "filtrado_ = df.loc[(df[\"year\"] > 2014) & (df[\"region\"]==\"Albany\"), [\"type\", \"year\", \"region\"]]\n",
    "filtrado_ .head()"
   ]
  },
  {
   "cell_type": "markdown",
   "id": "photographic-fortune",
   "metadata": {},
   "source": [
    "## Ordenamos un dataframe"
   ]
  },
  {
   "cell_type": "code",
   "execution_count": 83,
   "id": "equal-folks",
   "metadata": {},
   "outputs": [
    {
     "data": {
      "text/html": [
       "<div>\n",
       "<style scoped>\n",
       "    .dataframe tbody tr th:only-of-type {\n",
       "        vertical-align: middle;\n",
       "    }\n",
       "\n",
       "    .dataframe tbody tr th {\n",
       "        vertical-align: top;\n",
       "    }\n",
       "\n",
       "    .dataframe thead th {\n",
       "        text-align: right;\n",
       "    }\n",
       "</style>\n",
       "<table border=\"1\" class=\"dataframe\">\n",
       "  <thead>\n",
       "    <tr style=\"text-align: right;\">\n",
       "      <th></th>\n",
       "      <th>Unnamed: 0</th>\n",
       "      <th>Date</th>\n",
       "      <th>AveragePrice</th>\n",
       "      <th>Total Volume</th>\n",
       "      <th>4046</th>\n",
       "      <th>4225</th>\n",
       "      <th>4770</th>\n",
       "      <th>Total Bags</th>\n",
       "      <th>Small Bags</th>\n",
       "      <th>Large Bags</th>\n",
       "      <th>XLarge Bags</th>\n",
       "      <th>type</th>\n",
       "      <th>year</th>\n",
       "      <th>region</th>\n",
       "    </tr>\n",
       "  </thead>\n",
       "  <tbody>\n",
       "    <tr>\n",
       "      <th>9124</th>\n",
       "      <td>10</td>\n",
       "      <td>2018-01-14</td>\n",
       "      <td>0.90</td>\n",
       "      <td>950954.60</td>\n",
       "      <td>463945.73</td>\n",
       "      <td>188126.02</td>\n",
       "      <td>11227.47</td>\n",
       "      <td>287655.38</td>\n",
       "      <td>125408.69</td>\n",
       "      <td>162040.02</td>\n",
       "      <td>206.67</td>\n",
       "      <td>conventional</td>\n",
       "      <td>2018</td>\n",
       "      <td>WestTexNewMexico</td>\n",
       "    </tr>\n",
       "    <tr>\n",
       "      <th>8883</th>\n",
       "      <td>9</td>\n",
       "      <td>2018-01-21</td>\n",
       "      <td>0.78</td>\n",
       "      <td>1315329.83</td>\n",
       "      <td>613600.56</td>\n",
       "      <td>246703.53</td>\n",
       "      <td>13332.26</td>\n",
       "      <td>441693.48</td>\n",
       "      <td>210780.39</td>\n",
       "      <td>226079.75</td>\n",
       "      <td>4833.34</td>\n",
       "      <td>conventional</td>\n",
       "      <td>2018</td>\n",
       "      <td>PhoenixTucson</td>\n",
       "    </tr>\n",
       "    <tr>\n",
       "      <th>8905</th>\n",
       "      <td>7</td>\n",
       "      <td>2018-02-04</td>\n",
       "      <td>0.91</td>\n",
       "      <td>3316494.76</td>\n",
       "      <td>1609104.94</td>\n",
       "      <td>827998.81</td>\n",
       "      <td>9830.10</td>\n",
       "      <td>869560.91</td>\n",
       "      <td>678696.23</td>\n",
       "      <td>190573.14</td>\n",
       "      <td>291.54</td>\n",
       "      <td>conventional</td>\n",
       "      <td>2018</td>\n",
       "      <td>Plains</td>\n",
       "    </tr>\n",
       "    <tr>\n",
       "      <th>8906</th>\n",
       "      <td>8</td>\n",
       "      <td>2018-01-28</td>\n",
       "      <td>0.99</td>\n",
       "      <td>2533937.56</td>\n",
       "      <td>1387712.40</td>\n",
       "      <td>515698.93</td>\n",
       "      <td>6371.30</td>\n",
       "      <td>624154.93</td>\n",
       "      <td>474701.92</td>\n",
       "      <td>149437.52</td>\n",
       "      <td>15.49</td>\n",
       "      <td>conventional</td>\n",
       "      <td>2018</td>\n",
       "      <td>Plains</td>\n",
       "    </tr>\n",
       "    <tr>\n",
       "      <th>8907</th>\n",
       "      <td>9</td>\n",
       "      <td>2018-01-21</td>\n",
       "      <td>1.18</td>\n",
       "      <td>2208596.12</td>\n",
       "      <td>1051836.46</td>\n",
       "      <td>479599.90</td>\n",
       "      <td>7659.28</td>\n",
       "      <td>669500.48</td>\n",
       "      <td>562989.08</td>\n",
       "      <td>106461.22</td>\n",
       "      <td>50.18</td>\n",
       "      <td>conventional</td>\n",
       "      <td>2018</td>\n",
       "      <td>Plains</td>\n",
       "    </tr>\n",
       "  </tbody>\n",
       "</table>\n",
       "</div>"
      ],
      "text/plain": [
       "      Unnamed: 0        Date  AveragePrice  Total Volume        4046   \n",
       "9124          10  2018-01-14          0.90     950954.60   463945.73  \\\n",
       "8883           9  2018-01-21          0.78    1315329.83   613600.56   \n",
       "8905           7  2018-02-04          0.91    3316494.76  1609104.94   \n",
       "8906           8  2018-01-28          0.99    2533937.56  1387712.40   \n",
       "8907           9  2018-01-21          1.18    2208596.12  1051836.46   \n",
       "\n",
       "           4225      4770  Total Bags  Small Bags  Large Bags  XLarge Bags   \n",
       "9124  188126.02  11227.47   287655.38   125408.69   162040.02       206.67  \\\n",
       "8883  246703.53  13332.26   441693.48   210780.39   226079.75      4833.34   \n",
       "8905  827998.81   9830.10   869560.91   678696.23   190573.14       291.54   \n",
       "8906  515698.93   6371.30   624154.93   474701.92   149437.52        15.49   \n",
       "8907  479599.90   7659.28   669500.48   562989.08   106461.22        50.18   \n",
       "\n",
       "              type  year            region  \n",
       "9124  conventional  2018  WestTexNewMexico  \n",
       "8883  conventional  2018     PhoenixTucson  \n",
       "8905  conventional  2018            Plains  \n",
       "8906  conventional  2018            Plains  \n",
       "8907  conventional  2018            Plains  "
      ]
     },
     "execution_count": 83,
     "metadata": {},
     "output_type": "execute_result"
    }
   ],
   "source": [
    "df.sort_values(by=\"year\",ascending=False).head() #Ascending FALSE de mayor a menor"
   ]
  },
  {
   "cell_type": "code",
   "execution_count": 87,
   "id": "72092973",
   "metadata": {},
   "outputs": [
    {
     "data": {
      "text/plain": [
       "array(['conventional', 'organic'], dtype=object)"
      ]
     },
     "execution_count": 87,
     "metadata": {},
     "output_type": "execute_result"
    }
   ],
   "source": [
    "df.sort_values(by=\"year\",ascending=False)[\"type\"].unique() #Ascending FALSE de mayor a menor"
   ]
  },
  {
   "cell_type": "code",
   "execution_count": 90,
   "id": "893afd75",
   "metadata": {},
   "outputs": [],
   "source": [
    "guardar_ordenado = df.sort_values(by=\"Large Bags\") #Lo puedo guardar en una variable"
   ]
  },
  {
   "cell_type": "code",
   "execution_count": 91,
   "id": "77efa8bc",
   "metadata": {},
   "outputs": [
    {
     "data": {
      "text/html": [
       "<div>\n",
       "<style scoped>\n",
       "    .dataframe tbody tr th:only-of-type {\n",
       "        vertical-align: middle;\n",
       "    }\n",
       "\n",
       "    .dataframe tbody tr th {\n",
       "        vertical-align: top;\n",
       "    }\n",
       "\n",
       "    .dataframe thead th {\n",
       "        text-align: right;\n",
       "    }\n",
       "</style>\n",
       "<table border=\"1\" class=\"dataframe\">\n",
       "  <thead>\n",
       "    <tr style=\"text-align: right;\">\n",
       "      <th></th>\n",
       "      <th>Unnamed: 0</th>\n",
       "      <th>Date</th>\n",
       "      <th>AveragePrice</th>\n",
       "      <th>Total Volume</th>\n",
       "      <th>4046</th>\n",
       "      <th>4225</th>\n",
       "      <th>4770</th>\n",
       "      <th>Total Bags</th>\n",
       "      <th>Small Bags</th>\n",
       "      <th>Large Bags</th>\n",
       "      <th>XLarge Bags</th>\n",
       "      <th>type</th>\n",
       "      <th>year</th>\n",
       "      <th>region</th>\n",
       "    </tr>\n",
       "  </thead>\n",
       "  <tbody>\n",
       "    <tr>\n",
       "      <th>12385</th>\n",
       "      <td>36</td>\n",
       "      <td>2016-04-17</td>\n",
       "      <td>1.55</td>\n",
       "      <td>25405.66</td>\n",
       "      <td>97.85</td>\n",
       "      <td>24629.54</td>\n",
       "      <td>0.00</td>\n",
       "      <td>678.27</td>\n",
       "      <td>678.27</td>\n",
       "      <td>0.0</td>\n",
       "      <td>0.0</td>\n",
       "      <td>organic</td>\n",
       "      <td>2016</td>\n",
       "      <td>Chicago</td>\n",
       "    </tr>\n",
       "    <tr>\n",
       "      <th>10610</th>\n",
       "      <td>28</td>\n",
       "      <td>2015-06-14</td>\n",
       "      <td>2.00</td>\n",
       "      <td>22931.78</td>\n",
       "      <td>5012.28</td>\n",
       "      <td>14260.60</td>\n",
       "      <td>923.15</td>\n",
       "      <td>2735.75</td>\n",
       "      <td>2735.75</td>\n",
       "      <td>0.0</td>\n",
       "      <td>0.0</td>\n",
       "      <td>organic</td>\n",
       "      <td>2015</td>\n",
       "      <td>NewYork</td>\n",
       "    </tr>\n",
       "    <tr>\n",
       "      <th>1762</th>\n",
       "      <td>46</td>\n",
       "      <td>2015-02-08</td>\n",
       "      <td>0.64</td>\n",
       "      <td>1151157.44</td>\n",
       "      <td>881998.68</td>\n",
       "      <td>184023.21</td>\n",
       "      <td>5517.00</td>\n",
       "      <td>79618.55</td>\n",
       "      <td>79618.55</td>\n",
       "      <td>0.0</td>\n",
       "      <td>0.0</td>\n",
       "      <td>conventional</td>\n",
       "      <td>2015</td>\n",
       "      <td>PhoenixTucson</td>\n",
       "    </tr>\n",
       "    <tr>\n",
       "      <th>1763</th>\n",
       "      <td>47</td>\n",
       "      <td>2015-02-01</td>\n",
       "      <td>0.56</td>\n",
       "      <td>1544750.92</td>\n",
       "      <td>1194635.06</td>\n",
       "      <td>261342.47</td>\n",
       "      <td>6335.66</td>\n",
       "      <td>82437.73</td>\n",
       "      <td>82437.73</td>\n",
       "      <td>0.0</td>\n",
       "      <td>0.0</td>\n",
       "      <td>conventional</td>\n",
       "      <td>2015</td>\n",
       "      <td>PhoenixTucson</td>\n",
       "    </tr>\n",
       "    <tr>\n",
       "      <th>1765</th>\n",
       "      <td>49</td>\n",
       "      <td>2015-01-18</td>\n",
       "      <td>0.67</td>\n",
       "      <td>1088608.66</td>\n",
       "      <td>811662.62</td>\n",
       "      <td>200514.36</td>\n",
       "      <td>5643.07</td>\n",
       "      <td>70788.61</td>\n",
       "      <td>70788.61</td>\n",
       "      <td>0.0</td>\n",
       "      <td>0.0</td>\n",
       "      <td>conventional</td>\n",
       "      <td>2015</td>\n",
       "      <td>PhoenixTucson</td>\n",
       "    </tr>\n",
       "  </tbody>\n",
       "</table>\n",
       "</div>"
      ],
      "text/plain": [
       "       Unnamed: 0        Date  AveragePrice  Total Volume        4046   \n",
       "12385          36  2016-04-17          1.55      25405.66       97.85  \\\n",
       "10610          28  2015-06-14          2.00      22931.78     5012.28   \n",
       "1762           46  2015-02-08          0.64    1151157.44   881998.68   \n",
       "1763           47  2015-02-01          0.56    1544750.92  1194635.06   \n",
       "1765           49  2015-01-18          0.67    1088608.66   811662.62   \n",
       "\n",
       "            4225     4770  Total Bags  Small Bags  Large Bags  XLarge Bags   \n",
       "12385   24629.54     0.00      678.27      678.27         0.0          0.0  \\\n",
       "10610   14260.60   923.15     2735.75     2735.75         0.0          0.0   \n",
       "1762   184023.21  5517.00    79618.55    79618.55         0.0          0.0   \n",
       "1763   261342.47  6335.66    82437.73    82437.73         0.0          0.0   \n",
       "1765   200514.36  5643.07    70788.61    70788.61         0.0          0.0   \n",
       "\n",
       "               type  year         region  \n",
       "12385       organic  2016        Chicago  \n",
       "10610       organic  2015        NewYork  \n",
       "1762   conventional  2015  PhoenixTucson  \n",
       "1763   conventional  2015  PhoenixTucson  \n",
       "1765   conventional  2015  PhoenixTucson  "
      ]
     },
     "execution_count": 91,
     "metadata": {},
     "output_type": "execute_result"
    }
   ],
   "source": [
    "guardar_ordenado.head()"
   ]
  },
  {
   "cell_type": "code",
   "execution_count": 93,
   "id": "f022e43a",
   "metadata": {},
   "outputs": [
    {
     "data": {
      "text/html": [
       "<div>\n",
       "<style scoped>\n",
       "    .dataframe tbody tr th:only-of-type {\n",
       "        vertical-align: middle;\n",
       "    }\n",
       "\n",
       "    .dataframe tbody tr th {\n",
       "        vertical-align: top;\n",
       "    }\n",
       "\n",
       "    .dataframe thead th {\n",
       "        text-align: right;\n",
       "    }\n",
       "</style>\n",
       "<table border=\"1\" class=\"dataframe\">\n",
       "  <thead>\n",
       "    <tr style=\"text-align: right;\">\n",
       "      <th></th>\n",
       "      <th>Unnamed: 0</th>\n",
       "      <th>Date</th>\n",
       "      <th>AveragePrice</th>\n",
       "      <th>Total Volume</th>\n",
       "      <th>4046</th>\n",
       "      <th>4225</th>\n",
       "      <th>4770</th>\n",
       "      <th>Total Bags</th>\n",
       "      <th>Small Bags</th>\n",
       "      <th>Large Bags</th>\n",
       "      <th>XLarge Bags</th>\n",
       "      <th>type</th>\n",
       "      <th>year</th>\n",
       "      <th>region</th>\n",
       "    </tr>\n",
       "  </thead>\n",
       "  <tbody>\n",
       "    <tr>\n",
       "      <th>51</th>\n",
       "      <td>51</td>\n",
       "      <td>2015-01-04</td>\n",
       "      <td>1.22</td>\n",
       "      <td>40873.28</td>\n",
       "      <td>2819.50</td>\n",
       "      <td>28287.42</td>\n",
       "      <td>49.90</td>\n",
       "      <td>9716.46</td>\n",
       "      <td>9186.93</td>\n",
       "      <td>529.53</td>\n",
       "      <td>0.0</td>\n",
       "      <td>conventional</td>\n",
       "      <td>2015</td>\n",
       "      <td>Albany</td>\n",
       "    </tr>\n",
       "    <tr>\n",
       "      <th>9177</th>\n",
       "      <td>51</td>\n",
       "      <td>2015-01-04</td>\n",
       "      <td>1.79</td>\n",
       "      <td>1373.95</td>\n",
       "      <td>57.42</td>\n",
       "      <td>153.88</td>\n",
       "      <td>0.00</td>\n",
       "      <td>1162.65</td>\n",
       "      <td>1162.65</td>\n",
       "      <td>0.00</td>\n",
       "      <td>0.0</td>\n",
       "      <td>organic</td>\n",
       "      <td>2015</td>\n",
       "      <td>Albany</td>\n",
       "    </tr>\n",
       "    <tr>\n",
       "      <th>103</th>\n",
       "      <td>51</td>\n",
       "      <td>2015-01-04</td>\n",
       "      <td>1.00</td>\n",
       "      <td>435021.49</td>\n",
       "      <td>364302.39</td>\n",
       "      <td>23821.16</td>\n",
       "      <td>82.15</td>\n",
       "      <td>46815.79</td>\n",
       "      <td>16707.15</td>\n",
       "      <td>30108.64</td>\n",
       "      <td>0.0</td>\n",
       "      <td>conventional</td>\n",
       "      <td>2015</td>\n",
       "      <td>Atlanta</td>\n",
       "    </tr>\n",
       "    <tr>\n",
       "      <th>9229</th>\n",
       "      <td>51</td>\n",
       "      <td>2015-01-04</td>\n",
       "      <td>1.76</td>\n",
       "      <td>3846.69</td>\n",
       "      <td>1500.15</td>\n",
       "      <td>938.35</td>\n",
       "      <td>0.00</td>\n",
       "      <td>1408.19</td>\n",
       "      <td>1071.35</td>\n",
       "      <td>336.84</td>\n",
       "      <td>0.0</td>\n",
       "      <td>organic</td>\n",
       "      <td>2015</td>\n",
       "      <td>Atlanta</td>\n",
       "    </tr>\n",
       "    <tr>\n",
       "      <th>155</th>\n",
       "      <td>51</td>\n",
       "      <td>2015-01-04</td>\n",
       "      <td>1.08</td>\n",
       "      <td>788025.06</td>\n",
       "      <td>53987.31</td>\n",
       "      <td>552906.04</td>\n",
       "      <td>39995.03</td>\n",
       "      <td>141136.68</td>\n",
       "      <td>137146.07</td>\n",
       "      <td>3990.61</td>\n",
       "      <td>0.0</td>\n",
       "      <td>conventional</td>\n",
       "      <td>2015</td>\n",
       "      <td>BaltimoreWashington</td>\n",
       "    </tr>\n",
       "  </tbody>\n",
       "</table>\n",
       "</div>"
      ],
      "text/plain": [
       "      Unnamed: 0        Date  AveragePrice  Total Volume       4046   \n",
       "51            51  2015-01-04          1.22      40873.28    2819.50  \\\n",
       "9177          51  2015-01-04          1.79       1373.95      57.42   \n",
       "103           51  2015-01-04          1.00     435021.49  364302.39   \n",
       "9229          51  2015-01-04          1.76       3846.69    1500.15   \n",
       "155           51  2015-01-04          1.08     788025.06   53987.31   \n",
       "\n",
       "           4225      4770  Total Bags  Small Bags  Large Bags  XLarge Bags   \n",
       "51     28287.42     49.90     9716.46     9186.93      529.53          0.0  \\\n",
       "9177     153.88      0.00     1162.65     1162.65        0.00          0.0   \n",
       "103    23821.16     82.15    46815.79    16707.15    30108.64          0.0   \n",
       "9229     938.35      0.00     1408.19     1071.35      336.84          0.0   \n",
       "155   552906.04  39995.03   141136.68   137146.07     3990.61          0.0   \n",
       "\n",
       "              type  year               region  \n",
       "51    conventional  2015               Albany  \n",
       "9177       organic  2015               Albany  \n",
       "103   conventional  2015              Atlanta  \n",
       "9229       organic  2015              Atlanta  \n",
       "155   conventional  2015  BaltimoreWashington  "
      ]
     },
     "execution_count": 93,
     "metadata": {},
     "output_type": "execute_result"
    }
   ],
   "source": [
    "df.sort_values(by=[\"Date\", \"region\"]).head() #ORDENAR POR VARIAS COLUMNAS"
   ]
  },
  {
   "cell_type": "markdown",
   "id": "defensive-print",
   "metadata": {},
   "source": [
    "### Buscamos valores nulos "
   ]
  },
  {
   "cell_type": "code",
   "execution_count": 94,
   "id": "intimate-account",
   "metadata": {},
   "outputs": [
    {
     "data": {
      "text/html": [
       "<div>\n",
       "<style scoped>\n",
       "    .dataframe tbody tr th:only-of-type {\n",
       "        vertical-align: middle;\n",
       "    }\n",
       "\n",
       "    .dataframe tbody tr th {\n",
       "        vertical-align: top;\n",
       "    }\n",
       "\n",
       "    .dataframe thead th {\n",
       "        text-align: right;\n",
       "    }\n",
       "</style>\n",
       "<table border=\"1\" class=\"dataframe\">\n",
       "  <thead>\n",
       "    <tr style=\"text-align: right;\">\n",
       "      <th></th>\n",
       "      <th>survived</th>\n",
       "      <th>pclass</th>\n",
       "      <th>sex</th>\n",
       "      <th>age</th>\n",
       "      <th>sibsp</th>\n",
       "      <th>parch</th>\n",
       "      <th>fare</th>\n",
       "      <th>embarked</th>\n",
       "      <th>class</th>\n",
       "      <th>who</th>\n",
       "      <th>adult_male</th>\n",
       "      <th>deck</th>\n",
       "      <th>embark_town</th>\n",
       "      <th>alive</th>\n",
       "      <th>alone</th>\n",
       "    </tr>\n",
       "  </thead>\n",
       "  <tbody>\n",
       "    <tr>\n",
       "      <th>0</th>\n",
       "      <td>0</td>\n",
       "      <td>3</td>\n",
       "      <td>male</td>\n",
       "      <td>22.0</td>\n",
       "      <td>1</td>\n",
       "      <td>0</td>\n",
       "      <td>7.2500</td>\n",
       "      <td>S</td>\n",
       "      <td>Third</td>\n",
       "      <td>man</td>\n",
       "      <td>True</td>\n",
       "      <td>NaN</td>\n",
       "      <td>Southampton</td>\n",
       "      <td>no</td>\n",
       "      <td>False</td>\n",
       "    </tr>\n",
       "    <tr>\n",
       "      <th>1</th>\n",
       "      <td>1</td>\n",
       "      <td>1</td>\n",
       "      <td>female</td>\n",
       "      <td>38.0</td>\n",
       "      <td>1</td>\n",
       "      <td>0</td>\n",
       "      <td>71.2833</td>\n",
       "      <td>C</td>\n",
       "      <td>First</td>\n",
       "      <td>woman</td>\n",
       "      <td>False</td>\n",
       "      <td>C</td>\n",
       "      <td>Cherbourg</td>\n",
       "      <td>yes</td>\n",
       "      <td>False</td>\n",
       "    </tr>\n",
       "    <tr>\n",
       "      <th>2</th>\n",
       "      <td>1</td>\n",
       "      <td>3</td>\n",
       "      <td>female</td>\n",
       "      <td>26.0</td>\n",
       "      <td>0</td>\n",
       "      <td>0</td>\n",
       "      <td>7.9250</td>\n",
       "      <td>S</td>\n",
       "      <td>Third</td>\n",
       "      <td>woman</td>\n",
       "      <td>False</td>\n",
       "      <td>NaN</td>\n",
       "      <td>Southampton</td>\n",
       "      <td>yes</td>\n",
       "      <td>True</td>\n",
       "    </tr>\n",
       "    <tr>\n",
       "      <th>3</th>\n",
       "      <td>1</td>\n",
       "      <td>1</td>\n",
       "      <td>female</td>\n",
       "      <td>35.0</td>\n",
       "      <td>1</td>\n",
       "      <td>0</td>\n",
       "      <td>53.1000</td>\n",
       "      <td>S</td>\n",
       "      <td>First</td>\n",
       "      <td>woman</td>\n",
       "      <td>False</td>\n",
       "      <td>C</td>\n",
       "      <td>Southampton</td>\n",
       "      <td>yes</td>\n",
       "      <td>False</td>\n",
       "    </tr>\n",
       "    <tr>\n",
       "      <th>4</th>\n",
       "      <td>0</td>\n",
       "      <td>3</td>\n",
       "      <td>male</td>\n",
       "      <td>35.0</td>\n",
       "      <td>0</td>\n",
       "      <td>0</td>\n",
       "      <td>8.0500</td>\n",
       "      <td>S</td>\n",
       "      <td>Third</td>\n",
       "      <td>man</td>\n",
       "      <td>True</td>\n",
       "      <td>NaN</td>\n",
       "      <td>Southampton</td>\n",
       "      <td>no</td>\n",
       "      <td>True</td>\n",
       "    </tr>\n",
       "  </tbody>\n",
       "</table>\n",
       "</div>"
      ],
      "text/plain": [
       "   survived  pclass     sex   age  sibsp  parch     fare embarked  class   \n",
       "0         0       3    male  22.0      1      0   7.2500        S  Third  \\\n",
       "1         1       1  female  38.0      1      0  71.2833        C  First   \n",
       "2         1       3  female  26.0      0      0   7.9250        S  Third   \n",
       "3         1       1  female  35.0      1      0  53.1000        S  First   \n",
       "4         0       3    male  35.0      0      0   8.0500        S  Third   \n",
       "\n",
       "     who  adult_male deck  embark_town alive  alone  \n",
       "0    man        True  NaN  Southampton    no  False  \n",
       "1  woman       False    C    Cherbourg   yes  False  \n",
       "2  woman       False  NaN  Southampton   yes   True  \n",
       "3  woman       False    C  Southampton   yes  False  \n",
       "4    man        True  NaN  Southampton    no   True  "
      ]
     },
     "execution_count": 94,
     "metadata": {},
     "output_type": "execute_result"
    }
   ],
   "source": [
    "import seaborn as sns\n",
    "df_titanic = sns.load_dataset(\"titanic\")\n",
    "df_titanic.head()"
   ]
  },
  {
   "cell_type": "markdown",
   "id": "english-baseline",
   "metadata": {},
   "source": [
    "#### ¿Es nulo?"
   ]
  },
  {
   "cell_type": "code",
   "execution_count": 96,
   "id": "desirable-separation",
   "metadata": {},
   "outputs": [
    {
     "data": {
      "text/plain": [
       "survived         0\n",
       "pclass           0\n",
       "sex              0\n",
       "age            177\n",
       "sibsp            0\n",
       "parch            0\n",
       "fare             0\n",
       "embarked         2\n",
       "class            0\n",
       "who              0\n",
       "adult_male       0\n",
       "deck           688\n",
       "embark_town      2\n",
       "alive            0\n",
       "alone            0\n",
       "dtype: int64"
      ]
     },
     "execution_count": 96,
     "metadata": {},
     "output_type": "execute_result"
    }
   ],
   "source": [
    "df_titanic.isna().head()#sum()"
   ]
  },
  {
   "cell_type": "markdown",
   "id": "complicated-official",
   "metadata": {},
   "source": [
    "#### ¿Es NO nulo?"
   ]
  },
  {
   "cell_type": "code",
   "execution_count": 97,
   "id": "involved-private",
   "metadata": {},
   "outputs": [
    {
     "data": {
      "text/html": [
       "<div>\n",
       "<style scoped>\n",
       "    .dataframe tbody tr th:only-of-type {\n",
       "        vertical-align: middle;\n",
       "    }\n",
       "\n",
       "    .dataframe tbody tr th {\n",
       "        vertical-align: top;\n",
       "    }\n",
       "\n",
       "    .dataframe thead th {\n",
       "        text-align: right;\n",
       "    }\n",
       "</style>\n",
       "<table border=\"1\" class=\"dataframe\">\n",
       "  <thead>\n",
       "    <tr style=\"text-align: right;\">\n",
       "      <th></th>\n",
       "      <th>survived</th>\n",
       "      <th>pclass</th>\n",
       "      <th>sex</th>\n",
       "      <th>age</th>\n",
       "      <th>sibsp</th>\n",
       "      <th>parch</th>\n",
       "      <th>fare</th>\n",
       "      <th>embarked</th>\n",
       "      <th>class</th>\n",
       "      <th>who</th>\n",
       "      <th>adult_male</th>\n",
       "      <th>deck</th>\n",
       "      <th>embark_town</th>\n",
       "      <th>alive</th>\n",
       "      <th>alone</th>\n",
       "    </tr>\n",
       "  </thead>\n",
       "  <tbody>\n",
       "    <tr>\n",
       "      <th>0</th>\n",
       "      <td>True</td>\n",
       "      <td>True</td>\n",
       "      <td>True</td>\n",
       "      <td>True</td>\n",
       "      <td>True</td>\n",
       "      <td>True</td>\n",
       "      <td>True</td>\n",
       "      <td>True</td>\n",
       "      <td>True</td>\n",
       "      <td>True</td>\n",
       "      <td>True</td>\n",
       "      <td>False</td>\n",
       "      <td>True</td>\n",
       "      <td>True</td>\n",
       "      <td>True</td>\n",
       "    </tr>\n",
       "    <tr>\n",
       "      <th>1</th>\n",
       "      <td>True</td>\n",
       "      <td>True</td>\n",
       "      <td>True</td>\n",
       "      <td>True</td>\n",
       "      <td>True</td>\n",
       "      <td>True</td>\n",
       "      <td>True</td>\n",
       "      <td>True</td>\n",
       "      <td>True</td>\n",
       "      <td>True</td>\n",
       "      <td>True</td>\n",
       "      <td>True</td>\n",
       "      <td>True</td>\n",
       "      <td>True</td>\n",
       "      <td>True</td>\n",
       "    </tr>\n",
       "    <tr>\n",
       "      <th>2</th>\n",
       "      <td>True</td>\n",
       "      <td>True</td>\n",
       "      <td>True</td>\n",
       "      <td>True</td>\n",
       "      <td>True</td>\n",
       "      <td>True</td>\n",
       "      <td>True</td>\n",
       "      <td>True</td>\n",
       "      <td>True</td>\n",
       "      <td>True</td>\n",
       "      <td>True</td>\n",
       "      <td>False</td>\n",
       "      <td>True</td>\n",
       "      <td>True</td>\n",
       "      <td>True</td>\n",
       "    </tr>\n",
       "    <tr>\n",
       "      <th>3</th>\n",
       "      <td>True</td>\n",
       "      <td>True</td>\n",
       "      <td>True</td>\n",
       "      <td>True</td>\n",
       "      <td>True</td>\n",
       "      <td>True</td>\n",
       "      <td>True</td>\n",
       "      <td>True</td>\n",
       "      <td>True</td>\n",
       "      <td>True</td>\n",
       "      <td>True</td>\n",
       "      <td>True</td>\n",
       "      <td>True</td>\n",
       "      <td>True</td>\n",
       "      <td>True</td>\n",
       "    </tr>\n",
       "    <tr>\n",
       "      <th>4</th>\n",
       "      <td>True</td>\n",
       "      <td>True</td>\n",
       "      <td>True</td>\n",
       "      <td>True</td>\n",
       "      <td>True</td>\n",
       "      <td>True</td>\n",
       "      <td>True</td>\n",
       "      <td>True</td>\n",
       "      <td>True</td>\n",
       "      <td>True</td>\n",
       "      <td>True</td>\n",
       "      <td>False</td>\n",
       "      <td>True</td>\n",
       "      <td>True</td>\n",
       "      <td>True</td>\n",
       "    </tr>\n",
       "  </tbody>\n",
       "</table>\n",
       "</div>"
      ],
      "text/plain": [
       "   survived  pclass   sex   age  sibsp  parch  fare  embarked  class   who   \n",
       "0      True    True  True  True   True   True  True      True   True  True  \\\n",
       "1      True    True  True  True   True   True  True      True   True  True   \n",
       "2      True    True  True  True   True   True  True      True   True  True   \n",
       "3      True    True  True  True   True   True  True      True   True  True   \n",
       "4      True    True  True  True   True   True  True      True   True  True   \n",
       "\n",
       "   adult_male   deck  embark_town  alive  alone  \n",
       "0        True  False         True   True   True  \n",
       "1        True   True         True   True   True  \n",
       "2        True  False         True   True   True  \n",
       "3        True   True         True   True   True  \n",
       "4        True  False         True   True   True  "
      ]
     },
     "execution_count": 97,
     "metadata": {},
     "output_type": "execute_result"
    }
   ],
   "source": [
    "df_titanic.notna().head()"
   ]
  },
  {
   "cell_type": "markdown",
   "id": "aggregate-glass",
   "metadata": {},
   "source": [
    "#### Sacar una suma de los valores nulos de cada columna"
   ]
  },
  {
   "cell_type": "code",
   "execution_count": 98,
   "id": "9ec7c4c1",
   "metadata": {},
   "outputs": [
    {
     "data": {
      "text/plain": [
       "survived         0\n",
       "pclass           0\n",
       "sex              0\n",
       "age            177\n",
       "sibsp            0\n",
       "parch            0\n",
       "fare             0\n",
       "embarked         2\n",
       "class            0\n",
       "who              0\n",
       "adult_male       0\n",
       "deck           688\n",
       "embark_town      2\n",
       "alive            0\n",
       "alone            0\n",
       "dtype: int64"
      ]
     },
     "execution_count": 98,
     "metadata": {},
     "output_type": "execute_result"
    }
   ],
   "source": [
    "df_titanic.isna().sum()"
   ]
  },
  {
   "cell_type": "code",
   "execution_count": 147,
   "id": "disciplinary-finder",
   "metadata": {},
   "outputs": [
    {
     "data": {
      "text/plain": [
       "survived        0.000000\n",
       "pclass          0.000000\n",
       "sex             0.000000\n",
       "age             0.000000\n",
       "sibsp           0.000000\n",
       "parch           0.000000\n",
       "fare            0.000000\n",
       "embarked        0.000000\n",
       "class           0.000000\n",
       "who             0.000000\n",
       "adult_male      0.000000\n",
       "deck           77.216611\n",
       "embark_town     0.000000\n",
       "alive           0.000000\n",
       "alone           0.000000\n",
       "dtype: float64"
      ]
     },
     "execution_count": 147,
     "metadata": {},
     "output_type": "execute_result"
    }
   ],
   "source": [
    "#Si somos muy cucos:\n",
    "(df_titanic.isna().sum()/(df_titanic.shape[0])*100)#.round(2)"
   ]
  },
  {
   "cell_type": "markdown",
   "id": "dramatic-victoria",
   "metadata": {},
   "source": [
    "### Borramos los valores nulos\n",
    "Hay varias formas de hacerlo, tenemos en cuenta el parámetro \"how\" y, desde luego, [nos leemos la documentación](https://pandas.pydata.org/pandas-docs/stable/reference/api/pandas.DataFrame.dropna.html)."
   ]
  },
  {
   "cell_type": "code",
   "execution_count": 100,
   "id": "distant-nickname",
   "metadata": {},
   "outputs": [
    {
     "data": {
      "text/plain": [
       "(891, 15)"
      ]
     },
     "execution_count": 100,
     "metadata": {},
     "output_type": "execute_result"
    }
   ],
   "source": [
    "df_titanic=sns.load_dataset(\"titanic\")\n",
    "df_titanic.shape"
   ]
  },
  {
   "cell_type": "code",
   "execution_count": 109,
   "id": "9d642d7a",
   "metadata": {},
   "outputs": [
    {
     "data": {
      "text/plain": [
       "(891, 15)"
      ]
     },
     "execution_count": 109,
     "metadata": {},
     "output_type": "execute_result"
    }
   ],
   "source": [
    "df_titanic.dropna(how=\"all\", inplace=True)#Con \"all\" borramos donde TODOS los registros sean NaN\n",
    "df_titanic.shape"
   ]
  },
  {
   "cell_type": "code",
   "execution_count": 110,
   "id": "69f42e6f",
   "metadata": {},
   "outputs": [
    {
     "data": {
      "text/html": [
       "<div>\n",
       "<style scoped>\n",
       "    .dataframe tbody tr th:only-of-type {\n",
       "        vertical-align: middle;\n",
       "    }\n",
       "\n",
       "    .dataframe tbody tr th {\n",
       "        vertical-align: top;\n",
       "    }\n",
       "\n",
       "    .dataframe thead th {\n",
       "        text-align: right;\n",
       "    }\n",
       "</style>\n",
       "<table border=\"1\" class=\"dataframe\">\n",
       "  <thead>\n",
       "    <tr style=\"text-align: right;\">\n",
       "      <th></th>\n",
       "      <th>survived</th>\n",
       "      <th>pclass</th>\n",
       "      <th>sex</th>\n",
       "      <th>age</th>\n",
       "      <th>sibsp</th>\n",
       "      <th>parch</th>\n",
       "      <th>fare</th>\n",
       "      <th>embarked</th>\n",
       "      <th>class</th>\n",
       "      <th>who</th>\n",
       "      <th>adult_male</th>\n",
       "      <th>deck</th>\n",
       "      <th>embark_town</th>\n",
       "      <th>alive</th>\n",
       "      <th>alone</th>\n",
       "    </tr>\n",
       "  </thead>\n",
       "  <tbody>\n",
       "  </tbody>\n",
       "</table>\n",
       "</div>"
      ],
      "text/plain": [
       "Empty DataFrame\n",
       "Columns: [survived, pclass, sex, age, sibsp, parch, fare, embarked, class, who, adult_male, deck, embark_town, alive, alone]\n",
       "Index: []"
      ]
     },
     "execution_count": 110,
     "metadata": {},
     "output_type": "execute_result"
    }
   ],
   "source": [
    "#buscamos filas donde todos los registros sean NaN\n",
    "df_titanic[df_titanic.isna().all(axis=1)]"
   ]
  },
  {
   "cell_type": "code",
   "execution_count": 105,
   "id": "b4bc3c74",
   "metadata": {},
   "outputs": [
    {
     "data": {
      "text/plain": [
       "890"
      ]
     },
     "execution_count": 105,
     "metadata": {},
     "output_type": "execute_result"
    }
   ],
   "source": [
    "#añadimos a mano una fila con todos los registros NaN\n",
    "df_titanic.index.max()"
   ]
  },
  {
   "cell_type": "code",
   "execution_count": 106,
   "id": "0774266b",
   "metadata": {},
   "outputs": [],
   "source": [
    "df_titanic.loc[891] = [np.nan]*15"
   ]
  },
  {
   "cell_type": "code",
   "execution_count": 107,
   "id": "dd256045",
   "metadata": {},
   "outputs": [
    {
     "data": {
      "text/plain": [
       "(892, 15)"
      ]
     },
     "execution_count": 107,
     "metadata": {},
     "output_type": "execute_result"
    }
   ],
   "source": [
    "df_titanic.shape"
   ]
  },
  {
   "cell_type": "code",
   "execution_count": 111,
   "id": "burning-flood",
   "metadata": {},
   "outputs": [],
   "source": [
    "df_titanic.dropna(inplace=True) #Borramos las filas con algún NaN"
   ]
  },
  {
   "cell_type": "code",
   "execution_count": 112,
   "id": "2a18113c",
   "metadata": {},
   "outputs": [
    {
     "data": {
      "text/plain": [
       "(182, 15)"
      ]
     },
     "execution_count": 112,
     "metadata": {},
     "output_type": "execute_result"
    }
   ],
   "source": [
    "df_titanic.shape"
   ]
  },
  {
   "cell_type": "code",
   "execution_count": null,
   "id": "according-dressing",
   "metadata": {},
   "outputs": [],
   "source": [
    "# NUNCA BORRAMOS LOS NAN A LO LOCO, OS LO SUPLICO \n",
    "# Si no pongo nada, axis = 0 entonces borra todas las filas que contengan un NaN da igual en qué columna\n",
    "# SI PONGO 1 borramos las columnas"
   ]
  },
  {
   "cell_type": "code",
   "execution_count": 113,
   "id": "clean-climb",
   "metadata": {},
   "outputs": [
    {
     "data": {
      "text/html": [
       "<div>\n",
       "<style scoped>\n",
       "    .dataframe tbody tr th:only-of-type {\n",
       "        vertical-align: middle;\n",
       "    }\n",
       "\n",
       "    .dataframe tbody tr th {\n",
       "        vertical-align: top;\n",
       "    }\n",
       "\n",
       "    .dataframe thead th {\n",
       "        text-align: right;\n",
       "    }\n",
       "</style>\n",
       "<table border=\"1\" class=\"dataframe\">\n",
       "  <thead>\n",
       "    <tr style=\"text-align: right;\">\n",
       "      <th></th>\n",
       "      <th>survived</th>\n",
       "      <th>pclass</th>\n",
       "      <th>sex</th>\n",
       "      <th>age</th>\n",
       "      <th>sibsp</th>\n",
       "      <th>parch</th>\n",
       "      <th>fare</th>\n",
       "      <th>embarked</th>\n",
       "      <th>class</th>\n",
       "      <th>who</th>\n",
       "      <th>adult_male</th>\n",
       "      <th>deck</th>\n",
       "      <th>embark_town</th>\n",
       "      <th>alive</th>\n",
       "      <th>alone</th>\n",
       "    </tr>\n",
       "  </thead>\n",
       "  <tbody>\n",
       "    <tr>\n",
       "      <th>1</th>\n",
       "      <td>1.0</td>\n",
       "      <td>1.0</td>\n",
       "      <td>female</td>\n",
       "      <td>38.0</td>\n",
       "      <td>1.0</td>\n",
       "      <td>0.0</td>\n",
       "      <td>71.2833</td>\n",
       "      <td>C</td>\n",
       "      <td>First</td>\n",
       "      <td>woman</td>\n",
       "      <td>0.0</td>\n",
       "      <td>C</td>\n",
       "      <td>Cherbourg</td>\n",
       "      <td>yes</td>\n",
       "      <td>0.0</td>\n",
       "    </tr>\n",
       "    <tr>\n",
       "      <th>3</th>\n",
       "      <td>1.0</td>\n",
       "      <td>1.0</td>\n",
       "      <td>female</td>\n",
       "      <td>35.0</td>\n",
       "      <td>1.0</td>\n",
       "      <td>0.0</td>\n",
       "      <td>53.1000</td>\n",
       "      <td>S</td>\n",
       "      <td>First</td>\n",
       "      <td>woman</td>\n",
       "      <td>0.0</td>\n",
       "      <td>C</td>\n",
       "      <td>Southampton</td>\n",
       "      <td>yes</td>\n",
       "      <td>0.0</td>\n",
       "    </tr>\n",
       "    <tr>\n",
       "      <th>6</th>\n",
       "      <td>0.0</td>\n",
       "      <td>1.0</td>\n",
       "      <td>male</td>\n",
       "      <td>54.0</td>\n",
       "      <td>0.0</td>\n",
       "      <td>0.0</td>\n",
       "      <td>51.8625</td>\n",
       "      <td>S</td>\n",
       "      <td>First</td>\n",
       "      <td>man</td>\n",
       "      <td>1.0</td>\n",
       "      <td>E</td>\n",
       "      <td>Southampton</td>\n",
       "      <td>no</td>\n",
       "      <td>1.0</td>\n",
       "    </tr>\n",
       "    <tr>\n",
       "      <th>10</th>\n",
       "      <td>1.0</td>\n",
       "      <td>3.0</td>\n",
       "      <td>female</td>\n",
       "      <td>4.0</td>\n",
       "      <td>1.0</td>\n",
       "      <td>1.0</td>\n",
       "      <td>16.7000</td>\n",
       "      <td>S</td>\n",
       "      <td>Third</td>\n",
       "      <td>child</td>\n",
       "      <td>0.0</td>\n",
       "      <td>G</td>\n",
       "      <td>Southampton</td>\n",
       "      <td>yes</td>\n",
       "      <td>0.0</td>\n",
       "    </tr>\n",
       "    <tr>\n",
       "      <th>11</th>\n",
       "      <td>1.0</td>\n",
       "      <td>1.0</td>\n",
       "      <td>female</td>\n",
       "      <td>58.0</td>\n",
       "      <td>0.0</td>\n",
       "      <td>0.0</td>\n",
       "      <td>26.5500</td>\n",
       "      <td>S</td>\n",
       "      <td>First</td>\n",
       "      <td>woman</td>\n",
       "      <td>0.0</td>\n",
       "      <td>C</td>\n",
       "      <td>Southampton</td>\n",
       "      <td>yes</td>\n",
       "      <td>1.0</td>\n",
       "    </tr>\n",
       "    <tr>\n",
       "      <th>...</th>\n",
       "      <td>...</td>\n",
       "      <td>...</td>\n",
       "      <td>...</td>\n",
       "      <td>...</td>\n",
       "      <td>...</td>\n",
       "      <td>...</td>\n",
       "      <td>...</td>\n",
       "      <td>...</td>\n",
       "      <td>...</td>\n",
       "      <td>...</td>\n",
       "      <td>...</td>\n",
       "      <td>...</td>\n",
       "      <td>...</td>\n",
       "      <td>...</td>\n",
       "      <td>...</td>\n",
       "    </tr>\n",
       "    <tr>\n",
       "      <th>871</th>\n",
       "      <td>1.0</td>\n",
       "      <td>1.0</td>\n",
       "      <td>female</td>\n",
       "      <td>47.0</td>\n",
       "      <td>1.0</td>\n",
       "      <td>1.0</td>\n",
       "      <td>52.5542</td>\n",
       "      <td>S</td>\n",
       "      <td>First</td>\n",
       "      <td>woman</td>\n",
       "      <td>0.0</td>\n",
       "      <td>D</td>\n",
       "      <td>Southampton</td>\n",
       "      <td>yes</td>\n",
       "      <td>0.0</td>\n",
       "    </tr>\n",
       "    <tr>\n",
       "      <th>872</th>\n",
       "      <td>0.0</td>\n",
       "      <td>1.0</td>\n",
       "      <td>male</td>\n",
       "      <td>33.0</td>\n",
       "      <td>0.0</td>\n",
       "      <td>0.0</td>\n",
       "      <td>5.0000</td>\n",
       "      <td>S</td>\n",
       "      <td>First</td>\n",
       "      <td>man</td>\n",
       "      <td>1.0</td>\n",
       "      <td>B</td>\n",
       "      <td>Southampton</td>\n",
       "      <td>no</td>\n",
       "      <td>1.0</td>\n",
       "    </tr>\n",
       "    <tr>\n",
       "      <th>879</th>\n",
       "      <td>1.0</td>\n",
       "      <td>1.0</td>\n",
       "      <td>female</td>\n",
       "      <td>56.0</td>\n",
       "      <td>0.0</td>\n",
       "      <td>1.0</td>\n",
       "      <td>83.1583</td>\n",
       "      <td>C</td>\n",
       "      <td>First</td>\n",
       "      <td>woman</td>\n",
       "      <td>0.0</td>\n",
       "      <td>C</td>\n",
       "      <td>Cherbourg</td>\n",
       "      <td>yes</td>\n",
       "      <td>0.0</td>\n",
       "    </tr>\n",
       "    <tr>\n",
       "      <th>887</th>\n",
       "      <td>1.0</td>\n",
       "      <td>1.0</td>\n",
       "      <td>female</td>\n",
       "      <td>19.0</td>\n",
       "      <td>0.0</td>\n",
       "      <td>0.0</td>\n",
       "      <td>30.0000</td>\n",
       "      <td>S</td>\n",
       "      <td>First</td>\n",
       "      <td>woman</td>\n",
       "      <td>0.0</td>\n",
       "      <td>B</td>\n",
       "      <td>Southampton</td>\n",
       "      <td>yes</td>\n",
       "      <td>1.0</td>\n",
       "    </tr>\n",
       "    <tr>\n",
       "      <th>889</th>\n",
       "      <td>1.0</td>\n",
       "      <td>1.0</td>\n",
       "      <td>male</td>\n",
       "      <td>26.0</td>\n",
       "      <td>0.0</td>\n",
       "      <td>0.0</td>\n",
       "      <td>30.0000</td>\n",
       "      <td>C</td>\n",
       "      <td>First</td>\n",
       "      <td>man</td>\n",
       "      <td>1.0</td>\n",
       "      <td>C</td>\n",
       "      <td>Cherbourg</td>\n",
       "      <td>yes</td>\n",
       "      <td>1.0</td>\n",
       "    </tr>\n",
       "  </tbody>\n",
       "</table>\n",
       "<p>182 rows × 15 columns</p>\n",
       "</div>"
      ],
      "text/plain": [
       "     survived  pclass     sex   age  sibsp  parch     fare embarked  class   \n",
       "1         1.0     1.0  female  38.0    1.0    0.0  71.2833        C  First  \\\n",
       "3         1.0     1.0  female  35.0    1.0    0.0  53.1000        S  First   \n",
       "6         0.0     1.0    male  54.0    0.0    0.0  51.8625        S  First   \n",
       "10        1.0     3.0  female   4.0    1.0    1.0  16.7000        S  Third   \n",
       "11        1.0     1.0  female  58.0    0.0    0.0  26.5500        S  First   \n",
       "..        ...     ...     ...   ...    ...    ...      ...      ...    ...   \n",
       "871       1.0     1.0  female  47.0    1.0    1.0  52.5542        S  First   \n",
       "872       0.0     1.0    male  33.0    0.0    0.0   5.0000        S  First   \n",
       "879       1.0     1.0  female  56.0    0.0    1.0  83.1583        C  First   \n",
       "887       1.0     1.0  female  19.0    0.0    0.0  30.0000        S  First   \n",
       "889       1.0     1.0    male  26.0    0.0    0.0  30.0000        C  First   \n",
       "\n",
       "       who adult_male deck  embark_town alive alone  \n",
       "1    woman        0.0    C    Cherbourg   yes   0.0  \n",
       "3    woman        0.0    C  Southampton   yes   0.0  \n",
       "6      man        1.0    E  Southampton    no   1.0  \n",
       "10   child        0.0    G  Southampton   yes   0.0  \n",
       "11   woman        0.0    C  Southampton   yes   1.0  \n",
       "..     ...        ...  ...          ...   ...   ...  \n",
       "871  woman        0.0    D  Southampton   yes   0.0  \n",
       "872    man        1.0    B  Southampton    no   1.0  \n",
       "879  woman        0.0    C    Cherbourg   yes   0.0  \n",
       "887  woman        0.0    B  Southampton   yes   1.0  \n",
       "889    man        1.0    C    Cherbourg   yes   1.0  \n",
       "\n",
       "[182 rows x 15 columns]"
      ]
     },
     "execution_count": 113,
     "metadata": {},
     "output_type": "execute_result"
    }
   ],
   "source": [
    "# si hago drop axis=1 lo que borramos son las columnas, ESTO TAMPOCO LO HACEMOS POR FAVOR\n",
    "df_titanic.dropna(how=\"all\", axis=1)"
   ]
  },
  {
   "cell_type": "code",
   "execution_count": 114,
   "id": "found-showcase",
   "metadata": {},
   "outputs": [
    {
     "data": {
      "text/html": [
       "<div>\n",
       "<style scoped>\n",
       "    .dataframe tbody tr th:only-of-type {\n",
       "        vertical-align: middle;\n",
       "    }\n",
       "\n",
       "    .dataframe tbody tr th {\n",
       "        vertical-align: top;\n",
       "    }\n",
       "\n",
       "    .dataframe thead th {\n",
       "        text-align: right;\n",
       "    }\n",
       "</style>\n",
       "<table border=\"1\" class=\"dataframe\">\n",
       "  <thead>\n",
       "    <tr style=\"text-align: right;\">\n",
       "      <th></th>\n",
       "      <th>survived</th>\n",
       "      <th>pclass</th>\n",
       "      <th>sex</th>\n",
       "      <th>age</th>\n",
       "      <th>sibsp</th>\n",
       "      <th>parch</th>\n",
       "      <th>fare</th>\n",
       "      <th>embarked</th>\n",
       "      <th>class</th>\n",
       "      <th>who</th>\n",
       "      <th>adult_male</th>\n",
       "      <th>deck</th>\n",
       "      <th>embark_town</th>\n",
       "      <th>alive</th>\n",
       "      <th>alone</th>\n",
       "    </tr>\n",
       "  </thead>\n",
       "  <tbody>\n",
       "    <tr>\n",
       "      <th>1</th>\n",
       "      <td>1.0</td>\n",
       "      <td>1.0</td>\n",
       "      <td>female</td>\n",
       "      <td>38.0</td>\n",
       "      <td>1.0</td>\n",
       "      <td>0.0</td>\n",
       "      <td>71.2833</td>\n",
       "      <td>C</td>\n",
       "      <td>First</td>\n",
       "      <td>woman</td>\n",
       "      <td>0.0</td>\n",
       "      <td>C</td>\n",
       "      <td>Cherbourg</td>\n",
       "      <td>yes</td>\n",
       "      <td>0.0</td>\n",
       "    </tr>\n",
       "    <tr>\n",
       "      <th>3</th>\n",
       "      <td>1.0</td>\n",
       "      <td>1.0</td>\n",
       "      <td>female</td>\n",
       "      <td>35.0</td>\n",
       "      <td>1.0</td>\n",
       "      <td>0.0</td>\n",
       "      <td>53.1000</td>\n",
       "      <td>S</td>\n",
       "      <td>First</td>\n",
       "      <td>woman</td>\n",
       "      <td>0.0</td>\n",
       "      <td>C</td>\n",
       "      <td>Southampton</td>\n",
       "      <td>yes</td>\n",
       "      <td>0.0</td>\n",
       "    </tr>\n",
       "    <tr>\n",
       "      <th>6</th>\n",
       "      <td>0.0</td>\n",
       "      <td>1.0</td>\n",
       "      <td>male</td>\n",
       "      <td>54.0</td>\n",
       "      <td>0.0</td>\n",
       "      <td>0.0</td>\n",
       "      <td>51.8625</td>\n",
       "      <td>S</td>\n",
       "      <td>First</td>\n",
       "      <td>man</td>\n",
       "      <td>1.0</td>\n",
       "      <td>E</td>\n",
       "      <td>Southampton</td>\n",
       "      <td>no</td>\n",
       "      <td>1.0</td>\n",
       "    </tr>\n",
       "    <tr>\n",
       "      <th>10</th>\n",
       "      <td>1.0</td>\n",
       "      <td>3.0</td>\n",
       "      <td>female</td>\n",
       "      <td>4.0</td>\n",
       "      <td>1.0</td>\n",
       "      <td>1.0</td>\n",
       "      <td>16.7000</td>\n",
       "      <td>S</td>\n",
       "      <td>Third</td>\n",
       "      <td>child</td>\n",
       "      <td>0.0</td>\n",
       "      <td>G</td>\n",
       "      <td>Southampton</td>\n",
       "      <td>yes</td>\n",
       "      <td>0.0</td>\n",
       "    </tr>\n",
       "    <tr>\n",
       "      <th>11</th>\n",
       "      <td>1.0</td>\n",
       "      <td>1.0</td>\n",
       "      <td>female</td>\n",
       "      <td>58.0</td>\n",
       "      <td>0.0</td>\n",
       "      <td>0.0</td>\n",
       "      <td>26.5500</td>\n",
       "      <td>S</td>\n",
       "      <td>First</td>\n",
       "      <td>woman</td>\n",
       "      <td>0.0</td>\n",
       "      <td>C</td>\n",
       "      <td>Southampton</td>\n",
       "      <td>yes</td>\n",
       "      <td>1.0</td>\n",
       "    </tr>\n",
       "    <tr>\n",
       "      <th>...</th>\n",
       "      <td>...</td>\n",
       "      <td>...</td>\n",
       "      <td>...</td>\n",
       "      <td>...</td>\n",
       "      <td>...</td>\n",
       "      <td>...</td>\n",
       "      <td>...</td>\n",
       "      <td>...</td>\n",
       "      <td>...</td>\n",
       "      <td>...</td>\n",
       "      <td>...</td>\n",
       "      <td>...</td>\n",
       "      <td>...</td>\n",
       "      <td>...</td>\n",
       "      <td>...</td>\n",
       "    </tr>\n",
       "    <tr>\n",
       "      <th>871</th>\n",
       "      <td>1.0</td>\n",
       "      <td>1.0</td>\n",
       "      <td>female</td>\n",
       "      <td>47.0</td>\n",
       "      <td>1.0</td>\n",
       "      <td>1.0</td>\n",
       "      <td>52.5542</td>\n",
       "      <td>S</td>\n",
       "      <td>First</td>\n",
       "      <td>woman</td>\n",
       "      <td>0.0</td>\n",
       "      <td>D</td>\n",
       "      <td>Southampton</td>\n",
       "      <td>yes</td>\n",
       "      <td>0.0</td>\n",
       "    </tr>\n",
       "    <tr>\n",
       "      <th>872</th>\n",
       "      <td>0.0</td>\n",
       "      <td>1.0</td>\n",
       "      <td>male</td>\n",
       "      <td>33.0</td>\n",
       "      <td>0.0</td>\n",
       "      <td>0.0</td>\n",
       "      <td>5.0000</td>\n",
       "      <td>S</td>\n",
       "      <td>First</td>\n",
       "      <td>man</td>\n",
       "      <td>1.0</td>\n",
       "      <td>B</td>\n",
       "      <td>Southampton</td>\n",
       "      <td>no</td>\n",
       "      <td>1.0</td>\n",
       "    </tr>\n",
       "    <tr>\n",
       "      <th>879</th>\n",
       "      <td>1.0</td>\n",
       "      <td>1.0</td>\n",
       "      <td>female</td>\n",
       "      <td>56.0</td>\n",
       "      <td>0.0</td>\n",
       "      <td>1.0</td>\n",
       "      <td>83.1583</td>\n",
       "      <td>C</td>\n",
       "      <td>First</td>\n",
       "      <td>woman</td>\n",
       "      <td>0.0</td>\n",
       "      <td>C</td>\n",
       "      <td>Cherbourg</td>\n",
       "      <td>yes</td>\n",
       "      <td>0.0</td>\n",
       "    </tr>\n",
       "    <tr>\n",
       "      <th>887</th>\n",
       "      <td>1.0</td>\n",
       "      <td>1.0</td>\n",
       "      <td>female</td>\n",
       "      <td>19.0</td>\n",
       "      <td>0.0</td>\n",
       "      <td>0.0</td>\n",
       "      <td>30.0000</td>\n",
       "      <td>S</td>\n",
       "      <td>First</td>\n",
       "      <td>woman</td>\n",
       "      <td>0.0</td>\n",
       "      <td>B</td>\n",
       "      <td>Southampton</td>\n",
       "      <td>yes</td>\n",
       "      <td>1.0</td>\n",
       "    </tr>\n",
       "    <tr>\n",
       "      <th>889</th>\n",
       "      <td>1.0</td>\n",
       "      <td>1.0</td>\n",
       "      <td>male</td>\n",
       "      <td>26.0</td>\n",
       "      <td>0.0</td>\n",
       "      <td>0.0</td>\n",
       "      <td>30.0000</td>\n",
       "      <td>C</td>\n",
       "      <td>First</td>\n",
       "      <td>man</td>\n",
       "      <td>1.0</td>\n",
       "      <td>C</td>\n",
       "      <td>Cherbourg</td>\n",
       "      <td>yes</td>\n",
       "      <td>1.0</td>\n",
       "    </tr>\n",
       "  </tbody>\n",
       "</table>\n",
       "<p>182 rows × 15 columns</p>\n",
       "</div>"
      ],
      "text/plain": [
       "     survived  pclass     sex   age  sibsp  parch     fare embarked  class   \n",
       "1         1.0     1.0  female  38.0    1.0    0.0  71.2833        C  First  \\\n",
       "3         1.0     1.0  female  35.0    1.0    0.0  53.1000        S  First   \n",
       "6         0.0     1.0    male  54.0    0.0    0.0  51.8625        S  First   \n",
       "10        1.0     3.0  female   4.0    1.0    1.0  16.7000        S  Third   \n",
       "11        1.0     1.0  female  58.0    0.0    0.0  26.5500        S  First   \n",
       "..        ...     ...     ...   ...    ...    ...      ...      ...    ...   \n",
       "871       1.0     1.0  female  47.0    1.0    1.0  52.5542        S  First   \n",
       "872       0.0     1.0    male  33.0    0.0    0.0   5.0000        S  First   \n",
       "879       1.0     1.0  female  56.0    0.0    1.0  83.1583        C  First   \n",
       "887       1.0     1.0  female  19.0    0.0    0.0  30.0000        S  First   \n",
       "889       1.0     1.0    male  26.0    0.0    0.0  30.0000        C  First   \n",
       "\n",
       "       who adult_male deck  embark_town alive alone  \n",
       "1    woman        0.0    C    Cherbourg   yes   0.0  \n",
       "3    woman        0.0    C  Southampton   yes   0.0  \n",
       "6      man        1.0    E  Southampton    no   1.0  \n",
       "10   child        0.0    G  Southampton   yes   0.0  \n",
       "11   woman        0.0    C  Southampton   yes   1.0  \n",
       "..     ...        ...  ...          ...   ...   ...  \n",
       "871  woman        0.0    D  Southampton   yes   0.0  \n",
       "872    man        1.0    B  Southampton    no   1.0  \n",
       "879  woman        0.0    C    Cherbourg   yes   0.0  \n",
       "887  woman        0.0    B  Southampton   yes   1.0  \n",
       "889    man        1.0    C    Cherbourg   yes   1.0  \n",
       "\n",
       "[182 rows x 15 columns]"
      ]
     },
     "execution_count": 114,
     "metadata": {},
     "output_type": "execute_result"
    }
   ],
   "source": [
    "# BORRAMOS LOS REGISTROS DONDE TODO SEA NAN (poner axis=0 es lo mismo que nada porque viene por defecto)\n",
    "# si hago drop axis=1 lo que borramos son las columnas, ESTO TAMPOCO LO HACEMOS POR FAVOR\n",
    "df_titanic.dropna(how=\"all\", axis=0)"
   ]
  },
  {
   "cell_type": "code",
   "execution_count": 141,
   "id": "worthy-official",
   "metadata": {},
   "outputs": [
    {
     "data": {
      "text/html": [
       "<div>\n",
       "<style scoped>\n",
       "    .dataframe tbody tr th:only-of-type {\n",
       "        vertical-align: middle;\n",
       "    }\n",
       "\n",
       "    .dataframe tbody tr th {\n",
       "        vertical-align: top;\n",
       "    }\n",
       "\n",
       "    .dataframe thead th {\n",
       "        text-align: right;\n",
       "    }\n",
       "</style>\n",
       "<table border=\"1\" class=\"dataframe\">\n",
       "  <thead>\n",
       "    <tr style=\"text-align: right;\">\n",
       "      <th></th>\n",
       "      <th>survived</th>\n",
       "      <th>pclass</th>\n",
       "      <th>sex</th>\n",
       "      <th>age</th>\n",
       "      <th>sibsp</th>\n",
       "      <th>parch</th>\n",
       "      <th>fare</th>\n",
       "      <th>embarked</th>\n",
       "      <th>class</th>\n",
       "      <th>who</th>\n",
       "      <th>adult_male</th>\n",
       "      <th>deck</th>\n",
       "      <th>embark_town</th>\n",
       "      <th>alive</th>\n",
       "      <th>alone</th>\n",
       "    </tr>\n",
       "  </thead>\n",
       "  <tbody>\n",
       "    <tr>\n",
       "      <th>0</th>\n",
       "      <td>0</td>\n",
       "      <td>3</td>\n",
       "      <td>male</td>\n",
       "      <td>22.000000</td>\n",
       "      <td>1</td>\n",
       "      <td>0</td>\n",
       "      <td>7.2500</td>\n",
       "      <td>S</td>\n",
       "      <td>Third</td>\n",
       "      <td>man</td>\n",
       "      <td>True</td>\n",
       "      <td>NaN</td>\n",
       "      <td>Southampton</td>\n",
       "      <td>no</td>\n",
       "      <td>False</td>\n",
       "    </tr>\n",
       "    <tr>\n",
       "      <th>1</th>\n",
       "      <td>1</td>\n",
       "      <td>1</td>\n",
       "      <td>female</td>\n",
       "      <td>38.000000</td>\n",
       "      <td>1</td>\n",
       "      <td>0</td>\n",
       "      <td>71.2833</td>\n",
       "      <td>C</td>\n",
       "      <td>First</td>\n",
       "      <td>woman</td>\n",
       "      <td>False</td>\n",
       "      <td>C</td>\n",
       "      <td>Cherbourg</td>\n",
       "      <td>yes</td>\n",
       "      <td>False</td>\n",
       "    </tr>\n",
       "    <tr>\n",
       "      <th>2</th>\n",
       "      <td>1</td>\n",
       "      <td>3</td>\n",
       "      <td>female</td>\n",
       "      <td>26.000000</td>\n",
       "      <td>0</td>\n",
       "      <td>0</td>\n",
       "      <td>7.9250</td>\n",
       "      <td>S</td>\n",
       "      <td>Third</td>\n",
       "      <td>woman</td>\n",
       "      <td>False</td>\n",
       "      <td>NaN</td>\n",
       "      <td>Southampton</td>\n",
       "      <td>yes</td>\n",
       "      <td>True</td>\n",
       "    </tr>\n",
       "    <tr>\n",
       "      <th>3</th>\n",
       "      <td>1</td>\n",
       "      <td>1</td>\n",
       "      <td>female</td>\n",
       "      <td>35.000000</td>\n",
       "      <td>1</td>\n",
       "      <td>0</td>\n",
       "      <td>53.1000</td>\n",
       "      <td>S</td>\n",
       "      <td>First</td>\n",
       "      <td>woman</td>\n",
       "      <td>False</td>\n",
       "      <td>C</td>\n",
       "      <td>Southampton</td>\n",
       "      <td>yes</td>\n",
       "      <td>False</td>\n",
       "    </tr>\n",
       "    <tr>\n",
       "      <th>4</th>\n",
       "      <td>0</td>\n",
       "      <td>3</td>\n",
       "      <td>male</td>\n",
       "      <td>35.000000</td>\n",
       "      <td>0</td>\n",
       "      <td>0</td>\n",
       "      <td>8.0500</td>\n",
       "      <td>S</td>\n",
       "      <td>Third</td>\n",
       "      <td>man</td>\n",
       "      <td>True</td>\n",
       "      <td>NaN</td>\n",
       "      <td>Southampton</td>\n",
       "      <td>no</td>\n",
       "      <td>True</td>\n",
       "    </tr>\n",
       "    <tr>\n",
       "      <th>...</th>\n",
       "      <td>...</td>\n",
       "      <td>...</td>\n",
       "      <td>...</td>\n",
       "      <td>...</td>\n",
       "      <td>...</td>\n",
       "      <td>...</td>\n",
       "      <td>...</td>\n",
       "      <td>...</td>\n",
       "      <td>...</td>\n",
       "      <td>...</td>\n",
       "      <td>...</td>\n",
       "      <td>...</td>\n",
       "      <td>...</td>\n",
       "      <td>...</td>\n",
       "      <td>...</td>\n",
       "    </tr>\n",
       "    <tr>\n",
       "      <th>886</th>\n",
       "      <td>0</td>\n",
       "      <td>2</td>\n",
       "      <td>male</td>\n",
       "      <td>27.000000</td>\n",
       "      <td>0</td>\n",
       "      <td>0</td>\n",
       "      <td>13.0000</td>\n",
       "      <td>S</td>\n",
       "      <td>Second</td>\n",
       "      <td>man</td>\n",
       "      <td>True</td>\n",
       "      <td>NaN</td>\n",
       "      <td>Southampton</td>\n",
       "      <td>no</td>\n",
       "      <td>True</td>\n",
       "    </tr>\n",
       "    <tr>\n",
       "      <th>887</th>\n",
       "      <td>1</td>\n",
       "      <td>1</td>\n",
       "      <td>female</td>\n",
       "      <td>19.000000</td>\n",
       "      <td>0</td>\n",
       "      <td>0</td>\n",
       "      <td>30.0000</td>\n",
       "      <td>S</td>\n",
       "      <td>First</td>\n",
       "      <td>woman</td>\n",
       "      <td>False</td>\n",
       "      <td>B</td>\n",
       "      <td>Southampton</td>\n",
       "      <td>yes</td>\n",
       "      <td>True</td>\n",
       "    </tr>\n",
       "    <tr>\n",
       "      <th>888</th>\n",
       "      <td>0</td>\n",
       "      <td>3</td>\n",
       "      <td>female</td>\n",
       "      <td>29.699118</td>\n",
       "      <td>1</td>\n",
       "      <td>2</td>\n",
       "      <td>23.4500</td>\n",
       "      <td>S</td>\n",
       "      <td>Third</td>\n",
       "      <td>woman</td>\n",
       "      <td>False</td>\n",
       "      <td>NaN</td>\n",
       "      <td>Southampton</td>\n",
       "      <td>no</td>\n",
       "      <td>False</td>\n",
       "    </tr>\n",
       "    <tr>\n",
       "      <th>889</th>\n",
       "      <td>1</td>\n",
       "      <td>1</td>\n",
       "      <td>male</td>\n",
       "      <td>26.000000</td>\n",
       "      <td>0</td>\n",
       "      <td>0</td>\n",
       "      <td>30.0000</td>\n",
       "      <td>C</td>\n",
       "      <td>First</td>\n",
       "      <td>man</td>\n",
       "      <td>True</td>\n",
       "      <td>C</td>\n",
       "      <td>Cherbourg</td>\n",
       "      <td>yes</td>\n",
       "      <td>True</td>\n",
       "    </tr>\n",
       "    <tr>\n",
       "      <th>890</th>\n",
       "      <td>0</td>\n",
       "      <td>3</td>\n",
       "      <td>male</td>\n",
       "      <td>32.000000</td>\n",
       "      <td>0</td>\n",
       "      <td>0</td>\n",
       "      <td>7.7500</td>\n",
       "      <td>Q</td>\n",
       "      <td>Third</td>\n",
       "      <td>man</td>\n",
       "      <td>True</td>\n",
       "      <td>NaN</td>\n",
       "      <td>Queenstown</td>\n",
       "      <td>no</td>\n",
       "      <td>True</td>\n",
       "    </tr>\n",
       "  </tbody>\n",
       "</table>\n",
       "<p>891 rows × 15 columns</p>\n",
       "</div>"
      ],
      "text/plain": [
       "     survived  pclass     sex        age  sibsp  parch     fare embarked   \n",
       "0           0       3    male  22.000000      1      0   7.2500        S  \\\n",
       "1           1       1  female  38.000000      1      0  71.2833        C   \n",
       "2           1       3  female  26.000000      0      0   7.9250        S   \n",
       "3           1       1  female  35.000000      1      0  53.1000        S   \n",
       "4           0       3    male  35.000000      0      0   8.0500        S   \n",
       "..        ...     ...     ...        ...    ...    ...      ...      ...   \n",
       "886         0       2    male  27.000000      0      0  13.0000        S   \n",
       "887         1       1  female  19.000000      0      0  30.0000        S   \n",
       "888         0       3  female  29.699118      1      2  23.4500        S   \n",
       "889         1       1    male  26.000000      0      0  30.0000        C   \n",
       "890         0       3    male  32.000000      0      0   7.7500        Q   \n",
       "\n",
       "      class    who  adult_male deck  embark_town alive  alone  \n",
       "0     Third    man        True  NaN  Southampton    no  False  \n",
       "1     First  woman       False    C    Cherbourg   yes  False  \n",
       "2     Third  woman       False  NaN  Southampton   yes   True  \n",
       "3     First  woman       False    C  Southampton   yes  False  \n",
       "4     Third    man        True  NaN  Southampton    no   True  \n",
       "..      ...    ...         ...  ...          ...   ...    ...  \n",
       "886  Second    man        True  NaN  Southampton    no   True  \n",
       "887   First  woman       False    B  Southampton   yes   True  \n",
       "888   Third  woman       False  NaN  Southampton    no  False  \n",
       "889   First    man        True    C    Cherbourg   yes   True  \n",
       "890   Third    man        True  NaN   Queenstown    no   True  \n",
       "\n",
       "[891 rows x 15 columns]"
      ]
     },
     "execution_count": 141,
     "metadata": {},
     "output_type": "execute_result"
    }
   ],
   "source": [
    "# Borramos las columnas donde todo sea NAN\n",
    "df_titanic.dropna(how=\"all\", axis=1)"
   ]
  },
  {
   "cell_type": "code",
   "execution_count": 165,
   "id": "66171cde",
   "metadata": {},
   "outputs": [],
   "source": [
    "df_titanic.dropna(axis=1, inplace= True, thresh = 688) #el valor de thresh está incluido"
   ]
  },
  {
   "cell_type": "code",
   "execution_count": 166,
   "id": "fc53114e",
   "metadata": {},
   "outputs": [
    {
     "data": {
      "text/html": [
       "<div>\n",
       "<style scoped>\n",
       "    .dataframe tbody tr th:only-of-type {\n",
       "        vertical-align: middle;\n",
       "    }\n",
       "\n",
       "    .dataframe tbody tr th {\n",
       "        vertical-align: top;\n",
       "    }\n",
       "\n",
       "    .dataframe thead th {\n",
       "        text-align: right;\n",
       "    }\n",
       "</style>\n",
       "<table border=\"1\" class=\"dataframe\">\n",
       "  <thead>\n",
       "    <tr style=\"text-align: right;\">\n",
       "      <th></th>\n",
       "      <th>survived</th>\n",
       "      <th>pclass</th>\n",
       "      <th>sex</th>\n",
       "      <th>age</th>\n",
       "      <th>sibsp</th>\n",
       "      <th>parch</th>\n",
       "      <th>fare</th>\n",
       "      <th>embarked</th>\n",
       "      <th>class</th>\n",
       "      <th>who</th>\n",
       "      <th>adult_male</th>\n",
       "      <th>embark_town</th>\n",
       "      <th>alive</th>\n",
       "      <th>alone</th>\n",
       "    </tr>\n",
       "  </thead>\n",
       "  <tbody>\n",
       "    <tr>\n",
       "      <th>0</th>\n",
       "      <td>0</td>\n",
       "      <td>3</td>\n",
       "      <td>male</td>\n",
       "      <td>22.0</td>\n",
       "      <td>1</td>\n",
       "      <td>0</td>\n",
       "      <td>7.2500</td>\n",
       "      <td>S</td>\n",
       "      <td>Third</td>\n",
       "      <td>man</td>\n",
       "      <td>True</td>\n",
       "      <td>Southampton</td>\n",
       "      <td>no</td>\n",
       "      <td>False</td>\n",
       "    </tr>\n",
       "    <tr>\n",
       "      <th>1</th>\n",
       "      <td>1</td>\n",
       "      <td>1</td>\n",
       "      <td>female</td>\n",
       "      <td>38.0</td>\n",
       "      <td>1</td>\n",
       "      <td>0</td>\n",
       "      <td>71.2833</td>\n",
       "      <td>C</td>\n",
       "      <td>First</td>\n",
       "      <td>woman</td>\n",
       "      <td>False</td>\n",
       "      <td>Cherbourg</td>\n",
       "      <td>yes</td>\n",
       "      <td>False</td>\n",
       "    </tr>\n",
       "    <tr>\n",
       "      <th>2</th>\n",
       "      <td>1</td>\n",
       "      <td>3</td>\n",
       "      <td>female</td>\n",
       "      <td>26.0</td>\n",
       "      <td>0</td>\n",
       "      <td>0</td>\n",
       "      <td>7.9250</td>\n",
       "      <td>S</td>\n",
       "      <td>Third</td>\n",
       "      <td>woman</td>\n",
       "      <td>False</td>\n",
       "      <td>Southampton</td>\n",
       "      <td>yes</td>\n",
       "      <td>True</td>\n",
       "    </tr>\n",
       "    <tr>\n",
       "      <th>3</th>\n",
       "      <td>1</td>\n",
       "      <td>1</td>\n",
       "      <td>female</td>\n",
       "      <td>35.0</td>\n",
       "      <td>1</td>\n",
       "      <td>0</td>\n",
       "      <td>53.1000</td>\n",
       "      <td>S</td>\n",
       "      <td>First</td>\n",
       "      <td>woman</td>\n",
       "      <td>False</td>\n",
       "      <td>Southampton</td>\n",
       "      <td>yes</td>\n",
       "      <td>False</td>\n",
       "    </tr>\n",
       "    <tr>\n",
       "      <th>4</th>\n",
       "      <td>0</td>\n",
       "      <td>3</td>\n",
       "      <td>male</td>\n",
       "      <td>35.0</td>\n",
       "      <td>0</td>\n",
       "      <td>0</td>\n",
       "      <td>8.0500</td>\n",
       "      <td>S</td>\n",
       "      <td>Third</td>\n",
       "      <td>man</td>\n",
       "      <td>True</td>\n",
       "      <td>Southampton</td>\n",
       "      <td>no</td>\n",
       "      <td>True</td>\n",
       "    </tr>\n",
       "  </tbody>\n",
       "</table>\n",
       "</div>"
      ],
      "text/plain": [
       "   survived  pclass     sex   age  sibsp  parch     fare embarked  class   \n",
       "0         0       3    male  22.0      1      0   7.2500        S  Third  \\\n",
       "1         1       1  female  38.0      1      0  71.2833        C  First   \n",
       "2         1       3  female  26.0      0      0   7.9250        S  Third   \n",
       "3         1       1  female  35.0      1      0  53.1000        S  First   \n",
       "4         0       3    male  35.0      0      0   8.0500        S  Third   \n",
       "\n",
       "     who  adult_male  embark_town alive  alone  \n",
       "0    man        True  Southampton    no  False  \n",
       "1  woman       False    Cherbourg   yes  False  \n",
       "2  woman       False  Southampton   yes   True  \n",
       "3  woman       False  Southampton   yes  False  \n",
       "4    man        True  Southampton    no   True  "
      ]
     },
     "execution_count": 166,
     "metadata": {},
     "output_type": "execute_result"
    }
   ],
   "source": [
    "df_titanic.head()"
   ]
  },
  {
   "cell_type": "markdown",
   "id": "chicken-pregnancy",
   "metadata": {},
   "source": [
    "RECORDAD QUE INPLACE TRUE ES PARA QUE EL MÉTODO ACCIONE SOBRE EL DF, SI NO, TENGO QUE GUARDARLO EN UNA VARIABLE NUEVA"
   ]
  },
  {
   "cell_type": "markdown",
   "id": "american-fluid",
   "metadata": {},
   "source": [
    "🧨🧨🧨🧨\n",
    "\n",
    "Con \"any\" (**parámetro por default**  👀 con no poner nada) se borran todos los registros en los que en ***alguna columna*** haya un NaN \n",
    "\n",
    "🧨🧨🧨🧨"
   ]
  },
  {
   "cell_type": "markdown",
   "id": "partial-medicare",
   "metadata": {},
   "source": [
    "### Cómo rellenar los datos que faltan"
   ]
  },
  {
   "cell_type": "markdown",
   "id": "exclusive-custody",
   "metadata": {},
   "source": [
    "¿Qué os parece un poquito de  📚[DOCU](https://pandas.pydata.org/docs/reference/api/pandas.DataFrame.fillna.html)?"
   ]
  },
  {
   "cell_type": "code",
   "execution_count": 121,
   "id": "neural-brown",
   "metadata": {},
   "outputs": [
    {
     "data": {
      "text/html": [
       "<div>\n",
       "<style scoped>\n",
       "    .dataframe tbody tr th:only-of-type {\n",
       "        vertical-align: middle;\n",
       "    }\n",
       "\n",
       "    .dataframe tbody tr th {\n",
       "        vertical-align: top;\n",
       "    }\n",
       "\n",
       "    .dataframe thead th {\n",
       "        text-align: right;\n",
       "    }\n",
       "</style>\n",
       "<table border=\"1\" class=\"dataframe\">\n",
       "  <thead>\n",
       "    <tr style=\"text-align: right;\">\n",
       "      <th></th>\n",
       "      <th>survived</th>\n",
       "      <th>pclass</th>\n",
       "      <th>sex</th>\n",
       "      <th>age</th>\n",
       "      <th>sibsp</th>\n",
       "      <th>parch</th>\n",
       "      <th>fare</th>\n",
       "      <th>embarked</th>\n",
       "      <th>class</th>\n",
       "      <th>who</th>\n",
       "      <th>adult_male</th>\n",
       "      <th>deck</th>\n",
       "      <th>embark_town</th>\n",
       "      <th>alive</th>\n",
       "      <th>alone</th>\n",
       "    </tr>\n",
       "  </thead>\n",
       "  <tbody>\n",
       "    <tr>\n",
       "      <th>0</th>\n",
       "      <td>0</td>\n",
       "      <td>3</td>\n",
       "      <td>male</td>\n",
       "      <td>22.0</td>\n",
       "      <td>1</td>\n",
       "      <td>0</td>\n",
       "      <td>7.2500</td>\n",
       "      <td>S</td>\n",
       "      <td>Third</td>\n",
       "      <td>man</td>\n",
       "      <td>True</td>\n",
       "      <td>NaN</td>\n",
       "      <td>Southampton</td>\n",
       "      <td>no</td>\n",
       "      <td>False</td>\n",
       "    </tr>\n",
       "    <tr>\n",
       "      <th>1</th>\n",
       "      <td>1</td>\n",
       "      <td>1</td>\n",
       "      <td>female</td>\n",
       "      <td>38.0</td>\n",
       "      <td>1</td>\n",
       "      <td>0</td>\n",
       "      <td>71.2833</td>\n",
       "      <td>C</td>\n",
       "      <td>First</td>\n",
       "      <td>woman</td>\n",
       "      <td>False</td>\n",
       "      <td>C</td>\n",
       "      <td>Cherbourg</td>\n",
       "      <td>yes</td>\n",
       "      <td>False</td>\n",
       "    </tr>\n",
       "    <tr>\n",
       "      <th>2</th>\n",
       "      <td>1</td>\n",
       "      <td>3</td>\n",
       "      <td>female</td>\n",
       "      <td>26.0</td>\n",
       "      <td>0</td>\n",
       "      <td>0</td>\n",
       "      <td>7.9250</td>\n",
       "      <td>S</td>\n",
       "      <td>Third</td>\n",
       "      <td>woman</td>\n",
       "      <td>False</td>\n",
       "      <td>NaN</td>\n",
       "      <td>Southampton</td>\n",
       "      <td>yes</td>\n",
       "      <td>True</td>\n",
       "    </tr>\n",
       "    <tr>\n",
       "      <th>3</th>\n",
       "      <td>1</td>\n",
       "      <td>1</td>\n",
       "      <td>female</td>\n",
       "      <td>35.0</td>\n",
       "      <td>1</td>\n",
       "      <td>0</td>\n",
       "      <td>53.1000</td>\n",
       "      <td>S</td>\n",
       "      <td>First</td>\n",
       "      <td>woman</td>\n",
       "      <td>False</td>\n",
       "      <td>C</td>\n",
       "      <td>Southampton</td>\n",
       "      <td>yes</td>\n",
       "      <td>False</td>\n",
       "    </tr>\n",
       "    <tr>\n",
       "      <th>4</th>\n",
       "      <td>0</td>\n",
       "      <td>3</td>\n",
       "      <td>male</td>\n",
       "      <td>35.0</td>\n",
       "      <td>0</td>\n",
       "      <td>0</td>\n",
       "      <td>8.0500</td>\n",
       "      <td>S</td>\n",
       "      <td>Third</td>\n",
       "      <td>man</td>\n",
       "      <td>True</td>\n",
       "      <td>NaN</td>\n",
       "      <td>Southampton</td>\n",
       "      <td>no</td>\n",
       "      <td>True</td>\n",
       "    </tr>\n",
       "  </tbody>\n",
       "</table>\n",
       "</div>"
      ],
      "text/plain": [
       "   survived  pclass     sex   age  sibsp  parch     fare embarked  class   \n",
       "0         0       3    male  22.0      1      0   7.2500        S  Third  \\\n",
       "1         1       1  female  38.0      1      0  71.2833        C  First   \n",
       "2         1       3  female  26.0      0      0   7.9250        S  Third   \n",
       "3         1       1  female  35.0      1      0  53.1000        S  First   \n",
       "4         0       3    male  35.0      0      0   8.0500        S  Third   \n",
       "\n",
       "     who  adult_male deck  embark_town alive  alone  \n",
       "0    man        True  NaN  Southampton    no  False  \n",
       "1  woman       False    C    Cherbourg   yes  False  \n",
       "2  woman       False  NaN  Southampton   yes   True  \n",
       "3  woman       False    C  Southampton   yes  False  \n",
       "4    man        True  NaN  Southampton    no   True  "
      ]
     },
     "execution_count": 121,
     "metadata": {},
     "output_type": "execute_result"
    }
   ],
   "source": [
    "df_titanic = sns.load_dataset('titanic')\n",
    "df_titanic.head()"
   ]
  },
  {
   "cell_type": "code",
   "execution_count": 123,
   "id": "medical-methodology",
   "metadata": {},
   "outputs": [
    {
     "data": {
      "text/plain": [
       "survived         0\n",
       "pclass           0\n",
       "sex              0\n",
       "age            177\n",
       "sibsp            0\n",
       "parch            0\n",
       "fare             0\n",
       "embarked         2\n",
       "class            0\n",
       "who              0\n",
       "adult_male       0\n",
       "deck           688\n",
       "embark_town      2\n",
       "alive            0\n",
       "alone            0\n",
       "dtype: int64"
      ]
     },
     "execution_count": 123,
     "metadata": {},
     "output_type": "execute_result"
    }
   ],
   "source": [
    "df_titanic.isna().sum()"
   ]
  },
  {
   "cell_type": "code",
   "execution_count": 125,
   "id": "6851dea2",
   "metadata": {},
   "outputs": [
    {
     "data": {
      "text/plain": [
       "29.7"
      ]
     },
     "execution_count": 125,
     "metadata": {},
     "output_type": "execute_result"
    }
   ],
   "source": [
    "df_titanic.age.mean().round(2)"
   ]
  },
  {
   "cell_type": "code",
   "execution_count": 126,
   "id": "intelligent-administration",
   "metadata": {},
   "outputs": [],
   "source": [
    "#FILLNA es el método que me va a permitir rellenar los NAN con lo que yo le ponga\n",
    "df_titanic.age.fillna(df_titanic.age.mean(), inplace=True)"
   ]
  },
  {
   "cell_type": "code",
   "execution_count": 127,
   "id": "logical-cleveland",
   "metadata": {},
   "outputs": [
    {
     "data": {
      "text/plain": [
       "0"
      ]
     },
     "execution_count": 127,
     "metadata": {},
     "output_type": "execute_result"
    }
   ],
   "source": [
    "df_titanic.age.isna().sum()"
   ]
  },
  {
   "cell_type": "code",
   "execution_count": 129,
   "id": "96103e60",
   "metadata": {},
   "outputs": [
    {
     "data": {
      "text/plain": [
       "29.7"
      ]
     },
     "execution_count": 129,
     "metadata": {},
     "output_type": "execute_result"
    }
   ],
   "source": [
    "df_titanic.age.mean().round(2) #Si relleno con la media, como hemos demostrado la media de la columna no se mueve"
   ]
  },
  {
   "cell_type": "code",
   "execution_count": 131,
   "id": "06572109",
   "metadata": {},
   "outputs": [
    {
     "data": {
      "text/plain": [
       "array(['S', 'C', 'Q', nan], dtype=object)"
      ]
     },
     "execution_count": 131,
     "metadata": {},
     "output_type": "execute_result"
    }
   ],
   "source": [
    "df_titanic.embarked.unique()"
   ]
  },
  {
   "cell_type": "code",
   "execution_count": 132,
   "id": "tracked-mouth",
   "metadata": {},
   "outputs": [],
   "source": [
    "df_titanic.embarked.fillna(\"Polizón\",inplace=True)"
   ]
  },
  {
   "cell_type": "code",
   "execution_count": 133,
   "id": "macro-macedonia",
   "metadata": {},
   "outputs": [
    {
     "data": {
      "text/html": [
       "<div>\n",
       "<style scoped>\n",
       "    .dataframe tbody tr th:only-of-type {\n",
       "        vertical-align: middle;\n",
       "    }\n",
       "\n",
       "    .dataframe tbody tr th {\n",
       "        vertical-align: top;\n",
       "    }\n",
       "\n",
       "    .dataframe thead th {\n",
       "        text-align: right;\n",
       "    }\n",
       "</style>\n",
       "<table border=\"1\" class=\"dataframe\">\n",
       "  <thead>\n",
       "    <tr style=\"text-align: right;\">\n",
       "      <th></th>\n",
       "      <th>survived</th>\n",
       "      <th>pclass</th>\n",
       "      <th>sex</th>\n",
       "      <th>age</th>\n",
       "      <th>sibsp</th>\n",
       "      <th>parch</th>\n",
       "      <th>fare</th>\n",
       "      <th>embarked</th>\n",
       "      <th>class</th>\n",
       "      <th>who</th>\n",
       "      <th>adult_male</th>\n",
       "      <th>deck</th>\n",
       "      <th>embark_town</th>\n",
       "      <th>alive</th>\n",
       "      <th>alone</th>\n",
       "    </tr>\n",
       "  </thead>\n",
       "  <tbody>\n",
       "    <tr>\n",
       "      <th>61</th>\n",
       "      <td>1</td>\n",
       "      <td>1</td>\n",
       "      <td>female</td>\n",
       "      <td>38.0</td>\n",
       "      <td>0</td>\n",
       "      <td>0</td>\n",
       "      <td>80.0</td>\n",
       "      <td>Polizón</td>\n",
       "      <td>First</td>\n",
       "      <td>woman</td>\n",
       "      <td>False</td>\n",
       "      <td>B</td>\n",
       "      <td>NaN</td>\n",
       "      <td>yes</td>\n",
       "      <td>True</td>\n",
       "    </tr>\n",
       "    <tr>\n",
       "      <th>829</th>\n",
       "      <td>1</td>\n",
       "      <td>1</td>\n",
       "      <td>female</td>\n",
       "      <td>62.0</td>\n",
       "      <td>0</td>\n",
       "      <td>0</td>\n",
       "      <td>80.0</td>\n",
       "      <td>Polizón</td>\n",
       "      <td>First</td>\n",
       "      <td>woman</td>\n",
       "      <td>False</td>\n",
       "      <td>B</td>\n",
       "      <td>NaN</td>\n",
       "      <td>yes</td>\n",
       "      <td>True</td>\n",
       "    </tr>\n",
       "  </tbody>\n",
       "</table>\n",
       "</div>"
      ],
      "text/plain": [
       "     survived  pclass     sex   age  sibsp  parch  fare embarked  class   \n",
       "61          1       1  female  38.0      0      0  80.0  Polizón  First  \\\n",
       "829         1       1  female  62.0      0      0  80.0  Polizón  First   \n",
       "\n",
       "       who  adult_male deck embark_town alive  alone  \n",
       "61   woman       False    B         NaN   yes   True  \n",
       "829  woman       False    B         NaN   yes   True  "
      ]
     },
     "execution_count": 133,
     "metadata": {},
     "output_type": "execute_result"
    }
   ],
   "source": [
    "df_titanic.loc[df_titanic[\"embarked\"] == \"Polizón\"]"
   ]
  },
  {
   "cell_type": "code",
   "execution_count": 135,
   "id": "brutal-leave",
   "metadata": {},
   "outputs": [],
   "source": [
    "df_titanic.embark_town.fillna(\"Desconocida\", inplace = True)"
   ]
  },
  {
   "cell_type": "code",
   "execution_count": 140,
   "id": "dried-campus",
   "metadata": {},
   "outputs": [
    {
     "data": {
      "text/html": [
       "<div>\n",
       "<style scoped>\n",
       "    .dataframe tbody tr th:only-of-type {\n",
       "        vertical-align: middle;\n",
       "    }\n",
       "\n",
       "    .dataframe tbody tr th {\n",
       "        vertical-align: top;\n",
       "    }\n",
       "\n",
       "    .dataframe thead th {\n",
       "        text-align: right;\n",
       "    }\n",
       "</style>\n",
       "<table border=\"1\" class=\"dataframe\">\n",
       "  <thead>\n",
       "    <tr style=\"text-align: right;\">\n",
       "      <th></th>\n",
       "      <th>survived</th>\n",
       "      <th>pclass</th>\n",
       "      <th>sex</th>\n",
       "      <th>age</th>\n",
       "      <th>sibsp</th>\n",
       "      <th>parch</th>\n",
       "      <th>fare</th>\n",
       "      <th>embarked</th>\n",
       "      <th>class</th>\n",
       "      <th>who</th>\n",
       "      <th>adult_male</th>\n",
       "      <th>deck</th>\n",
       "      <th>embark_town</th>\n",
       "      <th>alive</th>\n",
       "      <th>alone</th>\n",
       "    </tr>\n",
       "  </thead>\n",
       "  <tbody>\n",
       "    <tr>\n",
       "      <th>61</th>\n",
       "      <td>1</td>\n",
       "      <td>1</td>\n",
       "      <td>female</td>\n",
       "      <td>38.0</td>\n",
       "      <td>0</td>\n",
       "      <td>0</td>\n",
       "      <td>80.0</td>\n",
       "      <td>Polizón</td>\n",
       "      <td>First</td>\n",
       "      <td>woman</td>\n",
       "      <td>False</td>\n",
       "      <td>B</td>\n",
       "      <td>Desconocida</td>\n",
       "      <td>yes</td>\n",
       "      <td>True</td>\n",
       "    </tr>\n",
       "    <tr>\n",
       "      <th>829</th>\n",
       "      <td>1</td>\n",
       "      <td>1</td>\n",
       "      <td>female</td>\n",
       "      <td>62.0</td>\n",
       "      <td>0</td>\n",
       "      <td>0</td>\n",
       "      <td>80.0</td>\n",
       "      <td>Polizón</td>\n",
       "      <td>First</td>\n",
       "      <td>woman</td>\n",
       "      <td>False</td>\n",
       "      <td>B</td>\n",
       "      <td>Desconocida</td>\n",
       "      <td>yes</td>\n",
       "      <td>True</td>\n",
       "    </tr>\n",
       "  </tbody>\n",
       "</table>\n",
       "</div>"
      ],
      "text/plain": [
       "     survived  pclass     sex   age  sibsp  parch  fare embarked  class   \n",
       "61          1       1  female  38.0      0      0  80.0  Polizón  First  \\\n",
       "829         1       1  female  62.0      0      0  80.0  Polizón  First   \n",
       "\n",
       "       who  adult_male deck  embark_town alive  alone  \n",
       "61   woman       False    B  Desconocida   yes   True  \n",
       "829  woman       False    B  Desconocida   yes   True  "
      ]
     },
     "execution_count": 140,
     "metadata": {},
     "output_type": "execute_result"
    }
   ],
   "source": [
    "df_titanic.loc[df_titanic[\"embark_town\"] == \"Desconocida\"]"
   ]
  },
  {
   "cell_type": "markdown",
   "id": "israeli-billion",
   "metadata": {},
   "source": [
    "##### CATEGÓRICAS EN DATAFRAME \n",
    "🔎📚➡[DOCU](https://runebook.dev/es/docs/pandas/user_guide/categorical)"
   ]
  },
  {
   "cell_type": "code",
   "execution_count": 191,
   "id": "f39579f8",
   "metadata": {},
   "outputs": [
    {
     "data": {
      "text/html": [
       "<div>\n",
       "<style scoped>\n",
       "    .dataframe tbody tr th:only-of-type {\n",
       "        vertical-align: middle;\n",
       "    }\n",
       "\n",
       "    .dataframe tbody tr th {\n",
       "        vertical-align: top;\n",
       "    }\n",
       "\n",
       "    .dataframe thead th {\n",
       "        text-align: right;\n",
       "    }\n",
       "</style>\n",
       "<table border=\"1\" class=\"dataframe\">\n",
       "  <thead>\n",
       "    <tr style=\"text-align: right;\">\n",
       "      <th></th>\n",
       "      <th>survived</th>\n",
       "      <th>pclass</th>\n",
       "      <th>sex</th>\n",
       "      <th>age</th>\n",
       "      <th>sibsp</th>\n",
       "      <th>parch</th>\n",
       "      <th>fare</th>\n",
       "      <th>embarked</th>\n",
       "      <th>class</th>\n",
       "      <th>who</th>\n",
       "      <th>adult_male</th>\n",
       "      <th>deck</th>\n",
       "      <th>embark_town</th>\n",
       "      <th>alive</th>\n",
       "      <th>alone</th>\n",
       "    </tr>\n",
       "  </thead>\n",
       "  <tbody>\n",
       "    <tr>\n",
       "      <th>0</th>\n",
       "      <td>0</td>\n",
       "      <td>3</td>\n",
       "      <td>male</td>\n",
       "      <td>22.0</td>\n",
       "      <td>1</td>\n",
       "      <td>0</td>\n",
       "      <td>7.2500</td>\n",
       "      <td>S</td>\n",
       "      <td>Third</td>\n",
       "      <td>man</td>\n",
       "      <td>True</td>\n",
       "      <td>NaN</td>\n",
       "      <td>Southampton</td>\n",
       "      <td>no</td>\n",
       "      <td>False</td>\n",
       "    </tr>\n",
       "    <tr>\n",
       "      <th>1</th>\n",
       "      <td>1</td>\n",
       "      <td>1</td>\n",
       "      <td>female</td>\n",
       "      <td>38.0</td>\n",
       "      <td>1</td>\n",
       "      <td>0</td>\n",
       "      <td>71.2833</td>\n",
       "      <td>C</td>\n",
       "      <td>First</td>\n",
       "      <td>woman</td>\n",
       "      <td>False</td>\n",
       "      <td>C</td>\n",
       "      <td>Cherbourg</td>\n",
       "      <td>yes</td>\n",
       "      <td>False</td>\n",
       "    </tr>\n",
       "    <tr>\n",
       "      <th>2</th>\n",
       "      <td>1</td>\n",
       "      <td>3</td>\n",
       "      <td>female</td>\n",
       "      <td>26.0</td>\n",
       "      <td>0</td>\n",
       "      <td>0</td>\n",
       "      <td>7.9250</td>\n",
       "      <td>S</td>\n",
       "      <td>Third</td>\n",
       "      <td>woman</td>\n",
       "      <td>False</td>\n",
       "      <td>NaN</td>\n",
       "      <td>Southampton</td>\n",
       "      <td>yes</td>\n",
       "      <td>True</td>\n",
       "    </tr>\n",
       "    <tr>\n",
       "      <th>3</th>\n",
       "      <td>1</td>\n",
       "      <td>1</td>\n",
       "      <td>female</td>\n",
       "      <td>35.0</td>\n",
       "      <td>1</td>\n",
       "      <td>0</td>\n",
       "      <td>53.1000</td>\n",
       "      <td>S</td>\n",
       "      <td>First</td>\n",
       "      <td>woman</td>\n",
       "      <td>False</td>\n",
       "      <td>C</td>\n",
       "      <td>Southampton</td>\n",
       "      <td>yes</td>\n",
       "      <td>False</td>\n",
       "    </tr>\n",
       "    <tr>\n",
       "      <th>4</th>\n",
       "      <td>0</td>\n",
       "      <td>3</td>\n",
       "      <td>male</td>\n",
       "      <td>35.0</td>\n",
       "      <td>0</td>\n",
       "      <td>0</td>\n",
       "      <td>8.0500</td>\n",
       "      <td>S</td>\n",
       "      <td>Third</td>\n",
       "      <td>man</td>\n",
       "      <td>True</td>\n",
       "      <td>NaN</td>\n",
       "      <td>Southampton</td>\n",
       "      <td>no</td>\n",
       "      <td>True</td>\n",
       "    </tr>\n",
       "  </tbody>\n",
       "</table>\n",
       "</div>"
      ],
      "text/plain": [
       "   survived  pclass     sex   age  sibsp  parch     fare embarked  class   \n",
       "0         0       3    male  22.0      1      0   7.2500        S  Third  \\\n",
       "1         1       1  female  38.0      1      0  71.2833        C  First   \n",
       "2         1       3  female  26.0      0      0   7.9250        S  Third   \n",
       "3         1       1  female  35.0      1      0  53.1000        S  First   \n",
       "4         0       3    male  35.0      0      0   8.0500        S  Third   \n",
       "\n",
       "     who  adult_male deck  embark_town alive  alone  \n",
       "0    man        True  NaN  Southampton    no  False  \n",
       "1  woman       False    C    Cherbourg   yes  False  \n",
       "2  woman       False  NaN  Southampton   yes   True  \n",
       "3  woman       False    C  Southampton   yes  False  \n",
       "4    man        True  NaN  Southampton    no   True  "
      ]
     },
     "execution_count": 191,
     "metadata": {},
     "output_type": "execute_result"
    }
   ],
   "source": [
    "df_titanic = sns.load_dataset(\"titanic\")\n",
    "df_titanic.head()"
   ]
  },
  {
   "cell_type": "code",
   "execution_count": 168,
   "id": "b5b69069",
   "metadata": {},
   "outputs": [
    {
     "name": "stdout",
     "output_type": "stream",
     "text": [
      "<class 'pandas.core.frame.DataFrame'>\n",
      "RangeIndex: 891 entries, 0 to 890\n",
      "Data columns (total 15 columns):\n",
      " #   Column       Non-Null Count  Dtype   \n",
      "---  ------       --------------  -----   \n",
      " 0   survived     891 non-null    int64   \n",
      " 1   pclass       891 non-null    int64   \n",
      " 2   sex          891 non-null    object  \n",
      " 3   age          714 non-null    float64 \n",
      " 4   sibsp        891 non-null    int64   \n",
      " 5   parch        891 non-null    int64   \n",
      " 6   fare         891 non-null    float64 \n",
      " 7   embarked     889 non-null    object  \n",
      " 8   class        891 non-null    category\n",
      " 9   who          891 non-null    object  \n",
      " 10  adult_male   891 non-null    bool    \n",
      " 11  deck         203 non-null    category\n",
      " 12  embark_town  889 non-null    object  \n",
      " 13  alive        891 non-null    object  \n",
      " 14  alone        891 non-null    bool    \n",
      "dtypes: bool(2), category(2), float64(2), int64(4), object(5)\n",
      "memory usage: 80.7+ KB\n"
     ]
    }
   ],
   "source": [
    "df_titanic.info()"
   ]
  },
  {
   "cell_type": "code",
   "execution_count": 169,
   "id": "51071b4c",
   "metadata": {},
   "outputs": [
    {
     "data": {
      "text/plain": [
       "deck\n",
       "C    59\n",
       "B    47\n",
       "D    33\n",
       "E    32\n",
       "A    15\n",
       "F    13\n",
       "G     4\n",
       "Name: count, dtype: int64"
      ]
     },
     "execution_count": 169,
     "metadata": {},
     "output_type": "execute_result"
    }
   ],
   "source": [
    "df_titanic.deck.value_counts()"
   ]
  },
  {
   "cell_type": "code",
   "execution_count": 172,
   "id": "78d79698",
   "metadata": {},
   "outputs": [
    {
     "data": {
      "text/plain": [
       "688"
      ]
     },
     "execution_count": 172,
     "metadata": {},
     "output_type": "execute_result"
    }
   ],
   "source": [
    "df_titanic.deck.isna().sum()"
   ]
  },
  {
   "cell_type": "code",
   "execution_count": 173,
   "id": "c712b323",
   "metadata": {},
   "outputs": [
    {
     "data": {
      "text/plain": [
       "Index(['A', 'B', 'C', 'D', 'E', 'F', 'G'], dtype='object')"
      ]
     },
     "execution_count": 173,
     "metadata": {},
     "output_type": "execute_result"
    }
   ],
   "source": [
    "df_titanic.deck.values.categories #valores que toman las categorias"
   ]
  },
  {
   "cell_type": "code",
   "execution_count": 175,
   "id": "ac0075f1",
   "metadata": {},
   "outputs": [],
   "source": [
    "#df_titanic.deck.fillna(\"Unknown\", inplace=True) # ERROR LO DEJO A PROPÓSITO porque no puedo añadir una categoría que no está\n",
    "# ValueError: Cannot setitem on a Categorical with a new category, set the categories first"
   ]
  },
  {
   "cell_type": "code",
   "execution_count": 194,
   "id": "af90a1f7",
   "metadata": {},
   "outputs": [],
   "source": [
    "df_titanic.deck = df_titanic.deck.cat.add_categories(\"Desconocido\")"
   ]
  },
  {
   "cell_type": "code",
   "execution_count": 193,
   "id": "3ff7138c",
   "metadata": {},
   "outputs": [
    {
     "data": {
      "text/plain": [
       "Index(['A', 'B', 'C', 'D', 'E', 'F', 'G'], dtype='object')"
      ]
     },
     "execution_count": 193,
     "metadata": {},
     "output_type": "execute_result"
    }
   ],
   "source": [
    "df_titanic.deck.values.categories"
   ]
  },
  {
   "cell_type": "code",
   "execution_count": 196,
   "id": "dd18d6bc",
   "metadata": {},
   "outputs": [],
   "source": [
    "df_titanic.deck.fillna(\"Desconocido\", inplace=True) # Ahora ya puedo hacer fillna con Desconocido "
   ]
  },
  {
   "cell_type": "code",
   "execution_count": 197,
   "id": "0ee12fb6",
   "metadata": {},
   "outputs": [
    {
     "data": {
      "text/plain": [
       "deck\n",
       "Desconocido    688\n",
       "C               59\n",
       "B               47\n",
       "D               33\n",
       "E               32\n",
       "A               15\n",
       "F               13\n",
       "G                4\n",
       "Name: count, dtype: int64"
      ]
     },
     "execution_count": 197,
     "metadata": {},
     "output_type": "execute_result"
    }
   ],
   "source": [
    "df_titanic.deck.value_counts()"
   ]
  },
  {
   "cell_type": "code",
   "execution_count": 198,
   "id": "random-austin",
   "metadata": {},
   "outputs": [
    {
     "name": "stdout",
     "output_type": "stream",
     "text": [
      "<class 'pandas.core.frame.DataFrame'>\n",
      "RangeIndex: 891 entries, 0 to 890\n",
      "Data columns (total 15 columns):\n",
      " #   Column       Non-Null Count  Dtype   \n",
      "---  ------       --------------  -----   \n",
      " 0   survived     891 non-null    int64   \n",
      " 1   pclass       891 non-null    int64   \n",
      " 2   sex          891 non-null    object  \n",
      " 3   age          714 non-null    float64 \n",
      " 4   sibsp        891 non-null    int64   \n",
      " 5   parch        891 non-null    int64   \n",
      " 6   fare         891 non-null    float64 \n",
      " 7   embarked     889 non-null    object  \n",
      " 8   class        891 non-null    category\n",
      " 9   who          891 non-null    object  \n",
      " 10  adult_male   891 non-null    bool    \n",
      " 11  deck         891 non-null    category\n",
      " 12  embark_town  889 non-null    object  \n",
      " 13  alive        891 non-null    object  \n",
      " 14  alone        891 non-null    bool    \n",
      "dtypes: bool(2), category(2), float64(2), int64(4), object(5)\n",
      "memory usage: 80.7+ KB\n"
     ]
    }
   ],
   "source": [
    "df_titanic.info()"
   ]
  },
  {
   "cell_type": "markdown",
   "id": "documentary-declaration",
   "metadata": {},
   "source": [
    "## Borramos los duplicados"
   ]
  },
  {
   "cell_type": "code",
   "execution_count": 199,
   "id": "settled-february",
   "metadata": {},
   "outputs": [
    {
     "data": {
      "text/html": [
       "<div>\n",
       "<style scoped>\n",
       "    .dataframe tbody tr th:only-of-type {\n",
       "        vertical-align: middle;\n",
       "    }\n",
       "\n",
       "    .dataframe tbody tr th {\n",
       "        vertical-align: top;\n",
       "    }\n",
       "\n",
       "    .dataframe thead th {\n",
       "        text-align: right;\n",
       "    }\n",
       "</style>\n",
       "<table border=\"1\" class=\"dataframe\">\n",
       "  <thead>\n",
       "    <tr style=\"text-align: right;\">\n",
       "      <th></th>\n",
       "      <th>survived</th>\n",
       "      <th>pclass</th>\n",
       "      <th>sex</th>\n",
       "      <th>age</th>\n",
       "      <th>sibsp</th>\n",
       "      <th>parch</th>\n",
       "      <th>fare</th>\n",
       "      <th>embarked</th>\n",
       "      <th>class</th>\n",
       "      <th>who</th>\n",
       "      <th>adult_male</th>\n",
       "      <th>deck</th>\n",
       "      <th>embark_town</th>\n",
       "      <th>alive</th>\n",
       "      <th>alone</th>\n",
       "    </tr>\n",
       "  </thead>\n",
       "  <tbody>\n",
       "    <tr>\n",
       "      <th>0</th>\n",
       "      <td>0</td>\n",
       "      <td>3</td>\n",
       "      <td>male</td>\n",
       "      <td>22.0</td>\n",
       "      <td>1</td>\n",
       "      <td>0</td>\n",
       "      <td>7.2500</td>\n",
       "      <td>S</td>\n",
       "      <td>Third</td>\n",
       "      <td>man</td>\n",
       "      <td>True</td>\n",
       "      <td>Desconocido</td>\n",
       "      <td>Southampton</td>\n",
       "      <td>no</td>\n",
       "      <td>False</td>\n",
       "    </tr>\n",
       "    <tr>\n",
       "      <th>1</th>\n",
       "      <td>1</td>\n",
       "      <td>1</td>\n",
       "      <td>female</td>\n",
       "      <td>38.0</td>\n",
       "      <td>1</td>\n",
       "      <td>0</td>\n",
       "      <td>71.2833</td>\n",
       "      <td>C</td>\n",
       "      <td>First</td>\n",
       "      <td>woman</td>\n",
       "      <td>False</td>\n",
       "      <td>C</td>\n",
       "      <td>Cherbourg</td>\n",
       "      <td>yes</td>\n",
       "      <td>False</td>\n",
       "    </tr>\n",
       "    <tr>\n",
       "      <th>2</th>\n",
       "      <td>1</td>\n",
       "      <td>3</td>\n",
       "      <td>female</td>\n",
       "      <td>26.0</td>\n",
       "      <td>0</td>\n",
       "      <td>0</td>\n",
       "      <td>7.9250</td>\n",
       "      <td>S</td>\n",
       "      <td>Third</td>\n",
       "      <td>woman</td>\n",
       "      <td>False</td>\n",
       "      <td>Desconocido</td>\n",
       "      <td>Southampton</td>\n",
       "      <td>yes</td>\n",
       "      <td>True</td>\n",
       "    </tr>\n",
       "    <tr>\n",
       "      <th>3</th>\n",
       "      <td>1</td>\n",
       "      <td>1</td>\n",
       "      <td>female</td>\n",
       "      <td>35.0</td>\n",
       "      <td>1</td>\n",
       "      <td>0</td>\n",
       "      <td>53.1000</td>\n",
       "      <td>S</td>\n",
       "      <td>First</td>\n",
       "      <td>woman</td>\n",
       "      <td>False</td>\n",
       "      <td>C</td>\n",
       "      <td>Southampton</td>\n",
       "      <td>yes</td>\n",
       "      <td>False</td>\n",
       "    </tr>\n",
       "    <tr>\n",
       "      <th>4</th>\n",
       "      <td>0</td>\n",
       "      <td>3</td>\n",
       "      <td>male</td>\n",
       "      <td>35.0</td>\n",
       "      <td>0</td>\n",
       "      <td>0</td>\n",
       "      <td>8.0500</td>\n",
       "      <td>S</td>\n",
       "      <td>Third</td>\n",
       "      <td>man</td>\n",
       "      <td>True</td>\n",
       "      <td>Desconocido</td>\n",
       "      <td>Southampton</td>\n",
       "      <td>no</td>\n",
       "      <td>True</td>\n",
       "    </tr>\n",
       "  </tbody>\n",
       "</table>\n",
       "</div>"
      ],
      "text/plain": [
       "   survived  pclass     sex   age  sibsp  parch     fare embarked  class   \n",
       "0         0       3    male  22.0      1      0   7.2500        S  Third  \\\n",
       "1         1       1  female  38.0      1      0  71.2833        C  First   \n",
       "2         1       3  female  26.0      0      0   7.9250        S  Third   \n",
       "3         1       1  female  35.0      1      0  53.1000        S  First   \n",
       "4         0       3    male  35.0      0      0   8.0500        S  Third   \n",
       "\n",
       "     who  adult_male         deck  embark_town alive  alone  \n",
       "0    man        True  Desconocido  Southampton    no  False  \n",
       "1  woman       False            C    Cherbourg   yes  False  \n",
       "2  woman       False  Desconocido  Southampton   yes   True  \n",
       "3  woman       False            C  Southampton   yes  False  \n",
       "4    man        True  Desconocido  Southampton    no   True  "
      ]
     },
     "execution_count": 199,
     "metadata": {},
     "output_type": "execute_result"
    }
   ],
   "source": [
    "df_titanic.drop_duplicates().head()"
   ]
  },
  {
   "cell_type": "code",
   "execution_count": 202,
   "id": "90b89a62",
   "metadata": {},
   "outputs": [
    {
     "ename": "KeyError",
     "evalue": "'Large_Bags'",
     "output_type": "error",
     "traceback": [
      "\u001b[0;31m---------------------------------------------------------------------------\u001b[0m",
      "\u001b[0;31mKeyError\u001b[0m                                  Traceback (most recent call last)",
      "File \u001b[0;32m~/miniconda3/envs/gamma/lib/python3.9/site-packages/pandas/core/indexes/base.py:3652\u001b[0m, in \u001b[0;36mIndex.get_loc\u001b[0;34m(self, key)\u001b[0m\n\u001b[1;32m   3651\u001b[0m \u001b[38;5;28;01mtry\u001b[39;00m:\n\u001b[0;32m-> 3652\u001b[0m     \u001b[38;5;28;01mreturn\u001b[39;00m \u001b[38;5;28;43mself\u001b[39;49m\u001b[38;5;241;43m.\u001b[39;49m\u001b[43m_engine\u001b[49m\u001b[38;5;241;43m.\u001b[39;49m\u001b[43mget_loc\u001b[49m\u001b[43m(\u001b[49m\u001b[43mcasted_key\u001b[49m\u001b[43m)\u001b[49m\n\u001b[1;32m   3653\u001b[0m \u001b[38;5;28;01mexcept\u001b[39;00m \u001b[38;5;167;01mKeyError\u001b[39;00m \u001b[38;5;28;01mas\u001b[39;00m err:\n",
      "File \u001b[0;32m~/miniconda3/envs/gamma/lib/python3.9/site-packages/pandas/_libs/index.pyx:147\u001b[0m, in \u001b[0;36mpandas._libs.index.IndexEngine.get_loc\u001b[0;34m()\u001b[0m\n",
      "File \u001b[0;32m~/miniconda3/envs/gamma/lib/python3.9/site-packages/pandas/_libs/index.pyx:176\u001b[0m, in \u001b[0;36mpandas._libs.index.IndexEngine.get_loc\u001b[0;34m()\u001b[0m\n",
      "File \u001b[0;32mpandas/_libs/hashtable_class_helper.pxi:7080\u001b[0m, in \u001b[0;36mpandas._libs.hashtable.PyObjectHashTable.get_item\u001b[0;34m()\u001b[0m\n",
      "File \u001b[0;32mpandas/_libs/hashtable_class_helper.pxi:7088\u001b[0m, in \u001b[0;36mpandas._libs.hashtable.PyObjectHashTable.get_item\u001b[0;34m()\u001b[0m\n",
      "\u001b[0;31mKeyError\u001b[0m: 'Large_Bags'",
      "\nThe above exception was the direct cause of the following exception:\n",
      "\u001b[0;31mKeyError\u001b[0m                                  Traceback (most recent call last)",
      "Cell \u001b[0;32mIn[202], line 1\u001b[0m\n\u001b[0;32m----> 1\u001b[0m np\u001b[38;5;241m.\u001b[39misnan(\u001b[43mdf\u001b[49m\u001b[38;5;241;43m.\u001b[39;49m\u001b[43mloc\u001b[49m\u001b[43m[\u001b[49m\u001b[38;5;241;43m3\u001b[39;49m\u001b[43m]\u001b[49m\u001b[43m[\u001b[49m\u001b[38;5;124;43m\"\u001b[39;49m\u001b[38;5;124;43mLarge_Bags\u001b[39;49m\u001b[38;5;124;43m\"\u001b[39;49m\u001b[43m]\u001b[49m)\n",
      "File \u001b[0;32m~/miniconda3/envs/gamma/lib/python3.9/site-packages/pandas/core/series.py:1007\u001b[0m, in \u001b[0;36mSeries.__getitem__\u001b[0;34m(self, key)\u001b[0m\n\u001b[1;32m   1004\u001b[0m     \u001b[38;5;28;01mreturn\u001b[39;00m \u001b[38;5;28mself\u001b[39m\u001b[38;5;241m.\u001b[39m_values[key]\n\u001b[1;32m   1006\u001b[0m \u001b[38;5;28;01melif\u001b[39;00m key_is_scalar:\n\u001b[0;32m-> 1007\u001b[0m     \u001b[38;5;28;01mreturn\u001b[39;00m \u001b[38;5;28;43mself\u001b[39;49m\u001b[38;5;241;43m.\u001b[39;49m\u001b[43m_get_value\u001b[49m\u001b[43m(\u001b[49m\u001b[43mkey\u001b[49m\u001b[43m)\u001b[49m\n\u001b[1;32m   1009\u001b[0m \u001b[38;5;28;01mif\u001b[39;00m is_hashable(key):\n\u001b[1;32m   1010\u001b[0m     \u001b[38;5;66;03m# Otherwise index.get_value will raise InvalidIndexError\u001b[39;00m\n\u001b[1;32m   1011\u001b[0m     \u001b[38;5;28;01mtry\u001b[39;00m:\n\u001b[1;32m   1012\u001b[0m         \u001b[38;5;66;03m# For labels that don't resolve as scalars like tuples and frozensets\u001b[39;00m\n",
      "File \u001b[0;32m~/miniconda3/envs/gamma/lib/python3.9/site-packages/pandas/core/series.py:1116\u001b[0m, in \u001b[0;36mSeries._get_value\u001b[0;34m(self, label, takeable)\u001b[0m\n\u001b[1;32m   1113\u001b[0m     \u001b[38;5;28;01mreturn\u001b[39;00m \u001b[38;5;28mself\u001b[39m\u001b[38;5;241m.\u001b[39m_values[label]\n\u001b[1;32m   1115\u001b[0m \u001b[38;5;66;03m# Similar to Index.get_value, but we do not fall back to positional\u001b[39;00m\n\u001b[0;32m-> 1116\u001b[0m loc \u001b[38;5;241m=\u001b[39m \u001b[38;5;28;43mself\u001b[39;49m\u001b[38;5;241;43m.\u001b[39;49m\u001b[43mindex\u001b[49m\u001b[38;5;241;43m.\u001b[39;49m\u001b[43mget_loc\u001b[49m\u001b[43m(\u001b[49m\u001b[43mlabel\u001b[49m\u001b[43m)\u001b[49m\n\u001b[1;32m   1118\u001b[0m \u001b[38;5;28;01mif\u001b[39;00m is_integer(loc):\n\u001b[1;32m   1119\u001b[0m     \u001b[38;5;28;01mreturn\u001b[39;00m \u001b[38;5;28mself\u001b[39m\u001b[38;5;241m.\u001b[39m_values[loc]\n",
      "File \u001b[0;32m~/miniconda3/envs/gamma/lib/python3.9/site-packages/pandas/core/indexes/base.py:3654\u001b[0m, in \u001b[0;36mIndex.get_loc\u001b[0;34m(self, key)\u001b[0m\n\u001b[1;32m   3652\u001b[0m     \u001b[38;5;28;01mreturn\u001b[39;00m \u001b[38;5;28mself\u001b[39m\u001b[38;5;241m.\u001b[39m_engine\u001b[38;5;241m.\u001b[39mget_loc(casted_key)\n\u001b[1;32m   3653\u001b[0m \u001b[38;5;28;01mexcept\u001b[39;00m \u001b[38;5;167;01mKeyError\u001b[39;00m \u001b[38;5;28;01mas\u001b[39;00m err:\n\u001b[0;32m-> 3654\u001b[0m     \u001b[38;5;28;01mraise\u001b[39;00m \u001b[38;5;167;01mKeyError\u001b[39;00m(key) \u001b[38;5;28;01mfrom\u001b[39;00m \u001b[38;5;21;01merr\u001b[39;00m\n\u001b[1;32m   3655\u001b[0m \u001b[38;5;28;01mexcept\u001b[39;00m \u001b[38;5;167;01mTypeError\u001b[39;00m:\n\u001b[1;32m   3656\u001b[0m     \u001b[38;5;66;03m# If we have a listlike key, _check_indexing_error will raise\u001b[39;00m\n\u001b[1;32m   3657\u001b[0m     \u001b[38;5;66;03m#  InvalidIndexError. Otherwise we fall through and re-raise\u001b[39;00m\n\u001b[1;32m   3658\u001b[0m     \u001b[38;5;66;03m#  the TypeError.\u001b[39;00m\n\u001b[1;32m   3659\u001b[0m     \u001b[38;5;28mself\u001b[39m\u001b[38;5;241m.\u001b[39m_check_indexing_error(key)\n",
      "\u001b[0;31mKeyError\u001b[0m: 'Large_Bags'"
     ]
    }
   ],
   "source": [
    "np.isnan(df.loc[3][\"Large_Bags\"])"
   ]
  },
  {
   "cell_type": "code",
   "execution_count": 201,
   "id": "b642c667",
   "metadata": {},
   "outputs": [
    {
     "data": {
      "text/plain": [
       "'conventional'"
      ]
     },
     "execution_count": 201,
     "metadata": {},
     "output_type": "execute_result"
    }
   ],
   "source": [
    "df.loc[3][\"type\"]"
   ]
  },
  {
   "cell_type": "markdown",
   "id": "tamil-gibson",
   "metadata": {},
   "source": [
    "# Agregación de datos\n",
    "## GroupBy (nos suena?? 🤔)\n",
    "GroupBy de Pandas es una función potente y versátil en Python. Nos permite dividir sus datos en grupos separados para realizar cálculos para un mejor análisis.\n",
    "Un DataFrame puede agruparse en sus filas (eje=0) o en sus columnas (eje=1). Una vez hecho esto, se aplica una función a cada grupo, produciendo un nuevo valor. Finalmente, los resultados de todas esas aplicaciones de funciones se combinan en un objeto resultado. La forma del objeto resultante dependerá normalmente de lo que se haga con los datos."
   ]
  },
  {
   "cell_type": "markdown",
   "id": "surprised-malpractice",
   "metadata": {},
   "source": [
    "https://pandas.pydata.org/docs/reference/api/pandas.DataFrame.groupby.html"
   ]
  },
  {
   "cell_type": "code",
   "execution_count": null,
   "id": "checked-stranger",
   "metadata": {},
   "outputs": [],
   "source": [
    "df = pd.DataFrame({'key1' : ['a', 'a', 'b', 'b', 'a'], 'key2' : ['one', 'two', 'one', 'two', 'one'],'data1' : np.random.randn(5),'data2' : np.random.randn(5)})"
   ]
  },
  {
   "cell_type": "code",
   "execution_count": null,
   "id": "incredible-shopping",
   "metadata": {},
   "outputs": [],
   "source": [
    "df.head()"
   ]
  },
  {
   "cell_type": "markdown",
   "id": "separate-tsunami",
   "metadata": {},
   "source": [
    "Supongamos que queremos calcular la media de la columna data1 utilizando las etiquetas de key1. Hay varias formas de hacerlo. Una es acceder a datos1 y llamar a groupby con la columna (una Serie) en key1.\n",
    "Los datos (una Serie) han sido agregados según la clave de grupo, produciendo una nueva Serie que ahora está indexada por los valores únicos de la columna clave1. El índice resultante tiene el nombre 'clave1' porque la columna DataFrame `df['clave1']` lo hizo."
   ]
  },
  {
   "cell_type": "code",
   "execution_count": null,
   "id": "worldwide-biography",
   "metadata": {},
   "outputs": [],
   "source": [
    "group = df[\"data1\"].groupby(df[\"key1\"]).mean()"
   ]
  },
  {
   "cell_type": "code",
   "execution_count": null,
   "id": "identified-conducting",
   "metadata": {},
   "outputs": [],
   "source": [
    "group # ESTO ES UNA SERIE DE PANDAS"
   ]
  },
  {
   "cell_type": "code",
   "execution_count": null,
   "id": "183032fb",
   "metadata": {},
   "outputs": [],
   "source": [
    "type(group)"
   ]
  },
  {
   "cell_type": "code",
   "execution_count": null,
   "id": "399c808c",
   "metadata": {},
   "outputs": [],
   "source": [
    "dataframe = pd.DataFrame(df[\"data1\"].groupby(df[\"key1\"]).mean())"
   ]
  },
  {
   "cell_type": "code",
   "execution_count": null,
   "id": "09587b26",
   "metadata": {},
   "outputs": [],
   "source": [
    "dataframe"
   ]
  },
  {
   "cell_type": "code",
   "execution_count": null,
   "id": "1e4d3c75",
   "metadata": {},
   "outputs": [],
   "source": [
    "avocado = pd.read_csv(\"../datasets/avocado_kaggle.csv\")\n",
    "avocado.sample()"
   ]
  },
  {
   "cell_type": "code",
   "execution_count": null,
   "id": "3b9269da",
   "metadata": {},
   "outputs": [],
   "source": [
    "avocado[\"AveragePrice\"].groupby(avocado[\"type\"]).mean()"
   ]
  },
  {
   "cell_type": "markdown",
   "id": "imposed-village",
   "metadata": {},
   "source": [
    "### Pero, ¿y si quiero agrupar por más columnas?"
   ]
  },
  {
   "cell_type": "code",
   "execution_count": null,
   "id": "equal-radio",
   "metadata": {},
   "outputs": [],
   "source": [
    "df.groupby([\"key1\", \"key2\"]).mean()"
   ]
  },
  {
   "cell_type": "markdown",
   "id": "rising-outside",
   "metadata": {},
   "source": [
    "Otra forma de groupby con sintaxis agg     \n",
    "https://pandas.pydata.org/docs/reference/api/pandas.core.groupby.DataFrameGroupBy.aggregate.html\n",
    "\n",
    "- mean\n",
    "- sum\n",
    "- count"
   ]
  },
  {
   "cell_type": "code",
   "execution_count": null,
   "id": "cross-guatemala",
   "metadata": {},
   "outputs": [],
   "source": [
    "df.groupby(\"key1\").agg({\"data1\": \"sum\"})"
   ]
  },
  {
   "cell_type": "code",
   "execution_count": null,
   "id": "intellectual-median",
   "metadata": {},
   "outputs": [],
   "source": [
    "df.groupby(\"key2\").agg({\"data1\": \"sum\", \"data2\":\"mean\"})"
   ]
  },
  {
   "cell_type": "code",
   "execution_count": null,
   "id": "express-mentor",
   "metadata": {},
   "outputs": [],
   "source": [
    "avocado.sample()"
   ]
  },
  {
   "cell_type": "code",
   "execution_count": null,
   "id": "dominant-minutes",
   "metadata": {},
   "outputs": [],
   "source": [
    "avocado.groupby(\"region\").agg({\"AveragePrice\":\"mean\", \"Total Bags\": \"sum\"})"
   ]
  },
  {
   "cell_type": "code",
   "execution_count": null,
   "id": "traditional-heavy",
   "metadata": {},
   "outputs": [],
   "source": [
    "meloguardo = avocado.groupby([\"region\", \"type\"]).agg({\"AveragePrice\":\"mean\", \"Total Bags\": \"sum\"})"
   ]
  },
  {
   "cell_type": "code",
   "execution_count": null,
   "id": "d756a206",
   "metadata": {},
   "outputs": [],
   "source": [
    "meloguardo.head(20)"
   ]
  },
  {
   "cell_type": "code",
   "execution_count": null,
   "id": "christian-trigger",
   "metadata": {},
   "outputs": [],
   "source": [
    "# Esto es lo mismo que lo anterior, añado la columna AGE y al final hago la media"
   ]
  },
  {
   "cell_type": "code",
   "execution_count": null,
   "id": "essential-computer",
   "metadata": {},
   "outputs": [],
   "source": [
    "df_titanic.groupby([\"sex\", \"class\"]).agg({\"age\":\"mean\"})"
   ]
  },
  {
   "cell_type": "markdown",
   "id": "innovative-hormone",
   "metadata": {},
   "source": [
    "## Uniendo de Dataframes\n",
    "- https://realpython.com/pandas-merge-join-and-concat/\n",
    "- https://pandas.pydata.org/pandas-docs/stable/user_guide/merging.html\n",
    "\n",
    "\n",
    "## Concat\n",
    "Unimos dataframes a lo largo del axis 0 uno debajo de otro. Alinea las columnas por etiqueta. Lo que viene siendo un union de SQL verdad?"
   ]
  },
  {
   "cell_type": "code",
   "execution_count": null,
   "id": "stuck-activity",
   "metadata": {},
   "outputs": [],
   "source": [
    "import pandas as pd"
   ]
  },
  {
   "cell_type": "code",
   "execution_count": null,
   "id": "narrow-maximum",
   "metadata": {},
   "outputs": [],
   "source": [
    "df = pd.read_csv('https://raw.githubusercontent.com/justmarkham/DAT8/master/data/u.user',\n",
    "                             sep='|', \n",
    "                             index_col='user_id')"
   ]
  },
  {
   "cell_type": "code",
   "execution_count": null,
   "id": "beginning-liver",
   "metadata": {},
   "outputs": [],
   "source": [
    "df.head()"
   ]
  },
  {
   "cell_type": "code",
   "execution_count": null,
   "id": "common-wright",
   "metadata": {},
   "outputs": [],
   "source": [
    "uno=df.sample(frac=0.3)\n",
    "dos=df.sample(frac=0.4)"
   ]
  },
  {
   "cell_type": "code",
   "execution_count": null,
   "id": "framed-philadelphia",
   "metadata": {},
   "outputs": [],
   "source": [
    "uno.head()"
   ]
  },
  {
   "cell_type": "code",
   "execution_count": null,
   "id": "differential-testament",
   "metadata": {},
   "outputs": [],
   "source": [
    "dos.head()"
   ]
  },
  {
   "cell_type": "code",
   "execution_count": null,
   "id": "deadly-publicity",
   "metadata": {},
   "outputs": [],
   "source": [
    "uno.shape, dos.shape"
   ]
  },
  {
   "cell_type": "code",
   "execution_count": null,
   "id": "polyphonic-motion",
   "metadata": {},
   "outputs": [],
   "source": [
    "pd.concat([uno, dos]).head()  # esto recibe una lista de dataframes"
   ]
  },
  {
   "cell_type": "code",
   "execution_count": null,
   "id": "tested-burner",
   "metadata": {},
   "outputs": [],
   "source": [
    "concatenado=pd.concat([uno, dos])\n",
    "\n",
    "concatenado.shape"
   ]
  },
  {
   "cell_type": "code",
   "execution_count": null,
   "id": "vertical-tulsa",
   "metadata": {},
   "outputs": [],
   "source": [
    "# Podemos concatenar uno al lado del otro pero tienen que tener el mismo número de filas"
   ]
  },
  {
   "cell_type": "code",
   "execution_count": null,
   "id": "substantial-public",
   "metadata": {},
   "outputs": [],
   "source": [
    "concat_h=pd.concat([uno, uno], axis=1)"
   ]
  },
  {
   "cell_type": "code",
   "execution_count": null,
   "id": "narrative-receptor",
   "metadata": {},
   "outputs": [],
   "source": [
    "concat_h.head()"
   ]
  },
  {
   "cell_type": "markdown",
   "id": "weekly-klein",
   "metadata": {},
   "source": [
    "### Merge"
   ]
  },
  {
   "cell_type": "markdown",
   "id": "fluid-composer",
   "metadata": {},
   "source": [
    "[Merge()](https://pandas.pydata.org/docs/reference/api/pandas.DataFrame.merge.html) es más útil cuando se desea combinar filas que comparten datos."
   ]
  },
  {
   "cell_type": "code",
   "execution_count": null,
   "id": "northern-approach",
   "metadata": {},
   "outputs": [],
   "source": [
    "df1=pd.DataFrame({'lkey': ['k0', 'k1', 'k2'],\n",
    "                   'B': [1, 2, 3]})\n",
    "\n",
    "df2=pd.DataFrame({'rkey': ['k0', 'k1', 'k2'],\n",
    "                   'B': [4, 6, 7]})"
   ]
  },
  {
   "cell_type": "code",
   "execution_count": null,
   "id": "dangerous-bandwidth",
   "metadata": {},
   "outputs": [],
   "source": [
    "df3=pd.DataFrame({'rkey': ['k0', 'k1', 'k2'],\n",
    "                   'Otracol': [4, 6, 7]})"
   ]
  },
  {
   "cell_type": "code",
   "execution_count": null,
   "id": "grand-programming",
   "metadata": {},
   "outputs": [],
   "source": [
    "df1.head()"
   ]
  },
  {
   "cell_type": "code",
   "execution_count": null,
   "id": "increased-tractor",
   "metadata": {},
   "outputs": [],
   "source": [
    "df2.head()"
   ]
  },
  {
   "cell_type": "code",
   "execution_count": null,
   "id": "opposed-seminar",
   "metadata": {},
   "outputs": [],
   "source": [
    "mergeado=df1.merge(df2, left_on='lkey', right_on='rkey', suffixes=['_izq', 'dcha'])\n",
    "\n",
    "mergeado"
   ]
  },
  {
   "cell_type": "code",
   "execution_count": null,
   "id": "american-chance",
   "metadata": {},
   "outputs": [],
   "source": [
    "df3.head()"
   ]
  },
  {
   "cell_type": "code",
   "execution_count": null,
   "id": "lightweight-bleeding",
   "metadata": {},
   "outputs": [],
   "source": [
    "mer_merge=mergeado.merge(df3, left_on='lkey', right_on='rkey')"
   ]
  },
  {
   "cell_type": "code",
   "execution_count": null,
   "id": "functioning-morning",
   "metadata": {},
   "outputs": [],
   "source": [
    "mer_merge.head()"
   ]
  },
  {
   "cell_type": "code",
   "execution_count": null,
   "id": "fifteen-reality",
   "metadata": {},
   "outputs": [],
   "source": [
    "# Una vez hemos mergeado, nos interesa eliminar la columna repetida"
   ]
  },
  {
   "cell_type": "code",
   "execution_count": null,
   "id": "extensive-collaboration",
   "metadata": {},
   "outputs": [],
   "source": [
    "mer_merge.drop(columns=['rkey_x', 'rkey_y'])"
   ]
  },
  {
   "cell_type": "markdown",
   "id": "encouraging-violence",
   "metadata": {},
   "source": [
    "# Cuando no me coinciden los datos"
   ]
  },
  {
   "cell_type": "code",
   "execution_count": null,
   "id": "differential-cross",
   "metadata": {},
   "outputs": [],
   "source": [
    "df1=pd.DataFrame({'lkey': ['k0', 'k1', 'k2'],\n",
    "                   'B': [1, 2, 3]})\n",
    "\n",
    "df2=pd.DataFrame({'rkey': ['k0', 'k1', 'k3'],\n",
    "                   'B': [4, 6, 7]})"
   ]
  },
  {
   "cell_type": "code",
   "execution_count": null,
   "id": "touched-agency",
   "metadata": {},
   "outputs": [],
   "source": [
    "df1"
   ]
  },
  {
   "cell_type": "code",
   "execution_count": null,
   "id": "offensive-prospect",
   "metadata": {},
   "outputs": [],
   "source": [
    "df2"
   ]
  },
  {
   "cell_type": "code",
   "execution_count": null,
   "id": "green-feedback",
   "metadata": {},
   "outputs": [],
   "source": [
    "df1.merge(df2, left_on='lkey', right_on='rkey')"
   ]
  },
  {
   "cell_type": "code",
   "execution_count": null,
   "id": "chicken-degree",
   "metadata": {},
   "outputs": [],
   "source": [
    "uno_2=pd.DataFrame({'nombre_uno': ['ras', 'sonia', 'ana', 'dobby', 'k4'],\n",
    "                  'dirección': ['calle fantasía', 'a1', 'a2', 'a3', 'a4']})\n",
    "\n",
    "otro_2=pd.DataFrame({'nombre_dos': ['ras', 'ana', 'sonia'],\n",
    "                  'teléfono': ['7245689247', 'b1', 'b2']})"
   ]
  },
  {
   "cell_type": "code",
   "execution_count": null,
   "id": "alien-closing",
   "metadata": {},
   "outputs": [],
   "source": [
    " # Si no pongo how es un INNER y borra donde no haya match"
   ]
  },
  {
   "cell_type": "code",
   "execution_count": null,
   "id": "phantom-agenda",
   "metadata": {},
   "outputs": [],
   "source": [
    "uno_2.merge(otro_2, left_on='nombre_uno', right_on='nombre_dos')"
   ]
  },
  {
   "cell_type": "code",
   "execution_count": null,
   "id": "0ca58689",
   "metadata": {},
   "outputs": [],
   "source": [
    "uno_2.merge(otro_2, left_on='nombre_uno', right_on='nombre_dos', how='right').drop('nombre_dos', axis=1)"
   ]
  },
  {
   "cell_type": "markdown",
   "id": "behavioral-anger",
   "metadata": {},
   "source": [
    "## Join\n",
    "El join, a diferencia del merge, va a unir los dataframes y donde no haya registros en el \"índice\" va a poner NaN"
   ]
  },
  {
   "cell_type": "code",
   "execution_count": null,
   "id": "searching-combine",
   "metadata": {},
   "outputs": [],
   "source": [
    "uno=pd.DataFrame({'key': ['k0', 'k1', 'k2', 'k3', 'k4'],\n",
    "                  'A': ['a0', 'a1', 'a2', 'a3', 'a4']})\n",
    "\n",
    "otro=pd.DataFrame({'key': ['k0', 'k1', 'k2'],\n",
    "                  'B': ['b0', 'b1', 'b2']})"
   ]
  },
  {
   "cell_type": "code",
   "execution_count": null,
   "id": "retired-captain",
   "metadata": {},
   "outputs": [],
   "source": [
    "uno"
   ]
  },
  {
   "cell_type": "code",
   "execution_count": null,
   "id": "fundamental-cooperative",
   "metadata": {},
   "outputs": [],
   "source": [
    "otro"
   ]
  },
  {
   "cell_type": "code",
   "execution_count": null,
   "id": "respective-mustang",
   "metadata": {},
   "outputs": [],
   "source": [
    "uno.join(otro, lsuffix='_uno', rsuffix='_dos')"
   ]
  },
  {
   "cell_type": "code",
   "execution_count": null,
   "id": "adjacent-anchor",
   "metadata": {},
   "outputs": [],
   "source": [
    "otro.join(uno, lsuffix='_uno', rsuffix='_dos')"
   ]
  },
  {
   "cell_type": "code",
   "execution_count": null,
   "id": "civil-kernel",
   "metadata": {},
   "outputs": [],
   "source": [
    "uno.join(otro, lsuffix='_uno', rsuffix='_dos', how='right')"
   ]
  },
  {
   "cell_type": "code",
   "execution_count": null,
   "id": "graduate-disclosure",
   "metadata": {},
   "outputs": [],
   "source": [
    "otro.join(uno, lsuffix='_uno', rsuffix='_dos', how='left')"
   ]
  },
  {
   "cell_type": "code",
   "execution_count": null,
   "id": "dc9a257e",
   "metadata": {},
   "outputs": [],
   "source": [
    "type(uno.join(otro, lsuffix='_uno', rsuffix='_dos'))"
   ]
  },
  {
   "cell_type": "markdown",
   "id": "worthy-delicious",
   "metadata": {},
   "source": [
    "## Exportar datos"
   ]
  },
  {
   "cell_type": "code",
   "execution_count": null,
   "id": "super-milton",
   "metadata": {},
   "outputs": [],
   "source": [
    "otro.to_csv('../datasets/pandas_merge.csv')"
   ]
  },
  {
   "cell_type": "markdown",
   "id": "unlimited-nelson",
   "metadata": {},
   "source": [
    "## Métodos habituales de pandas\n",
    "```python\n",
    "df.head()                     # printea la cabeza, por defecto 5 filas\n",
    "df.tail()                     # pritea la cola, por defecto 5 filas\n",
    "df.describe()                 # descripcion estadistica\n",
    "df.info()                     # informacion del df\n",
    "df.info(memory_usage='deep')\n",
    "df.columns                    # muestra columna\n",
    "df.index                      # muestra indice\n",
    "df.dtypes                     # muestra tipos de datos de las columnas\n",
    "df.plot()                     # hace un grafico\n",
    "df.hist()                     # hace un histograma\n",
    "df.col.value_counts()         # cuenta los valores unicos de una columna\n",
    "df.col.unique()               # muestra valores unicos de una columna\n",
    "df.copy()                     # copia el df\n",
    "df.drop()                     # elimina columnas o filas (axis=0,1)\n",
    "df.dropna()                   # elimina nulos\n",
    "df.fillna()                   # rellena nulos\n",
    "df.shape                      # dimensiones del df\n",
    "df._get_numeric_data()        # selecciona columnas numericas\n",
    "df.rename()                   # renombre columnas\n",
    "df.str.replace()              # reemplaza columnas de strings\n",
    "df.astype(dtype='float32')    # cambia el tipo de dato\n",
    "df.iloc[]                     # localiza por indice\n",
    "df.loc[]                      # localiza por elemento\n",
    "df.transpose()                # transpone el df\n",
    "df.T\n",
    "df.sample(n, frac)            # muestra del df\n",
    "df.col.sum()                  # suma de una columna\n",
    "df.col.max()                  # maximo de una columna\n",
    "df.col.min()                  # minimo de una columna\n",
    "df[col]                       # selecciona columna\n",
    "df.col\n",
    "df.isnull()                   # valores nulos\n",
    "df.isna()\n",
    "df.notna()                    # valores no nulos\n",
    "df.drop_duplicates()          # eliminar duplicados\n",
    "df.reset_index(inplace=True)  # resetea el indice y sobreescribe\n",
    "```"
   ]
  },
  {
   "cell_type": "markdown",
   "id": "stylish-jefferson",
   "metadata": {},
   "source": [
    "## Further materials\n",
    "\n",
    "* [Read the docs!](https://pandas.pydata.org/pandas-docs/stable/index.html)\n",
    "* [Cheatsheet](https://pandas.pydata.org/Pandas_Cheat_Sheet.pdf)\n",
    "* [Exercises to practice](https://github.com/guipsamora/pandas_exercises)\n",
    "* [More on merge, concat, and join](https://realpython.com/pandas-merge-join-and-concat/#pandas-join-combining-data-on-a-column-or-index). And [even more!](https://pandas.pydata.org/pandas-docs/stable/user_guide/merging.html) "
   ]
  },
  {
   "cell_type": "code",
   "execution_count": null,
   "id": "31542a14",
   "metadata": {},
   "outputs": [],
   "source": []
  }
 ],
 "metadata": {
  "kernelspec": {
   "display_name": "Python 3 (ipykernel)",
   "language": "python",
   "name": "python3"
  },
  "language_info": {
   "codemirror_mode": {
    "name": "ipython",
    "version": 3
   },
   "file_extension": ".py",
   "mimetype": "text/x-python",
   "name": "python",
   "nbconvert_exporter": "python",
   "pygments_lexer": "ipython3",
   "version": "3.9.16"
  },
  "toc": {
   "base_numbering": 1,
   "nav_menu": {},
   "number_sections": true,
   "sideBar": true,
   "skip_h1_title": true,
   "title_cell": "Table of Contents",
   "title_sidebar": "Contents",
   "toc_cell": true,
   "toc_position": {
    "height": "calc(100% - 180px)",
    "left": "10px",
    "top": "150px",
    "width": "288px"
   },
   "toc_section_display": true,
   "toc_window_display": false
  },
  "varInspector": {
   "cols": {
    "lenName": 16,
    "lenType": 16,
    "lenVar": 40
   },
   "kernels_config": {
    "python": {
     "delete_cmd_postfix": "",
     "delete_cmd_prefix": "del ",
     "library": "var_list.py",
     "varRefreshCmd": "print(var_dic_list())"
    },
    "r": {
     "delete_cmd_postfix": ") ",
     "delete_cmd_prefix": "rm(",
     "library": "var_list.r",
     "varRefreshCmd": "cat(var_dic_list()) "
    }
   },
   "types_to_exclude": [
    "module",
    "function",
    "builtin_function_or_method",
    "instance",
    "_Feature"
   ],
   "window_display": false
  }
 },
 "nbformat": 4,
 "nbformat_minor": 5
}
