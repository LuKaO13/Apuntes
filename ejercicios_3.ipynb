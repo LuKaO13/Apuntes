{
 "cells": [
  {
   "cell_type": "markdown",
   "metadata": {},
   "source": [
    "### 1. Escriba un programa que pida dos números enteros y que calcule su división, escribiendo si la división es exacta o no."
   ]
  },
  {
   "cell_type": "markdown",
   "metadata": {},
   "source": [
    "### 2. Escriba un programa que pida dos números y que conteste cuál es el menor y cuál el mayor o que escriba que son iguales."
   ]
  },
  {
   "cell_type": "markdown",
   "metadata": {},
   "source": [
    "### 3. Escriba un programa que pida dos números enteros y que escriba si el mayor es múltiplo del menor."
   ]
  },
  {
   "cell_type": "markdown",
   "metadata": {},
   "source": [
    "### 4.  Escriba un programa que pida la edad de una persona y diga si es bebé (menor de 4 años), niño (menor de 15 años), adolescente (menor de 19 años), adulto (menor de 70 años o igual) o anciano (mayor de 70 años)."
   ]
  },
  {
   "cell_type": "markdown",
   "metadata": {},
   "source": [
    "### 5. Escriba un programa que pida un número entero mayor que cero y que escriba sus divisores."
   ]
  },
  {
   "cell_type": "markdown",
   "metadata": {},
   "source": [
    "### 6. Escriba un programa que pida un número entero mayor que 1 y que escriba si el número es un número primo o no."
   ]
  },
  {
   "cell_type": "markdown",
   "metadata": {},
   "source": [
    "### 7. Escribir un programa que pida un número y calcule la suma desde 1 hasta ese número"
   ]
  },
  {
   "cell_type": "markdown",
   "metadata": {},
   "source": [
    "### 8. Imprime por pantalla la sucesión de Fibonacci de los 100 primeros números."
   ]
  },
  {
   "cell_type": "markdown",
   "metadata": {},
   "source": [
    "### 9. Sumar los números impares del 1 al 100 y mostrar sólo el resultado, usando while."
   ]
  },
  {
   "cell_type": "markdown",
   "metadata": {},
   "source": [
    "### 10.  Crea una lista de nombres y devuelve otra lista con las iniciales de los nombres que aparecen en la primera. Hazlo de dos formas: usando bucles y usando lista por compresión.\n"
   ]
  },
  {
   "cell_type": "markdown",
   "metadata": {},
   "source": [
    "### 11.  Crea una lista de nombres y apellidos, y devuelve otra lista sólo con los apellidos."
   ]
  },
  {
   "cell_type": "markdown",
   "metadata": {},
   "source": [
    "### 12. Crea un diccionario de nombres de alumnos y notas y devuelve los nombres de los alumnos que estén suspensos."
   ]
  },
  {
   "cell_type": "markdown",
   "metadata": {},
   "source": [
    "### 13. Crea un programa que pida al usuario dos números y haga su división. Haz control de excepciones para que avise al usuario si el denominador es cero. "
   ]
  },
  {
   "cell_type": "markdown",
   "metadata": {
    "collapsed": true
   },
   "source": [
    "### 14. Escribe un programa que pida al usuario un número entero. El programa debe pedir al usuario números, hasta que éste introduzca el número 13. En este caso, el programa debe devolver: \"Enhorabuena, le ha tocado el premio\". \n",
    "##### Pista: debes usar un bucle while con \"algo más.\""
   ]
  },
  {
   "cell_type": "markdown",
   "metadata": {},
   "source": [
    "### 15. Escribe un programa que pida al usuario una cadena de texto y cuente cuantas veces aparece cada letra en la cadena usando un bucle for.\n"
   ]
  },
  {
   "cell_type": "code",
   "execution_count": 20,
   "metadata": {},
   "outputs": [
    {
     "name": "stdout",
     "output_type": "stream",
     "text": [
      "Introduce una cadena de textomi cadena\n"
     ]
    },
    {
     "data": {
      "text/plain": [
       "[('m', 1),\n",
       " ('i', 1),\n",
       " (' ', 1),\n",
       " ('c', 1),\n",
       " ('a', 2),\n",
       " ('d', 1),\n",
       " ('e', 1),\n",
       " ('n', 1),\n",
       " ('a', 2)]"
      ]
     },
     "execution_count": 20,
     "metadata": {},
     "output_type": "execute_result"
    }
   ],
   "source": [
    "#Pedimos al usuario una cadena de texto\n",
    "cadena = input('Introduce una cadena de texto')\n",
    "#tengo que recorrer los elementos de la cadena uno a uno\n",
    "lista_resultados = []\n",
    "for i in cadena:\n",
    "    #contar las repeticiones\n",
    "    tupla = (i,cadena.count(i))\n",
    "    lista_resultados.append((i,cadena.count(i)))\n",
    "    \n",
    "#tengo que almacenar de alguna manera, letra y repeticiones \n",
    "lista_resultados\n",
    "#quitar duplicados de alguna manera\n"
   ]
  },
  {
   "cell_type": "code",
   "execution_count": 6,
   "metadata": {},
   "outputs": [
    {
     "data": {
      "text/plain": [
       "'mi cadena'"
      ]
     },
     "execution_count": 6,
     "metadata": {},
     "output_type": "execute_result"
    }
   ],
   "source": [
    "cadena"
   ]
  },
  {
   "cell_type": "code",
   "execution_count": 7,
   "metadata": {},
   "outputs": [
    {
     "data": {
      "text/plain": [
       "2"
      ]
     },
     "execution_count": 7,
     "metadata": {},
     "output_type": "execute_result"
    }
   ],
   "source": [
    "cadena.count('a')"
   ]
  },
  {
   "cell_type": "code",
   "execution_count": null,
   "metadata": {},
   "outputs": [],
   "source": []
  }
 ],
 "metadata": {
  "kernelspec": {
   "display_name": "Python 3 (ipykernel)",
   "language": "python",
   "name": "python3"
  },
  "language_info": {
   "codemirror_mode": {
    "name": "ipython",
    "version": 3
   },
   "file_extension": ".py",
   "mimetype": "text/x-python",
   "name": "python",
   "nbconvert_exporter": "python",
   "pygments_lexer": "ipython3",
   "version": "3.9.16"
  }
 },
 "nbformat": 4,
 "nbformat_minor": 2
}
