{
 "cells": [
  {
   "cell_type": "code",
   "execution_count": 1,
   "id": "d53de0de",
   "metadata": {},
   "outputs": [],
   "source": [
    "import pandas as pd"
   ]
  },
  {
   "cell_type": "markdown",
   "id": "b54e4651",
   "metadata": {},
   "source": [
    "## 1. Leer el archivo CSV: wine_quality.csv"
   ]
  },
  {
   "cell_type": "code",
   "execution_count": 8,
   "id": "54b99537",
   "metadata": {},
   "outputs": [
    {
     "data": {
      "text/html": [
       "<div>\n",
       "<style scoped>\n",
       "    .dataframe tbody tr th:only-of-type {\n",
       "        vertical-align: middle;\n",
       "    }\n",
       "\n",
       "    .dataframe tbody tr th {\n",
       "        vertical-align: top;\n",
       "    }\n",
       "\n",
       "    .dataframe thead th {\n",
       "        text-align: right;\n",
       "    }\n",
       "</style>\n",
       "<table border=\"1\" class=\"dataframe\">\n",
       "  <thead>\n",
       "    <tr style=\"text-align: right;\">\n",
       "      <th></th>\n",
       "      <th>fixed acidity</th>\n",
       "      <th>volatile acidity</th>\n",
       "      <th>citric acid</th>\n",
       "      <th>residual sugar</th>\n",
       "      <th>chlorides</th>\n",
       "      <th>free sulfur dioxide</th>\n",
       "      <th>total sulfur dioxide</th>\n",
       "      <th>density</th>\n",
       "      <th>pH</th>\n",
       "      <th>sulphates</th>\n",
       "      <th>alcohol</th>\n",
       "      <th>quality</th>\n",
       "    </tr>\n",
       "  </thead>\n",
       "  <tbody>\n",
       "    <tr>\n",
       "      <th>1959</th>\n",
       "      <td>8.5</td>\n",
       "      <td>0.170</td>\n",
       "      <td>0.31</td>\n",
       "      <td>1.0</td>\n",
       "      <td>0.024</td>\n",
       "      <td>13.0</td>\n",
       "      <td>91.0</td>\n",
       "      <td>0.99300</td>\n",
       "      <td>2.79</td>\n",
       "      <td>0.37</td>\n",
       "      <td>10.1</td>\n",
       "      <td>5</td>\n",
       "    </tr>\n",
       "    <tr>\n",
       "      <th>1960</th>\n",
       "      <td>8.5</td>\n",
       "      <td>0.170</td>\n",
       "      <td>0.31</td>\n",
       "      <td>1.0</td>\n",
       "      <td>0.024</td>\n",
       "      <td>13.0</td>\n",
       "      <td>91.0</td>\n",
       "      <td>0.99300</td>\n",
       "      <td>2.79</td>\n",
       "      <td>0.37</td>\n",
       "      <td>10.1</td>\n",
       "      <td>5</td>\n",
       "    </tr>\n",
       "    <tr>\n",
       "      <th>3832</th>\n",
       "      <td>6.8</td>\n",
       "      <td>0.310</td>\n",
       "      <td>0.19</td>\n",
       "      <td>3.5</td>\n",
       "      <td>0.086</td>\n",
       "      <td>30.0</td>\n",
       "      <td>130.0</td>\n",
       "      <td>0.99300</td>\n",
       "      <td>2.83</td>\n",
       "      <td>0.44</td>\n",
       "      <td>9.6</td>\n",
       "      <td>5</td>\n",
       "    </tr>\n",
       "    <tr>\n",
       "      <th>3831</th>\n",
       "      <td>6.8</td>\n",
       "      <td>0.310</td>\n",
       "      <td>0.19</td>\n",
       "      <td>3.5</td>\n",
       "      <td>0.086</td>\n",
       "      <td>30.0</td>\n",
       "      <td>130.0</td>\n",
       "      <td>0.99300</td>\n",
       "      <td>2.83</td>\n",
       "      <td>0.44</td>\n",
       "      <td>9.6</td>\n",
       "      <td>5</td>\n",
       "    </tr>\n",
       "    <tr>\n",
       "      <th>3589</th>\n",
       "      <td>6.8</td>\n",
       "      <td>0.190</td>\n",
       "      <td>0.71</td>\n",
       "      <td>17.5</td>\n",
       "      <td>0.042</td>\n",
       "      <td>21.0</td>\n",
       "      <td>114.0</td>\n",
       "      <td>0.99784</td>\n",
       "      <td>2.85</td>\n",
       "      <td>0.50</td>\n",
       "      <td>9.5</td>\n",
       "      <td>6</td>\n",
       "    </tr>\n",
       "    <tr>\n",
       "      <th>...</th>\n",
       "      <td>...</td>\n",
       "      <td>...</td>\n",
       "      <td>...</td>\n",
       "      <td>...</td>\n",
       "      <td>...</td>\n",
       "      <td>...</td>\n",
       "      <td>...</td>\n",
       "      <td>...</td>\n",
       "      <td>...</td>\n",
       "      <td>...</td>\n",
       "      <td>...</td>\n",
       "      <td>...</td>\n",
       "    </tr>\n",
       "    <tr>\n",
       "      <th>1335</th>\n",
       "      <td>5.7</td>\n",
       "      <td>0.210</td>\n",
       "      <td>0.24</td>\n",
       "      <td>2.3</td>\n",
       "      <td>0.047</td>\n",
       "      <td>60.0</td>\n",
       "      <td>189.0</td>\n",
       "      <td>0.99500</td>\n",
       "      <td>3.65</td>\n",
       "      <td>0.72</td>\n",
       "      <td>10.1</td>\n",
       "      <td>6</td>\n",
       "    </tr>\n",
       "    <tr>\n",
       "      <th>4565</th>\n",
       "      <td>5.8</td>\n",
       "      <td>0.280</td>\n",
       "      <td>0.66</td>\n",
       "      <td>9.1</td>\n",
       "      <td>0.039</td>\n",
       "      <td>26.0</td>\n",
       "      <td>159.0</td>\n",
       "      <td>0.99650</td>\n",
       "      <td>3.66</td>\n",
       "      <td>0.55</td>\n",
       "      <td>10.8</td>\n",
       "      <td>5</td>\n",
       "    </tr>\n",
       "    <tr>\n",
       "      <th>4567</th>\n",
       "      <td>5.8</td>\n",
       "      <td>0.280</td>\n",
       "      <td>0.66</td>\n",
       "      <td>9.1</td>\n",
       "      <td>0.039</td>\n",
       "      <td>26.0</td>\n",
       "      <td>159.0</td>\n",
       "      <td>0.99650</td>\n",
       "      <td>3.66</td>\n",
       "      <td>0.55</td>\n",
       "      <td>10.8</td>\n",
       "      <td>5</td>\n",
       "    </tr>\n",
       "    <tr>\n",
       "      <th>830</th>\n",
       "      <td>7.3</td>\n",
       "      <td>0.205</td>\n",
       "      <td>0.31</td>\n",
       "      <td>1.7</td>\n",
       "      <td>0.060</td>\n",
       "      <td>34.0</td>\n",
       "      <td>110.0</td>\n",
       "      <td>0.99630</td>\n",
       "      <td>3.72</td>\n",
       "      <td>0.69</td>\n",
       "      <td>10.5</td>\n",
       "      <td>6</td>\n",
       "    </tr>\n",
       "    <tr>\n",
       "      <th>834</th>\n",
       "      <td>7.3</td>\n",
       "      <td>0.205</td>\n",
       "      <td>0.31</td>\n",
       "      <td>1.7</td>\n",
       "      <td>0.060</td>\n",
       "      <td>34.0</td>\n",
       "      <td>110.0</td>\n",
       "      <td>0.99630</td>\n",
       "      <td>3.72</td>\n",
       "      <td>0.69</td>\n",
       "      <td>10.5</td>\n",
       "      <td>6</td>\n",
       "    </tr>\n",
       "  </tbody>\n",
       "</table>\n",
       "<p>1709 rows × 12 columns</p>\n",
       "</div>"
      ],
      "text/plain": [
       "      fixed acidity  volatile acidity  citric acid  residual sugar  chlorides  \\\n",
       "1959            8.5             0.170         0.31             1.0      0.024   \n",
       "1960            8.5             0.170         0.31             1.0      0.024   \n",
       "3832            6.8             0.310         0.19             3.5      0.086   \n",
       "3831            6.8             0.310         0.19             3.5      0.086   \n",
       "3589            6.8             0.190         0.71            17.5      0.042   \n",
       "...             ...               ...          ...             ...        ...   \n",
       "1335            5.7             0.210         0.24             2.3      0.047   \n",
       "4565            5.8             0.280         0.66             9.1      0.039   \n",
       "4567            5.8             0.280         0.66             9.1      0.039   \n",
       "830             7.3             0.205         0.31             1.7      0.060   \n",
       "834             7.3             0.205         0.31             1.7      0.060   \n",
       "\n",
       "      free sulfur dioxide  total sulfur dioxide  density    pH  sulphates  \\\n",
       "1959                 13.0                  91.0  0.99300  2.79       0.37   \n",
       "1960                 13.0                  91.0  0.99300  2.79       0.37   \n",
       "3832                 30.0                 130.0  0.99300  2.83       0.44   \n",
       "3831                 30.0                 130.0  0.99300  2.83       0.44   \n",
       "3589                 21.0                 114.0  0.99784  2.85       0.50   \n",
       "...                   ...                   ...      ...   ...        ...   \n",
       "1335                 60.0                 189.0  0.99500  3.65       0.72   \n",
       "4565                 26.0                 159.0  0.99650  3.66       0.55   \n",
       "4567                 26.0                 159.0  0.99650  3.66       0.55   \n",
       "830                  34.0                 110.0  0.99630  3.72       0.69   \n",
       "834                  34.0                 110.0  0.99630  3.72       0.69   \n",
       "\n",
       "      alcohol  quality  \n",
       "1959     10.1        5  \n",
       "1960     10.1        5  \n",
       "3832      9.6        5  \n",
       "3831      9.6        5  \n",
       "3589      9.5        6  \n",
       "...       ...      ...  \n",
       "1335     10.1        6  \n",
       "4565     10.8        5  \n",
       "4567     10.8        5  \n",
       "830      10.5        6  \n",
       "834      10.5        6  \n",
       "\n",
       "[1709 rows x 12 columns]"
      ]
     },
     "execution_count": 8,
     "metadata": {},
     "output_type": "execute_result"
    }
   ],
   "source": [
    "wine_df = pd.read_csv('datasets/wine_quality.csv')\n",
    "wine_df[wine_df.duplicated(keep=False)].sort_values('pH')"
   ]
  },
  {
   "cell_type": "markdown",
   "id": "e662517f",
   "metadata": {},
   "source": [
    "## 2. Obtener información sobre el DataFrame."
   ]
  },
  {
   "cell_type": "code",
   "execution_count": null,
   "id": "b04efc09",
   "metadata": {},
   "outputs": [],
   "source": []
  },
  {
   "cell_type": "markdown",
   "id": "e0793158",
   "metadata": {},
   "source": [
    "## 3. Calcular la media de la columna \"alcohol\""
   ]
  },
  {
   "cell_type": "code",
   "execution_count": null,
   "id": "8438c78d",
   "metadata": {},
   "outputs": [],
   "source": []
  },
  {
   "cell_type": "markdown",
   "id": "d4a4a56c",
   "metadata": {},
   "source": [
    "## 4. Contar la cantidad de vinos que tienen un pH superior a 3.5."
   ]
  },
  {
   "cell_type": "code",
   "execution_count": null,
   "id": "d5e2f649",
   "metadata": {},
   "outputs": [],
   "source": []
  },
  {
   "cell_type": "markdown",
   "id": "fc55a44b",
   "metadata": {},
   "source": [
    "## 5. Filtrar los vinos con un pH superior a 3.5 y una calidad mayor o igual a 7"
   ]
  },
  {
   "cell_type": "code",
   "execution_count": null,
   "id": "0b72b3a1",
   "metadata": {},
   "outputs": [],
   "source": []
  },
  {
   "cell_type": "markdown",
   "id": "f9c37ec3",
   "metadata": {},
   "source": [
    "## 6. Ordenar el DataFrame por la columna \"alcohol\" de forma descendente."
   ]
  },
  {
   "cell_type": "code",
   "execution_count": null,
   "id": "91d4308c",
   "metadata": {},
   "outputs": [],
   "source": []
  },
  {
   "cell_type": "markdown",
   "id": "49b89ffc",
   "metadata": {},
   "source": [
    "## 7. Calcular la calidad promedio para cada tipo de vino (\"red\" y \"white\") (pista: group_by)"
   ]
  },
  {
   "cell_type": "code",
   "execution_count": null,
   "id": "fa1c39e4",
   "metadata": {},
   "outputs": [],
   "source": []
  },
  {
   "cell_type": "markdown",
   "id": "1f2ad215",
   "metadata": {},
   "source": [
    "## 8. Calcular el valor máximo de la columna \"chlorides\" para vinos rojos con una calidad de al menos 7."
   ]
  },
  {
   "cell_type": "code",
   "execution_count": null,
   "id": "dff2cba6",
   "metadata": {},
   "outputs": [],
   "source": []
  },
  {
   "cell_type": "markdown",
   "id": "8291a487",
   "metadata": {},
   "source": [
    "## 9. Calcular el valor mínimo, máximo y promedio de la columna \"fixed acidity\" para vinos blancos."
   ]
  },
  {
   "cell_type": "code",
   "execution_count": null,
   "id": "c5b2172d",
   "metadata": {},
   "outputs": [],
   "source": []
  },
  {
   "cell_type": "markdown",
   "id": "408e34ef",
   "metadata": {},
   "source": [
    "## 10. Calcular la cantidad de vinos rojos y blancos en el conjunto de datos."
   ]
  },
  {
   "cell_type": "code",
   "execution_count": null,
   "id": "ef544cd4",
   "metadata": {},
   "outputs": [],
   "source": []
  },
  {
   "cell_type": "markdown",
   "id": "ae0a9719",
   "metadata": {},
   "source": [
    "## 11. Crear una nueva columna llamada \"total_acidity\" que sea la suma de las columnas \"fixed acidity\" y \"volatile acidity\"."
   ]
  },
  {
   "cell_type": "code",
   "execution_count": null,
   "id": "d6223b54",
   "metadata": {},
   "outputs": [],
   "source": []
  },
  {
   "cell_type": "markdown",
   "id": "0da9ed1a",
   "metadata": {},
   "source": [
    "## 12. Contar la cantidad de vinos que tienen un nivel de alcohol mayor que la media."
   ]
  },
  {
   "cell_type": "code",
   "execution_count": null,
   "id": "439d52fe",
   "metadata": {},
   "outputs": [],
   "source": []
  },
  {
   "cell_type": "markdown",
   "id": "e8d384a1",
   "metadata": {},
   "source": [
    "## 13. Calcular la mediana de la columna \"residual sugar\" para vinos con una calidad de al menos 8."
   ]
  },
  {
   "cell_type": "code",
   "execution_count": null,
   "id": "fc70da9e",
   "metadata": {},
   "outputs": [],
   "source": []
  },
  {
   "cell_type": "markdown",
   "id": "e5975546",
   "metadata": {},
   "source": [
    "## 14. Calcular la correlación entre las columnas \"volatile acidity\" y \"pH\". (busca en internet como calcular la correlación en pandas)"
   ]
  },
  {
   "cell_type": "code",
   "execution_count": null,
   "id": "68473dc7",
   "metadata": {},
   "outputs": [],
   "source": []
  },
  {
   "cell_type": "markdown",
   "id": "1653a0d3",
   "metadata": {},
   "source": [
    "## 15. Calcular la calidad promedio de los vinos rojos y blancos por separado (group_by)"
   ]
  },
  {
   "cell_type": "code",
   "execution_count": null,
   "id": "4cd20fca",
   "metadata": {},
   "outputs": [],
   "source": []
  },
  {
   "cell_type": "markdown",
   "id": "5a754893",
   "metadata": {},
   "source": [
    "# Visualización"
   ]
  },
  {
   "cell_type": "markdown",
   "id": "26e50ca7",
   "metadata": {},
   "source": [
    "## 16. Visualizar la distribución de la calidad de los vinos. (counplot)"
   ]
  },
  {
   "cell_type": "code",
   "execution_count": null,
   "id": "2bf3c373",
   "metadata": {},
   "outputs": [],
   "source": []
  },
  {
   "cell_type": "markdown",
   "id": "0a3aabad",
   "metadata": {},
   "source": [
    "## 17. Crear un gráfico de dispersión para mostrar la relación entre el alcohol y la calidad de los vinos (pairplot)"
   ]
  },
  {
   "cell_type": "code",
   "execution_count": null,
   "id": "e0fae864",
   "metadata": {},
   "outputs": [],
   "source": []
  },
  {
   "cell_type": "markdown",
   "id": "4472aa39",
   "metadata": {},
   "source": [
    "## 18. Mostrar la matriz de correlación de todas las características numéricas del conjunto de datos.\n",
    "\n",
    "Primero crea una matriz de correlaciones y luego usa la funcion heatmap"
   ]
  },
  {
   "cell_type": "code",
   "execution_count": null,
   "id": "b7e13024",
   "metadata": {},
   "outputs": [],
   "source": []
  },
  {
   "cell_type": "markdown",
   "id": "037e0581",
   "metadata": {},
   "source": [
    "## 19. Visualizar la distribución de la calidad de los vinos separada por el tipo de vino. (en countplot usa el parametro: hue)"
   ]
  },
  {
   "cell_type": "code",
   "execution_count": null,
   "id": "b58acc2e",
   "metadata": {},
   "outputs": [],
   "source": []
  },
  {
   "cell_type": "markdown",
   "id": "e7a7116d",
   "metadata": {},
   "source": [
    "## 20. Visualizar la distribución de una característica numérica en función de la calidad utilizando un violinplot."
   ]
  },
  {
   "cell_type": "code",
   "execution_count": null,
   "id": "dc1687dc",
   "metadata": {},
   "outputs": [],
   "source": []
  },
  {
   "cell_type": "markdown",
   "id": "5a978286",
   "metadata": {},
   "source": [
    "# Apply"
   ]
  },
  {
   "cell_type": "markdown",
   "id": "ed96ae7d",
   "metadata": {},
   "source": [
    "## 21. Crear una función para clasificar los vinos en base a su calidad: mayor que 7 --> Buena, mayor que 5 --> regular. Si no, mala."
   ]
  },
  {
   "cell_type": "code",
   "execution_count": null,
   "id": "8fa53f3b",
   "metadata": {},
   "outputs": [],
   "source": []
  },
  {
   "cell_type": "markdown",
   "id": "d01df4e9",
   "metadata": {},
   "source": [
    "## 22. Crear una función para calcular el contenido de alcohol en términos de porcentaje."
   ]
  },
  {
   "cell_type": "code",
   "execution_count": null,
   "id": "83cad36b",
   "metadata": {},
   "outputs": [],
   "source": []
  },
  {
   "cell_type": "markdown",
   "id": "5cb6c336",
   "metadata": {},
   "source": [
    "## 23. Crear una función para convertir la columna \"type\" en minúsculas."
   ]
  },
  {
   "cell_type": "code",
   "execution_count": null,
   "id": "3e740219",
   "metadata": {},
   "outputs": [],
   "source": []
  },
  {
   "cell_type": "markdown",
   "id": "051000b7",
   "metadata": {},
   "source": [
    "# Joins"
   ]
  },
  {
   "cell_type": "markdown",
   "id": "3987166f",
   "metadata": {},
   "source": [
    "## 24. Concatenar dos DataFrames verticalmente:"
   ]
  },
  {
   "cell_type": "code",
   "execution_count": null,
   "id": "c7e533c3",
   "metadata": {},
   "outputs": [],
   "source": [
    "df1 = pd.DataFrame({\"A\": [1, 2, 3], \"B\": [4, 5, 6]})\n",
    "df2 = pd.DataFrame({\"A\": [7, 8, 9], \"B\": [10, 11, 12]})\n"
   ]
  },
  {
   "cell_type": "markdown",
   "id": "5e0d6c0f",
   "metadata": {},
   "source": [
    "## 25. Concatenale este DataFrames horizontalmente:"
   ]
  },
  {
   "cell_type": "code",
   "execution_count": null,
   "id": "e99e07a2",
   "metadata": {},
   "outputs": [],
   "source": [
    "df3 = pd.DataFrame({\"C\": [13, 14, 15], \"D\": [16, 17, 18]})"
   ]
  },
  {
   "cell_type": "markdown",
   "id": "4f74f5b1",
   "metadata": {},
   "source": [
    "## 26. Realizar una unión de dos DataFrames basada en sus índices (join)"
   ]
  },
  {
   "cell_type": "code",
   "execution_count": null,
   "id": "033ad1cc",
   "metadata": {},
   "outputs": [],
   "source": [
    "df4 = pd.DataFrame({\"C\": [19, 20, 21], \"D\": [22, 23, 24]}, index=[1, 2, 3])\n"
   ]
  },
  {
   "cell_type": "markdown",
   "id": "f18d3a2a",
   "metadata": {},
   "source": [
    "## 27. Fusionarle este DataFrame utilizando una columna en común (merge)"
   ]
  },
  {
   "cell_type": "code",
   "execution_count": null,
   "id": "eadadbea",
   "metadata": {},
   "outputs": [],
   "source": [
    "df5 = pd.DataFrame({\"A\": [2, 3, 4], \"E\": [25, 26, 27]})\n"
   ]
  },
  {
   "cell_type": "markdown",
   "id": "529f87a5",
   "metadata": {},
   "source": [
    "## 28. Fusionale este DataFrame utilizando columnas diferentes en cada DataFrame (merge)"
   ]
  },
  {
   "cell_type": "code",
   "execution_count": null,
   "id": "b8f5dfdc",
   "metadata": {},
   "outputs": [],
   "source": [
    "df6 = pd.DataFrame({\"F\": [4, 5, 6], \"G\": [28, 29, 30]})"
   ]
  }
 ],
 "metadata": {
  "kernelspec": {
   "display_name": "Python 3 (ipykernel)",
   "language": "python",
   "name": "python3"
  },
  "language_info": {
   "codemirror_mode": {
    "name": "ipython",
    "version": 3
   },
   "file_extension": ".py",
   "mimetype": "text/x-python",
   "name": "python",
   "nbconvert_exporter": "python",
   "pygments_lexer": "ipython3",
   "version": "3.9.12"
  }
 },
 "nbformat": 4,
 "nbformat_minor": 5
}
