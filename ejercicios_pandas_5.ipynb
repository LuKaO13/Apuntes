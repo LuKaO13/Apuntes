{
 "cells": [
  {
   "cell_type": "markdown",
   "id": "b54e4651",
   "metadata": {},
   "source": [
    "## 1. Leer el archivo CSV: wine_quality.csv"
   ]
  },
  {
   "cell_type": "code",
   "execution_count": null,
   "id": "54b99537",
   "metadata": {},
   "outputs": [],
   "source": []
  },
  {
   "cell_type": "markdown",
   "id": "e662517f",
   "metadata": {},
   "source": [
    "## 2. Obtener información sobre el DataFrame."
   ]
  },
  {
   "cell_type": "code",
   "execution_count": null,
   "id": "b04efc09",
   "metadata": {},
   "outputs": [],
   "source": []
  },
  {
   "cell_type": "markdown",
   "id": "e0793158",
   "metadata": {},
   "source": [
    "## 3. Calcular la media de la columna \"alcohol\""
   ]
  },
  {
   "cell_type": "code",
   "execution_count": null,
   "id": "8438c78d",
   "metadata": {},
   "outputs": [],
   "source": []
  },
  {
   "cell_type": "markdown",
   "id": "d4a4a56c",
   "metadata": {},
   "source": [
    "## 4. Contar la cantidad de vinos que tienen un pH superior a 3.5."
   ]
  },
  {
   "cell_type": "code",
   "execution_count": null,
   "id": "d5e2f649",
   "metadata": {},
   "outputs": [],
   "source": []
  },
  {
   "cell_type": "markdown",
   "id": "fc55a44b",
   "metadata": {},
   "source": [
    "## 5. Filtrar los vinos con un pH superior a 3.5 y una calidad mayor o igual a 7"
   ]
  },
  {
   "cell_type": "code",
   "execution_count": null,
   "id": "0b72b3a1",
   "metadata": {},
   "outputs": [],
   "source": []
  },
  {
   "cell_type": "markdown",
   "id": "f9c37ec3",
   "metadata": {},
   "source": [
    "## 6. Ordenar el DataFrame por la columna \"alcohol\" de forma descendente."
   ]
  },
  {
   "cell_type": "code",
   "execution_count": null,
   "id": "91d4308c",
   "metadata": {},
   "outputs": [],
   "source": []
  },
  {
   "cell_type": "markdown",
   "id": "49b89ffc",
   "metadata": {},
   "source": [
    "## 7. Calcular la calidad promedio para cada tipo de vino (\"red\" y \"white\") (pista: group_by)"
   ]
  },
  {
   "cell_type": "code",
   "execution_count": null,
   "id": "fa1c39e4",
   "metadata": {},
   "outputs": [],
   "source": []
  },
  {
   "cell_type": "markdown",
   "id": "1f2ad215",
   "metadata": {},
   "source": [
    "## 8. Calcular el valor máximo de la columna \"chlorides\" para vinos rojos con una calidad de al menos 7."
   ]
  },
  {
   "cell_type": "code",
   "execution_count": null,
   "id": "dff2cba6",
   "metadata": {},
   "outputs": [],
   "source": []
  },
  {
   "cell_type": "markdown",
   "id": "8291a487",
   "metadata": {},
   "source": [
    "## 9. Calcular el valor mínimo, máximo y promedio de la columna \"fixed acidity\" para vinos blancos."
   ]
  },
  {
   "cell_type": "code",
   "execution_count": null,
   "id": "c5b2172d",
   "metadata": {},
   "outputs": [],
   "source": []
  },
  {
   "cell_type": "markdown",
   "id": "408e34ef",
   "metadata": {},
   "source": [
    "## 10. Calcular la cantidad de vinos rojos y blancos en el conjunto de datos."
   ]
  },
  {
   "cell_type": "code",
   "execution_count": null,
   "id": "ef544cd4",
   "metadata": {},
   "outputs": [],
   "source": []
  },
  {
   "cell_type": "markdown",
   "id": "ae0a9719",
   "metadata": {},
   "source": [
    "## 11. Crear una nueva columna llamada \"total_acidity\" que sea la suma de las columnas \"fixed acidity\" y \"volatile acidity\"."
   ]
  },
  {
   "cell_type": "code",
   "execution_count": null,
   "id": "d6223b54",
   "metadata": {},
   "outputs": [],
   "source": []
  },
  {
   "cell_type": "markdown",
   "id": "0da9ed1a",
   "metadata": {},
   "source": [
    "## 12. Contar la cantidad de vinos que tienen un nivel de alcohol mayor que la media."
   ]
  },
  {
   "cell_type": "code",
   "execution_count": null,
   "id": "439d52fe",
   "metadata": {},
   "outputs": [],
   "source": []
  },
  {
   "cell_type": "markdown",
   "id": "e8d384a1",
   "metadata": {},
   "source": [
    "## 13. Calcular la mediana de la columna \"residual sugar\" para vinos con una calidad de al menos 8."
   ]
  },
  {
   "cell_type": "code",
   "execution_count": null,
   "id": "fc70da9e",
   "metadata": {},
   "outputs": [],
   "source": []
  },
  {
   "cell_type": "markdown",
   "id": "e5975546",
   "metadata": {},
   "source": [
    "## 14. Calcular la correlación entre las columnas \"volatile acidity\" y \"pH\". (busca en internet como calcular la correlación en pandas)"
   ]
  },
  {
   "cell_type": "code",
   "execution_count": null,
   "id": "68473dc7",
   "metadata": {},
   "outputs": [],
   "source": []
  },
  {
   "cell_type": "markdown",
   "id": "1653a0d3",
   "metadata": {},
   "source": [
    "## 15. Calcular la calidad promedio de los vinos rojos y blancos por separado (group_by)"
   ]
  },
  {
   "cell_type": "code",
   "execution_count": null,
   "id": "4cd20fca",
   "metadata": {},
   "outputs": [],
   "source": []
  },
  {
   "cell_type": "markdown",
   "id": "5a754893",
   "metadata": {},
   "source": [
    "# Visualización"
   ]
  },
  {
   "cell_type": "markdown",
   "id": "26e50ca7",
   "metadata": {},
   "source": [
    "## 16. Visualizar la distribución de la calidad de los vinos. (counplot)"
   ]
  },
  {
   "cell_type": "code",
   "execution_count": null,
   "id": "2bf3c373",
   "metadata": {},
   "outputs": [],
   "source": []
  },
  {
   "cell_type": "markdown",
   "id": "0a3aabad",
   "metadata": {},
   "source": [
    "## 17. Crear un gráfico de dispersión para mostrar la relación entre el alcohol y la calidad de los vinos (pairplot)"
   ]
  },
  {
   "cell_type": "code",
   "execution_count": null,
   "id": "e0fae864",
   "metadata": {},
   "outputs": [],
   "source": []
  },
  {
   "cell_type": "markdown",
   "id": "4472aa39",
   "metadata": {},
   "source": [
    "## 18. Mostrar la matriz de correlación de todas las características numéricas del conjunto de datos.\n",
    "\n",
    "Primero crea una matriz de correlaciones y luego usa la funcion heatmap"
   ]
  },
  {
   "cell_type": "code",
   "execution_count": null,
   "id": "b7e13024",
   "metadata": {},
   "outputs": [],
   "source": []
  },
  {
   "cell_type": "markdown",
   "id": "037e0581",
   "metadata": {},
   "source": [
    "## 19. Visualizar la distribución de la calidad de los vinos separada por el tipo de vino. (en countplot usa el parametro: hue)"
   ]
  },
  {
   "cell_type": "code",
   "execution_count": null,
   "id": "b58acc2e",
   "metadata": {},
   "outputs": [],
   "source": []
  },
  {
   "cell_type": "markdown",
   "id": "e7a7116d",
   "metadata": {},
   "source": [
    "## 20. Visualizar la distribución de una característica numérica en función de la calidad utilizando un violinplot."
   ]
  },
  {
   "cell_type": "code",
   "execution_count": null,
   "id": "dc1687dc",
   "metadata": {},
   "outputs": [],
   "source": []
  },
  {
   "cell_type": "markdown",
   "id": "5a978286",
   "metadata": {},
   "source": [
    "# Apply"
   ]
  },
  {
   "cell_type": "markdown",
   "id": "ed96ae7d",
   "metadata": {},
   "source": [
    "## 21. Crear una función para clasificar los vinos en base a su calidad: mayor que 7 --> Buena, mayor que 5 --> regular. Si no, mala."
   ]
  },
  {
   "cell_type": "code",
   "execution_count": null,
   "id": "8fa53f3b",
   "metadata": {},
   "outputs": [],
   "source": []
  },
  {
   "cell_type": "markdown",
   "id": "d01df4e9",
   "metadata": {},
   "source": [
    "## 22. Crear una función para calcular el contenido de alcohol en términos de porcentaje."
   ]
  },
  {
   "cell_type": "code",
   "execution_count": null,
   "id": "83cad36b",
   "metadata": {},
   "outputs": [],
   "source": []
  },
  {
   "cell_type": "markdown",
   "id": "5cb6c336",
   "metadata": {},
   "source": [
    "## 23. Crear una función para convertir la columna \"type\" en minúsculas."
   ]
  },
  {
   "cell_type": "code",
   "execution_count": null,
   "id": "3e740219",
   "metadata": {},
   "outputs": [],
   "source": []
  }
 ],
 "metadata": {
  "kernelspec": {
   "display_name": "Python 3 (ipykernel)",
   "language": "python",
   "name": "python3"
  },
  "language_info": {
   "codemirror_mode": {
    "name": "ipython",
    "version": 3
   },
   "file_extension": ".py",
   "mimetype": "text/x-python",
   "name": "python",
   "nbconvert_exporter": "python",
   "pygments_lexer": "ipython3",
   "version": "3.9.12"
  }
 },
 "nbformat": 4,
 "nbformat_minor": 5
}
