{
 "cells": [
  {
   "cell_type": "code",
   "execution_count": 15,
   "id": "2152f6dc",
   "metadata": {},
   "outputs": [],
   "source": [
    "import pandas as pd\n",
    "import numpy as np\n",
    "import seaborn as sns"
   ]
  },
  {
   "cell_type": "markdown",
   "id": "b54e4651",
   "metadata": {},
   "source": [
    "## 1. Leer el archivo CSV: wine_quality.csv"
   ]
  },
  {
   "cell_type": "code",
   "execution_count": 8,
   "id": "54b99537",
   "metadata": {},
   "outputs": [
    {
     "data": {
      "text/html": [
       "<div>\n",
       "<style scoped>\n",
       "    .dataframe tbody tr th:only-of-type {\n",
       "        vertical-align: middle;\n",
       "    }\n",
       "\n",
       "    .dataframe tbody tr th {\n",
       "        vertical-align: top;\n",
       "    }\n",
       "\n",
       "    .dataframe thead th {\n",
       "        text-align: right;\n",
       "    }\n",
       "</style>\n",
       "<table border=\"1\" class=\"dataframe\">\n",
       "  <thead>\n",
       "    <tr style=\"text-align: right;\">\n",
       "      <th></th>\n",
       "      <th>fixed acidity</th>\n",
       "      <th>volatile acidity</th>\n",
       "      <th>citric acid</th>\n",
       "      <th>residual sugar</th>\n",
       "      <th>chlorides</th>\n",
       "      <th>free sulfur dioxide</th>\n",
       "      <th>total sulfur dioxide</th>\n",
       "      <th>density</th>\n",
       "      <th>pH</th>\n",
       "      <th>sulphates</th>\n",
       "      <th>alcohol</th>\n",
       "      <th>quality</th>\n",
       "    </tr>\n",
       "  </thead>\n",
       "  <tbody>\n",
       "    <tr>\n",
       "      <th>1959</th>\n",
       "      <td>8.5</td>\n",
       "      <td>0.170</td>\n",
       "      <td>0.31</td>\n",
       "      <td>1.0</td>\n",
       "      <td>0.024</td>\n",
       "      <td>13.0</td>\n",
       "      <td>91.0</td>\n",
       "      <td>0.99300</td>\n",
       "      <td>2.79</td>\n",
       "      <td>0.37</td>\n",
       "      <td>10.1</td>\n",
       "      <td>5</td>\n",
       "    </tr>\n",
       "    <tr>\n",
       "      <th>1960</th>\n",
       "      <td>8.5</td>\n",
       "      <td>0.170</td>\n",
       "      <td>0.31</td>\n",
       "      <td>1.0</td>\n",
       "      <td>0.024</td>\n",
       "      <td>13.0</td>\n",
       "      <td>91.0</td>\n",
       "      <td>0.99300</td>\n",
       "      <td>2.79</td>\n",
       "      <td>0.37</td>\n",
       "      <td>10.1</td>\n",
       "      <td>5</td>\n",
       "    </tr>\n",
       "    <tr>\n",
       "      <th>3832</th>\n",
       "      <td>6.8</td>\n",
       "      <td>0.310</td>\n",
       "      <td>0.19</td>\n",
       "      <td>3.5</td>\n",
       "      <td>0.086</td>\n",
       "      <td>30.0</td>\n",
       "      <td>130.0</td>\n",
       "      <td>0.99300</td>\n",
       "      <td>2.83</td>\n",
       "      <td>0.44</td>\n",
       "      <td>9.6</td>\n",
       "      <td>5</td>\n",
       "    </tr>\n",
       "    <tr>\n",
       "      <th>3831</th>\n",
       "      <td>6.8</td>\n",
       "      <td>0.310</td>\n",
       "      <td>0.19</td>\n",
       "      <td>3.5</td>\n",
       "      <td>0.086</td>\n",
       "      <td>30.0</td>\n",
       "      <td>130.0</td>\n",
       "      <td>0.99300</td>\n",
       "      <td>2.83</td>\n",
       "      <td>0.44</td>\n",
       "      <td>9.6</td>\n",
       "      <td>5</td>\n",
       "    </tr>\n",
       "    <tr>\n",
       "      <th>3589</th>\n",
       "      <td>6.8</td>\n",
       "      <td>0.190</td>\n",
       "      <td>0.71</td>\n",
       "      <td>17.5</td>\n",
       "      <td>0.042</td>\n",
       "      <td>21.0</td>\n",
       "      <td>114.0</td>\n",
       "      <td>0.99784</td>\n",
       "      <td>2.85</td>\n",
       "      <td>0.50</td>\n",
       "      <td>9.5</td>\n",
       "      <td>6</td>\n",
       "    </tr>\n",
       "    <tr>\n",
       "      <th>...</th>\n",
       "      <td>...</td>\n",
       "      <td>...</td>\n",
       "      <td>...</td>\n",
       "      <td>...</td>\n",
       "      <td>...</td>\n",
       "      <td>...</td>\n",
       "      <td>...</td>\n",
       "      <td>...</td>\n",
       "      <td>...</td>\n",
       "      <td>...</td>\n",
       "      <td>...</td>\n",
       "      <td>...</td>\n",
       "    </tr>\n",
       "    <tr>\n",
       "      <th>1335</th>\n",
       "      <td>5.7</td>\n",
       "      <td>0.210</td>\n",
       "      <td>0.24</td>\n",
       "      <td>2.3</td>\n",
       "      <td>0.047</td>\n",
       "      <td>60.0</td>\n",
       "      <td>189.0</td>\n",
       "      <td>0.99500</td>\n",
       "      <td>3.65</td>\n",
       "      <td>0.72</td>\n",
       "      <td>10.1</td>\n",
       "      <td>6</td>\n",
       "    </tr>\n",
       "    <tr>\n",
       "      <th>4565</th>\n",
       "      <td>5.8</td>\n",
       "      <td>0.280</td>\n",
       "      <td>0.66</td>\n",
       "      <td>9.1</td>\n",
       "      <td>0.039</td>\n",
       "      <td>26.0</td>\n",
       "      <td>159.0</td>\n",
       "      <td>0.99650</td>\n",
       "      <td>3.66</td>\n",
       "      <td>0.55</td>\n",
       "      <td>10.8</td>\n",
       "      <td>5</td>\n",
       "    </tr>\n",
       "    <tr>\n",
       "      <th>4567</th>\n",
       "      <td>5.8</td>\n",
       "      <td>0.280</td>\n",
       "      <td>0.66</td>\n",
       "      <td>9.1</td>\n",
       "      <td>0.039</td>\n",
       "      <td>26.0</td>\n",
       "      <td>159.0</td>\n",
       "      <td>0.99650</td>\n",
       "      <td>3.66</td>\n",
       "      <td>0.55</td>\n",
       "      <td>10.8</td>\n",
       "      <td>5</td>\n",
       "    </tr>\n",
       "    <tr>\n",
       "      <th>830</th>\n",
       "      <td>7.3</td>\n",
       "      <td>0.205</td>\n",
       "      <td>0.31</td>\n",
       "      <td>1.7</td>\n",
       "      <td>0.060</td>\n",
       "      <td>34.0</td>\n",
       "      <td>110.0</td>\n",
       "      <td>0.99630</td>\n",
       "      <td>3.72</td>\n",
       "      <td>0.69</td>\n",
       "      <td>10.5</td>\n",
       "      <td>6</td>\n",
       "    </tr>\n",
       "    <tr>\n",
       "      <th>834</th>\n",
       "      <td>7.3</td>\n",
       "      <td>0.205</td>\n",
       "      <td>0.31</td>\n",
       "      <td>1.7</td>\n",
       "      <td>0.060</td>\n",
       "      <td>34.0</td>\n",
       "      <td>110.0</td>\n",
       "      <td>0.99630</td>\n",
       "      <td>3.72</td>\n",
       "      <td>0.69</td>\n",
       "      <td>10.5</td>\n",
       "      <td>6</td>\n",
       "    </tr>\n",
       "  </tbody>\n",
       "</table>\n",
       "<p>1709 rows × 12 columns</p>\n",
       "</div>"
      ],
      "text/plain": [
       "      fixed acidity  volatile acidity  citric acid  residual sugar  chlorides  \\\n",
       "1959            8.5             0.170         0.31             1.0      0.024   \n",
       "1960            8.5             0.170         0.31             1.0      0.024   \n",
       "3832            6.8             0.310         0.19             3.5      0.086   \n",
       "3831            6.8             0.310         0.19             3.5      0.086   \n",
       "3589            6.8             0.190         0.71            17.5      0.042   \n",
       "...             ...               ...          ...             ...        ...   \n",
       "1335            5.7             0.210         0.24             2.3      0.047   \n",
       "4565            5.8             0.280         0.66             9.1      0.039   \n",
       "4567            5.8             0.280         0.66             9.1      0.039   \n",
       "830             7.3             0.205         0.31             1.7      0.060   \n",
       "834             7.3             0.205         0.31             1.7      0.060   \n",
       "\n",
       "      free sulfur dioxide  total sulfur dioxide  density    pH  sulphates  \\\n",
       "1959                 13.0                  91.0  0.99300  2.79       0.37   \n",
       "1960                 13.0                  91.0  0.99300  2.79       0.37   \n",
       "3832                 30.0                 130.0  0.99300  2.83       0.44   \n",
       "3831                 30.0                 130.0  0.99300  2.83       0.44   \n",
       "3589                 21.0                 114.0  0.99784  2.85       0.50   \n",
       "...                   ...                   ...      ...   ...        ...   \n",
       "1335                 60.0                 189.0  0.99500  3.65       0.72   \n",
       "4565                 26.0                 159.0  0.99650  3.66       0.55   \n",
       "4567                 26.0                 159.0  0.99650  3.66       0.55   \n",
       "830                  34.0                 110.0  0.99630  3.72       0.69   \n",
       "834                  34.0                 110.0  0.99630  3.72       0.69   \n",
       "\n",
       "      alcohol  quality  \n",
       "1959     10.1        5  \n",
       "1960     10.1        5  \n",
       "3832      9.6        5  \n",
       "3831      9.6        5  \n",
       "3589      9.5        6  \n",
       "...       ...      ...  \n",
       "1335     10.1        6  \n",
       "4565     10.8        5  \n",
       "4567     10.8        5  \n",
       "830      10.5        6  \n",
       "834      10.5        6  \n",
       "\n",
       "[1709 rows x 12 columns]"
      ]
     },
     "execution_count": 8,
     "metadata": {},
     "output_type": "execute_result"
    }
   ],
   "source": [
    "wine_df = pd.read_csv('datasets/wine_quality.csv')\n",
    "wine_df"
   ]
  },
  {
   "cell_type": "markdown",
   "id": "0c47b257",
   "metadata": {},
   "source": [
    "## 1.A Crear una columna que se llame color y asignarle aleatoriamente color red o white"
   ]
  },
  {
   "cell_type": "code",
   "execution_count": 14,
   "id": "4030fafb",
   "metadata": {},
   "outputs": [
    {
     "data": {
      "text/html": [
       "<div>\n",
       "<style scoped>\n",
       "    .dataframe tbody tr th:only-of-type {\n",
       "        vertical-align: middle;\n",
       "    }\n",
       "\n",
       "    .dataframe tbody tr th {\n",
       "        vertical-align: top;\n",
       "    }\n",
       "\n",
       "    .dataframe thead th {\n",
       "        text-align: right;\n",
       "    }\n",
       "</style>\n",
       "<table border=\"1\" class=\"dataframe\">\n",
       "  <thead>\n",
       "    <tr style=\"text-align: right;\">\n",
       "      <th></th>\n",
       "      <th>fixed acidity</th>\n",
       "      <th>volatile acidity</th>\n",
       "      <th>citric acid</th>\n",
       "      <th>residual sugar</th>\n",
       "      <th>chlorides</th>\n",
       "      <th>free sulfur dioxide</th>\n",
       "      <th>total sulfur dioxide</th>\n",
       "      <th>density</th>\n",
       "      <th>pH</th>\n",
       "      <th>sulphates</th>\n",
       "      <th>alcohol</th>\n",
       "      <th>quality</th>\n",
       "      <th>color</th>\n",
       "    </tr>\n",
       "  </thead>\n",
       "  <tbody>\n",
       "    <tr>\n",
       "      <th>0</th>\n",
       "      <td>7.0</td>\n",
       "      <td>0.27</td>\n",
       "      <td>0.36</td>\n",
       "      <td>20.7</td>\n",
       "      <td>0.045</td>\n",
       "      <td>45.0</td>\n",
       "      <td>170.0</td>\n",
       "      <td>1.00100</td>\n",
       "      <td>3.00</td>\n",
       "      <td>0.45</td>\n",
       "      <td>8.8</td>\n",
       "      <td>6</td>\n",
       "      <td>white</td>\n",
       "    </tr>\n",
       "    <tr>\n",
       "      <th>1</th>\n",
       "      <td>6.3</td>\n",
       "      <td>0.30</td>\n",
       "      <td>0.34</td>\n",
       "      <td>1.6</td>\n",
       "      <td>0.049</td>\n",
       "      <td>14.0</td>\n",
       "      <td>132.0</td>\n",
       "      <td>0.99400</td>\n",
       "      <td>3.30</td>\n",
       "      <td>0.49</td>\n",
       "      <td>9.5</td>\n",
       "      <td>6</td>\n",
       "      <td>red</td>\n",
       "    </tr>\n",
       "    <tr>\n",
       "      <th>2</th>\n",
       "      <td>8.1</td>\n",
       "      <td>0.28</td>\n",
       "      <td>0.40</td>\n",
       "      <td>6.9</td>\n",
       "      <td>0.050</td>\n",
       "      <td>30.0</td>\n",
       "      <td>97.0</td>\n",
       "      <td>0.99510</td>\n",
       "      <td>3.26</td>\n",
       "      <td>0.44</td>\n",
       "      <td>10.1</td>\n",
       "      <td>6</td>\n",
       "      <td>red</td>\n",
       "    </tr>\n",
       "    <tr>\n",
       "      <th>3</th>\n",
       "      <td>7.2</td>\n",
       "      <td>0.23</td>\n",
       "      <td>0.32</td>\n",
       "      <td>8.5</td>\n",
       "      <td>0.058</td>\n",
       "      <td>47.0</td>\n",
       "      <td>186.0</td>\n",
       "      <td>0.99560</td>\n",
       "      <td>3.19</td>\n",
       "      <td>0.40</td>\n",
       "      <td>9.9</td>\n",
       "      <td>6</td>\n",
       "      <td>white</td>\n",
       "    </tr>\n",
       "    <tr>\n",
       "      <th>4</th>\n",
       "      <td>7.2</td>\n",
       "      <td>0.23</td>\n",
       "      <td>0.32</td>\n",
       "      <td>8.5</td>\n",
       "      <td>0.058</td>\n",
       "      <td>47.0</td>\n",
       "      <td>186.0</td>\n",
       "      <td>0.99560</td>\n",
       "      <td>3.19</td>\n",
       "      <td>0.40</td>\n",
       "      <td>9.9</td>\n",
       "      <td>6</td>\n",
       "      <td>white</td>\n",
       "    </tr>\n",
       "    <tr>\n",
       "      <th>...</th>\n",
       "      <td>...</td>\n",
       "      <td>...</td>\n",
       "      <td>...</td>\n",
       "      <td>...</td>\n",
       "      <td>...</td>\n",
       "      <td>...</td>\n",
       "      <td>...</td>\n",
       "      <td>...</td>\n",
       "      <td>...</td>\n",
       "      <td>...</td>\n",
       "      <td>...</td>\n",
       "      <td>...</td>\n",
       "      <td>...</td>\n",
       "    </tr>\n",
       "    <tr>\n",
       "      <th>4893</th>\n",
       "      <td>6.2</td>\n",
       "      <td>0.21</td>\n",
       "      <td>0.29</td>\n",
       "      <td>1.6</td>\n",
       "      <td>0.039</td>\n",
       "      <td>24.0</td>\n",
       "      <td>92.0</td>\n",
       "      <td>0.99114</td>\n",
       "      <td>3.27</td>\n",
       "      <td>0.50</td>\n",
       "      <td>11.2</td>\n",
       "      <td>6</td>\n",
       "      <td>red</td>\n",
       "    </tr>\n",
       "    <tr>\n",
       "      <th>4894</th>\n",
       "      <td>6.6</td>\n",
       "      <td>0.32</td>\n",
       "      <td>0.36</td>\n",
       "      <td>8.0</td>\n",
       "      <td>0.047</td>\n",
       "      <td>57.0</td>\n",
       "      <td>168.0</td>\n",
       "      <td>0.99490</td>\n",
       "      <td>3.15</td>\n",
       "      <td>0.46</td>\n",
       "      <td>9.6</td>\n",
       "      <td>5</td>\n",
       "      <td>white</td>\n",
       "    </tr>\n",
       "    <tr>\n",
       "      <th>4895</th>\n",
       "      <td>6.5</td>\n",
       "      <td>0.24</td>\n",
       "      <td>0.19</td>\n",
       "      <td>1.2</td>\n",
       "      <td>0.041</td>\n",
       "      <td>30.0</td>\n",
       "      <td>111.0</td>\n",
       "      <td>0.99254</td>\n",
       "      <td>2.99</td>\n",
       "      <td>0.46</td>\n",
       "      <td>9.4</td>\n",
       "      <td>6</td>\n",
       "      <td>white</td>\n",
       "    </tr>\n",
       "    <tr>\n",
       "      <th>4896</th>\n",
       "      <td>5.5</td>\n",
       "      <td>0.29</td>\n",
       "      <td>0.30</td>\n",
       "      <td>1.1</td>\n",
       "      <td>0.022</td>\n",
       "      <td>20.0</td>\n",
       "      <td>110.0</td>\n",
       "      <td>0.98869</td>\n",
       "      <td>3.34</td>\n",
       "      <td>0.38</td>\n",
       "      <td>12.8</td>\n",
       "      <td>7</td>\n",
       "      <td>red</td>\n",
       "    </tr>\n",
       "    <tr>\n",
       "      <th>4897</th>\n",
       "      <td>6.0</td>\n",
       "      <td>0.21</td>\n",
       "      <td>0.38</td>\n",
       "      <td>0.8</td>\n",
       "      <td>0.020</td>\n",
       "      <td>22.0</td>\n",
       "      <td>98.0</td>\n",
       "      <td>0.98941</td>\n",
       "      <td>3.26</td>\n",
       "      <td>0.32</td>\n",
       "      <td>11.8</td>\n",
       "      <td>6</td>\n",
       "      <td>white</td>\n",
       "    </tr>\n",
       "  </tbody>\n",
       "</table>\n",
       "<p>4898 rows × 13 columns</p>\n",
       "</div>"
      ],
      "text/plain": [
       "      fixed acidity  volatile acidity  citric acid  residual sugar  chlorides  \\\n",
       "0               7.0              0.27         0.36            20.7      0.045   \n",
       "1               6.3              0.30         0.34             1.6      0.049   \n",
       "2               8.1              0.28         0.40             6.9      0.050   \n",
       "3               7.2              0.23         0.32             8.5      0.058   \n",
       "4               7.2              0.23         0.32             8.5      0.058   \n",
       "...             ...               ...          ...             ...        ...   \n",
       "4893            6.2              0.21         0.29             1.6      0.039   \n",
       "4894            6.6              0.32         0.36             8.0      0.047   \n",
       "4895            6.5              0.24         0.19             1.2      0.041   \n",
       "4896            5.5              0.29         0.30             1.1      0.022   \n",
       "4897            6.0              0.21         0.38             0.8      0.020   \n",
       "\n",
       "      free sulfur dioxide  total sulfur dioxide  density    pH  sulphates  \\\n",
       "0                    45.0                 170.0  1.00100  3.00       0.45   \n",
       "1                    14.0                 132.0  0.99400  3.30       0.49   \n",
       "2                    30.0                  97.0  0.99510  3.26       0.44   \n",
       "3                    47.0                 186.0  0.99560  3.19       0.40   \n",
       "4                    47.0                 186.0  0.99560  3.19       0.40   \n",
       "...                   ...                   ...      ...   ...        ...   \n",
       "4893                 24.0                  92.0  0.99114  3.27       0.50   \n",
       "4894                 57.0                 168.0  0.99490  3.15       0.46   \n",
       "4895                 30.0                 111.0  0.99254  2.99       0.46   \n",
       "4896                 20.0                 110.0  0.98869  3.34       0.38   \n",
       "4897                 22.0                  98.0  0.98941  3.26       0.32   \n",
       "\n",
       "      alcohol  quality  color  \n",
       "0         8.8        6  white  \n",
       "1         9.5        6    red  \n",
       "2        10.1        6    red  \n",
       "3         9.9        6  white  \n",
       "4         9.9        6  white  \n",
       "...       ...      ...    ...  \n",
       "4893     11.2        6    red  \n",
       "4894      9.6        5  white  \n",
       "4895      9.4        6  white  \n",
       "4896     12.8        7    red  \n",
       "4897     11.8        6  white  \n",
       "\n",
       "[4898 rows x 13 columns]"
      ]
     },
     "execution_count": 14,
     "metadata": {},
     "output_type": "execute_result"
    }
   ],
   "source": [
    "wine_df[\"color\"] = wine_df.apply(lambda row: np.random.choice([\"red\", \"white\"]), axis=1)\n",
    "wine_df"
   ]
  },
  {
   "cell_type": "markdown",
   "id": "e662517f",
   "metadata": {},
   "source": [
    "## 2. Obtener información sobre el DataFrame."
   ]
  },
  {
   "cell_type": "code",
   "execution_count": 18,
   "id": "b04efc09",
   "metadata": {},
   "outputs": [
    {
     "name": "stdout",
     "output_type": "stream",
     "text": [
      "<class 'pandas.core.frame.DataFrame'>\n",
      "RangeIndex: 4898 entries, 0 to 4897\n",
      "Data columns (total 13 columns):\n",
      " #   Column                Non-Null Count  Dtype  \n",
      "---  ------                --------------  -----  \n",
      " 0   fixed acidity         4898 non-null   float64\n",
      " 1   volatile acidity      4898 non-null   float64\n",
      " 2   citric acid           4898 non-null   float64\n",
      " 3   residual sugar        4898 non-null   float64\n",
      " 4   chlorides             4898 non-null   float64\n",
      " 5   free sulfur dioxide   4898 non-null   float64\n",
      " 6   total sulfur dioxide  4898 non-null   float64\n",
      " 7   density               4898 non-null   float64\n",
      " 8   pH                    4898 non-null   float64\n",
      " 9   sulphates             4898 non-null   float64\n",
      " 10  alcohol               4898 non-null   float64\n",
      " 11  quality               4898 non-null   int64  \n",
      " 12  color                 4898 non-null   object \n",
      "dtypes: float64(11), int64(1), object(1)\n",
      "memory usage: 497.6+ KB\n"
     ]
    }
   ],
   "source": [
    "wine_df.info()"
   ]
  },
  {
   "cell_type": "markdown",
   "id": "e0793158",
   "metadata": {},
   "source": [
    "## 3. Calcular la media de la columna \"alcohol\""
   ]
  },
  {
   "cell_type": "code",
   "execution_count": 21,
   "id": "8438c78d",
   "metadata": {},
   "outputs": [
    {
     "data": {
      "text/plain": [
       "10.514267047774638"
      ]
     },
     "execution_count": 21,
     "metadata": {},
     "output_type": "execute_result"
    }
   ],
   "source": [
    "wine_df['alcohol'].mean()"
   ]
  },
  {
   "cell_type": "markdown",
   "id": "d4a4a56c",
   "metadata": {},
   "source": [
    "## 4. Contar la cantidad de vinos que tienen un pH superior a 3.5."
   ]
  },
  {
   "cell_type": "code",
   "execution_count": 36,
   "id": "d5e2f649",
   "metadata": {},
   "outputs": [
    {
     "data": {
      "text/html": [
       "<div>\n",
       "<style scoped>\n",
       "    .dataframe tbody tr th:only-of-type {\n",
       "        vertical-align: middle;\n",
       "    }\n",
       "\n",
       "    .dataframe tbody tr th {\n",
       "        vertical-align: top;\n",
       "    }\n",
       "\n",
       "    .dataframe thead th {\n",
       "        text-align: right;\n",
       "    }\n",
       "</style>\n",
       "<table border=\"1\" class=\"dataframe\">\n",
       "  <thead>\n",
       "    <tr style=\"text-align: right;\">\n",
       "      <th></th>\n",
       "      <th>fixed acidity</th>\n",
       "      <th>volatile acidity</th>\n",
       "      <th>citric acid</th>\n",
       "      <th>residual sugar</th>\n",
       "      <th>chlorides</th>\n",
       "      <th>free sulfur dioxide</th>\n",
       "      <th>total sulfur dioxide</th>\n",
       "      <th>density</th>\n",
       "      <th>pH</th>\n",
       "      <th>sulphates</th>\n",
       "      <th>alcohol</th>\n",
       "      <th>quality</th>\n",
       "      <th>color</th>\n",
       "    </tr>\n",
       "  </thead>\n",
       "  <tbody>\n",
       "    <tr>\n",
       "      <th>13</th>\n",
       "      <td>6.6</td>\n",
       "      <td>0.160</td>\n",
       "      <td>0.40</td>\n",
       "      <td>1.50</td>\n",
       "      <td>0.044</td>\n",
       "      <td>48.0</td>\n",
       "      <td>143.0</td>\n",
       "      <td>0.99120</td>\n",
       "      <td>3.54</td>\n",
       "      <td>0.52</td>\n",
       "      <td>12.4</td>\n",
       "      <td>7</td>\n",
       "      <td>red</td>\n",
       "    </tr>\n",
       "    <tr>\n",
       "      <th>72</th>\n",
       "      <td>6.0</td>\n",
       "      <td>0.270</td>\n",
       "      <td>0.28</td>\n",
       "      <td>4.80</td>\n",
       "      <td>0.063</td>\n",
       "      <td>31.0</td>\n",
       "      <td>201.0</td>\n",
       "      <td>0.99640</td>\n",
       "      <td>3.69</td>\n",
       "      <td>0.71</td>\n",
       "      <td>10.0</td>\n",
       "      <td>5</td>\n",
       "      <td>white</td>\n",
       "    </tr>\n",
       "    <tr>\n",
       "      <th>115</th>\n",
       "      <td>5.5</td>\n",
       "      <td>0.485</td>\n",
       "      <td>0.00</td>\n",
       "      <td>1.50</td>\n",
       "      <td>0.065</td>\n",
       "      <td>8.0</td>\n",
       "      <td>103.0</td>\n",
       "      <td>0.99400</td>\n",
       "      <td>3.63</td>\n",
       "      <td>0.40</td>\n",
       "      <td>9.7</td>\n",
       "      <td>4</td>\n",
       "      <td>red</td>\n",
       "    </tr>\n",
       "    <tr>\n",
       "      <th>250</th>\n",
       "      <td>5.9</td>\n",
       "      <td>0.210</td>\n",
       "      <td>0.28</td>\n",
       "      <td>4.60</td>\n",
       "      <td>0.053</td>\n",
       "      <td>40.0</td>\n",
       "      <td>199.0</td>\n",
       "      <td>0.99640</td>\n",
       "      <td>3.72</td>\n",
       "      <td>0.70</td>\n",
       "      <td>10.0</td>\n",
       "      <td>4</td>\n",
       "      <td>red</td>\n",
       "    </tr>\n",
       "    <tr>\n",
       "      <th>253</th>\n",
       "      <td>5.8</td>\n",
       "      <td>0.240</td>\n",
       "      <td>0.44</td>\n",
       "      <td>3.50</td>\n",
       "      <td>0.029</td>\n",
       "      <td>5.0</td>\n",
       "      <td>109.0</td>\n",
       "      <td>0.99130</td>\n",
       "      <td>3.53</td>\n",
       "      <td>0.43</td>\n",
       "      <td>11.7</td>\n",
       "      <td>3</td>\n",
       "      <td>red</td>\n",
       "    </tr>\n",
       "    <tr>\n",
       "      <th>...</th>\n",
       "      <td>...</td>\n",
       "      <td>...</td>\n",
       "      <td>...</td>\n",
       "      <td>...</td>\n",
       "      <td>...</td>\n",
       "      <td>...</td>\n",
       "      <td>...</td>\n",
       "      <td>...</td>\n",
       "      <td>...</td>\n",
       "      <td>...</td>\n",
       "      <td>...</td>\n",
       "      <td>...</td>\n",
       "      <td>...</td>\n",
       "    </tr>\n",
       "    <tr>\n",
       "      <th>4744</th>\n",
       "      <td>5.0</td>\n",
       "      <td>0.240</td>\n",
       "      <td>0.19</td>\n",
       "      <td>5.00</td>\n",
       "      <td>0.043</td>\n",
       "      <td>17.0</td>\n",
       "      <td>101.0</td>\n",
       "      <td>0.99438</td>\n",
       "      <td>3.67</td>\n",
       "      <td>0.57</td>\n",
       "      <td>10.0</td>\n",
       "      <td>5</td>\n",
       "      <td>white</td>\n",
       "    </tr>\n",
       "    <tr>\n",
       "      <th>4765</th>\n",
       "      <td>5.2</td>\n",
       "      <td>0.300</td>\n",
       "      <td>0.34</td>\n",
       "      <td>1.50</td>\n",
       "      <td>0.038</td>\n",
       "      <td>18.0</td>\n",
       "      <td>96.0</td>\n",
       "      <td>0.98942</td>\n",
       "      <td>3.56</td>\n",
       "      <td>0.48</td>\n",
       "      <td>13.0</td>\n",
       "      <td>8</td>\n",
       "      <td>white</td>\n",
       "    </tr>\n",
       "    <tr>\n",
       "      <th>4787</th>\n",
       "      <td>3.9</td>\n",
       "      <td>0.225</td>\n",
       "      <td>0.40</td>\n",
       "      <td>4.20</td>\n",
       "      <td>0.030</td>\n",
       "      <td>29.0</td>\n",
       "      <td>118.0</td>\n",
       "      <td>0.98900</td>\n",
       "      <td>3.57</td>\n",
       "      <td>0.36</td>\n",
       "      <td>12.8</td>\n",
       "      <td>8</td>\n",
       "      <td>red</td>\n",
       "    </tr>\n",
       "    <tr>\n",
       "      <th>4792</th>\n",
       "      <td>4.7</td>\n",
       "      <td>0.785</td>\n",
       "      <td>0.00</td>\n",
       "      <td>3.40</td>\n",
       "      <td>0.036</td>\n",
       "      <td>23.0</td>\n",
       "      <td>134.0</td>\n",
       "      <td>0.98981</td>\n",
       "      <td>3.53</td>\n",
       "      <td>0.92</td>\n",
       "      <td>13.8</td>\n",
       "      <td>6</td>\n",
       "      <td>white</td>\n",
       "    </tr>\n",
       "    <tr>\n",
       "      <th>4839</th>\n",
       "      <td>5.2</td>\n",
       "      <td>0.405</td>\n",
       "      <td>0.15</td>\n",
       "      <td>1.45</td>\n",
       "      <td>0.038</td>\n",
       "      <td>10.0</td>\n",
       "      <td>44.0</td>\n",
       "      <td>0.99125</td>\n",
       "      <td>3.52</td>\n",
       "      <td>0.40</td>\n",
       "      <td>11.6</td>\n",
       "      <td>4</td>\n",
       "      <td>white</td>\n",
       "    </tr>\n",
       "  </tbody>\n",
       "</table>\n",
       "<p>141 rows × 13 columns</p>\n",
       "</div>"
      ],
      "text/plain": [
       "      fixed acidity  volatile acidity  citric acid  residual sugar  chlorides  \\\n",
       "13              6.6             0.160         0.40            1.50      0.044   \n",
       "72              6.0             0.270         0.28            4.80      0.063   \n",
       "115             5.5             0.485         0.00            1.50      0.065   \n",
       "250             5.9             0.210         0.28            4.60      0.053   \n",
       "253             5.8             0.240         0.44            3.50      0.029   \n",
       "...             ...               ...          ...             ...        ...   \n",
       "4744            5.0             0.240         0.19            5.00      0.043   \n",
       "4765            5.2             0.300         0.34            1.50      0.038   \n",
       "4787            3.9             0.225         0.40            4.20      0.030   \n",
       "4792            4.7             0.785         0.00            3.40      0.036   \n",
       "4839            5.2             0.405         0.15            1.45      0.038   \n",
       "\n",
       "      free sulfur dioxide  total sulfur dioxide  density    pH  sulphates  \\\n",
       "13                   48.0                 143.0  0.99120  3.54       0.52   \n",
       "72                   31.0                 201.0  0.99640  3.69       0.71   \n",
       "115                   8.0                 103.0  0.99400  3.63       0.40   \n",
       "250                  40.0                 199.0  0.99640  3.72       0.70   \n",
       "253                   5.0                 109.0  0.99130  3.53       0.43   \n",
       "...                   ...                   ...      ...   ...        ...   \n",
       "4744                 17.0                 101.0  0.99438  3.67       0.57   \n",
       "4765                 18.0                  96.0  0.98942  3.56       0.48   \n",
       "4787                 29.0                 118.0  0.98900  3.57       0.36   \n",
       "4792                 23.0                 134.0  0.98981  3.53       0.92   \n",
       "4839                 10.0                  44.0  0.99125  3.52       0.40   \n",
       "\n",
       "      alcohol  quality  color  \n",
       "13       12.4        7    red  \n",
       "72       10.0        5  white  \n",
       "115       9.7        4    red  \n",
       "250      10.0        4    red  \n",
       "253      11.7        3    red  \n",
       "...       ...      ...    ...  \n",
       "4744     10.0        5  white  \n",
       "4765     13.0        8  white  \n",
       "4787     12.8        8    red  \n",
       "4792     13.8        6  white  \n",
       "4839     11.6        4  white  \n",
       "\n",
       "[141 rows x 13 columns]"
      ]
     },
     "execution_count": 36,
     "metadata": {},
     "output_type": "execute_result"
    }
   ],
   "source": [
    "wine_df[(wine_df['pH'] > 3.5)]"
   ]
  },
  {
   "cell_type": "markdown",
   "id": "fc55a44b",
   "metadata": {},
   "source": [
    "## 5. Filtrar los vinos con un pH superior a 3.5 y una calidad mayor o igual a 7"
   ]
  },
  {
   "cell_type": "code",
   "execution_count": null,
   "id": "0b72b3a1",
   "metadata": {},
   "outputs": [],
   "source": [
    "wine_df[(wine_df['pH'] > 3.5) & ]"
   ]
  },
  {
   "cell_type": "markdown",
   "id": "f9c37ec3",
   "metadata": {},
   "source": [
    "## 6. Ordenar el DataFrame por la columna \"alcohol\" de forma descendente."
   ]
  },
  {
   "cell_type": "code",
   "execution_count": null,
   "id": "91d4308c",
   "metadata": {},
   "outputs": [],
   "source": []
  },
  {
   "cell_type": "markdown",
   "id": "49b89ffc",
   "metadata": {},
   "source": [
    "## 7. Calcular la calidad promedio para cada tipo de vino (\"red\" y \"white\") (pista: group_by)"
   ]
  },
  {
   "cell_type": "code",
   "execution_count": 38,
   "id": "fa1c39e4",
   "metadata": {},
   "outputs": [
    {
     "data": {
      "text/plain": [
       "color\n",
       "red      5.897673\n",
       "white    5.857440\n",
       "Name: quality, dtype: float64"
      ]
     },
     "execution_count": 38,
     "metadata": {},
     "output_type": "execute_result"
    }
   ],
   "source": [
    "wine_df['quality'].groupby(wine_df['color']).mean()"
   ]
  },
  {
   "cell_type": "code",
   "execution_count": 47,
   "id": "53e5f91b",
   "metadata": {},
   "outputs": [
    {
     "data": {
      "text/html": [
       "<div>\n",
       "<style scoped>\n",
       "    .dataframe tbody tr th:only-of-type {\n",
       "        vertical-align: middle;\n",
       "    }\n",
       "\n",
       "    .dataframe tbody tr th {\n",
       "        vertical-align: top;\n",
       "    }\n",
       "\n",
       "    .dataframe thead th {\n",
       "        text-align: right;\n",
       "    }\n",
       "</style>\n",
       "<table border=\"1\" class=\"dataframe\">\n",
       "  <thead>\n",
       "    <tr style=\"text-align: right;\">\n",
       "      <th></th>\n",
       "      <th>sum_qua</th>\n",
       "      <th>pH</th>\n",
       "    </tr>\n",
       "    <tr>\n",
       "      <th>color</th>\n",
       "      <th></th>\n",
       "      <th></th>\n",
       "    </tr>\n",
       "  </thead>\n",
       "  <tbody>\n",
       "    <tr>\n",
       "      <th>red</th>\n",
       "      <td>5.897673</td>\n",
       "      <td>3.81</td>\n",
       "    </tr>\n",
       "    <tr>\n",
       "      <th>white</th>\n",
       "      <td>5.857440</td>\n",
       "      <td>3.82</td>\n",
       "    </tr>\n",
       "  </tbody>\n",
       "</table>\n",
       "</div>"
      ],
      "text/plain": [
       "        sum_qua    pH\n",
       "color                \n",
       "red    5.897673  3.81\n",
       "white  5.857440  3.82"
      ]
     },
     "execution_count": 47,
     "metadata": {},
     "output_type": "execute_result"
    }
   ],
   "source": [
    "wine_df.groupby('color').agg({'quality':'mean', 'pH':'max'}).rename(columns={'quality':'sum_qua'})"
   ]
  },
  {
   "cell_type": "code",
   "execution_count": 45,
   "id": "63261009",
   "metadata": {},
   "outputs": [
    {
     "data": {
      "text/plain": [
       "color\n",
       "red      5.897673\n",
       "white    5.857440\n",
       "Name: quality, dtype: float64"
      ]
     },
     "execution_count": 45,
     "metadata": {},
     "output_type": "execute_result"
    }
   ],
   "source": [
    "wine_df.groupby('color').quality.mean()"
   ]
  },
  {
   "cell_type": "markdown",
   "id": "1f2ad215",
   "metadata": {},
   "source": [
    "## 8. Calcular el valor máximo de la columna \"chlorides\" para vinos rojos con una calidad de al menos 7."
   ]
  },
  {
   "cell_type": "code",
   "execution_count": 52,
   "id": "dff2cba6",
   "metadata": {},
   "outputs": [
    {
     "data": {
      "text/html": [
       "<div>\n",
       "<style scoped>\n",
       "    .dataframe tbody tr th:only-of-type {\n",
       "        vertical-align: middle;\n",
       "    }\n",
       "\n",
       "    .dataframe tbody tr th {\n",
       "        vertical-align: top;\n",
       "    }\n",
       "\n",
       "    .dataframe thead th {\n",
       "        text-align: right;\n",
       "    }\n",
       "</style>\n",
       "<table border=\"1\" class=\"dataframe\">\n",
       "  <thead>\n",
       "    <tr style=\"text-align: right;\">\n",
       "      <th></th>\n",
       "      <th>fixed acidity</th>\n",
       "      <th>volatile acidity</th>\n",
       "      <th>citric acid</th>\n",
       "      <th>residual sugar</th>\n",
       "      <th>chlorides</th>\n",
       "      <th>free sulfur dioxide</th>\n",
       "      <th>total sulfur dioxide</th>\n",
       "      <th>density</th>\n",
       "      <th>pH</th>\n",
       "      <th>sulphates</th>\n",
       "      <th>alcohol</th>\n",
       "      <th>quality</th>\n",
       "      <th>color</th>\n",
       "    </tr>\n",
       "  </thead>\n",
       "  <tbody>\n",
       "    <tr>\n",
       "      <th>772</th>\n",
       "      <td>6.6</td>\n",
       "      <td>0.21</td>\n",
       "      <td>0.6</td>\n",
       "      <td>1.1</td>\n",
       "      <td>0.135</td>\n",
       "      <td>61.0</td>\n",
       "      <td>144.0</td>\n",
       "      <td>0.9927</td>\n",
       "      <td>3.12</td>\n",
       "      <td>0.39</td>\n",
       "      <td>9.3</td>\n",
       "      <td>7</td>\n",
       "      <td>red</td>\n",
       "    </tr>\n",
       "  </tbody>\n",
       "</table>\n",
       "</div>"
      ],
      "text/plain": [
       "     fixed acidity  volatile acidity  citric acid  residual sugar  chlorides  \\\n",
       "772            6.6              0.21          0.6             1.1      0.135   \n",
       "\n",
       "     free sulfur dioxide  total sulfur dioxide  density    pH  sulphates  \\\n",
       "772                 61.0                 144.0   0.9927  3.12       0.39   \n",
       "\n",
       "     alcohol  quality color  \n",
       "772      9.3        7   red  "
      ]
     },
     "execution_count": 52,
     "metadata": {},
     "output_type": "execute_result"
    }
   ],
   "source": [
    "(wine_df\n",
    " [(wine_df.quality >= 7) & (wine_df.color == 'red')]\n",
    " .sort_values(by=\"chlorides\",ascending=False).head(1))"
   ]
  },
  {
   "cell_type": "code",
   "execution_count": 55,
   "id": "7c04ab73",
   "metadata": {},
   "outputs": [
    {
     "data": {
      "text/plain": [
       "0.135"
      ]
     },
     "execution_count": 55,
     "metadata": {},
     "output_type": "execute_result"
    }
   ],
   "source": [
    "(wine_df\n",
    " [(wine_df.quality >= 7) & (wine_df.color == 'red')])['chlorides'].max()"
   ]
  },
  {
   "cell_type": "markdown",
   "id": "8291a487",
   "metadata": {},
   "source": [
    "## 9. Calcular el valor mínimo, máximo y promedio de la columna \"fixed acidity\" para vinos blancos."
   ]
  },
  {
   "cell_type": "code",
   "execution_count": 60,
   "id": "c5b2172d",
   "metadata": {},
   "outputs": [
    {
     "name": "stdout",
     "output_type": "stream",
     "text": [
      "4.4\n",
      "14.2\n",
      "6.858811305070664\n"
     ]
    }
   ],
   "source": [
    "acidity_white_values = wine_df[wine_df['color'] == 'white']['fixed acidity']\n",
    "print(acidity_white_values.min())\n",
    "print(acidity_white_values.max())\n",
    "print(acidity_white_values.mean())"
   ]
  },
  {
   "cell_type": "markdown",
   "id": "408e34ef",
   "metadata": {},
   "source": [
    "## 10. Calcular la cantidad de vinos rojos y blancos en el conjunto de datos."
   ]
  },
  {
   "cell_type": "code",
   "execution_count": 65,
   "id": "ef544cd4",
   "metadata": {},
   "outputs": [
    {
     "name": "stdout",
     "output_type": "stream",
     "text": [
      "red      2492\n",
      "white    2406\n",
      "Name: color, dtype: int64\n"
     ]
    }
   ],
   "source": [
    "wine_counts = wine_df[\"color\"].value_counts()\n",
    "print(wine_counts)"
   ]
  },
  {
   "cell_type": "markdown",
   "id": "ae0a9719",
   "metadata": {},
   "source": [
    "## 11. Crear una nueva columna llamada \"total_acidity\" que sea la suma de las columnas \"fixed acidity\" y \"volatile acidity\"."
   ]
  },
  {
   "cell_type": "code",
   "execution_count": 68,
   "id": "d6223b54",
   "metadata": {},
   "outputs": [
    {
     "data": {
      "text/html": [
       "<div>\n",
       "<style scoped>\n",
       "    .dataframe tbody tr th:only-of-type {\n",
       "        vertical-align: middle;\n",
       "    }\n",
       "\n",
       "    .dataframe tbody tr th {\n",
       "        vertical-align: top;\n",
       "    }\n",
       "\n",
       "    .dataframe thead th {\n",
       "        text-align: right;\n",
       "    }\n",
       "</style>\n",
       "<table border=\"1\" class=\"dataframe\">\n",
       "  <thead>\n",
       "    <tr style=\"text-align: right;\">\n",
       "      <th></th>\n",
       "      <th>fixed acidity</th>\n",
       "      <th>volatile acidity</th>\n",
       "      <th>citric acid</th>\n",
       "      <th>residual sugar</th>\n",
       "      <th>chlorides</th>\n",
       "      <th>free sulfur dioxide</th>\n",
       "      <th>total sulfur dioxide</th>\n",
       "      <th>density</th>\n",
       "      <th>pH</th>\n",
       "      <th>sulphates</th>\n",
       "      <th>alcohol</th>\n",
       "      <th>quality</th>\n",
       "      <th>color</th>\n",
       "      <th>total_acidity</th>\n",
       "    </tr>\n",
       "  </thead>\n",
       "  <tbody>\n",
       "    <tr>\n",
       "      <th>0</th>\n",
       "      <td>7.0</td>\n",
       "      <td>0.27</td>\n",
       "      <td>0.36</td>\n",
       "      <td>20.7</td>\n",
       "      <td>0.045</td>\n",
       "      <td>45.0</td>\n",
       "      <td>170.0</td>\n",
       "      <td>1.0010</td>\n",
       "      <td>3.00</td>\n",
       "      <td>0.45</td>\n",
       "      <td>8.8</td>\n",
       "      <td>6</td>\n",
       "      <td>white</td>\n",
       "      <td>7.27</td>\n",
       "    </tr>\n",
       "    <tr>\n",
       "      <th>1</th>\n",
       "      <td>6.3</td>\n",
       "      <td>0.30</td>\n",
       "      <td>0.34</td>\n",
       "      <td>1.6</td>\n",
       "      <td>0.049</td>\n",
       "      <td>14.0</td>\n",
       "      <td>132.0</td>\n",
       "      <td>0.9940</td>\n",
       "      <td>3.30</td>\n",
       "      <td>0.49</td>\n",
       "      <td>9.5</td>\n",
       "      <td>6</td>\n",
       "      <td>red</td>\n",
       "      <td>6.60</td>\n",
       "    </tr>\n",
       "    <tr>\n",
       "      <th>2</th>\n",
       "      <td>8.1</td>\n",
       "      <td>0.28</td>\n",
       "      <td>0.40</td>\n",
       "      <td>6.9</td>\n",
       "      <td>0.050</td>\n",
       "      <td>30.0</td>\n",
       "      <td>97.0</td>\n",
       "      <td>0.9951</td>\n",
       "      <td>3.26</td>\n",
       "      <td>0.44</td>\n",
       "      <td>10.1</td>\n",
       "      <td>6</td>\n",
       "      <td>red</td>\n",
       "      <td>8.38</td>\n",
       "    </tr>\n",
       "    <tr>\n",
       "      <th>3</th>\n",
       "      <td>7.2</td>\n",
       "      <td>0.23</td>\n",
       "      <td>0.32</td>\n",
       "      <td>8.5</td>\n",
       "      <td>0.058</td>\n",
       "      <td>47.0</td>\n",
       "      <td>186.0</td>\n",
       "      <td>0.9956</td>\n",
       "      <td>3.19</td>\n",
       "      <td>0.40</td>\n",
       "      <td>9.9</td>\n",
       "      <td>6</td>\n",
       "      <td>white</td>\n",
       "      <td>7.43</td>\n",
       "    </tr>\n",
       "    <tr>\n",
       "      <th>4</th>\n",
       "      <td>7.2</td>\n",
       "      <td>0.23</td>\n",
       "      <td>0.32</td>\n",
       "      <td>8.5</td>\n",
       "      <td>0.058</td>\n",
       "      <td>47.0</td>\n",
       "      <td>186.0</td>\n",
       "      <td>0.9956</td>\n",
       "      <td>3.19</td>\n",
       "      <td>0.40</td>\n",
       "      <td>9.9</td>\n",
       "      <td>6</td>\n",
       "      <td>white</td>\n",
       "      <td>7.43</td>\n",
       "    </tr>\n",
       "  </tbody>\n",
       "</table>\n",
       "</div>"
      ],
      "text/plain": [
       "   fixed acidity  volatile acidity  citric acid  residual sugar  chlorides  \\\n",
       "0            7.0              0.27         0.36            20.7      0.045   \n",
       "1            6.3              0.30         0.34             1.6      0.049   \n",
       "2            8.1              0.28         0.40             6.9      0.050   \n",
       "3            7.2              0.23         0.32             8.5      0.058   \n",
       "4            7.2              0.23         0.32             8.5      0.058   \n",
       "\n",
       "   free sulfur dioxide  total sulfur dioxide  density    pH  sulphates  \\\n",
       "0                 45.0                 170.0   1.0010  3.00       0.45   \n",
       "1                 14.0                 132.0   0.9940  3.30       0.49   \n",
       "2                 30.0                  97.0   0.9951  3.26       0.44   \n",
       "3                 47.0                 186.0   0.9956  3.19       0.40   \n",
       "4                 47.0                 186.0   0.9956  3.19       0.40   \n",
       "\n",
       "   alcohol  quality  color  total_acidity  \n",
       "0      8.8        6  white           7.27  \n",
       "1      9.5        6    red           6.60  \n",
       "2     10.1        6    red           8.38  \n",
       "3      9.9        6  white           7.43  \n",
       "4      9.9        6  white           7.43  "
      ]
     },
     "execution_count": 68,
     "metadata": {},
     "output_type": "execute_result"
    }
   ],
   "source": [
    "wine_df[\"total_acidity\"] = wine_df[\"fixed acidity\"] + wine_df[\"volatile acidity\"]\n",
    "wine_df.head()\n"
   ]
  },
  {
   "cell_type": "markdown",
   "id": "0da9ed1a",
   "metadata": {},
   "source": [
    "## 12. Contar la cantidad de vinos que tienen un nivel de alcohol mayor que la media."
   ]
  },
  {
   "cell_type": "code",
   "execution_count": 69,
   "id": "439d52fe",
   "metadata": {},
   "outputs": [
    {
     "name": "stdout",
     "output_type": "stream",
     "text": [
      "2163\n"
     ]
    }
   ],
   "source": [
    "mean_alcohol = wine_df[\"alcohol\"].mean()\n",
    "filas = len(wine_df[wine_df[\"alcohol\"] > mean_alcohol])\n",
    "print(filas)\n"
   ]
  },
  {
   "cell_type": "markdown",
   "id": "e8d384a1",
   "metadata": {},
   "source": [
    "## 13. Calcular la mediana de la columna \"residual sugar\" para vinos con una calidad de al menos 8."
   ]
  },
  {
   "cell_type": "code",
   "execution_count": 70,
   "id": "fc70da9e",
   "metadata": {},
   "outputs": [
    {
     "name": "stdout",
     "output_type": "stream",
     "text": [
      "4.3\n"
     ]
    }
   ],
   "source": [
    "median_sugar = wine_df[wine_df[\"quality\"] >= 8][\"residual sugar\"].median()\n",
    "print(median_sugar)\n"
   ]
  },
  {
   "cell_type": "markdown",
   "id": "e5975546",
   "metadata": {},
   "source": [
    "## 14. Calcular la correlación entre las columnas \"volatile acidity\" y \"pH\". (busca en internet como calcular la correlación en pandas)"
   ]
  },
  {
   "cell_type": "code",
   "execution_count": 71,
   "id": "68473dc7",
   "metadata": {},
   "outputs": [
    {
     "name": "stdout",
     "output_type": "stream",
     "text": [
      "-0.031915368273488946\n"
     ]
    }
   ],
   "source": [
    "correlation = wine_df[\"volatile acidity\"].corr(wine_df[\"pH\"])\n",
    "print(correlation)"
   ]
  },
  {
   "cell_type": "markdown",
   "id": "1653a0d3",
   "metadata": {},
   "source": [
    "## 15. Calcular la calidad promedio de los vinos rojos y blancos por separado (group_by)"
   ]
  },
  {
   "cell_type": "code",
   "execution_count": 82,
   "id": "84f838ba",
   "metadata": {},
   "outputs": [
    {
     "data": {
      "text/plain": [
       "color\n",
       "red    5.897673\n",
       "Name: quality, dtype: float64"
      ]
     },
     "execution_count": 82,
     "metadata": {},
     "output_type": "execute_result"
    }
   ],
   "source": [
    "wine_df[wine_df[\"color\"] == \"red\"].groupby(\"color\").mean()[\"quality\"]"
   ]
  },
  {
   "cell_type": "code",
   "execution_count": 86,
   "id": "4cd20fca",
   "metadata": {},
   "outputs": [
    {
     "name": "stdout",
     "output_type": "stream",
     "text": [
      "Red Wine Quality:\n",
      "5.897672552166934\n",
      "White Wine Quality:\n",
      "5.857439733998337\n"
     ]
    }
   ],
   "source": [
    "red_wine_quality = wine_df[wine_df[\"color\"] == \"red\"].groupby(\"color\").mean()[\"quality\"]['red']\n",
    "white_wine_quality = wine_df[wine_df[\"color\"] == \"white\"].groupby(\"color\").mean()[\"quality\"]['white']\n",
    "\n",
    "print(\"Red Wine Quality:\")\n",
    "print(red_wine_quality)\n",
    "\n",
    "print(\"White Wine Quality:\")\n",
    "print(white_wine_quality)\n"
   ]
  },
  {
   "cell_type": "markdown",
   "id": "5a754893",
   "metadata": {},
   "source": [
    "# Visualización"
   ]
  },
  {
   "cell_type": "markdown",
   "id": "26e50ca7",
   "metadata": {},
   "source": [
    "## 16. Visualizar la distribución de la calidad de los vinos. (counplot)"
   ]
  },
  {
   "cell_type": "code",
   "execution_count": 87,
   "id": "2bf3c373",
   "metadata": {},
   "outputs": [
    {
     "data": {
      "text/plain": [
       "<AxesSubplot:xlabel='quality', ylabel='count'>"
      ]
     },
     "execution_count": 87,
     "metadata": {},
     "output_type": "execute_result"
    },
    {
     "data": {
      "image/png": "[encoded data removed]",
      "text/plain": [
       "<Figure size 432x288 with 1 Axes>"
      ]
     },
     "metadata": {
      "needs_background": "light"
     },
     "output_type": "display_data"
    }
   ],
   "source": [
    "sns.countplot(data=wine_df, x=\"quality\")"
   ]
  },
  {
   "cell_type": "markdown",
   "id": "0a3aabad",
   "metadata": {},
   "source": [
    "## 17. Crear un gráfico de dispersión para mostrar la relación entre el alcohol y la calidad de los vinos (pairplot)"
   ]
  },
  {
   "cell_type": "code",
   "execution_count": 88,
   "id": "e0fae864",
   "metadata": {},
   "outputs": [
    {
     "data": {
      "text/plain": [
       "<AxesSubplot:xlabel='alcohol', ylabel='quality'>"
      ]
     },
     "execution_count": 88,
     "metadata": {},
     "output_type": "execute_result"
    },
    {
     "data": {
      "image/png": "[encoded data removed]",
      "text/plain": [
       "<Figure size 432x288 with 1 Axes>"
      ]
     },
     "metadata": {
      "needs_background": "light"
     },
     "output_type": "display_data"
    }
   ],
   "source": [
    "sns.scatterplot(data=wine_df, x=\"alcohol\", y=\"quality\")\n"
   ]
  },
  {
   "cell_type": "markdown",
   "id": "4472aa39",
   "metadata": {},
   "source": [
    "## 18. Mostrar la matriz de correlación de todas las características numéricas del conjunto de datos.\n",
    "\n",
    "Primero crea una matriz de correlaciones y luego usa la funcion heatmap"
   ]
  },
  {
   "cell_type": "code",
   "execution_count": 90,
   "id": "b7e13024",
   "metadata": {},
   "outputs": [
    {
     "data": {
      "text/plain": [
       "<AxesSubplot:>"
      ]
     },
     "execution_count": 90,
     "metadata": {},
     "output_type": "execute_result"
    },
    {
     "data": {
      "image/png": "[encoded data removed]",
      "text/plain": [
       "<Figure size 432x288 with 2 Axes>"
      ]
     },
     "metadata": {
      "needs_background": "light"
     },
     "output_type": "display_data"
    }
   ],
   "source": [
    "correlation_matrix = wine_df.corr()\n",
    "sns.heatmap(correlation_matrix, annot=True, cmap=\"coolwarm\")\n"
   ]
  },
  {
   "cell_type": "markdown",
   "id": "037e0581",
   "metadata": {},
   "source": [
    "## 19. Visualizar la distribución de la calidad de los vinos separada por el tipo de vino. (en countplot usa el parametro: hue)"
   ]
  },
  {
   "cell_type": "code",
   "execution_count": 92,
   "id": "b58acc2e",
   "metadata": {},
   "outputs": [
    {
     "data": {
      "text/plain": [
       "<AxesSubplot:xlabel='quality', ylabel='count'>"
      ]
     },
     "execution_count": 92,
     "metadata": {},
     "output_type": "execute_result"
    },
    {
     "data": {
      "image/png": "[encoded data removed]",
      "text/plain": [
       "<Figure size 432x288 with 1 Axes>"
      ]
     },
     "metadata": {
      "needs_background": "light"
     },
     "output_type": "display_data"
    }
   ],
   "source": [
    "sns.countplot(data=wine_df, x=\"quality\", hue=\"color\")\n"
   ]
  },
  {
   "cell_type": "markdown",
   "id": "e7a7116d",
   "metadata": {},
   "source": [
    "## 20. Visualizar la distribución de una característica numérica en función de la calidad utilizando un violinplot."
   ]
  },
  {
   "cell_type": "code",
   "execution_count": 93,
   "id": "dc1687dc",
   "metadata": {},
   "outputs": [
    {
     "data": {
      "text/plain": [
       "<AxesSubplot:xlabel='quality', ylabel='alcohol'>"
      ]
     },
     "execution_count": 93,
     "metadata": {},
     "output_type": "execute_result"
    },
    {
     "data": {
      "image/png": "[encoded data removed]",
      "text/plain": [
       "<Figure size 432x288 with 1 Axes>"
      ]
     },
     "metadata": {
      "needs_background": "light"
     },
     "output_type": "display_data"
    }
   ],
   "source": [
    "sns.violinplot(data=wine_df, x=\"quality\", y=\"alcohol\")\n"
   ]
  },
  {
   "cell_type": "markdown",
   "id": "5a978286",
   "metadata": {},
   "source": [
    "# Apply"
   ]
  },
  {
   "cell_type": "markdown",
   "id": "ed96ae7d",
   "metadata": {},
   "source": [
    "## 21. Crear una función para clasificar los vinos en base a su calidad: mayor que 7 --> Buena, mayor que 5 --> regular. Si no, mala."
   ]
  },
  {
   "cell_type": "code",
   "execution_count": 95,
   "id": "8fa53f3b",
   "metadata": {},
   "outputs": [
    {
     "data": {
      "text/plain": [
       "0       Average\n",
       "1       Average\n",
       "2       Average\n",
       "3       Average\n",
       "4       Average\n",
       "         ...   \n",
       "4893    Average\n",
       "4894    Average\n",
       "4895    Average\n",
       "4896       Good\n",
       "4897    Average\n",
       "Name: classification, Length: 4898, dtype: object"
      ]
     },
     "execution_count": 95,
     "metadata": {},
     "output_type": "execute_result"
    }
   ],
   "source": [
    "def classify_wine(quality):\n",
    "    if quality >= 7:\n",
    "        return \"Good\"\n",
    "    elif quality >= 5:\n",
    "        return \"Average\"\n",
    "    else:\n",
    "        return \"Bad\"\n",
    "\n",
    "# Aplicar la función a la columna \"quality\" y crear una nueva columna \"classification\"\n",
    "wine_df[\"classification\"] = wine_df[\"quality\"].apply(classify_wine)\n",
    "\n",
    "wine_df[\"classification\"]\n"
   ]
  },
  {
   "cell_type": "markdown",
   "id": "d01df4e9",
   "metadata": {},
   "source": [
    "## 22. Crear una función para calcular el contenido de alcohol en términos de porcentaje."
   ]
  },
  {
   "cell_type": "code",
   "execution_count": 96,
   "id": "83cad36b",
   "metadata": {},
   "outputs": [
    {
     "data": {
      "text/plain": [
       "0        880.0\n",
       "1        950.0\n",
       "2       1010.0\n",
       "3        990.0\n",
       "4        990.0\n",
       "         ...  \n",
       "4893    1120.0\n",
       "4894     960.0\n",
       "4895     940.0\n",
       "4896    1280.0\n",
       "4897    1180.0\n",
       "Name: alcohol_percentage, Length: 4898, dtype: float64"
      ]
     },
     "execution_count": 96,
     "metadata": {},
     "output_type": "execute_result"
    }
   ],
   "source": [
    "def calculate_alcohol_percentage(alcohol):\n",
    "    return alcohol * 100\n",
    "\n",
    "# Aplicar la función a la columna \"alcohol\" y crear una nueva columna \"alcohol_percentage\"\n",
    "wine_df[\"alcohol_percentage\"] = wine_df[\"alcohol\"].apply(calculate_alcohol_percentage)\n",
    "\n",
    "wine_df[\"alcohol_percentage\"]\n"
   ]
  },
  {
   "cell_type": "markdown",
   "id": "5cb6c336",
   "metadata": {},
   "source": [
    "## 23. Crear una función para convertir la columna \"type\" en minúsculas."
   ]
  },
  {
   "cell_type": "code",
   "execution_count": 97,
   "id": "3e740219",
   "metadata": {},
   "outputs": [
    {
     "name": "stdout",
     "output_type": "stream",
     "text": [
      "0       white\n",
      "1         red\n",
      "2         red\n",
      "3       white\n",
      "4       white\n",
      "        ...  \n",
      "4893      red\n",
      "4894    white\n",
      "4895    white\n",
      "4896      red\n",
      "4897    white\n",
      "Name: color, Length: 4898, dtype: object\n"
     ]
    }
   ],
   "source": [
    "def convert_to_lowercase(text):\n",
    "    return text.lower()\n",
    "\n",
    "# Aplicar la función a la columna \"type\" y actualizar los valores en la misma columna\n",
    "wine_df[\"color\"] = wine_df[\"color\"].apply(convert_to_lowercase)\n",
    "\n",
    "print(wine_df[\"color\"])\n"
   ]
  },
  {
   "cell_type": "markdown",
   "id": "eb7b9157",
   "metadata": {},
   "source": [
    "# Joins"
   ]
  },
  {
   "cell_type": "markdown",
   "id": "91fca940",
   "metadata": {},
   "source": [
    "## 24. Concatenar dos DataFrames verticalmente:"
   ]
  },
  {
   "cell_type": "code",
   "execution_count": null,
   "id": "2851727a",
   "metadata": {},
   "outputs": [],
   "source": [
    "df1 = pd.DataFrame({\"A\": [1, 2, 3], \"B\": [4, 5, 6]})\n",
    "df2 = pd.DataFrame({\"A\": [7, 8, 9], \"B\": [10, 11, 12]})\n"
   ]
  },
  {
   "cell_type": "markdown",
   "id": "9a66a4d3",
   "metadata": {},
   "source": [
    "## 25. Concatenale este DataFrames horizontalmente:"
   ]
  },
  {
   "cell_type": "code",
   "execution_count": null,
   "id": "1ea38c91",
   "metadata": {},
   "outputs": [],
   "source": [
    "df3 = pd.DataFrame({\"C\": [13, 14, 15], \"D\": [16, 17, 18]})"
   ]
  },
  {
   "cell_type": "markdown",
   "id": "7cd55c50",
   "metadata": {},
   "source": [
    "## 26. Realizar una unión de dos DataFrames basada en sus índices (join)"
   ]
  },
  {
   "cell_type": "code",
   "execution_count": null,
   "id": "0d080ac3",
   "metadata": {},
   "outputs": [],
   "source": [
    "df4 = pd.DataFrame({\"C\": [19, 20, 21], \"D\": [22, 23, 24]}, index=[1, 2, 3])\n"
   ]
  },
  {
   "cell_type": "markdown",
   "id": "19aa9d16",
   "metadata": {},
   "source": [
    "## 27. Fusionarle este DataFrame utilizando una columna en común (merge)"
   ]
  },
  {
   "cell_type": "code",
   "execution_count": null,
   "id": "978dfa30",
   "metadata": {},
   "outputs": [],
   "source": [
    "df5 = pd.DataFrame({\"A\": [2, 3, 4], \"E\": [25, 26, 27]})\n"
   ]
  },
  {
   "cell_type": "markdown",
   "id": "e264ba4c",
   "metadata": {},
   "source": [
    "## 28. Fusionale este DataFrame utilizando columnas diferentes en cada DataFrame (merge)"
   ]
  },
  {
   "cell_type": "code",
   "execution_count": null,
   "id": "15c1168c",
   "metadata": {},
   "outputs": [],
   "source": [
    "df6 = pd.DataFrame({\"F\": [4, 5, 6], \"G\": [28, 29, 30]})"
   ]
  }
 ],
 "metadata": {
  "kernelspec": {
   "display_name": "Python 3 (ipykernel)",
   "language": "python",
   "name": "python3"
  },
  "language_info": {
   "codemirror_mode": {
    "name": "ipython",
    "version": 3
   },
   "file_extension": ".py",
   "mimetype": "text/x-python",
   "name": "python",
   "nbconvert_exporter": "python",
   "pygments_lexer": "ipython3",
   "version": "3.9.12"
  }
 },
 "nbformat": 4,
 "nbformat_minor": 5
}
