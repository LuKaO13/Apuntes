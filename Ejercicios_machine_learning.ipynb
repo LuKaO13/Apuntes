{
 "cells": [
  {
   "cell_type": "markdown",
   "id": "22fca386",
   "metadata": {},
   "source": [
    "## Importa los modulos necesarios\n",
    "Cada vez que importes una librería, dejala en esta celda inicial"
   ]
  },
  {
   "cell_type": "code",
   "execution_count": 1,
   "id": "35db5802",
   "metadata": {},
   "outputs": [],
   "source": [
    "import pandas as pd"
   ]
  },
  {
   "cell_type": "markdown",
   "id": "9513dabd",
   "metadata": {},
   "source": [
    "# Regresión"
   ]
  },
  {
   "cell_type": "markdown",
   "id": "661d2a01",
   "metadata": {},
   "source": [
    "### Trabajaremos con el dataset: housing.csv"
   ]
  },
  {
   "cell_type": "markdown",
   "id": "0c08bdec",
   "metadata": {},
   "source": [
    "Estos son los datos de boston_housing:\n",
    "- CRIM - per capita crime rate by town\n",
    "- ZN - proportion of residential land zoned for lots over 25,000 sq.ft.\n",
    "- INDUS - proportion of non-retail business acres per town.\n",
    "- CHAS - Charles River dummy variable (1 if tract bounds river; 0 otherwise)\n",
    "- NOX - nitric oxides concentration (parts per 10 million)\n",
    "- RM - average number of rooms per dwelling\n",
    "- AGE - proportion of owner-occupied units built prior to 1940\n",
    "- DIS - weighted distances to five Boston employment centres\n",
    "- RAD - index of accessibility to radial highways\n",
    "- TAX - full-value property-tax rate per 10,000\n",
    "- PTRATIO - pupil-teacher ratio by town\n",
    "- B - 1000(Bk - 0.63)^2 where Bk is the proportion of blacks by town\n",
    "- LSTAT - % lower status of the population\n",
    "- MEDV - Median value of owner-occupied homes in $1000's\n",
    "\n",
    "Vamos a predecir `MEDV`"
   ]
  },
  {
   "cell_type": "markdown",
   "id": "8190383c",
   "metadata": {},
   "source": [
    "## 1. Lee el dataframe"
   ]
  },
  {
   "cell_type": "markdown",
   "id": "da5cc7db",
   "metadata": {},
   "source": [
    "Las columnas son: `['CRIM', 'ZN', 'INDUS', 'CHAS', 'NOX', 'RM', 'AGE', 'DIS', 'RAD', 'TAX', 'PTRATIO', 'B', 'LSTAT', 'MEDV']`\n",
    "\n",
    "y el separador es: `\\s+`"
   ]
  },
  {
   "cell_type": "code",
   "execution_count": null,
   "id": "9fe3f1ff",
   "metadata": {},
   "outputs": [],
   "source": []
  },
  {
   "cell_type": "markdown",
   "id": "a77ab5f7",
   "metadata": {},
   "source": [
    "## 2. Muestra información sobre los datos"
   ]
  },
  {
   "cell_type": "code",
   "execution_count": null,
   "id": "ea6ce446",
   "metadata": {},
   "outputs": [],
   "source": []
  },
  {
   "cell_type": "markdown",
   "id": "97df3907",
   "metadata": {},
   "source": [
    "## 3. Mira los outliers de `CRIM, ZN, RM, B`. Haz con ellos lo que decidas."
   ]
  },
  {
   "cell_type": "code",
   "execution_count": null,
   "id": "4287708f",
   "metadata": {},
   "outputs": [],
   "source": []
  },
  {
   "cell_type": "markdown",
   "id": "1f94ba11",
   "metadata": {},
   "source": [
    "## 4. Las columnas de `TAX` y de `B` tienen valores altos. Escoge dos escaladores y aplicalos a `TAX` y a `B` respectivamente."
   ]
  },
  {
   "cell_type": "code",
   "execution_count": null,
   "id": "d0956199",
   "metadata": {},
   "outputs": [],
   "source": []
  },
  {
   "cell_type": "markdown",
   "id": "e12321aa",
   "metadata": {},
   "source": [
    "## 5. Ahora quiero ver la colinealidad. Utiliza heatmat incluyendo este parámetro: `annot=True`"
   ]
  },
  {
   "cell_type": "markdown",
   "id": "49503435",
   "metadata": {},
   "source": [
    "Con heatmap se pueden eliminar columnas que estén correlacionadas, pero tambien **podemos ver que variables estan mas correlacionadas con la variable a predecir**.\n",
    "\n",
    "Para el modelo que elijas. intenta solo poner las variables mas correlacionadas con `MEDV`"
   ]
  },
  {
   "cell_type": "code",
   "execution_count": null,
   "id": "76bd2ca6",
   "metadata": {},
   "outputs": [],
   "source": []
  },
  {
   "cell_type": "markdown",
   "id": "6ae00bcc",
   "metadata": {},
   "source": [
    "## 6. Divide la muestra en train y test"
   ]
  },
  {
   "cell_type": "code",
   "execution_count": null,
   "id": "c09bb941",
   "metadata": {},
   "outputs": [],
   "source": []
  },
  {
   "cell_type": "markdown",
   "id": "e5d10ace",
   "metadata": {},
   "source": [
    "## 7. Dividelos de nuevo en X_train, y_train, X_test e y_test. La muestra de train tiene que tener un 85% de los datos. Utiliza la semilla numero 27 (informate de para qué sirve)."
   ]
  },
  {
   "cell_type": "code",
   "execution_count": null,
   "id": "badc4bd6",
   "metadata": {},
   "outputs": [],
   "source": []
  },
  {
   "cell_type": "markdown",
   "id": "e97f181d",
   "metadata": {},
   "source": [
    "## 8. Entena un modelo de regresión lineal.\n",
    "Pasos:\n",
    "- Importa el modulo\n",
    "- Carga el modelo\n",
    "- Entrena el modelo"
   ]
  },
  {
   "cell_type": "code",
   "execution_count": null,
   "id": "89a37e16",
   "metadata": {},
   "outputs": [],
   "source": []
  },
  {
   "cell_type": "markdown",
   "id": "f1ca02c0",
   "metadata": {},
   "source": [
    "## 9. Muestra los coeficientes y el intercept del modelo."
   ]
  },
  {
   "cell_type": "code",
   "execution_count": null,
   "id": "504aba99",
   "metadata": {},
   "outputs": [],
   "source": []
  },
  {
   "cell_type": "markdown",
   "id": "202f3a75",
   "metadata": {},
   "source": [
    "## 10. Predice el resultado para el test."
   ]
  },
  {
   "cell_type": "code",
   "execution_count": null,
   "id": "54acd35a",
   "metadata": {},
   "outputs": [],
   "source": []
  },
  {
   "cell_type": "markdown",
   "id": "f465e41f",
   "metadata": {},
   "source": [
    "## 11. Mira su R cuadrado y su RMSE (este ultimo a lo mejor tienes que buscar como importarlo)"
   ]
  },
  {
   "cell_type": "code",
   "execution_count": null,
   "id": "fba92b70",
   "metadata": {},
   "outputs": [],
   "source": []
  },
  {
   "cell_type": "markdown",
   "id": "79e28f8e",
   "metadata": {},
   "source": [
    "## 12. Haz lo mismo con un random forest regressor. Con qué modelo te quedas?"
   ]
  },
  {
   "cell_type": "code",
   "execution_count": null,
   "id": "584c43c3",
   "metadata": {},
   "outputs": [],
   "source": []
  },
  {
   "cell_type": "markdown",
   "id": "5f57f66d",
   "metadata": {},
   "source": [
    "# Clasificación"
   ]
  },
  {
   "cell_type": "markdown",
   "id": "97f18761",
   "metadata": {},
   "source": [
    "Queremos predecir la columna: `Survived`"
   ]
  },
  {
   "cell_type": "markdown",
   "id": "d2ee8e8a",
   "metadata": {},
   "source": [
    "## 13. Lee el dataset de titanic"
   ]
  },
  {
   "cell_type": "code",
   "execution_count": null,
   "id": "6db5d13e",
   "metadata": {},
   "outputs": [],
   "source": []
  },
  {
   "cell_type": "markdown",
   "id": "c176f16f",
   "metadata": {},
   "source": [
    "## 14. Mira la información del dataset"
   ]
  },
  {
   "cell_type": "code",
   "execution_count": null,
   "id": "73a2e42d",
   "metadata": {},
   "outputs": [],
   "source": []
  },
  {
   "cell_type": "markdown",
   "id": "fcf2fa2c",
   "metadata": {},
   "source": [
    "## 15. Analiza los ouliers de las columnas `Age` y `Fare`. Qué hacemos con ellos?"
   ]
  },
  {
   "cell_type": "code",
   "execution_count": null,
   "id": "cefc765c",
   "metadata": {},
   "outputs": [],
   "source": []
  },
  {
   "cell_type": "markdown",
   "id": "3da6a8d2",
   "metadata": {},
   "source": [
    "## 16. Haz un one-hot encoding de la variable `Sex`"
   ]
  },
  {
   "cell_type": "code",
   "execution_count": null,
   "id": "7a7b9353",
   "metadata": {},
   "outputs": [],
   "source": []
  },
  {
   "cell_type": "markdown",
   "id": "2c3cc165",
   "metadata": {},
   "source": [
    "## 17. Haz un label encoding de la variable `Embarked`"
   ]
  },
  {
   "cell_type": "code",
   "execution_count": null,
   "id": "50cbab9e",
   "metadata": {},
   "outputs": [],
   "source": []
  },
  {
   "cell_type": "markdown",
   "id": "b93bd9ff",
   "metadata": {},
   "source": [
    "## 18. Qué hacemos con la variable Name? Hay varias opciones, te comento una: Y si transformamos esa columna en la longitud del nombre? Veremos más adelante si sirve o no. Luego te daré una posible explicación sobre esta transformación."
   ]
  },
  {
   "cell_type": "code",
   "execution_count": null,
   "id": "cbe261e0",
   "metadata": {},
   "outputs": [],
   "source": []
  },
  {
   "cell_type": "markdown",
   "id": "35cc6796",
   "metadata": {},
   "source": [
    "## 19. Que hacemos con la columna `Cabin`? Lo dejo como ejercicio libre."
   ]
  },
  {
   "cell_type": "code",
   "execution_count": null,
   "id": "180f2ca8",
   "metadata": {},
   "outputs": [],
   "source": []
  },
  {
   "cell_type": "markdown",
   "id": "31dc0862",
   "metadata": {},
   "source": [
    "## 20. Ahora revisa si hay NAs en alguna columna y solucionalo."
   ]
  },
  {
   "cell_type": "code",
   "execution_count": null,
   "id": "ccf37dd3",
   "metadata": {},
   "outputs": [],
   "source": []
  },
  {
   "cell_type": "markdown",
   "id": "3255c122",
   "metadata": {},
   "source": [
    "## 21. Estudia la colinealidad"
   ]
  },
  {
   "cell_type": "code",
   "execution_count": null,
   "id": "a4677d9b",
   "metadata": {},
   "outputs": [],
   "source": []
  },
  {
   "cell_type": "markdown",
   "id": "452ce018",
   "metadata": {},
   "source": [
    "## 22. Divide la muestra en train y test."
   ]
  },
  {
   "cell_type": "code",
   "execution_count": null,
   "id": "348b3c7c",
   "metadata": {},
   "outputs": [],
   "source": []
  },
  {
   "cell_type": "markdown",
   "id": "adac777f",
   "metadata": {},
   "source": [
    "## 23. Dividelos de nuevo en X_train, y_train, X_test e y_test. La muestra de train tiene que tener un 80% de los datos. Utiliza la semilla numero 42."
   ]
  },
  {
   "cell_type": "code",
   "execution_count": null,
   "id": "afc6ed1e",
   "metadata": {},
   "outputs": [],
   "source": []
  },
  {
   "cell_type": "markdown",
   "id": "c548f71f",
   "metadata": {},
   "source": [
    "## 24. Entena un modelo de regresión logistica (busca por internet el import).\n",
    "Pasos:\n",
    "- Importa el modulo\n",
    "- Carga el modelo\n",
    "- Entrena el modelo"
   ]
  },
  {
   "cell_type": "markdown",
   "id": "c1ce049c",
   "metadata": {},
   "source": [
    "## 25. Haz las predicciones."
   ]
  },
  {
   "cell_type": "code",
   "execution_count": null,
   "id": "d4f089c1",
   "metadata": {},
   "outputs": [],
   "source": []
  },
  {
   "cell_type": "markdown",
   "id": "f388b417",
   "metadata": {},
   "source": [
    "## 26. Mira su accuracy, precision y recall."
   ]
  },
  {
   "cell_type": "code",
   "execution_count": null,
   "id": "3a8660c0",
   "metadata": {},
   "outputs": [],
   "source": []
  },
  {
   "cell_type": "markdown",
   "id": "77bbe79c",
   "metadata": {},
   "source": [
    "## 27. Muestra la matriz de confusión."
   ]
  },
  {
   "cell_type": "code",
   "execution_count": null,
   "id": "800286cb",
   "metadata": {},
   "outputs": [],
   "source": []
  },
  {
   "cell_type": "markdown",
   "id": "2d155f1e",
   "metadata": {},
   "source": [
    "## 28. Replica lo mismo pero con un random forest classifier. Qué modelo es mejor?"
   ]
  },
  {
   "cell_type": "code",
   "execution_count": null,
   "id": "1e367d01",
   "metadata": {},
   "outputs": [],
   "source": []
  }
 ],
 "metadata": {
  "kernelspec": {
   "display_name": "Python 3 (ipykernel)",
   "language": "python",
   "name": "python3"
  },
  "language_info": {
   "codemirror_mode": {
    "name": "ipython",
    "version": 3
   },
   "file_extension": ".py",
   "mimetype": "text/x-python",
   "name": "python",
   "nbconvert_exporter": "python",
   "pygments_lexer": "ipython3",
   "version": "3.9.12"
  }
 },
 "nbformat": 4,
 "nbformat_minor": 5
}
