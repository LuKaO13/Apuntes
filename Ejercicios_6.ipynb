{
 "cells": [
  {
   "cell_type": "markdown",
   "id": "0adb56c2",
   "metadata": {},
   "source": [
    "### 8. Crea una función que tome dos números y un operador (+, -, *, /) como argumentos y devuelva el resultado de la operación."
   ]
  },
  {
   "cell_type": "code",
   "execution_count": 25,
   "id": "1f4b1a49",
   "metadata": {},
   "outputs": [],
   "source": [
    "def operacion(num_1, num_2, operador = '+'):\n",
    "    \n",
    "    if operador == '+':\n",
    "        suma = num_1 + num_2\n",
    "        return (suma)\n",
    "    elif operador == '-':\n",
    "        resta = num_1 - num_2\n",
    "        return(resta)\n",
    "        \n",
    "    elif operador == '/':\n",
    "        if num_2 == 0:\n",
    "            print('No se puede dividir entre cero')\n",
    "        else:\n",
    "            division = num_1 / num_2\n",
    "            return(division)\n",
    "    else: \n",
    "        return('Comando equivocado')"
   ]
  },
  {
   "cell_type": "code",
   "execution_count": 27,
   "id": "1fd8c277",
   "metadata": {},
   "outputs": [
    {
     "name": "stdout",
     "output_type": "stream",
     "text": [
      "No se puede dividir entre cero\n"
     ]
    }
   ],
   "source": [
    "operacion(4,0, '/')"
   ]
  },
  {
   "cell_type": "markdown",
   "id": "7f5ab404",
   "metadata": {},
   "source": [
    "## handling errors"
   ]
  },
  {
   "cell_type": "code",
   "execution_count": 33,
   "id": "01ff477e",
   "metadata": {},
   "outputs": [],
   "source": [
    "def operacion(num_1, num_2, operador = '+'):\n",
    "    try:\n",
    "        if operador == '+':\n",
    "            suma = num_1 + num_2\n",
    "            return (suma)\n",
    "        elif operador == '-':\n",
    "            resta = num_1 - num_2\n",
    "            return(resta)\n",
    "\n",
    "        elif operador == '/':\n",
    "            division = num_1 / num_2\n",
    "            return(division)\n",
    "        else: \n",
    "            return('Comando equivocado')\n",
    "    except:\n",
    "        print('ha habido un error, seguramente porque has puesto un 0')"
   ]
  },
  {
   "cell_type": "code",
   "execution_count": 34,
   "id": "a8768ffe",
   "metadata": {},
   "outputs": [
    {
     "name": "stdout",
     "output_type": "stream",
     "text": [
      "ha habido un error, seguramente porque has puesto un 0\n"
     ]
    }
   ],
   "source": [
    "operacion(4,0, '/')"
   ]
  },
  {
   "cell_type": "markdown",
   "id": "fe7237bc",
   "metadata": {},
   "source": [
    "### 9. Escribe una función que tome una cadena de texto como argumento y cuente el número de palabras en esa cadena. Puedes asumir que las palabras están separadas por espacios."
   ]
  },
  {
   "cell_type": "code",
   "execution_count": 46,
   "id": "3b467174",
   "metadata": {},
   "outputs": [
    {
     "data": {
      "text/plain": [
       "['hola', 'soy', 'javi']"
      ]
     },
     "execution_count": 46,
     "metadata": {},
     "output_type": "execute_result"
    }
   ],
   "source": [
    "texto = 'hola soy javi'\n",
    "cuenta = 0\n",
    "texto.split()\n"
   ]
  },
  {
   "cell_type": "code",
   "execution_count": 40,
   "id": "3bee7ce4",
   "metadata": {},
   "outputs": [],
   "source": [
    "def contador(texto:str):\n",
    "    cuenta = len(texto.split())\n",
    "    return(cuenta)"
   ]
  },
  {
   "cell_type": "code",
   "execution_count": 41,
   "id": "057ed5f0",
   "metadata": {},
   "outputs": [
    {
     "data": {
      "text/plain": [
       "4"
      ]
     },
     "execution_count": 41,
     "metadata": {},
     "output_type": "execute_result"
    }
   ],
   "source": [
    "contador('hola wilmer, que tal?')"
   ]
  },
  {
   "cell_type": "code",
   "execution_count": 50,
   "id": "c6aa7f34",
   "metadata": {},
   "outputs": [],
   "source": [
    "def contador(texto:str):\n",
    "    cuenta = 0\n",
    "    print(f'La lista que vamos a iterar es: {texto.split()}')\n",
    "    for palabra in texto.split():\n",
    "        print(f'cuenta vale {cuenta}')\n",
    "        print(f'estamos en la palabra {palabra} y hacemos lo que esta debajo, que es un cuenta +1')  \n",
    "        cuenta += 1\n",
    "        print(f'ahora cuenta vale {cuenta}')\n",
    "    return(cuenta)"
   ]
  },
  {
   "cell_type": "code",
   "execution_count": 51,
   "id": "713ec021",
   "metadata": {},
   "outputs": [
    {
     "name": "stdout",
     "output_type": "stream",
     "text": [
      "La lista que vamos a iterar es: ['hola', 'wilmer,', 'que', 'tal?']\n",
      "cuenta vale 0\n",
      "estamos en la palabra hola y hacemos lo que esta debajo, que es un cuenta +1\n",
      "ahora cuenta vale 1\n",
      "cuenta vale 1\n",
      "estamos en la palabra wilmer, y hacemos lo que esta debajo, que es un cuenta +1\n",
      "ahora cuenta vale 2\n",
      "cuenta vale 2\n",
      "estamos en la palabra que y hacemos lo que esta debajo, que es un cuenta +1\n",
      "ahora cuenta vale 3\n",
      "cuenta vale 3\n",
      "estamos en la palabra tal? y hacemos lo que esta debajo, que es un cuenta +1\n",
      "ahora cuenta vale 4\n"
     ]
    },
    {
     "data": {
      "text/plain": [
       "4"
      ]
     },
     "execution_count": 51,
     "metadata": {},
     "output_type": "execute_result"
    }
   ],
   "source": [
    "contador('hola wilmer, que tal?')"
   ]
  },
  {
   "cell_type": "code",
   "execution_count": null,
   "id": "9f494bba",
   "metadata": {},
   "outputs": [],
   "source": []
  },
  {
   "cell_type": "code",
   "execution_count": null,
   "id": "47647470",
   "metadata": {},
   "outputs": [],
   "source": []
  },
  {
   "cell_type": "code",
   "execution_count": null,
   "id": "d713526e",
   "metadata": {},
   "outputs": [],
   "source": []
  },
  {
   "cell_type": "code",
   "execution_count": 16,
   "id": "66c5fb14",
   "metadata": {},
   "outputs": [
    {
     "name": "stdout",
     "output_type": "stream",
     "text": [
      "a\n",
      "b\n",
      "c\n",
      "3\n"
     ]
    }
   ],
   "source": [
    "contador = 0\n",
    "for element in 'a b c'.split(' '):\n",
    "    print(element)\n",
    "    contador += 1\n",
    "print(contador)"
   ]
  },
  {
   "cell_type": "code",
   "execution_count": 23,
   "id": "275fceb7",
   "metadata": {},
   "outputs": [],
   "source": [
    "def contador(frase):\n",
    "    contador=0\n",
    "    palabras= frase.split()\n",
    "    for element in palabras:\n",
    "        contador+=1\n",
    "    return(contador)"
   ]
  },
  {
   "cell_type": "code",
   "execution_count": 24,
   "id": "c4fb183d",
   "metadata": {},
   "outputs": [
    {
     "name": "stdout",
     "output_type": "stream",
     "text": [
      "3\n"
     ]
    }
   ],
   "source": [
    "resul = contador_palabras('a b c')\n",
    "print(resul)"
   ]
  },
  {
   "cell_type": "markdown",
   "id": "8a180468",
   "metadata": {},
   "source": [
    "### 10. Define una función que tome una palabra como argumento y determine si es un palíndromo (es decir, si se lee igual de izquierda a derecha y de derecha a izquierda)."
   ]
  },
  {
   "cell_type": "code",
   "execution_count": null,
   "id": "baf01405",
   "metadata": {},
   "outputs": [],
   "source": [
    "## Hecho por Alex\n",
    "def palindromo(palabra):\n",
    "    palabra = palabra.lower()  \n",
    "    return palabra == palabra[::-1] #invertir texto [::-1]"
   ]
  },
  {
   "cell_type": "markdown",
   "id": "9cc321ed",
   "metadata": {},
   "source": [
    "## Bucles dobles y triples"
   ]
  },
  {
   "cell_type": "code",
   "execution_count": 29,
   "id": "1f93c6ad",
   "metadata": {},
   "outputs": [
    {
     "name": "stdout",
     "output_type": "stream",
     "text": [
      "la i vale 0\n",
      "\n",
      "la i vale 0 y la j vale Manuel \n",
      "\n",
      "la i vale 0 y la j vale Manuel y la k vale a\n",
      "la i vale 0 y la j vale Manuel y la k vale b\n",
      "\n",
      "\n",
      "la i vale 0 y la j vale Pepe \n",
      "\n",
      "la i vale 0 y la j vale Pepe y la k vale a\n",
      "la i vale 0 y la j vale Pepe y la k vale b\n",
      "\n",
      "\n",
      "la i vale 0 y la j vale Juan \n",
      "\n",
      "la i vale 0 y la j vale Juan y la k vale a\n",
      "la i vale 0 y la j vale Juan y la k vale b\n",
      "\n",
      "\n",
      "\n",
      "\n",
      "la i vale 1\n",
      "\n",
      "la i vale 1 y la j vale Manuel \n",
      "\n",
      "la i vale 1 y la j vale Manuel y la k vale a\n",
      "la i vale 1 y la j vale Manuel y la k vale b\n",
      "\n",
      "\n",
      "la i vale 1 y la j vale Pepe \n",
      "\n",
      "la i vale 1 y la j vale Pepe y la k vale a\n",
      "la i vale 1 y la j vale Pepe y la k vale b\n",
      "\n",
      "\n",
      "la i vale 1 y la j vale Juan \n",
      "\n",
      "la i vale 1 y la j vale Juan y la k vale a\n",
      "la i vale 1 y la j vale Juan y la k vale b\n",
      "\n",
      "\n",
      "\n",
      "\n",
      "la i vale 2\n",
      "\n",
      "la i vale 2 y la j vale Manuel \n",
      "\n",
      "la i vale 2 y la j vale Manuel y la k vale a\n",
      "la i vale 2 y la j vale Manuel y la k vale b\n",
      "\n",
      "\n",
      "la i vale 2 y la j vale Pepe \n",
      "\n",
      "la i vale 2 y la j vale Pepe y la k vale a\n",
      "la i vale 2 y la j vale Pepe y la k vale b\n",
      "\n",
      "\n",
      "la i vale 2 y la j vale Juan \n",
      "\n",
      "la i vale 2 y la j vale Juan y la k vale a\n",
      "la i vale 2 y la j vale Juan y la k vale b\n",
      "\n",
      "\n",
      "\n",
      "\n",
      "la i vale 3\n",
      "\n",
      "la i vale 3 y la j vale Manuel \n",
      "\n",
      "la i vale 3 y la j vale Manuel y la k vale a\n",
      "la i vale 3 y la j vale Manuel y la k vale b\n",
      "\n",
      "\n",
      "la i vale 3 y la j vale Pepe \n",
      "\n",
      "la i vale 3 y la j vale Pepe y la k vale a\n",
      "la i vale 3 y la j vale Pepe y la k vale b\n",
      "\n",
      "\n",
      "la i vale 3 y la j vale Juan \n",
      "\n",
      "la i vale 3 y la j vale Juan y la k vale a\n",
      "la i vale 3 y la j vale Juan y la k vale b\n",
      "\n",
      "\n",
      "\n",
      "\n"
     ]
    }
   ],
   "source": [
    "for i in range(4):\n",
    "    \n",
    "    print(f'la i vale {i}\\n')\n",
    "    \n",
    "    for j in ['Manuel', 'Pepe', 'Juan']:\n",
    "        \n",
    "        print(f'la i vale {i} y la j vale {j} \\n')\n",
    "        \n",
    "        for k in ['a', 'b']:\n",
    "            print(f'la i vale {i} y la j vale {j} y la k vale {k}')\n",
    "        print('\\n')\n",
    "        \n",
    "    print('\\n')"
   ]
  },
  {
   "cell_type": "markdown",
   "id": "a871d873",
   "metadata": {},
   "source": [
    "### 11. Crea una función que tome un número como argumento y genere una lista de todos los números primos menores o iguales a ese número."
   ]
  },
  {
   "cell_type": "code",
   "execution_count": 56,
   "id": "ecff587a",
   "metadata": {},
   "outputs": [
    {
     "name": "stdout",
     "output_type": "stream",
     "text": [
      "lista de divisores: [2, 4, 8, 11, 22, 44]\n",
      "la longitud de lista divisores es 0? False\n"
     ]
    }
   ],
   "source": [
    "lista_divisores = []\n",
    "num = 88\n",
    "for i in range(2, num):\n",
    "    if num % i == 0:\n",
    "        lista_divisores.append(i)\n",
    "lista_divisores\n",
    "print(f'lista de divisores: {lista_divisores}')\n",
    "print(f'la longitud de lista divisores es 0? {len(lista_divisores)==0}')"
   ]
  },
  {
   "cell_type": "code",
   "execution_count": 58,
   "id": "4722b4b0",
   "metadata": {},
   "outputs": [
    {
     "data": {
      "text/plain": [
       "True"
      ]
     },
     "execution_count": 58,
     "metadata": {},
     "output_type": "execute_result"
    }
   ],
   "source": [
    "es_primo(89)"
   ]
  },
  {
   "cell_type": "code",
   "execution_count": 40,
   "id": "de9e043e",
   "metadata": {},
   "outputs": [],
   "source": [
    "def es_primo(num:int):\n",
    "    lista_divisores = []\n",
    "    for i in range(2, num):\n",
    "        if num % i == 0:\n",
    "            lista_divisores.append(i)\n",
    "    return len(lista_divisores)==0"
   ]
  },
  {
   "cell_type": "code",
   "execution_count": 41,
   "id": "67f09aff",
   "metadata": {},
   "outputs": [
    {
     "name": "stdout",
     "output_type": "stream",
     "text": [
      "Es primo el numero 1? --> True\n",
      "Es primo el numero 2? --> True\n",
      "Es primo el numero 3? --> True\n",
      "Es primo el numero 4? --> False\n",
      "Es primo el numero 5? --> True\n",
      "Es primo el numero 6? --> False\n",
      "Es primo el numero 7? --> True\n",
      "Es primo el numero 8? --> False\n"
     ]
    }
   ],
   "source": [
    "for i in range(1, 9):\n",
    "    print(f'Es primo el numero {i}? --> {es_primo(i)}')"
   ]
  },
  {
   "cell_type": "code",
   "execution_count": 42,
   "id": "9ae05ee8",
   "metadata": {},
   "outputs": [],
   "source": [
    "def generar_primos(num:int):\n",
    "    lista_primos = []\n",
    "    for i in range(1, num + 1):\n",
    "        if es_primo(i):\n",
    "            lista_primos.append(i)\n",
    "    return lista_primos"
   ]
  },
  {
   "cell_type": "code",
   "execution_count": 44,
   "id": "7c8eafba",
   "metadata": {},
   "outputs": [
    {
     "name": "stdout",
     "output_type": "stream",
     "text": [
      "Lista de numeros primos menores que 5: [1, 2, 3, 5]\n"
     ]
    }
   ],
   "source": [
    "numero = 5\n",
    "lista_primos = generar_primos(numero)\n",
    "print(f'Lista de numeros primos menores que {numero}: {lista_primos}')"
   ]
  },
  {
   "cell_type": "code",
   "execution_count": 1,
   "id": "e8347569",
   "metadata": {},
   "outputs": [],
   "source": [
    "def lista_n_primos(lista):\n",
    "    cont = 0\n",
    "    for i in range(2, lista + 1):\n",
    "        print(f'la i vale {i}')\n",
    "        primos = True\n",
    "        for j in range(2,i):\n",
    "            print(f'la j vale {j}')\n",
    "            if i == j:\n",
    "                print(f'como i es igaul a j, avanzamos la j \\n')\n",
    "                break\n",
    "            elif i%j == 0:\n",
    "                primos = False\n",
    "                print(f'como i es divisible entre j, quitamos la j: {j} \\n')\n",
    "            else:\n",
    "                continue\n",
    "        if primos == True:\n",
    "            print(' ',i, end='')\n",
    "            cont += 1\n",
    "    print('\\nHay %u números primos.' % cont )"
   ]
  },
  {
   "cell_type": "code",
   "execution_count": null,
   "id": "e488db5f",
   "metadata": {},
   "outputs": [],
   "source": [
    "def generar_primos(n):\n",
    "    primos = []\n",
    "    for num in range(2, n + 1):\n",
    "        es_primo = True\n",
    "        for i in range(2, int(num ** 0.5) + 1):\n",
    "            if num % i == 0:\n",
    "                es_primo = False\n",
    "                break\n",
    "        if es_primo:\n",
    "            primos.append(num)\n",
    "    return primos"
   ]
  },
  {
   "cell_type": "code",
   "execution_count": 45,
   "id": "a0f89f08",
   "metadata": {},
   "outputs": [],
   "source": [
    "def numeros_primos(numero):\n",
    "    #lista vacía para almacenar\n",
    "    primos = []\n",
    "    \n",
    "    #por cada número dentro del rango todos van a ser primos\n",
    "    for num in range(2, numero + 1):\n",
    "        print(f'num es: {num} \\n')\n",
    "        primo = True\n",
    "        \n",
    "        #tengo que quitar los que no sean primos\n",
    "        #por cada elemento entre 2 y el número anterior\n",
    "        for i in range(2, num):\n",
    "            print(f'la i vale {i} \\n')\n",
    "            \n",
    "            #si al dividirlo por el número actual da 0 no es primo\n",
    "            if num % i == 0:\n",
    "                print(f'como {num} es divisible entre {i}, quitamos {num} \\n')\n",
    "                primo = False\n",
    "                break\n",
    "            else:\n",
    "                print(f'como {num} no es divisible entre {i}, avanzamos la i, que ahora vale: {i+1} \\n')\n",
    "\n",
    "        \n",
    "        #los que queden como primos me los añades a la lista\n",
    "        if primo:\n",
    "            print(f'no podemos avanzar mas la i, asi que')\n",
    "            print(f'añadimos {num} a la lista de numeros primos \\n')\n",
    "            primos.append(num)\n",
    "            print(f'la lista es: {primos} \\n')\n",
    "    return primos"
   ]
  },
  {
   "cell_type": "code",
   "execution_count": 48,
   "id": "31ac0a0e",
   "metadata": {},
   "outputs": [
    {
     "name": "stdout",
     "output_type": "stream",
     "text": [
      "num es: 2 \n",
      "\n",
      "no podemos avanzar mas la i, asi que\n",
      "añadimos 2 a la lista de numeros primos \n",
      "\n",
      "la lista es: [2] \n",
      "\n",
      "num es: 3 \n",
      "\n",
      "la i vale 2 \n",
      "\n",
      "como 3 no es divisible entre 2, avanzamos la i, que ahora vale: 3 \n",
      "\n",
      "no podemos avanzar mas la i, asi que\n",
      "añadimos 3 a la lista de numeros primos \n",
      "\n",
      "la lista es: [2, 3] \n",
      "\n",
      "num es: 4 \n",
      "\n",
      "la i vale 2 \n",
      "\n",
      "como 4 es divisible entre 2, quitamos 4 \n",
      "\n",
      "num es: 5 \n",
      "\n",
      "la i vale 2 \n",
      "\n",
      "como 5 no es divisible entre 2, avanzamos la i, que ahora vale: 3 \n",
      "\n",
      "la i vale 3 \n",
      "\n",
      "como 5 no es divisible entre 3, avanzamos la i, que ahora vale: 4 \n",
      "\n",
      "la i vale 4 \n",
      "\n",
      "como 5 no es divisible entre 4, avanzamos la i, que ahora vale: 5 \n",
      "\n",
      "no podemos avanzar mas la i, asi que\n",
      "añadimos 5 a la lista de numeros primos \n",
      "\n",
      "la lista es: [2, 3, 5] \n",
      "\n",
      "num es: 6 \n",
      "\n",
      "la i vale 2 \n",
      "\n",
      "como 6 es divisible entre 2, quitamos 6 \n",
      "\n",
      "num es: 7 \n",
      "\n",
      "la i vale 2 \n",
      "\n",
      "como 7 no es divisible entre 2, avanzamos la i, que ahora vale: 3 \n",
      "\n",
      "la i vale 3 \n",
      "\n",
      "como 7 no es divisible entre 3, avanzamos la i, que ahora vale: 4 \n",
      "\n",
      "la i vale 4 \n",
      "\n",
      "como 7 no es divisible entre 4, avanzamos la i, que ahora vale: 5 \n",
      "\n",
      "la i vale 5 \n",
      "\n",
      "como 7 no es divisible entre 5, avanzamos la i, que ahora vale: 6 \n",
      "\n",
      "la i vale 6 \n",
      "\n",
      "como 7 no es divisible entre 6, avanzamos la i, que ahora vale: 7 \n",
      "\n",
      "no podemos avanzar mas la i, asi que\n",
      "añadimos 7 a la lista de numeros primos \n",
      "\n",
      "la lista es: [2, 3, 5, 7] \n",
      "\n",
      "num es: 8 \n",
      "\n",
      "la i vale 2 \n",
      "\n",
      "como 8 es divisible entre 2, quitamos 8 \n",
      "\n",
      "num es: 9 \n",
      "\n",
      "la i vale 2 \n",
      "\n",
      "como 9 no es divisible entre 2, avanzamos la i, que ahora vale: 3 \n",
      "\n",
      "la i vale 3 \n",
      "\n",
      "como 9 es divisible entre 3, quitamos 9 \n",
      "\n"
     ]
    },
    {
     "data": {
      "text/plain": [
       "[2, 3, 5, 7]"
      ]
     },
     "execution_count": 48,
     "metadata": {},
     "output_type": "execute_result"
    }
   ],
   "source": [
    "numeros_primos(9)"
   ]
  },
  {
   "cell_type": "code",
   "execution_count": null,
   "id": "d49b46f7",
   "metadata": {},
   "outputs": [],
   "source": [
    "def numeros_primos(numero):\n",
    "    primos = []\n",
    "    for num in range(2, numero + 1):\n",
    "        primo = True\n",
    "        for i in range(2, num):\n",
    "            if num % i == 0:\n",
    "                primo = False\n",
    "                break\n",
    "        if primo:\n",
    "            primos.append(num)\n",
    "    return primos"
   ]
  },
  {
   "cell_type": "markdown",
   "id": "68597ed1",
   "metadata": {},
   "source": [
    "### 12. Escribe una función que convierta una temperatura dada en grados Celsius a grados Fahrenheit. La fórmula de conversión es: Fahrenheit = Celsius * 9/5 + 32."
   ]
  },
  {
   "cell_type": "code",
   "execution_count": null,
   "id": "fc866902",
   "metadata": {},
   "outputs": [],
   "source": []
  }
 ],
 "metadata": {
  "kernelspec": {
   "display_name": "Python 3 (ipykernel)",
   "language": "python",
   "name": "python3"
  },
  "language_info": {
   "codemirror_mode": {
    "name": "ipython",
    "version": 3
   },
   "file_extension": ".py",
   "mimetype": "text/x-python",
   "name": "python",
   "nbconvert_exporter": "python",
   "pygments_lexer": "ipython3",
   "version": "3.9.12"
  }
 },
 "nbformat": 4,
 "nbformat_minor": 5
}
